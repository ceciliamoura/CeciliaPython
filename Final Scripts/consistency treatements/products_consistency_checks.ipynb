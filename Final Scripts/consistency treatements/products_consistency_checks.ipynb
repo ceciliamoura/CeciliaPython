{
 "cells": [
  {
   "cell_type": "markdown",
   "id": "2c01c5c8-7724-491e-996b-a940f5b95054",
   "metadata": {},
   "source": [
    "# Consistency checks - Products"
   ]
  },
  {
   "cell_type": "markdown",
   "id": "aef73241-7a34-4283-9db3-d428b7f311cf",
   "metadata": {},
   "source": [
    "### List of contents\n",
    "1. Importing file\n",
    "2. Changing column type\n",
    "3. Missing values?\n",
    "4. Duplicates?\n",
    "5. Exploring 'prices' column\n",
    "   5.1 Flagging abnormally high priced\n",
    "   5.2 Addressing abnormally high priced itens\n",
    "6. Final check\n",
    "7. Exporting files"
   ]
  },
  {
   "cell_type": "markdown",
   "id": "a9a2c155-90ff-4f54-93c0-775c30a9d8be",
   "metadata": {},
   "source": [
    "## Importing libraries"
   ]
  },
  {
   "cell_type": "code",
   "execution_count": 4,
   "id": "60773bb8-39c2-49e8-98b7-debfc7d820d4",
   "metadata": {},
   "outputs": [],
   "source": [
    "import pandas as pd\n",
    "import numpy as np\n",
    "import os"
   ]
  },
  {
   "cell_type": "markdown",
   "id": "99d828de-8526-48df-a0b4-de1c50bab8b6",
   "metadata": {},
   "source": [
    "## Creating path for folder"
   ]
  },
  {
   "cell_type": "code",
   "execution_count": 6,
   "id": "26f85267-8787-408c-8337-01ffd8549541",
   "metadata": {},
   "outputs": [],
   "source": [
    "path = r'/Users/ceciliamoura/Desktop/Career Foundry/Achievement4/Instacart Basket Analysis'"
   ]
  },
  {
   "cell_type": "markdown",
   "id": "3c5ed110-d6bc-4b59-aea7-cd8f8283d74e",
   "metadata": {},
   "source": [
    "## 1. Importing file"
   ]
  },
  {
   "cell_type": "code",
   "execution_count": 94,
   "id": "72e1861f-99c1-4ef6-82cf-d248d834dcfd",
   "metadata": {},
   "outputs": [],
   "source": [
    "# Importing original file - products"
   ]
  },
  {
   "cell_type": "code",
   "execution_count": 9,
   "id": "d300656a-f4b6-462b-a913-b92c7f3f88e4",
   "metadata": {},
   "outputs": [],
   "source": [
    "prods = pd.read_csv(os.path.join (path, 'Data', 'Original Data', 'products.csv'), index_col = False)"
   ]
  },
  {
   "cell_type": "code",
   "execution_count": 11,
   "id": "a31a9aa0-0e21-41d7-b238-26dc14201e8e",
   "metadata": {},
   "outputs": [
    {
     "data": {
      "text/html": [
       "<div>\n",
       "<style scoped>\n",
       "    .dataframe tbody tr th:only-of-type {\n",
       "        vertical-align: middle;\n",
       "    }\n",
       "\n",
       "    .dataframe tbody tr th {\n",
       "        vertical-align: top;\n",
       "    }\n",
       "\n",
       "    .dataframe thead th {\n",
       "        text-align: right;\n",
       "    }\n",
       "</style>\n",
       "<table border=\"1\" class=\"dataframe\">\n",
       "  <thead>\n",
       "    <tr style=\"text-align: right;\">\n",
       "      <th></th>\n",
       "      <th>product_id</th>\n",
       "      <th>product_name</th>\n",
       "      <th>aisle_id</th>\n",
       "      <th>department_id</th>\n",
       "      <th>prices</th>\n",
       "    </tr>\n",
       "  </thead>\n",
       "  <tbody>\n",
       "    <tr>\n",
       "      <th>0</th>\n",
       "      <td>1</td>\n",
       "      <td>Chocolate Sandwich Cookies</td>\n",
       "      <td>61</td>\n",
       "      <td>19</td>\n",
       "      <td>5.8</td>\n",
       "    </tr>\n",
       "    <tr>\n",
       "      <th>1</th>\n",
       "      <td>2</td>\n",
       "      <td>All-Seasons Salt</td>\n",
       "      <td>104</td>\n",
       "      <td>13</td>\n",
       "      <td>9.3</td>\n",
       "    </tr>\n",
       "    <tr>\n",
       "      <th>2</th>\n",
       "      <td>3</td>\n",
       "      <td>Robust Golden Unsweetened Oolong Tea</td>\n",
       "      <td>94</td>\n",
       "      <td>7</td>\n",
       "      <td>4.5</td>\n",
       "    </tr>\n",
       "    <tr>\n",
       "      <th>3</th>\n",
       "      <td>4</td>\n",
       "      <td>Smart Ones Classic Favorites Mini Rigatoni Wit...</td>\n",
       "      <td>38</td>\n",
       "      <td>1</td>\n",
       "      <td>10.5</td>\n",
       "    </tr>\n",
       "    <tr>\n",
       "      <th>4</th>\n",
       "      <td>5</td>\n",
       "      <td>Green Chile Anytime Sauce</td>\n",
       "      <td>5</td>\n",
       "      <td>13</td>\n",
       "      <td>4.3</td>\n",
       "    </tr>\n",
       "  </tbody>\n",
       "</table>\n",
       "</div>"
      ],
      "text/plain": [
       "   product_id                                       product_name  aisle_id  \\\n",
       "0           1                         Chocolate Sandwich Cookies        61   \n",
       "1           2                                   All-Seasons Salt       104   \n",
       "2           3               Robust Golden Unsweetened Oolong Tea        94   \n",
       "3           4  Smart Ones Classic Favorites Mini Rigatoni Wit...        38   \n",
       "4           5                          Green Chile Anytime Sauce         5   \n",
       "\n",
       "   department_id  prices  \n",
       "0             19     5.8  \n",
       "1             13     9.3  \n",
       "2              7     4.5  \n",
       "3              1    10.5  \n",
       "4             13     4.3  "
      ]
     },
     "execution_count": 11,
     "metadata": {},
     "output_type": "execute_result"
    }
   ],
   "source": [
    "prods.head()"
   ]
  },
  {
   "cell_type": "code",
   "execution_count": 13,
   "id": "a4012ff1-6b2b-4caa-a8c2-e5db5210f099",
   "metadata": {},
   "outputs": [
    {
     "data": {
      "text/plain": [
       "(49693, 5)"
      ]
     },
     "execution_count": 13,
     "metadata": {},
     "output_type": "execute_result"
    }
   ],
   "source": [
    "prods.shape"
   ]
  },
  {
   "cell_type": "code",
   "execution_count": 15,
   "id": "12b15945-7ff7-42b4-a7cb-b81cea991661",
   "metadata": {},
   "outputs": [
    {
     "data": {
      "text/plain": [
       "product_id         int64\n",
       "product_name      object\n",
       "aisle_id           int64\n",
       "department_id      int64\n",
       "prices           float64\n",
       "dtype: object"
      ]
     },
     "execution_count": 15,
     "metadata": {},
     "output_type": "execute_result"
    }
   ],
   "source": [
    "prods.dtypes"
   ]
  },
  {
   "cell_type": "markdown",
   "id": "c67c16cc-bd2b-452f-8e48-b451f4ee9e62",
   "metadata": {},
   "source": [
    "## 2.Changing column type"
   ]
  },
  {
   "cell_type": "code",
   "execution_count": 18,
   "id": "72eb8df2-1c97-43b9-8abc-367f2bfbcc0e",
   "metadata": {},
   "outputs": [],
   "source": [
    "# 'product_id' changed from int64 to object\n",
    "\n",
    "prods['product_id'] = prods['product_id'].astype('str')"
   ]
  },
  {
   "cell_type": "code",
   "execution_count": 22,
   "id": "133ee893-6bbd-4f44-be03-c4f42f66cf0c",
   "metadata": {},
   "outputs": [],
   "source": [
    "# 'department_id' changed from int64 to object\n",
    "\n",
    "prods['department_id'] = prods['department_id'].astype('str')"
   ]
  },
  {
   "cell_type": "code",
   "execution_count": 20,
   "id": "acbf9e0d-db73-4da7-8dec-ba9c166baac0",
   "metadata": {},
   "outputs": [],
   "source": [
    "# 'aisle_id' changed from int64 to object\n",
    "\n",
    "prods['aisle_id'] = prods['aisle_id'].astype('str')"
   ]
  },
  {
   "cell_type": "code",
   "execution_count": 24,
   "id": "8756488e-0332-4798-bdbd-2f7d284d3f24",
   "metadata": {},
   "outputs": [
    {
     "name": "stdout",
     "output_type": "stream",
     "text": [
      "<class 'pandas.core.frame.DataFrame'>\n",
      "RangeIndex: 49693 entries, 0 to 49692\n",
      "Data columns (total 5 columns):\n",
      " #   Column         Non-Null Count  Dtype  \n",
      "---  ------         --------------  -----  \n",
      " 0   product_id     49693 non-null  object \n",
      " 1   product_name   49677 non-null  object \n",
      " 2   aisle_id       49693 non-null  object \n",
      " 3   department_id  49693 non-null  object \n",
      " 4   prices         49693 non-null  float64\n",
      "dtypes: float64(1), object(4)\n",
      "memory usage: 1.9+ MB\n"
     ]
    }
   ],
   "source": [
    "# checking procedures\n",
    "prods.info()"
   ]
  },
  {
   "cell_type": "markdown",
   "id": "9c0903eb-4bb3-4c4a-994e-977d253f7917",
   "metadata": {},
   "source": [
    "## 3. Missing values?"
   ]
  },
  {
   "cell_type": "code",
   "execution_count": 26,
   "id": "9b2ea833-75ec-4a93-b42d-e09282342225",
   "metadata": {},
   "outputs": [
    {
     "data": {
      "text/plain": [
       "product_id        0\n",
       "product_name     16\n",
       "aisle_id          0\n",
       "department_id     0\n",
       "prices            0\n",
       "dtype: int64"
      ]
     },
     "execution_count": 26,
     "metadata": {},
     "output_type": "execute_result"
    }
   ],
   "source": [
    "prods.isnull().sum()"
   ]
  },
  {
   "cell_type": "code",
   "execution_count": 28,
   "id": "21866655-a0b7-44cf-9a39-dc1dba2a4c73",
   "metadata": {},
   "outputs": [],
   "source": [
    "# Creating a subset with missing values\n",
    "\n",
    "prods_missing = prods[prods['product_name'].isnull() == True]"
   ]
  },
  {
   "cell_type": "code",
   "execution_count": 30,
   "id": "524d4563-648c-4d17-a0bd-a7ca3316ea27",
   "metadata": {},
   "outputs": [
    {
     "data": {
      "text/html": [
       "<div>\n",
       "<style scoped>\n",
       "    .dataframe tbody tr th:only-of-type {\n",
       "        vertical-align: middle;\n",
       "    }\n",
       "\n",
       "    .dataframe tbody tr th {\n",
       "        vertical-align: top;\n",
       "    }\n",
       "\n",
       "    .dataframe thead th {\n",
       "        text-align: right;\n",
       "    }\n",
       "</style>\n",
       "<table border=\"1\" class=\"dataframe\">\n",
       "  <thead>\n",
       "    <tr style=\"text-align: right;\">\n",
       "      <th></th>\n",
       "      <th>product_id</th>\n",
       "      <th>product_name</th>\n",
       "      <th>aisle_id</th>\n",
       "      <th>department_id</th>\n",
       "      <th>prices</th>\n",
       "    </tr>\n",
       "  </thead>\n",
       "  <tbody>\n",
       "    <tr>\n",
       "      <th>33</th>\n",
       "      <td>34</td>\n",
       "      <td>NaN</td>\n",
       "      <td>121</td>\n",
       "      <td>14</td>\n",
       "      <td>12.2</td>\n",
       "    </tr>\n",
       "    <tr>\n",
       "      <th>68</th>\n",
       "      <td>69</td>\n",
       "      <td>NaN</td>\n",
       "      <td>26</td>\n",
       "      <td>7</td>\n",
       "      <td>11.8</td>\n",
       "    </tr>\n",
       "    <tr>\n",
       "      <th>115</th>\n",
       "      <td>116</td>\n",
       "      <td>NaN</td>\n",
       "      <td>93</td>\n",
       "      <td>3</td>\n",
       "      <td>10.8</td>\n",
       "    </tr>\n",
       "    <tr>\n",
       "      <th>261</th>\n",
       "      <td>262</td>\n",
       "      <td>NaN</td>\n",
       "      <td>110</td>\n",
       "      <td>13</td>\n",
       "      <td>12.1</td>\n",
       "    </tr>\n",
       "    <tr>\n",
       "      <th>525</th>\n",
       "      <td>525</td>\n",
       "      <td>NaN</td>\n",
       "      <td>109</td>\n",
       "      <td>11</td>\n",
       "      <td>1.2</td>\n",
       "    </tr>\n",
       "    <tr>\n",
       "      <th>1511</th>\n",
       "      <td>1511</td>\n",
       "      <td>NaN</td>\n",
       "      <td>84</td>\n",
       "      <td>16</td>\n",
       "      <td>14.3</td>\n",
       "    </tr>\n",
       "    <tr>\n",
       "      <th>1780</th>\n",
       "      <td>1780</td>\n",
       "      <td>NaN</td>\n",
       "      <td>126</td>\n",
       "      <td>11</td>\n",
       "      <td>12.3</td>\n",
       "    </tr>\n",
       "    <tr>\n",
       "      <th>2240</th>\n",
       "      <td>2240</td>\n",
       "      <td>NaN</td>\n",
       "      <td>52</td>\n",
       "      <td>1</td>\n",
       "      <td>14.2</td>\n",
       "    </tr>\n",
       "    <tr>\n",
       "      <th>2586</th>\n",
       "      <td>2586</td>\n",
       "      <td>NaN</td>\n",
       "      <td>104</td>\n",
       "      <td>13</td>\n",
       "      <td>12.4</td>\n",
       "    </tr>\n",
       "    <tr>\n",
       "      <th>3159</th>\n",
       "      <td>3159</td>\n",
       "      <td>NaN</td>\n",
       "      <td>126</td>\n",
       "      <td>11</td>\n",
       "      <td>13.1</td>\n",
       "    </tr>\n",
       "    <tr>\n",
       "      <th>3230</th>\n",
       "      <td>3230</td>\n",
       "      <td>NaN</td>\n",
       "      <td>120</td>\n",
       "      <td>16</td>\n",
       "      <td>14.4</td>\n",
       "    </tr>\n",
       "    <tr>\n",
       "      <th>3736</th>\n",
       "      <td>3736</td>\n",
       "      <td>NaN</td>\n",
       "      <td>41</td>\n",
       "      <td>8</td>\n",
       "      <td>14.8</td>\n",
       "    </tr>\n",
       "    <tr>\n",
       "      <th>4283</th>\n",
       "      <td>4283</td>\n",
       "      <td>NaN</td>\n",
       "      <td>77</td>\n",
       "      <td>7</td>\n",
       "      <td>14.4</td>\n",
       "    </tr>\n",
       "    <tr>\n",
       "      <th>4790</th>\n",
       "      <td>4790</td>\n",
       "      <td>NaN</td>\n",
       "      <td>91</td>\n",
       "      <td>16</td>\n",
       "      <td>14.5</td>\n",
       "    </tr>\n",
       "    <tr>\n",
       "      <th>38187</th>\n",
       "      <td>38183</td>\n",
       "      <td>NaN</td>\n",
       "      <td>39</td>\n",
       "      <td>12</td>\n",
       "      <td>20.9</td>\n",
       "    </tr>\n",
       "    <tr>\n",
       "      <th>40444</th>\n",
       "      <td>40440</td>\n",
       "      <td>NaN</td>\n",
       "      <td>120</td>\n",
       "      <td>16</td>\n",
       "      <td>14.8</td>\n",
       "    </tr>\n",
       "  </tbody>\n",
       "</table>\n",
       "</div>"
      ],
      "text/plain": [
       "      product_id product_name aisle_id department_id  prices\n",
       "33            34          NaN      121            14    12.2\n",
       "68            69          NaN       26             7    11.8\n",
       "115          116          NaN       93             3    10.8\n",
       "261          262          NaN      110            13    12.1\n",
       "525          525          NaN      109            11     1.2\n",
       "1511        1511          NaN       84            16    14.3\n",
       "1780        1780          NaN      126            11    12.3\n",
       "2240        2240          NaN       52             1    14.2\n",
       "2586        2586          NaN      104            13    12.4\n",
       "3159        3159          NaN      126            11    13.1\n",
       "3230        3230          NaN      120            16    14.4\n",
       "3736        3736          NaN       41             8    14.8\n",
       "4283        4283          NaN       77             7    14.4\n",
       "4790        4790          NaN       91            16    14.5\n",
       "38187      38183          NaN       39            12    20.9\n",
       "40444      40440          NaN      120            16    14.8"
      ]
     },
     "execution_count": 30,
     "metadata": {},
     "output_type": "execute_result"
    }
   ],
   "source": [
    "prods_missing"
   ]
  },
  {
   "attachments": {},
   "cell_type": "markdown",
   "id": "83a4f218-33a3-43e2-915c-1539b0b5fbf3",
   "metadata": {},
   "source": [
    "### 3.1 Addressing NaN values\n",
    "\n",
    "    Create a new dataframe without missing values inn 'product_name'"
   ]
  },
  {
   "cell_type": "code",
   "execution_count": 35,
   "id": "35c690b9-3530-4efc-84bf-afbe1d5068f2",
   "metadata": {},
   "outputs": [],
   "source": [
    "prods_clean = prods[prods['product_name'].isnull() == False]"
   ]
  },
  {
   "cell_type": "code",
   "execution_count": 37,
   "id": "6a49cdee-88cb-4672-b111-a1f8599c4328",
   "metadata": {},
   "outputs": [
    {
     "data": {
      "text/plain": [
       "(49677, 5)"
      ]
     },
     "execution_count": 37,
     "metadata": {},
     "output_type": "execute_result"
    }
   ],
   "source": [
    "prods_clean.shape"
   ]
  },
  {
   "cell_type": "code",
   "execution_count": 42,
   "id": "a471ffcc-cf83-4b3b-ba73-30c9fd795efa",
   "metadata": {},
   "outputs": [],
   "source": [
    "#16 less rows than prods. "
   ]
  },
  {
   "cell_type": "markdown",
   "id": "d85bc829-b747-421a-90b6-160c5f1b0d8f",
   "metadata": {},
   "source": [
    "## 4. Duplicates?"
   ]
  },
  {
   "cell_type": "code",
   "execution_count": 53,
   "id": "1478caef-2eb0-47ca-afbc-e8367bfee83a",
   "metadata": {},
   "outputs": [],
   "source": [
    "dups = prods_clean[prods_clean.duplicated()]"
   ]
  },
  {
   "cell_type": "code",
   "execution_count": 55,
   "id": "34f92a66-0b28-4423-8d53-e52382212294",
   "metadata": {},
   "outputs": [
    {
     "data": {
      "text/html": [
       "<div>\n",
       "<style scoped>\n",
       "    .dataframe tbody tr th:only-of-type {\n",
       "        vertical-align: middle;\n",
       "    }\n",
       "\n",
       "    .dataframe tbody tr th {\n",
       "        vertical-align: top;\n",
       "    }\n",
       "\n",
       "    .dataframe thead th {\n",
       "        text-align: right;\n",
       "    }\n",
       "</style>\n",
       "<table border=\"1\" class=\"dataframe\">\n",
       "  <thead>\n",
       "    <tr style=\"text-align: right;\">\n",
       "      <th></th>\n",
       "      <th>product_id</th>\n",
       "      <th>product_name</th>\n",
       "      <th>aisle_id</th>\n",
       "      <th>department_id</th>\n",
       "      <th>prices</th>\n",
       "    </tr>\n",
       "  </thead>\n",
       "  <tbody>\n",
       "    <tr>\n",
       "      <th>462</th>\n",
       "      <td>462</td>\n",
       "      <td>Fiber 4g Gummy Dietary Supplement</td>\n",
       "      <td>70</td>\n",
       "      <td>11</td>\n",
       "      <td>4.8</td>\n",
       "    </tr>\n",
       "    <tr>\n",
       "      <th>18459</th>\n",
       "      <td>18458</td>\n",
       "      <td>Ranger IPA</td>\n",
       "      <td>27</td>\n",
       "      <td>5</td>\n",
       "      <td>9.2</td>\n",
       "    </tr>\n",
       "    <tr>\n",
       "      <th>26810</th>\n",
       "      <td>26808</td>\n",
       "      <td>Black House Coffee Roasty Stout Beer</td>\n",
       "      <td>27</td>\n",
       "      <td>5</td>\n",
       "      <td>13.4</td>\n",
       "    </tr>\n",
       "    <tr>\n",
       "      <th>35309</th>\n",
       "      <td>35306</td>\n",
       "      <td>Gluten Free Organic Peanut Butter &amp; Chocolate ...</td>\n",
       "      <td>121</td>\n",
       "      <td>14</td>\n",
       "      <td>6.8</td>\n",
       "    </tr>\n",
       "    <tr>\n",
       "      <th>35495</th>\n",
       "      <td>35491</td>\n",
       "      <td>Adore Forever Body Wash</td>\n",
       "      <td>127</td>\n",
       "      <td>11</td>\n",
       "      <td>9.9</td>\n",
       "    </tr>\n",
       "  </tbody>\n",
       "</table>\n",
       "</div>"
      ],
      "text/plain": [
       "      product_id                                       product_name aisle_id  \\\n",
       "462          462                  Fiber 4g Gummy Dietary Supplement       70   \n",
       "18459      18458                                         Ranger IPA       27   \n",
       "26810      26808               Black House Coffee Roasty Stout Beer       27   \n",
       "35309      35306  Gluten Free Organic Peanut Butter & Chocolate ...      121   \n",
       "35495      35491                            Adore Forever Body Wash      127   \n",
       "\n",
       "      department_id  prices  \n",
       "462              11     4.8  \n",
       "18459             5     9.2  \n",
       "26810             5    13.4  \n",
       "35309            14     6.8  \n",
       "35495            11     9.9  "
      ]
     },
     "execution_count": 55,
     "metadata": {},
     "output_type": "execute_result"
    }
   ],
   "source": [
    "dups"
   ]
  },
  {
   "cell_type": "code",
   "execution_count": 57,
   "id": "b62771b4-eba4-44d2-9d3a-e7cbb474a5a3",
   "metadata": {},
   "outputs": [],
   "source": [
    "dups.to_clipboard()"
   ]
  },
  {
   "cell_type": "markdown",
   "id": "1a6f5060-4435-4696-b73d-49e4854a146c",
   "metadata": {},
   "source": [
    "### 4.1 Addressing duplicates"
   ]
  },
  {
   "cell_type": "code",
   "execution_count": 60,
   "id": "ad676cd2-cee1-43b8-bafe-88a5ac3adcdb",
   "metadata": {},
   "outputs": [
    {
     "data": {
      "text/plain": [
       "(49677, 5)"
      ]
     },
     "execution_count": 60,
     "metadata": {},
     "output_type": "execute_result"
    }
   ],
   "source": [
    "prods_clean.shape"
   ]
  },
  {
   "cell_type": "code",
   "execution_count": 62,
   "id": "e3d2e8a8-7ab5-437e-90b3-b1279ff6b7cf",
   "metadata": {},
   "outputs": [],
   "source": [
    "# Creating a new dataframe without duplicates"
   ]
  },
  {
   "cell_type": "code",
   "execution_count": 88,
   "id": "c307d6f3-5ad9-4470-ba62-72bfde318994",
   "metadata": {},
   "outputs": [],
   "source": [
    "prods_clean_nodups = prods_clean.drop_duplicates()"
   ]
  },
  {
   "cell_type": "code",
   "execution_count": 66,
   "id": "02663091-0bea-42f1-80f7-04f0d7abf60d",
   "metadata": {},
   "outputs": [
    {
     "data": {
      "text/plain": [
       "(49672, 5)"
      ]
     },
     "execution_count": 66,
     "metadata": {},
     "output_type": "execute_result"
    }
   ],
   "source": [
    "prods_clean_nodups.shape"
   ]
  },
  {
   "cell_type": "markdown",
   "id": "cf2ee0b5-dcde-4e9c-84f9-df22975e6612",
   "metadata": {},
   "source": [
    "## 5. Exploring 'Prices' column"
   ]
  },
  {
   "cell_type": "code",
   "execution_count": 73,
   "id": "41eeec0e-154d-4e06-a1ac-7be7a36105cd",
   "metadata": {},
   "outputs": [
    {
     "data": {
      "text/plain": [
       "count    49672.000000\n",
       "mean         9.993282\n",
       "std        453.615536\n",
       "min          1.000000\n",
       "25%          4.100000\n",
       "50%          7.100000\n",
       "75%         11.100000\n",
       "max      99999.000000\n",
       "Name: prices, dtype: float64"
      ]
     },
     "execution_count": 73,
     "metadata": {},
     "output_type": "execute_result"
    }
   ],
   "source": [
    "prods_clean_nodups['prices'].describe()"
   ]
  },
  {
   "cell_type": "markdown",
   "id": "f46dcdb4-f845-47e3-a3c3-28bee3d1b5b7",
   "metadata": {},
   "source": [
    "### 5.1 Flagging abnormally high priced"
   ]
  },
  {
   "cell_type": "code",
   "execution_count": 76,
   "id": "ef52381d-6def-4ba8-89b5-33cfb8fb3bd2",
   "metadata": {},
   "outputs": [],
   "source": [
    "# Investigating high prices\n",
    "\n",
    "high_prices_flag = prods_clean_nodups.loc[prods_clean_nodups['prices'] > 100]"
   ]
  },
  {
   "cell_type": "code",
   "execution_count": 78,
   "id": "bb84a559-6c25-40d3-bd13-9d99ac7b4248",
   "metadata": {},
   "outputs": [
    {
     "data": {
      "text/html": [
       "<div>\n",
       "<style scoped>\n",
       "    .dataframe tbody tr th:only-of-type {\n",
       "        vertical-align: middle;\n",
       "    }\n",
       "\n",
       "    .dataframe tbody tr th {\n",
       "        vertical-align: top;\n",
       "    }\n",
       "\n",
       "    .dataframe thead th {\n",
       "        text-align: right;\n",
       "    }\n",
       "</style>\n",
       "<table border=\"1\" class=\"dataframe\">\n",
       "  <thead>\n",
       "    <tr style=\"text-align: right;\">\n",
       "      <th></th>\n",
       "      <th>product_id</th>\n",
       "      <th>product_name</th>\n",
       "      <th>aisle_id</th>\n",
       "      <th>department_id</th>\n",
       "      <th>prices</th>\n",
       "    </tr>\n",
       "  </thead>\n",
       "  <tbody>\n",
       "    <tr>\n",
       "      <th>21554</th>\n",
       "      <td>21553</td>\n",
       "      <td>Lowfat 2% Milkfat Cottage Cheese</td>\n",
       "      <td>108</td>\n",
       "      <td>16</td>\n",
       "      <td>14900.0</td>\n",
       "    </tr>\n",
       "    <tr>\n",
       "      <th>33666</th>\n",
       "      <td>33664</td>\n",
       "      <td>2 % Reduced Fat  Milk</td>\n",
       "      <td>84</td>\n",
       "      <td>16</td>\n",
       "      <td>99999.0</td>\n",
       "    </tr>\n",
       "  </tbody>\n",
       "</table>\n",
       "</div>"
      ],
      "text/plain": [
       "      product_id                      product_name aisle_id department_id  \\\n",
       "21554      21553  Lowfat 2% Milkfat Cottage Cheese      108            16   \n",
       "33666      33664             2 % Reduced Fat  Milk       84            16   \n",
       "\n",
       "        prices  \n",
       "21554  14900.0  \n",
       "33666  99999.0  "
      ]
     },
     "execution_count": 78,
     "metadata": {},
     "output_type": "execute_result"
    }
   ],
   "source": [
    "high_prices_flag"
   ]
  },
  {
   "cell_type": "code",
   "execution_count": 80,
   "id": "73055156-c449-45a5-a0e6-470aebb04808",
   "metadata": {},
   "outputs": [],
   "source": [
    "high_prices_flag.to_clipboard()"
   ]
  },
  {
   "cell_type": "code",
   "execution_count": 136,
   "id": "69f9417b-ea44-4f71-af1d-ca049e435506",
   "metadata": {},
   "outputs": [],
   "source": [
    "high_price_subset = prods_clean_nodups.loc[(prods_clean_nodups['product_id'] == '21553') | (prods_clean_nodups['product_id'] == '33664')]"
   ]
  },
  {
   "cell_type": "code",
   "execution_count": 138,
   "id": "eb5445d3-9530-485f-bc45-87fe34545075",
   "metadata": {},
   "outputs": [
    {
     "data": {
      "text/html": [
       "<div>\n",
       "<style scoped>\n",
       "    .dataframe tbody tr th:only-of-type {\n",
       "        vertical-align: middle;\n",
       "    }\n",
       "\n",
       "    .dataframe tbody tr th {\n",
       "        vertical-align: top;\n",
       "    }\n",
       "\n",
       "    .dataframe thead th {\n",
       "        text-align: right;\n",
       "    }\n",
       "</style>\n",
       "<table border=\"1\" class=\"dataframe\">\n",
       "  <thead>\n",
       "    <tr style=\"text-align: right;\">\n",
       "      <th></th>\n",
       "      <th>product_id</th>\n",
       "      <th>product_name</th>\n",
       "      <th>aisle_id</th>\n",
       "      <th>department_id</th>\n",
       "      <th>prices</th>\n",
       "    </tr>\n",
       "  </thead>\n",
       "  <tbody>\n",
       "    <tr>\n",
       "      <th>21554</th>\n",
       "      <td>21553</td>\n",
       "      <td>Lowfat 2% Milkfat Cottage Cheese</td>\n",
       "      <td>108</td>\n",
       "      <td>16</td>\n",
       "      <td>14900.0</td>\n",
       "    </tr>\n",
       "    <tr>\n",
       "      <th>33666</th>\n",
       "      <td>33664</td>\n",
       "      <td>2 % Reduced Fat  Milk</td>\n",
       "      <td>84</td>\n",
       "      <td>16</td>\n",
       "      <td>99999.0</td>\n",
       "    </tr>\n",
       "  </tbody>\n",
       "</table>\n",
       "</div>"
      ],
      "text/plain": [
       "      product_id                      product_name aisle_id department_id  \\\n",
       "21554      21553  Lowfat 2% Milkfat Cottage Cheese      108            16   \n",
       "33666      33664             2 % Reduced Fat  Milk       84            16   \n",
       "\n",
       "        prices  \n",
       "21554  14900.0  \n",
       "33666  99999.0  "
      ]
     },
     "execution_count": 138,
     "metadata": {},
     "output_type": "execute_result"
    }
   ],
   "source": [
    "high_price_subset"
   ]
  },
  {
   "cell_type": "markdown",
   "id": "79240d36-930f-4ecc-b90a-3aadde13dd31",
   "metadata": {},
   "source": [
    "### 5.2 Addressing abnormally high priced itens"
   ]
  },
  {
   "cell_type": "code",
   "execution_count": 142,
   "id": "76f49609-3337-47d8-ab6b-7170c517686f",
   "metadata": {},
   "outputs": [],
   "source": [
    "# turning these two itens' prices into NaN\n",
    "\n",
    "prods_clean_nodups.loc[prods_clean_nodups['prices'] >100, 'prices'] = np.nan"
   ]
  },
  {
   "cell_type": "markdown",
   "id": "459cc88d-6c69-4db3-9cf2-1794a76351cd",
   "metadata": {},
   "source": [
    "## 6. Final Check"
   ]
  },
  {
   "cell_type": "code",
   "execution_count": 149,
   "id": "1c7486b2-3177-49fc-ad35-ecc525684648",
   "metadata": {},
   "outputs": [
    {
     "data": {
      "text/plain": [
       "(49672, 5)"
      ]
     },
     "execution_count": 149,
     "metadata": {},
     "output_type": "execute_result"
    }
   ],
   "source": [
    "prods_clean_nodups.shape"
   ]
  },
  {
   "cell_type": "code",
   "execution_count": 151,
   "id": "67e90d5c-0156-4dc2-b565-9de7c7e1074b",
   "metadata": {},
   "outputs": [],
   "source": [
    "# 5 less observations due to exclusion of duplicates"
   ]
  },
  {
   "cell_type": "markdown",
   "id": "8c6e0dc0-b24f-4dd5-8457-bee23f9031c7",
   "metadata": {},
   "source": [
    "## 7. Exporting clean file"
   ]
  },
  {
   "cell_type": "code",
   "execution_count": 154,
   "id": "a14bda11-1381-4dba-8efc-e0885ce88799",
   "metadata": {},
   "outputs": [],
   "source": [
    "prods_clean_nodups.to_csv(os.path.join(path,'Data','Final Prepared Data', 'prods_clean.csv'))"
   ]
  },
  {
   "cell_type": "code",
   "execution_count": null,
   "id": "2ef65745-b360-4972-93e0-7c182c9175e8",
   "metadata": {},
   "outputs": [],
   "source": []
  }
 ],
 "metadata": {
  "kernelspec": {
   "display_name": "Python 3 (ipykernel)",
   "language": "python",
   "name": "python3"
  },
  "language_info": {
   "codemirror_mode": {
    "name": "ipython",
    "version": 3
   },
   "file_extension": ".py",
   "mimetype": "text/x-python",
   "name": "python",
   "nbconvert_exporter": "python",
   "pygments_lexer": "ipython3",
   "version": "3.11.7"
  }
 },
 "nbformat": 4,
 "nbformat_minor": 5
}
