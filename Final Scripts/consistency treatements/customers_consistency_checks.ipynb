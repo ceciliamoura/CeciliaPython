{
 "cells": [
  {
   "cell_type": "markdown",
   "id": "2b01ec8e-0c08-4f8f-bd0e-77cd4f9fa3cd",
   "metadata": {},
   "source": [
    "# Consistency checks - Customers"
   ]
  },
  {
   "cell_type": "markdown",
   "id": "d2cdf5b3-6adf-4cc8-a840-ea5475209fcf",
   "metadata": {},
   "source": [
    "### List of contents\n",
    "    1. Importing file\n",
    "    2. Renaming Columns\n",
    "    3. Changing column type\n",
    "    4. Missing values?\n",
    "    5. Mixed Data type?\n",
    "    6. Duplicates?\n",
    "    7. Addressing Personal Information\n",
    "    8. Final check\n",
    "    9. Exporting files"
   ]
  },
  {
   "cell_type": "markdown",
   "id": "a9a2c155-90ff-4f54-93c0-775c30a9d8be",
   "metadata": {},
   "source": [
    "## Importing libraries"
   ]
  },
  {
   "cell_type": "code",
   "execution_count": 4,
   "id": "60773bb8-39c2-49e8-98b7-debfc7d820d4",
   "metadata": {},
   "outputs": [],
   "source": [
    "import pandas as pd\n",
    "import numpy as np\n",
    "import os"
   ]
  },
  {
   "cell_type": "markdown",
   "id": "99d828de-8526-48df-a0b4-de1c50bab8b6",
   "metadata": {},
   "source": [
    "## Creating path for folder"
   ]
  },
  {
   "cell_type": "code",
   "execution_count": 8,
   "id": "26f85267-8787-408c-8337-01ffd8549541",
   "metadata": {},
   "outputs": [],
   "source": [
    "path = r'/Users/ceciliamoura/Desktop/Career Foundry/Achievement4/Instacart Basket Analysis'"
   ]
  },
  {
   "cell_type": "markdown",
   "id": "3c5ed110-d6bc-4b59-aea7-cd8f8283d74e",
   "metadata": {},
   "source": [
    "## Importing file"
   ]
  },
  {
   "cell_type": "code",
   "execution_count": 11,
   "id": "72e1861f-99c1-4ef6-82cf-d248d834dcfd",
   "metadata": {},
   "outputs": [],
   "source": [
    "# Importing original file - customers"
   ]
  },
  {
   "cell_type": "code",
   "execution_count": 26,
   "id": "d300656a-f4b6-462b-a913-b92c7f3f88e4",
   "metadata": {},
   "outputs": [],
   "source": [
    "customer = pd.read_csv(os.path.join (path, 'Data', 'Original Data', 'customers.csv'), index_col = False)"
   ]
  },
  {
   "cell_type": "code",
   "execution_count": 28,
   "id": "a31a9aa0-0e21-41d7-b238-26dc14201e8e",
   "metadata": {},
   "outputs": [
    {
     "data": {
      "text/html": [
       "<div>\n",
       "<style scoped>\n",
       "    .dataframe tbody tr th:only-of-type {\n",
       "        vertical-align: middle;\n",
       "    }\n",
       "\n",
       "    .dataframe tbody tr th {\n",
       "        vertical-align: top;\n",
       "    }\n",
       "\n",
       "    .dataframe thead th {\n",
       "        text-align: right;\n",
       "    }\n",
       "</style>\n",
       "<table border=\"1\" class=\"dataframe\">\n",
       "  <thead>\n",
       "    <tr style=\"text-align: right;\">\n",
       "      <th></th>\n",
       "      <th>user_id</th>\n",
       "      <th>First Name</th>\n",
       "      <th>Surnam</th>\n",
       "      <th>Gender</th>\n",
       "      <th>STATE</th>\n",
       "      <th>Age</th>\n",
       "      <th>date_joined</th>\n",
       "      <th>n_dependants</th>\n",
       "      <th>fam_status</th>\n",
       "      <th>income</th>\n",
       "    </tr>\n",
       "  </thead>\n",
       "  <tbody>\n",
       "    <tr>\n",
       "      <th>0</th>\n",
       "      <td>26711</td>\n",
       "      <td>Deborah</td>\n",
       "      <td>Esquivel</td>\n",
       "      <td>Female</td>\n",
       "      <td>Missouri</td>\n",
       "      <td>48</td>\n",
       "      <td>1/1/2017</td>\n",
       "      <td>3</td>\n",
       "      <td>married</td>\n",
       "      <td>165665</td>\n",
       "    </tr>\n",
       "    <tr>\n",
       "      <th>1</th>\n",
       "      <td>33890</td>\n",
       "      <td>Patricia</td>\n",
       "      <td>Hart</td>\n",
       "      <td>Female</td>\n",
       "      <td>New Mexico</td>\n",
       "      <td>36</td>\n",
       "      <td>1/1/2017</td>\n",
       "      <td>0</td>\n",
       "      <td>single</td>\n",
       "      <td>59285</td>\n",
       "    </tr>\n",
       "    <tr>\n",
       "      <th>2</th>\n",
       "      <td>65803</td>\n",
       "      <td>Kenneth</td>\n",
       "      <td>Farley</td>\n",
       "      <td>Male</td>\n",
       "      <td>Idaho</td>\n",
       "      <td>35</td>\n",
       "      <td>1/1/2017</td>\n",
       "      <td>2</td>\n",
       "      <td>married</td>\n",
       "      <td>99568</td>\n",
       "    </tr>\n",
       "    <tr>\n",
       "      <th>3</th>\n",
       "      <td>125935</td>\n",
       "      <td>Michelle</td>\n",
       "      <td>Hicks</td>\n",
       "      <td>Female</td>\n",
       "      <td>Iowa</td>\n",
       "      <td>40</td>\n",
       "      <td>1/1/2017</td>\n",
       "      <td>0</td>\n",
       "      <td>single</td>\n",
       "      <td>42049</td>\n",
       "    </tr>\n",
       "    <tr>\n",
       "      <th>4</th>\n",
       "      <td>130797</td>\n",
       "      <td>Ann</td>\n",
       "      <td>Gilmore</td>\n",
       "      <td>Female</td>\n",
       "      <td>Maryland</td>\n",
       "      <td>26</td>\n",
       "      <td>1/1/2017</td>\n",
       "      <td>1</td>\n",
       "      <td>married</td>\n",
       "      <td>40374</td>\n",
       "    </tr>\n",
       "  </tbody>\n",
       "</table>\n",
       "</div>"
      ],
      "text/plain": [
       "   user_id First Name    Surnam  Gender       STATE  Age date_joined  \\\n",
       "0    26711    Deborah  Esquivel  Female    Missouri   48    1/1/2017   \n",
       "1    33890   Patricia      Hart  Female  New Mexico   36    1/1/2017   \n",
       "2    65803    Kenneth    Farley    Male       Idaho   35    1/1/2017   \n",
       "3   125935   Michelle     Hicks  Female        Iowa   40    1/1/2017   \n",
       "4   130797        Ann   Gilmore  Female    Maryland   26    1/1/2017   \n",
       "\n",
       "   n_dependants fam_status  income  \n",
       "0             3    married  165665  \n",
       "1             0     single   59285  \n",
       "2             2    married   99568  \n",
       "3             0     single   42049  \n",
       "4             1    married   40374  "
      ]
     },
     "execution_count": 28,
     "metadata": {},
     "output_type": "execute_result"
    }
   ],
   "source": [
    "customer.head()"
   ]
  },
  {
   "cell_type": "code",
   "execution_count": 30,
   "id": "a4012ff1-6b2b-4caa-a8c2-e5db5210f099",
   "metadata": {},
   "outputs": [
    {
     "data": {
      "text/plain": [
       "(206209, 10)"
      ]
     },
     "execution_count": 30,
     "metadata": {},
     "output_type": "execute_result"
    }
   ],
   "source": [
    "customer.shape"
   ]
  },
  {
   "cell_type": "code",
   "execution_count": 32,
   "id": "12b15945-7ff7-42b4-a7cb-b81cea991661",
   "metadata": {},
   "outputs": [
    {
     "data": {
      "text/plain": [
       "user_id          int64\n",
       "First Name      object\n",
       "Surnam          object\n",
       "Gender          object\n",
       "STATE           object\n",
       "Age              int64\n",
       "date_joined     object\n",
       "n_dependants     int64\n",
       "fam_status      object\n",
       "income           int64\n",
       "dtype: object"
      ]
     },
     "execution_count": 32,
     "metadata": {},
     "output_type": "execute_result"
    }
   ],
   "source": [
    "customer.dtypes"
   ]
  },
  {
   "cell_type": "markdown",
   "id": "c67c16cc-bd2b-452f-8e48-b451f4ee9e62",
   "metadata": {},
   "source": [
    "## 2.Renaming columns"
   ]
  },
  {
   "cell_type": "code",
   "execution_count": 36,
   "id": "72eb8df2-1c97-43b9-8abc-367f2bfbcc0e",
   "metadata": {},
   "outputs": [],
   "source": [
    "# renaming ['STATE'] as ['State']\n",
    "\n",
    "customer.rename(columns={'STATE' : 'State'}, inplace = True)"
   ]
  },
  {
   "cell_type": "code",
   "execution_count": 38,
   "id": "8756488e-0332-4798-bdbd-2f7d284d3f24",
   "metadata": {},
   "outputs": [
    {
     "data": {
      "text/html": [
       "<div>\n",
       "<style scoped>\n",
       "    .dataframe tbody tr th:only-of-type {\n",
       "        vertical-align: middle;\n",
       "    }\n",
       "\n",
       "    .dataframe tbody tr th {\n",
       "        vertical-align: top;\n",
       "    }\n",
       "\n",
       "    .dataframe thead th {\n",
       "        text-align: right;\n",
       "    }\n",
       "</style>\n",
       "<table border=\"1\" class=\"dataframe\">\n",
       "  <thead>\n",
       "    <tr style=\"text-align: right;\">\n",
       "      <th></th>\n",
       "      <th>user_id</th>\n",
       "      <th>First Name</th>\n",
       "      <th>Surnam</th>\n",
       "      <th>Gender</th>\n",
       "      <th>State</th>\n",
       "      <th>Age</th>\n",
       "      <th>date_joined</th>\n",
       "      <th>n_dependants</th>\n",
       "      <th>fam_status</th>\n",
       "      <th>income</th>\n",
       "    </tr>\n",
       "  </thead>\n",
       "  <tbody>\n",
       "    <tr>\n",
       "      <th>0</th>\n",
       "      <td>26711</td>\n",
       "      <td>Deborah</td>\n",
       "      <td>Esquivel</td>\n",
       "      <td>Female</td>\n",
       "      <td>Missouri</td>\n",
       "      <td>48</td>\n",
       "      <td>1/1/2017</td>\n",
       "      <td>3</td>\n",
       "      <td>married</td>\n",
       "      <td>165665</td>\n",
       "    </tr>\n",
       "    <tr>\n",
       "      <th>1</th>\n",
       "      <td>33890</td>\n",
       "      <td>Patricia</td>\n",
       "      <td>Hart</td>\n",
       "      <td>Female</td>\n",
       "      <td>New Mexico</td>\n",
       "      <td>36</td>\n",
       "      <td>1/1/2017</td>\n",
       "      <td>0</td>\n",
       "      <td>single</td>\n",
       "      <td>59285</td>\n",
       "    </tr>\n",
       "    <tr>\n",
       "      <th>2</th>\n",
       "      <td>65803</td>\n",
       "      <td>Kenneth</td>\n",
       "      <td>Farley</td>\n",
       "      <td>Male</td>\n",
       "      <td>Idaho</td>\n",
       "      <td>35</td>\n",
       "      <td>1/1/2017</td>\n",
       "      <td>2</td>\n",
       "      <td>married</td>\n",
       "      <td>99568</td>\n",
       "    </tr>\n",
       "    <tr>\n",
       "      <th>3</th>\n",
       "      <td>125935</td>\n",
       "      <td>Michelle</td>\n",
       "      <td>Hicks</td>\n",
       "      <td>Female</td>\n",
       "      <td>Iowa</td>\n",
       "      <td>40</td>\n",
       "      <td>1/1/2017</td>\n",
       "      <td>0</td>\n",
       "      <td>single</td>\n",
       "      <td>42049</td>\n",
       "    </tr>\n",
       "    <tr>\n",
       "      <th>4</th>\n",
       "      <td>130797</td>\n",
       "      <td>Ann</td>\n",
       "      <td>Gilmore</td>\n",
       "      <td>Female</td>\n",
       "      <td>Maryland</td>\n",
       "      <td>26</td>\n",
       "      <td>1/1/2017</td>\n",
       "      <td>1</td>\n",
       "      <td>married</td>\n",
       "      <td>40374</td>\n",
       "    </tr>\n",
       "  </tbody>\n",
       "</table>\n",
       "</div>"
      ],
      "text/plain": [
       "   user_id First Name    Surnam  Gender       State  Age date_joined  \\\n",
       "0    26711    Deborah  Esquivel  Female    Missouri   48    1/1/2017   \n",
       "1    33890   Patricia      Hart  Female  New Mexico   36    1/1/2017   \n",
       "2    65803    Kenneth    Farley    Male       Idaho   35    1/1/2017   \n",
       "3   125935   Michelle     Hicks  Female        Iowa   40    1/1/2017   \n",
       "4   130797        Ann   Gilmore  Female    Maryland   26    1/1/2017   \n",
       "\n",
       "   n_dependants fam_status  income  \n",
       "0             3    married  165665  \n",
       "1             0     single   59285  \n",
       "2             2    married   99568  \n",
       "3             0     single   42049  \n",
       "4             1    married   40374  "
      ]
     },
     "execution_count": 38,
     "metadata": {},
     "output_type": "execute_result"
    }
   ],
   "source": [
    "# checking procedures\n",
    "\n",
    "customer.head()"
   ]
  },
  {
   "cell_type": "markdown",
   "id": "b611fc36-4922-4ded-be1b-ed5716298ce5",
   "metadata": {},
   "source": [
    "## 3. Changing column type"
   ]
  },
  {
   "cell_type": "code",
   "execution_count": 44,
   "id": "d283d26c-10d4-49f5-8120-b909f1193e2d",
   "metadata": {},
   "outputs": [],
   "source": [
    "# 'user_id' changed from int64 to object\n",
    "\n",
    "customer['user_id'] = customer['user_id'].astype('str')"
   ]
  },
  {
   "cell_type": "code",
   "execution_count": 46,
   "id": "c1bba107-bb6e-4df4-bce2-81fb221c532a",
   "metadata": {},
   "outputs": [
    {
     "data": {
      "text/plain": [
       "user_id         object\n",
       "First Name      object\n",
       "Surnam          object\n",
       "Gender          object\n",
       "State           object\n",
       "Age              int64\n",
       "date_joined     object\n",
       "n_dependants     int64\n",
       "fam_status      object\n",
       "income           int64\n",
       "dtype: object"
      ]
     },
     "execution_count": 46,
     "metadata": {},
     "output_type": "execute_result"
    }
   ],
   "source": [
    "# checking procedures\n",
    "\n",
    "customer.dtypes"
   ]
  },
  {
   "cell_type": "markdown",
   "id": "9c0903eb-4bb3-4c4a-994e-977d253f7917",
   "metadata": {},
   "source": [
    "## 4. Missing values?"
   ]
  },
  {
   "cell_type": "code",
   "execution_count": 61,
   "id": "9b2ea833-75ec-4a93-b42d-e09282342225",
   "metadata": {},
   "outputs": [
    {
     "data": {
      "text/plain": [
       "user_id         0\n",
       "First Name      0\n",
       "Surnam          0\n",
       "Gender          0\n",
       "State           0\n",
       "Age             0\n",
       "date_joined     0\n",
       "n_dependants    0\n",
       "fam_status      0\n",
       "income          0\n",
       "dtype: int64"
      ]
     },
     "execution_count": 61,
     "metadata": {},
     "output_type": "execute_result"
    }
   ],
   "source": [
    "customer.isnull().sum()"
   ]
  },
  {
   "cell_type": "markdown",
   "id": "40350fb6-1c3e-4a60-b5f9-55d286d45d65",
   "metadata": {},
   "source": [
    "## 5. Mixed data types?"
   ]
  },
  {
   "cell_type": "code",
   "execution_count": 55,
   "id": "16753eeb-c296-401d-8844-be3c2b7476bc",
   "metadata": {},
   "outputs": [
    {
     "name": "stdout",
     "output_type": "stream",
     "text": [
      "First Name\n"
     ]
    }
   ],
   "source": [
    "#check for mixed type\n",
    "\n",
    "for col in customer.columns.tolist():\n",
    "  weird = (customer[[col]].map(type) != customer[[col]].iloc[0].apply(type)).any(axis = 1)\n",
    "  if len (customer[weird]) > 0:\n",
    "    print (col)"
   ]
  },
  {
   "cell_type": "code",
   "execution_count": 57,
   "id": "0055f09b-6735-4fd1-ba6a-fd7a5ef6177b",
   "metadata": {},
   "outputs": [],
   "source": [
    "# Fixing mixed type column ['First name'] as object\n",
    "\n",
    "customer['First Name'] = customer['First Name'].astype('str')"
   ]
  },
  {
   "cell_type": "code",
   "execution_count": 59,
   "id": "aec0826b-e014-46be-acdf-3a2a3ed4d95f",
   "metadata": {},
   "outputs": [
    {
     "data": {
      "text/plain": [
       "dtype('O')"
      ]
     },
     "execution_count": 59,
     "metadata": {},
     "output_type": "execute_result"
    }
   ],
   "source": [
    "#checking\n",
    "\n",
    "customer['First Name'].dtype"
   ]
  },
  {
   "cell_type": "markdown",
   "id": "d85bc829-b747-421a-90b6-160c5f1b0d8f",
   "metadata": {},
   "source": [
    "## 6. Duplicates?"
   ]
  },
  {
   "cell_type": "code",
   "execution_count": 64,
   "id": "1478caef-2eb0-47ca-afbc-e8367bfee83a",
   "metadata": {},
   "outputs": [],
   "source": [
    "customer_dups = customer[customer.duplicated()]"
   ]
  },
  {
   "cell_type": "code",
   "execution_count": 66,
   "id": "34f92a66-0b28-4423-8d53-e52382212294",
   "metadata": {},
   "outputs": [
    {
     "data": {
      "text/html": [
       "<div>\n",
       "<style scoped>\n",
       "    .dataframe tbody tr th:only-of-type {\n",
       "        vertical-align: middle;\n",
       "    }\n",
       "\n",
       "    .dataframe tbody tr th {\n",
       "        vertical-align: top;\n",
       "    }\n",
       "\n",
       "    .dataframe thead th {\n",
       "        text-align: right;\n",
       "    }\n",
       "</style>\n",
       "<table border=\"1\" class=\"dataframe\">\n",
       "  <thead>\n",
       "    <tr style=\"text-align: right;\">\n",
       "      <th></th>\n",
       "      <th>user_id</th>\n",
       "      <th>First Name</th>\n",
       "      <th>Surnam</th>\n",
       "      <th>Gender</th>\n",
       "      <th>State</th>\n",
       "      <th>Age</th>\n",
       "      <th>date_joined</th>\n",
       "      <th>n_dependants</th>\n",
       "      <th>fam_status</th>\n",
       "      <th>income</th>\n",
       "    </tr>\n",
       "  </thead>\n",
       "  <tbody>\n",
       "  </tbody>\n",
       "</table>\n",
       "</div>"
      ],
      "text/plain": [
       "Empty DataFrame\n",
       "Columns: [user_id, First Name, Surnam, Gender, State, Age, date_joined, n_dependants, fam_status, income]\n",
       "Index: []"
      ]
     },
     "execution_count": 66,
     "metadata": {},
     "output_type": "execute_result"
    }
   ],
   "source": [
    "customer_dups"
   ]
  },
  {
   "cell_type": "code",
   "execution_count": 68,
   "id": "b62771b4-eba4-44d2-9d3a-e7cbb474a5a3",
   "metadata": {},
   "outputs": [],
   "source": [
    "#no duplicates found"
   ]
  },
  {
   "cell_type": "markdown",
   "id": "1a6f5060-4435-4696-b73d-49e4854a146c",
   "metadata": {},
   "source": [
    "## 7. Addressing Personal Information"
   ]
  },
  {
   "cell_type": "code",
   "execution_count": 74,
   "id": "ad676cd2-cee1-43b8-bafe-88a5ac3adcdb",
   "metadata": {},
   "outputs": [],
   "source": [
    "# I decided to use a subset without first and last name to protect personal information"
   ]
  },
  {
   "cell_type": "code",
   "execution_count": 78,
   "id": "d7600a5f-46b8-4d33-aaeb-83027e1f3e0e",
   "metadata": {},
   "outputs": [
    {
     "data": {
      "text/plain": [
       "Index(['user_id', 'First Name', 'Surnam', 'Gender', 'State', 'Age',\n",
       "       'date_joined', 'n_dependants', 'fam_status', 'income'],\n",
       "      dtype='object')"
      ]
     },
     "execution_count": 78,
     "metadata": {},
     "output_type": "execute_result"
    }
   ],
   "source": [
    "customer.columns"
   ]
  },
  {
   "cell_type": "code",
   "execution_count": 82,
   "id": "e3d2e8a8-7ab5-437e-90b3-b1279ff6b7cf",
   "metadata": {},
   "outputs": [],
   "source": [
    "# Creating a new subset\n",
    "\n",
    "customer_secured = customer.drop(columns = ['First Name', 'Surnam'])"
   ]
  },
  {
   "cell_type": "code",
   "execution_count": 90,
   "id": "c307d6f3-5ad9-4470-ba62-72bfde318994",
   "metadata": {},
   "outputs": [
    {
     "data": {
      "text/plain": [
       "Index(['user_id', 'Gender', 'State', 'Age', 'date_joined', 'n_dependants',\n",
       "       'fam_status', 'income'],\n",
       "      dtype='object')"
      ]
     },
     "execution_count": 90,
     "metadata": {},
     "output_type": "execute_result"
    }
   ],
   "source": [
    "customer_secured.columns"
   ]
  },
  {
   "cell_type": "markdown",
   "id": "459cc88d-6c69-4db3-9cf2-1794a76351cd",
   "metadata": {},
   "source": [
    "## 8. Final Check"
   ]
  },
  {
   "cell_type": "code",
   "execution_count": 94,
   "id": "67e90d5c-0156-4dc2-b565-9de7c7e1074b",
   "metadata": {},
   "outputs": [
    {
     "data": {
      "text/plain": [
       "(206209, 8)"
      ]
     },
     "execution_count": 94,
     "metadata": {},
     "output_type": "execute_result"
    }
   ],
   "source": [
    "customer_secured.shape"
   ]
  },
  {
   "cell_type": "markdown",
   "id": "8c6e0dc0-b24f-4dd5-8457-bee23f9031c7",
   "metadata": {},
   "source": [
    "## 9. Exporting clean file"
   ]
  },
  {
   "cell_type": "code",
   "execution_count": 97,
   "id": "a14bda11-1381-4dba-8efc-e0885ce88799",
   "metadata": {},
   "outputs": [],
   "source": [
    "customer_secured.to_csv(os.path.join(path,'Data','Final Prepared Data', 'customer_secured_clean.csv'))"
   ]
  },
  {
   "cell_type": "code",
   "execution_count": null,
   "id": "2ef65745-b360-4972-93e0-7c182c9175e8",
   "metadata": {},
   "outputs": [],
   "source": []
  }
 ],
 "metadata": {
  "kernelspec": {
   "display_name": "Python 3 (ipykernel)",
   "language": "python",
   "name": "python3"
  },
  "language_info": {
   "codemirror_mode": {
    "name": "ipython",
    "version": 3
   },
   "file_extension": ".py",
   "mimetype": "text/x-python",
   "name": "python",
   "nbconvert_exporter": "python",
   "pygments_lexer": "ipython3",
   "version": "3.11.7"
  }
 },
 "nbformat": 4,
 "nbformat_minor": 5
}
