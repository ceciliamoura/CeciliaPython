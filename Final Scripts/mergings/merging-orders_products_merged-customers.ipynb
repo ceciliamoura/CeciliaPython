{
 "cells": [
  {
   "cell_type": "markdown",
   "id": "2c01c5c8-7724-491e-996b-a940f5b95054",
   "metadata": {},
   "source": [
    "# Merging 3 - customer_secured_clean and orders_products_merged"
   ]
  },
  {
   "cell_type": "markdown",
   "id": "69ea6950-79b5-485b-bfee-8ae8d35485b1",
   "metadata": {},
   "source": [
    "## Resulting in ords_prods_all"
   ]
  },
  {
   "cell_type": "markdown",
   "id": "82c976da-b1a7-448d-948c-b78269d226e2",
   "metadata": {},
   "source": [
    "### List of contents\n",
    "1. Importing file\n",
    "2. Merging files\n",
    "3. Dropping unwanted columns\n",
    "4. Exporting"
   ]
  },
  {
   "cell_type": "markdown",
   "id": "a9a2c155-90ff-4f54-93c0-775c30a9d8be",
   "metadata": {},
   "source": [
    "## Importing libraries"
   ]
  },
  {
   "cell_type": "code",
   "execution_count": 3,
   "id": "60773bb8-39c2-49e8-98b7-debfc7d820d4",
   "metadata": {},
   "outputs": [],
   "source": [
    "import pandas as pd\n",
    "import numpy as np\n",
    "import os"
   ]
  },
  {
   "cell_type": "markdown",
   "id": "99d828de-8526-48df-a0b4-de1c50bab8b6",
   "metadata": {},
   "source": [
    "## Creating path for folder"
   ]
  },
  {
   "cell_type": "code",
   "execution_count": 13,
   "id": "26f85267-8787-408c-8337-01ffd8549541",
   "metadata": {},
   "outputs": [],
   "source": [
    "path = r'/Users/ceciliamoura/Desktop/Career Foundry/Achievement4/Instacart Basket Analysis'"
   ]
  },
  {
   "cell_type": "markdown",
   "id": "3c5ed110-d6bc-4b59-aea7-cd8f8283d74e",
   "metadata": {},
   "source": [
    "## 1.Importing files"
   ]
  },
  {
   "cell_type": "code",
   "execution_count": 24,
   "id": "72e1861f-99c1-4ef6-82cf-d248d834dcfd",
   "metadata": {},
   "outputs": [],
   "source": [
    "# Importing customer_secured_clean"
   ]
  },
  {
   "cell_type": "code",
   "execution_count": 17,
   "id": "d300656a-f4b6-462b-a913-b92c7f3f88e4",
   "metadata": {},
   "outputs": [],
   "source": [
    "cust = pd.read_csv(os.path.join (path, 'Data', 'Final Prepared Data', 'customer_secured_clean.csv'), index_col = False)"
   ]
  },
  {
   "cell_type": "code",
   "execution_count": 19,
   "id": "a31a9aa0-0e21-41d7-b238-26dc14201e8e",
   "metadata": {},
   "outputs": [
    {
     "data": {
      "text/html": [
       "<div>\n",
       "<style scoped>\n",
       "    .dataframe tbody tr th:only-of-type {\n",
       "        vertical-align: middle;\n",
       "    }\n",
       "\n",
       "    .dataframe tbody tr th {\n",
       "        vertical-align: top;\n",
       "    }\n",
       "\n",
       "    .dataframe thead th {\n",
       "        text-align: right;\n",
       "    }\n",
       "</style>\n",
       "<table border=\"1\" class=\"dataframe\">\n",
       "  <thead>\n",
       "    <tr style=\"text-align: right;\">\n",
       "      <th></th>\n",
       "      <th>Unnamed: 0</th>\n",
       "      <th>user_id</th>\n",
       "      <th>Gender</th>\n",
       "      <th>State</th>\n",
       "      <th>Age</th>\n",
       "      <th>date_joined</th>\n",
       "      <th>n_dependants</th>\n",
       "      <th>fam_status</th>\n",
       "      <th>income</th>\n",
       "    </tr>\n",
       "  </thead>\n",
       "  <tbody>\n",
       "    <tr>\n",
       "      <th>0</th>\n",
       "      <td>0</td>\n",
       "      <td>26711</td>\n",
       "      <td>Female</td>\n",
       "      <td>Missouri</td>\n",
       "      <td>48</td>\n",
       "      <td>1/1/2017</td>\n",
       "      <td>3</td>\n",
       "      <td>married</td>\n",
       "      <td>165665</td>\n",
       "    </tr>\n",
       "    <tr>\n",
       "      <th>1</th>\n",
       "      <td>1</td>\n",
       "      <td>33890</td>\n",
       "      <td>Female</td>\n",
       "      <td>New Mexico</td>\n",
       "      <td>36</td>\n",
       "      <td>1/1/2017</td>\n",
       "      <td>0</td>\n",
       "      <td>single</td>\n",
       "      <td>59285</td>\n",
       "    </tr>\n",
       "    <tr>\n",
       "      <th>2</th>\n",
       "      <td>2</td>\n",
       "      <td>65803</td>\n",
       "      <td>Male</td>\n",
       "      <td>Idaho</td>\n",
       "      <td>35</td>\n",
       "      <td>1/1/2017</td>\n",
       "      <td>2</td>\n",
       "      <td>married</td>\n",
       "      <td>99568</td>\n",
       "    </tr>\n",
       "    <tr>\n",
       "      <th>3</th>\n",
       "      <td>3</td>\n",
       "      <td>125935</td>\n",
       "      <td>Female</td>\n",
       "      <td>Iowa</td>\n",
       "      <td>40</td>\n",
       "      <td>1/1/2017</td>\n",
       "      <td>0</td>\n",
       "      <td>single</td>\n",
       "      <td>42049</td>\n",
       "    </tr>\n",
       "    <tr>\n",
       "      <th>4</th>\n",
       "      <td>4</td>\n",
       "      <td>130797</td>\n",
       "      <td>Female</td>\n",
       "      <td>Maryland</td>\n",
       "      <td>26</td>\n",
       "      <td>1/1/2017</td>\n",
       "      <td>1</td>\n",
       "      <td>married</td>\n",
       "      <td>40374</td>\n",
       "    </tr>\n",
       "  </tbody>\n",
       "</table>\n",
       "</div>"
      ],
      "text/plain": [
       "   Unnamed: 0  user_id  Gender       State  Age date_joined  n_dependants  \\\n",
       "0           0    26711  Female    Missouri   48    1/1/2017             3   \n",
       "1           1    33890  Female  New Mexico   36    1/1/2017             0   \n",
       "2           2    65803    Male       Idaho   35    1/1/2017             2   \n",
       "3           3   125935  Female        Iowa   40    1/1/2017             0   \n",
       "4           4   130797  Female    Maryland   26    1/1/2017             1   \n",
       "\n",
       "  fam_status  income  \n",
       "0    married  165665  \n",
       "1     single   59285  \n",
       "2    married   99568  \n",
       "3     single   42049  \n",
       "4    married   40374  "
      ]
     },
     "execution_count": 19,
     "metadata": {},
     "output_type": "execute_result"
    }
   ],
   "source": [
    "cust.head()"
   ]
  },
  {
   "cell_type": "code",
   "execution_count": 21,
   "id": "7ae7d189-88ad-4a93-9f78-2bd4d4daa0cd",
   "metadata": {},
   "outputs": [
    {
     "data": {
      "text/plain": [
       "(206209, 9)"
      ]
     },
     "execution_count": 21,
     "metadata": {},
     "output_type": "execute_result"
    }
   ],
   "source": [
    "cust.shape"
   ]
  },
  {
   "cell_type": "code",
   "execution_count": 26,
   "id": "fe7dd612-821e-4f30-b773-86f6d7708630",
   "metadata": {},
   "outputs": [],
   "source": [
    "# Importing orders_products_merged\n",
    "\n",
    "merged = pd.read_pickle(os.path.join (path, 'Data', 'Final Prepared Data', 'orders_products_merged.pkl'))"
   ]
  },
  {
   "cell_type": "code",
   "execution_count": 28,
   "id": "a4012ff1-6b2b-4caa-a8c2-e5db5210f099",
   "metadata": {},
   "outputs": [
    {
     "data": {
      "text/html": [
       "<div>\n",
       "<style scoped>\n",
       "    .dataframe tbody tr th:only-of-type {\n",
       "        vertical-align: middle;\n",
       "    }\n",
       "\n",
       "    .dataframe tbody tr th {\n",
       "        vertical-align: top;\n",
       "    }\n",
       "\n",
       "    .dataframe thead th {\n",
       "        text-align: right;\n",
       "    }\n",
       "</style>\n",
       "<table border=\"1\" class=\"dataframe\">\n",
       "  <thead>\n",
       "    <tr style=\"text-align: right;\">\n",
       "      <th></th>\n",
       "      <th>order_id</th>\n",
       "      <th>product_id</th>\n",
       "      <th>add_to_cart_order</th>\n",
       "      <th>reordered</th>\n",
       "      <th>user_id</th>\n",
       "      <th>order_number</th>\n",
       "      <th>order_day_of_week</th>\n",
       "      <th>order_time</th>\n",
       "      <th>days_since_prior_order</th>\n",
       "      <th>product_name</th>\n",
       "      <th>aisle_id</th>\n",
       "      <th>department_id</th>\n",
       "      <th>prices</th>\n",
       "    </tr>\n",
       "  </thead>\n",
       "  <tbody>\n",
       "    <tr>\n",
       "      <th>0</th>\n",
       "      <td>2</td>\n",
       "      <td>33120</td>\n",
       "      <td>1</td>\n",
       "      <td>1</td>\n",
       "      <td>202279</td>\n",
       "      <td>3</td>\n",
       "      <td>5</td>\n",
       "      <td>9</td>\n",
       "      <td>8</td>\n",
       "      <td>Organic Egg Whites</td>\n",
       "      <td>86</td>\n",
       "      <td>16</td>\n",
       "      <td>11.3</td>\n",
       "    </tr>\n",
       "    <tr>\n",
       "      <th>1</th>\n",
       "      <td>2</td>\n",
       "      <td>28985</td>\n",
       "      <td>2</td>\n",
       "      <td>1</td>\n",
       "      <td>202279</td>\n",
       "      <td>3</td>\n",
       "      <td>5</td>\n",
       "      <td>9</td>\n",
       "      <td>8</td>\n",
       "      <td>Michigan Organic Kale</td>\n",
       "      <td>83</td>\n",
       "      <td>4</td>\n",
       "      <td>13.4</td>\n",
       "    </tr>\n",
       "    <tr>\n",
       "      <th>2</th>\n",
       "      <td>2</td>\n",
       "      <td>9327</td>\n",
       "      <td>3</td>\n",
       "      <td>0</td>\n",
       "      <td>202279</td>\n",
       "      <td>3</td>\n",
       "      <td>5</td>\n",
       "      <td>9</td>\n",
       "      <td>8</td>\n",
       "      <td>Garlic Powder</td>\n",
       "      <td>104</td>\n",
       "      <td>13</td>\n",
       "      <td>3.6</td>\n",
       "    </tr>\n",
       "    <tr>\n",
       "      <th>3</th>\n",
       "      <td>2</td>\n",
       "      <td>45918</td>\n",
       "      <td>4</td>\n",
       "      <td>1</td>\n",
       "      <td>202279</td>\n",
       "      <td>3</td>\n",
       "      <td>5</td>\n",
       "      <td>9</td>\n",
       "      <td>8</td>\n",
       "      <td>Coconut Butter</td>\n",
       "      <td>19</td>\n",
       "      <td>13</td>\n",
       "      <td>8.4</td>\n",
       "    </tr>\n",
       "    <tr>\n",
       "      <th>4</th>\n",
       "      <td>2</td>\n",
       "      <td>30035</td>\n",
       "      <td>5</td>\n",
       "      <td>0</td>\n",
       "      <td>202279</td>\n",
       "      <td>3</td>\n",
       "      <td>5</td>\n",
       "      <td>9</td>\n",
       "      <td>8</td>\n",
       "      <td>Natural Sweetener</td>\n",
       "      <td>17</td>\n",
       "      <td>13</td>\n",
       "      <td>13.7</td>\n",
       "    </tr>\n",
       "  </tbody>\n",
       "</table>\n",
       "</div>"
      ],
      "text/plain": [
       "   order_id  product_id  add_to_cart_order  reordered  user_id  order_number  \\\n",
       "0         2       33120                  1          1   202279             3   \n",
       "1         2       28985                  2          1   202279             3   \n",
       "2         2        9327                  3          0   202279             3   \n",
       "3         2       45918                  4          1   202279             3   \n",
       "4         2       30035                  5          0   202279             3   \n",
       "\n",
       "   order_day_of_week  order_time  days_since_prior_order  \\\n",
       "0                  5           9                       8   \n",
       "1                  5           9                       8   \n",
       "2                  5           9                       8   \n",
       "3                  5           9                       8   \n",
       "4                  5           9                       8   \n",
       "\n",
       "            product_name  aisle_id  department_id  prices  \n",
       "0     Organic Egg Whites        86             16    11.3  \n",
       "1  Michigan Organic Kale        83              4    13.4  \n",
       "2          Garlic Powder       104             13     3.6  \n",
       "3         Coconut Butter        19             13     8.4  \n",
       "4      Natural Sweetener        17             13    13.7  "
      ]
     },
     "execution_count": 28,
     "metadata": {},
     "output_type": "execute_result"
    }
   ],
   "source": [
    "merged.head()"
   ]
  },
  {
   "cell_type": "code",
   "execution_count": 30,
   "id": "9e97be9f-7519-4132-bc1a-e4ba2d3a8d2b",
   "metadata": {},
   "outputs": [
    {
     "data": {
      "text/plain": [
       "(32403719, 13)"
      ]
     },
     "execution_count": 30,
     "metadata": {},
     "output_type": "execute_result"
    }
   ],
   "source": [
    "merged.shape"
   ]
  },
  {
   "cell_type": "markdown",
   "id": "c67c16cc-bd2b-452f-8e48-b451f4ee9e62",
   "metadata": {},
   "source": [
    "## 2. Merging files"
   ]
  },
  {
   "cell_type": "code",
   "execution_count": 34,
   "id": "e518f9ea-916f-4e40-9df6-880593efbd32",
   "metadata": {},
   "outputs": [],
   "source": [
    "# key: user_id\n",
    "# first dataframe = merged\n",
    "# second dataframe = cust\n",
    "# combined dataframe = ords_prods_all\n",
    "\n",
    "ords_prods_all = merged.merge(cust, on = 'user_id', how = 'inner', indicator = True)"
   ]
  },
  {
   "cell_type": "code",
   "execution_count": 36,
   "id": "d4e6c05c-5b23-48b6-adb7-9cf29c95089e",
   "metadata": {},
   "outputs": [
    {
     "data": {
      "text/plain": [
       "_merge\n",
       "both          32403719\n",
       "left_only            0\n",
       "right_only           0\n",
       "Name: count, dtype: int64"
      ]
     },
     "execution_count": 36,
     "metadata": {},
     "output_type": "execute_result"
    }
   ],
   "source": [
    "# Checking _merge flag\n",
    "\n",
    "ords_prods_all['_merge'].value_counts()"
   ]
  },
  {
   "cell_type": "code",
   "execution_count": 38,
   "id": "f12dc91f-d955-435a-aada-664f3dcd936d",
   "metadata": {},
   "outputs": [
    {
     "data": {
      "text/plain": [
       "(32403719, 22)"
      ]
     },
     "execution_count": 38,
     "metadata": {},
     "output_type": "execute_result"
    }
   ],
   "source": [
    "#checking new merged file\n",
    "\n",
    "ords_prods_all.shape"
   ]
  },
  {
   "cell_type": "code",
   "execution_count": 42,
   "id": "d99118d7-279a-420d-9198-1296170f718a",
   "metadata": {},
   "outputs": [
    {
     "data": {
      "text/plain": [
       "(32403719, 13)"
      ]
     },
     "execution_count": 42,
     "metadata": {},
     "output_type": "execute_result"
    }
   ],
   "source": [
    "#comparing to merged file\n",
    "\n",
    "merged.shape"
   ]
  },
  {
   "cell_type": "code",
   "execution_count": 40,
   "id": "cc679fdc-c9c9-479c-9c07-040fc1f90066",
   "metadata": {},
   "outputs": [
    {
     "data": {
      "text/html": [
       "<div>\n",
       "<style scoped>\n",
       "    .dataframe tbody tr th:only-of-type {\n",
       "        vertical-align: middle;\n",
       "    }\n",
       "\n",
       "    .dataframe tbody tr th {\n",
       "        vertical-align: top;\n",
       "    }\n",
       "\n",
       "    .dataframe thead th {\n",
       "        text-align: right;\n",
       "    }\n",
       "</style>\n",
       "<table border=\"1\" class=\"dataframe\">\n",
       "  <thead>\n",
       "    <tr style=\"text-align: right;\">\n",
       "      <th></th>\n",
       "      <th>order_id</th>\n",
       "      <th>product_id</th>\n",
       "      <th>add_to_cart_order</th>\n",
       "      <th>reordered</th>\n",
       "      <th>user_id</th>\n",
       "      <th>order_number</th>\n",
       "      <th>order_day_of_week</th>\n",
       "      <th>order_time</th>\n",
       "      <th>days_since_prior_order</th>\n",
       "      <th>product_name</th>\n",
       "      <th>...</th>\n",
       "      <th>prices</th>\n",
       "      <th>Unnamed: 0</th>\n",
       "      <th>Gender</th>\n",
       "      <th>State</th>\n",
       "      <th>Age</th>\n",
       "      <th>date_joined</th>\n",
       "      <th>n_dependants</th>\n",
       "      <th>fam_status</th>\n",
       "      <th>income</th>\n",
       "      <th>_merge</th>\n",
       "    </tr>\n",
       "  </thead>\n",
       "  <tbody>\n",
       "    <tr>\n",
       "      <th>0</th>\n",
       "      <td>2</td>\n",
       "      <td>33120</td>\n",
       "      <td>1</td>\n",
       "      <td>1</td>\n",
       "      <td>202279</td>\n",
       "      <td>3</td>\n",
       "      <td>5</td>\n",
       "      <td>9</td>\n",
       "      <td>8</td>\n",
       "      <td>Organic Egg Whites</td>\n",
       "      <td>...</td>\n",
       "      <td>11.3</td>\n",
       "      <td>196437</td>\n",
       "      <td>Male</td>\n",
       "      <td>Idaho</td>\n",
       "      <td>57</td>\n",
       "      <td>2/6/2020</td>\n",
       "      <td>3</td>\n",
       "      <td>married</td>\n",
       "      <td>98119</td>\n",
       "      <td>both</td>\n",
       "    </tr>\n",
       "    <tr>\n",
       "      <th>1</th>\n",
       "      <td>2</td>\n",
       "      <td>28985</td>\n",
       "      <td>2</td>\n",
       "      <td>1</td>\n",
       "      <td>202279</td>\n",
       "      <td>3</td>\n",
       "      <td>5</td>\n",
       "      <td>9</td>\n",
       "      <td>8</td>\n",
       "      <td>Michigan Organic Kale</td>\n",
       "      <td>...</td>\n",
       "      <td>13.4</td>\n",
       "      <td>196437</td>\n",
       "      <td>Male</td>\n",
       "      <td>Idaho</td>\n",
       "      <td>57</td>\n",
       "      <td>2/6/2020</td>\n",
       "      <td>3</td>\n",
       "      <td>married</td>\n",
       "      <td>98119</td>\n",
       "      <td>both</td>\n",
       "    </tr>\n",
       "    <tr>\n",
       "      <th>2</th>\n",
       "      <td>2</td>\n",
       "      <td>9327</td>\n",
       "      <td>3</td>\n",
       "      <td>0</td>\n",
       "      <td>202279</td>\n",
       "      <td>3</td>\n",
       "      <td>5</td>\n",
       "      <td>9</td>\n",
       "      <td>8</td>\n",
       "      <td>Garlic Powder</td>\n",
       "      <td>...</td>\n",
       "      <td>3.6</td>\n",
       "      <td>196437</td>\n",
       "      <td>Male</td>\n",
       "      <td>Idaho</td>\n",
       "      <td>57</td>\n",
       "      <td>2/6/2020</td>\n",
       "      <td>3</td>\n",
       "      <td>married</td>\n",
       "      <td>98119</td>\n",
       "      <td>both</td>\n",
       "    </tr>\n",
       "    <tr>\n",
       "      <th>3</th>\n",
       "      <td>2</td>\n",
       "      <td>45918</td>\n",
       "      <td>4</td>\n",
       "      <td>1</td>\n",
       "      <td>202279</td>\n",
       "      <td>3</td>\n",
       "      <td>5</td>\n",
       "      <td>9</td>\n",
       "      <td>8</td>\n",
       "      <td>Coconut Butter</td>\n",
       "      <td>...</td>\n",
       "      <td>8.4</td>\n",
       "      <td>196437</td>\n",
       "      <td>Male</td>\n",
       "      <td>Idaho</td>\n",
       "      <td>57</td>\n",
       "      <td>2/6/2020</td>\n",
       "      <td>3</td>\n",
       "      <td>married</td>\n",
       "      <td>98119</td>\n",
       "      <td>both</td>\n",
       "    </tr>\n",
       "    <tr>\n",
       "      <th>4</th>\n",
       "      <td>2</td>\n",
       "      <td>30035</td>\n",
       "      <td>5</td>\n",
       "      <td>0</td>\n",
       "      <td>202279</td>\n",
       "      <td>3</td>\n",
       "      <td>5</td>\n",
       "      <td>9</td>\n",
       "      <td>8</td>\n",
       "      <td>Natural Sweetener</td>\n",
       "      <td>...</td>\n",
       "      <td>13.7</td>\n",
       "      <td>196437</td>\n",
       "      <td>Male</td>\n",
       "      <td>Idaho</td>\n",
       "      <td>57</td>\n",
       "      <td>2/6/2020</td>\n",
       "      <td>3</td>\n",
       "      <td>married</td>\n",
       "      <td>98119</td>\n",
       "      <td>both</td>\n",
       "    </tr>\n",
       "  </tbody>\n",
       "</table>\n",
       "<p>5 rows × 22 columns</p>\n",
       "</div>"
      ],
      "text/plain": [
       "   order_id  product_id  add_to_cart_order  reordered  user_id  order_number  \\\n",
       "0         2       33120                  1          1   202279             3   \n",
       "1         2       28985                  2          1   202279             3   \n",
       "2         2        9327                  3          0   202279             3   \n",
       "3         2       45918                  4          1   202279             3   \n",
       "4         2       30035                  5          0   202279             3   \n",
       "\n",
       "   order_day_of_week  order_time  days_since_prior_order  \\\n",
       "0                  5           9                       8   \n",
       "1                  5           9                       8   \n",
       "2                  5           9                       8   \n",
       "3                  5           9                       8   \n",
       "4                  5           9                       8   \n",
       "\n",
       "            product_name  ...  prices  Unnamed: 0  Gender  State Age  \\\n",
       "0     Organic Egg Whites  ...    11.3      196437    Male  Idaho  57   \n",
       "1  Michigan Organic Kale  ...    13.4      196437    Male  Idaho  57   \n",
       "2          Garlic Powder  ...     3.6      196437    Male  Idaho  57   \n",
       "3         Coconut Butter  ...     8.4      196437    Male  Idaho  57   \n",
       "4      Natural Sweetener  ...    13.7      196437    Male  Idaho  57   \n",
       "\n",
       "  date_joined  n_dependants fam_status  income _merge  \n",
       "0    2/6/2020             3    married   98119   both  \n",
       "1    2/6/2020             3    married   98119   both  \n",
       "2    2/6/2020             3    married   98119   both  \n",
       "3    2/6/2020             3    married   98119   both  \n",
       "4    2/6/2020             3    married   98119   both  \n",
       "\n",
       "[5 rows x 22 columns]"
      ]
     },
     "execution_count": 40,
     "metadata": {},
     "output_type": "execute_result"
    }
   ],
   "source": [
    "ords_prods_all.head()"
   ]
  },
  {
   "cell_type": "markdown",
   "id": "1dc28ae8-09b7-4ffb-95ba-b9f635b1b6df",
   "metadata": {},
   "source": [
    "## 3. Dropping unwanted columns"
   ]
  },
  {
   "cell_type": "code",
   "execution_count": 50,
   "id": "41eeec0e-154d-4e06-a1ac-7be7a36105cd",
   "metadata": {},
   "outputs": [],
   "source": [
    "ords_prods_all = ords_prods_all.drop(columns = ['Unnamed: 0', '_merge'])"
   ]
  },
  {
   "cell_type": "code",
   "execution_count": 52,
   "id": "87285c94-81c2-44eb-9731-837b891f8ea0",
   "metadata": {},
   "outputs": [
    {
     "data": {
      "text/plain": [
       "Index(['order_id', 'product_id', 'add_to_cart_order', 'reordered', 'user_id',\n",
       "       'order_number', 'order_day_of_week', 'order_time',\n",
       "       'days_since_prior_order', 'product_name', 'aisle_id', 'department_id',\n",
       "       'prices', 'Gender', 'State', 'Age', 'date_joined', 'n_dependants',\n",
       "       'fam_status', 'income'],\n",
       "      dtype='object')"
      ]
     },
     "execution_count": 52,
     "metadata": {},
     "output_type": "execute_result"
    }
   ],
   "source": [
    "# checking procedure\n",
    "\n",
    "ords_prods_all.columns"
   ]
  },
  {
   "cell_type": "code",
   "execution_count": 54,
   "id": "799bad5d-2733-477c-991c-648b503197eb",
   "metadata": {},
   "outputs": [
    {
     "data": {
      "text/plain": [
       "(32403719, 20)"
      ]
     },
     "execution_count": 54,
     "metadata": {},
     "output_type": "execute_result"
    }
   ],
   "source": [
    "ords_prods_all.shape"
   ]
  },
  {
   "cell_type": "code",
   "execution_count": 56,
   "id": "3d652ccf-7743-414a-8d5c-a0d867f7ff23",
   "metadata": {},
   "outputs": [
    {
     "data": {
      "text/plain": [
       "order_id                    int64\n",
       "product_id                  int64\n",
       "add_to_cart_order           int64\n",
       "reordered                   int64\n",
       "user_id                     int64\n",
       "order_number                int64\n",
       "order_day_of_week           int64\n",
       "order_time                  int64\n",
       "days_since_prior_order      int64\n",
       "product_name               object\n",
       "aisle_id                    int64\n",
       "department_id               int64\n",
       "prices                    float64\n",
       "Gender                     object\n",
       "State                      object\n",
       "Age                         int64\n",
       "date_joined                object\n",
       "n_dependants                int64\n",
       "fam_status                 object\n",
       "income                      int64\n",
       "dtype: object"
      ]
     },
     "execution_count": 56,
     "metadata": {},
     "output_type": "execute_result"
    }
   ],
   "source": [
    "ords_prods_all.dtypes"
   ]
  },
  {
   "cell_type": "code",
   "execution_count": 58,
   "id": "f418dae7-fbba-4dd7-b266-2093e61765c4",
   "metadata": {},
   "outputs": [],
   "source": [
    "# I will switch columns: order_id, product_id and user_id into object  "
   ]
  },
  {
   "cell_type": "code",
   "execution_count": 60,
   "id": "f9ef3014-87b9-42d2-81b6-b7288176a75b",
   "metadata": {},
   "outputs": [],
   "source": [
    "# 'order_id' changed from int64 to object\n",
    "\n",
    "ords_prods_all['order_id'] = ords_prods_all['order_id'].astype('str')"
   ]
  },
  {
   "cell_type": "code",
   "execution_count": 62,
   "id": "c34b3ea2-639a-48d8-998a-d791e76c0b5a",
   "metadata": {},
   "outputs": [],
   "source": [
    "# 'user_id' changed from int64 to object\n",
    "\n",
    "ords_prods_all['user_id'] = ords_prods_all['user_id'].astype('str')"
   ]
  },
  {
   "cell_type": "code",
   "execution_count": 64,
   "id": "8ee3e266-2aa2-47a6-be85-c4c3c6e3174d",
   "metadata": {},
   "outputs": [],
   "source": [
    "# 'product_id' changed from int64 to object\n",
    "\n",
    "ords_prods_all['product_id'] = ords_prods_all['product_id'].astype('str')"
   ]
  },
  {
   "cell_type": "code",
   "execution_count": 68,
   "id": "5bd2ffaa-47ee-49d2-95a1-80f05ba7ff0d",
   "metadata": {},
   "outputs": [
    {
     "data": {
      "text/plain": [
       "order_id                   object\n",
       "product_id                 object\n",
       "add_to_cart_order           int64\n",
       "reordered                   int64\n",
       "user_id                    object\n",
       "order_number                int64\n",
       "order_day_of_week           int64\n",
       "order_time                  int64\n",
       "days_since_prior_order      int64\n",
       "product_name               object\n",
       "aisle_id                    int64\n",
       "department_id               int64\n",
       "prices                    float64\n",
       "Gender                     object\n",
       "State                      object\n",
       "Age                         int64\n",
       "date_joined                object\n",
       "n_dependants                int64\n",
       "fam_status                 object\n",
       "income                      int64\n",
       "dtype: object"
      ]
     },
     "execution_count": 68,
     "metadata": {},
     "output_type": "execute_result"
    }
   ],
   "source": [
    "# Checking procedure\n",
    "\n",
    "ords_prods_all.dtypes"
   ]
  },
  {
   "cell_type": "markdown",
   "id": "8c6e0dc0-b24f-4dd5-8457-bee23f9031c7",
   "metadata": {},
   "source": [
    "## 4. Exporting combined file"
   ]
  },
  {
   "cell_type": "code",
   "execution_count": 70,
   "id": "a14bda11-1381-4dba-8efc-e0885ce88799",
   "metadata": {},
   "outputs": [],
   "source": [
    "ords_prods_all.to_pickle(os.path.join(path, 'Data','Final Prepared Data', 'ords_prods_all.pkl'))"
   ]
  },
  {
   "cell_type": "code",
   "execution_count": null,
   "id": "2ef65745-b360-4972-93e0-7c182c9175e8",
   "metadata": {},
   "outputs": [],
   "source": []
  }
 ],
 "metadata": {
  "kernelspec": {
   "display_name": "Python 3 (ipykernel)",
   "language": "python",
   "name": "python3"
  },
  "language_info": {
   "codemirror_mode": {
    "name": "ipython",
    "version": 3
   },
   "file_extension": ".py",
   "mimetype": "text/x-python",
   "name": "python",
   "nbconvert_exporter": "python",
   "pygments_lexer": "ipython3",
   "version": "3.11.7"
  }
 },
 "nbformat": 4,
 "nbformat_minor": 5
}
