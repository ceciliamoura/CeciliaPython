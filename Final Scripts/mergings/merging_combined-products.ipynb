{
 "cells": [
  {
   "cell_type": "markdown",
   "id": "2c01c5c8-7724-491e-996b-a940f5b95054",
   "metadata": {},
   "source": [
    "# Merging 2 - products_clean and orders_products_combined"
   ]
  },
  {
   "cell_type": "markdown",
   "id": "5ec03c53-c88a-4fdf-9097-9ddf86d7b0fa",
   "metadata": {},
   "source": [
    "### List of contents\n",
    "    1. Importing file\n",
    "\t2. Frequency checks before merging\n",
    "\t3. Creating a version of dataframe combine without product_id 26520 and 6800\n",
    "\t4. Merging files\n",
    "\t5. Missing values?\n",
    "    6. Dropping unwanted columns\n",
    "\t7. Exporting "
   ]
  },
  {
   "cell_type": "markdown",
   "id": "a9a2c155-90ff-4f54-93c0-775c30a9d8be",
   "metadata": {},
   "source": [
    "## Importing libraries"
   ]
  },
  {
   "cell_type": "code",
   "execution_count": 4,
   "id": "60773bb8-39c2-49e8-98b7-debfc7d820d4",
   "metadata": {},
   "outputs": [],
   "source": [
    "import pandas as pd\n",
    "import numpy as np\n",
    "import os"
   ]
  },
  {
   "cell_type": "markdown",
   "id": "99d828de-8526-48df-a0b4-de1c50bab8b6",
   "metadata": {},
   "source": [
    "## Creating path for folder"
   ]
  },
  {
   "cell_type": "code",
   "execution_count": 7,
   "id": "26f85267-8787-408c-8337-01ffd8549541",
   "metadata": {},
   "outputs": [],
   "source": [
    "path = r'/Users/ceciliamoura/Desktop/Career Foundry/Achievement4/Instacart Basket Analysis'"
   ]
  },
  {
   "cell_type": "markdown",
   "id": "3c5ed110-d6bc-4b59-aea7-cd8f8283d74e",
   "metadata": {},
   "source": [
    "## 1. Importing files"
   ]
  },
  {
   "cell_type": "code",
   "execution_count": 10,
   "id": "72e1861f-99c1-4ef6-82cf-d248d834dcfd",
   "metadata": {},
   "outputs": [],
   "source": [
    "# Importing products_clean"
   ]
  },
  {
   "cell_type": "code",
   "execution_count": 12,
   "id": "d300656a-f4b6-462b-a913-b92c7f3f88e4",
   "metadata": {},
   "outputs": [],
   "source": [
    "prods = pd.read_csv(os.path.join (path, 'Data', 'Final Prepared Data', 'prods_clean.csv'), index_col = False)"
   ]
  },
  {
   "cell_type": "code",
   "execution_count": 14,
   "id": "a31a9aa0-0e21-41d7-b238-26dc14201e8e",
   "metadata": {},
   "outputs": [
    {
     "data": {
      "text/html": [
       "<div>\n",
       "<style scoped>\n",
       "    .dataframe tbody tr th:only-of-type {\n",
       "        vertical-align: middle;\n",
       "    }\n",
       "\n",
       "    .dataframe tbody tr th {\n",
       "        vertical-align: top;\n",
       "    }\n",
       "\n",
       "    .dataframe thead th {\n",
       "        text-align: right;\n",
       "    }\n",
       "</style>\n",
       "<table border=\"1\" class=\"dataframe\">\n",
       "  <thead>\n",
       "    <tr style=\"text-align: right;\">\n",
       "      <th></th>\n",
       "      <th>Unnamed: 0</th>\n",
       "      <th>product_id</th>\n",
       "      <th>product_name</th>\n",
       "      <th>aisle_id</th>\n",
       "      <th>department_id</th>\n",
       "      <th>prices</th>\n",
       "    </tr>\n",
       "  </thead>\n",
       "  <tbody>\n",
       "    <tr>\n",
       "      <th>0</th>\n",
       "      <td>0</td>\n",
       "      <td>1</td>\n",
       "      <td>Chocolate Sandwich Cookies</td>\n",
       "      <td>61</td>\n",
       "      <td>19</td>\n",
       "      <td>5.8</td>\n",
       "    </tr>\n",
       "    <tr>\n",
       "      <th>1</th>\n",
       "      <td>1</td>\n",
       "      <td>2</td>\n",
       "      <td>All-Seasons Salt</td>\n",
       "      <td>104</td>\n",
       "      <td>13</td>\n",
       "      <td>9.3</td>\n",
       "    </tr>\n",
       "    <tr>\n",
       "      <th>2</th>\n",
       "      <td>2</td>\n",
       "      <td>3</td>\n",
       "      <td>Robust Golden Unsweetened Oolong Tea</td>\n",
       "      <td>94</td>\n",
       "      <td>7</td>\n",
       "      <td>4.5</td>\n",
       "    </tr>\n",
       "    <tr>\n",
       "      <th>3</th>\n",
       "      <td>3</td>\n",
       "      <td>4</td>\n",
       "      <td>Smart Ones Classic Favorites Mini Rigatoni Wit...</td>\n",
       "      <td>38</td>\n",
       "      <td>1</td>\n",
       "      <td>10.5</td>\n",
       "    </tr>\n",
       "    <tr>\n",
       "      <th>4</th>\n",
       "      <td>4</td>\n",
       "      <td>5</td>\n",
       "      <td>Green Chile Anytime Sauce</td>\n",
       "      <td>5</td>\n",
       "      <td>13</td>\n",
       "      <td>4.3</td>\n",
       "    </tr>\n",
       "  </tbody>\n",
       "</table>\n",
       "</div>"
      ],
      "text/plain": [
       "   Unnamed: 0  product_id                                       product_name  \\\n",
       "0           0           1                         Chocolate Sandwich Cookies   \n",
       "1           1           2                                   All-Seasons Salt   \n",
       "2           2           3               Robust Golden Unsweetened Oolong Tea   \n",
       "3           3           4  Smart Ones Classic Favorites Mini Rigatoni Wit...   \n",
       "4           4           5                          Green Chile Anytime Sauce   \n",
       "\n",
       "   aisle_id  department_id  prices  \n",
       "0        61             19     5.8  \n",
       "1       104             13     9.3  \n",
       "2        94              7     4.5  \n",
       "3        38              1    10.5  \n",
       "4         5             13     4.3  "
      ]
     },
     "execution_count": 14,
     "metadata": {},
     "output_type": "execute_result"
    }
   ],
   "source": [
    "prods.head()"
   ]
  },
  {
   "cell_type": "code",
   "execution_count": 16,
   "id": "7ae7d189-88ad-4a93-9f78-2bd4d4daa0cd",
   "metadata": {},
   "outputs": [
    {
     "data": {
      "text/plain": [
       "(49672, 6)"
      ]
     },
     "execution_count": 16,
     "metadata": {},
     "output_type": "execute_result"
    }
   ],
   "source": [
    "prods.shape"
   ]
  },
  {
   "cell_type": "code",
   "execution_count": 20,
   "id": "fe7dd612-821e-4f30-b773-86f6d7708630",
   "metadata": {},
   "outputs": [],
   "source": [
    "# Importing orders_products_combined\n",
    "\n",
    "combined = pd.read_pickle(os.path.join (path, 'Data', 'Final Prepared Data', 'orders_products_combined.pkl'))"
   ]
  },
  {
   "cell_type": "code",
   "execution_count": 22,
   "id": "a4012ff1-6b2b-4caa-a8c2-e5db5210f099",
   "metadata": {},
   "outputs": [
    {
     "data": {
      "text/html": [
       "<div>\n",
       "<style scoped>\n",
       "    .dataframe tbody tr th:only-of-type {\n",
       "        vertical-align: middle;\n",
       "    }\n",
       "\n",
       "    .dataframe tbody tr th {\n",
       "        vertical-align: top;\n",
       "    }\n",
       "\n",
       "    .dataframe thead th {\n",
       "        text-align: right;\n",
       "    }\n",
       "</style>\n",
       "<table border=\"1\" class=\"dataframe\">\n",
       "  <thead>\n",
       "    <tr style=\"text-align: right;\">\n",
       "      <th></th>\n",
       "      <th>order_id</th>\n",
       "      <th>product_id</th>\n",
       "      <th>add_to_cart_order</th>\n",
       "      <th>reordered</th>\n",
       "      <th>user_id</th>\n",
       "      <th>order_number</th>\n",
       "      <th>order_day_of_week</th>\n",
       "      <th>order_time</th>\n",
       "      <th>days_since_prior_order</th>\n",
       "    </tr>\n",
       "  </thead>\n",
       "  <tbody>\n",
       "    <tr>\n",
       "      <th>0</th>\n",
       "      <td>2</td>\n",
       "      <td>33120</td>\n",
       "      <td>1</td>\n",
       "      <td>1</td>\n",
       "      <td>202279</td>\n",
       "      <td>3</td>\n",
       "      <td>5</td>\n",
       "      <td>9</td>\n",
       "      <td>8</td>\n",
       "    </tr>\n",
       "    <tr>\n",
       "      <th>1</th>\n",
       "      <td>2</td>\n",
       "      <td>28985</td>\n",
       "      <td>2</td>\n",
       "      <td>1</td>\n",
       "      <td>202279</td>\n",
       "      <td>3</td>\n",
       "      <td>5</td>\n",
       "      <td>9</td>\n",
       "      <td>8</td>\n",
       "    </tr>\n",
       "    <tr>\n",
       "      <th>2</th>\n",
       "      <td>2</td>\n",
       "      <td>9327</td>\n",
       "      <td>3</td>\n",
       "      <td>0</td>\n",
       "      <td>202279</td>\n",
       "      <td>3</td>\n",
       "      <td>5</td>\n",
       "      <td>9</td>\n",
       "      <td>8</td>\n",
       "    </tr>\n",
       "    <tr>\n",
       "      <th>3</th>\n",
       "      <td>2</td>\n",
       "      <td>45918</td>\n",
       "      <td>4</td>\n",
       "      <td>1</td>\n",
       "      <td>202279</td>\n",
       "      <td>3</td>\n",
       "      <td>5</td>\n",
       "      <td>9</td>\n",
       "      <td>8</td>\n",
       "    </tr>\n",
       "    <tr>\n",
       "      <th>4</th>\n",
       "      <td>2</td>\n",
       "      <td>30035</td>\n",
       "      <td>5</td>\n",
       "      <td>0</td>\n",
       "      <td>202279</td>\n",
       "      <td>3</td>\n",
       "      <td>5</td>\n",
       "      <td>9</td>\n",
       "      <td>8</td>\n",
       "    </tr>\n",
       "  </tbody>\n",
       "</table>\n",
       "</div>"
      ],
      "text/plain": [
       "   order_id  product_id  add_to_cart_order  reordered  user_id  order_number  \\\n",
       "0         2       33120                  1          1   202279             3   \n",
       "1         2       28985                  2          1   202279             3   \n",
       "2         2        9327                  3          0   202279             3   \n",
       "3         2       45918                  4          1   202279             3   \n",
       "4         2       30035                  5          0   202279             3   \n",
       "\n",
       "   order_day_of_week  order_time  days_since_prior_order  \n",
       "0                  5           9                       8  \n",
       "1                  5           9                       8  \n",
       "2                  5           9                       8  \n",
       "3                  5           9                       8  \n",
       "4                  5           9                       8  "
      ]
     },
     "execution_count": 22,
     "metadata": {},
     "output_type": "execute_result"
    }
   ],
   "source": [
    "combined.head()"
   ]
  },
  {
   "cell_type": "code",
   "execution_count": 24,
   "id": "9e97be9f-7519-4132-bc1a-e4ba2d3a8d2b",
   "metadata": {},
   "outputs": [
    {
     "data": {
      "text/plain": [
       "(32434489, 9)"
      ]
     },
     "execution_count": 24,
     "metadata": {},
     "output_type": "execute_result"
    }
   ],
   "source": [
    "combined.shape"
   ]
  },
  {
   "cell_type": "markdown",
   "id": "f14c3471-6ba6-4134-9131-add00c79610c",
   "metadata": {},
   "source": [
    "## 2. Frequency checks before merging"
   ]
  },
  {
   "cell_type": "code",
   "execution_count": 29,
   "id": "455c2b9d-570f-4308-a4bd-8c7a1747bae7",
   "metadata": {},
   "outputs": [
    {
     "data": {
      "text/plain": [
       "product_id\n",
       "26520    2\n",
       "6800     2\n",
       "1        1\n",
       "33136    1\n",
       "33127    1\n",
       "        ..\n",
       "16576    1\n",
       "16577    1\n",
       "16578    1\n",
       "16579    1\n",
       "49688    1\n",
       "Name: count, Length: 49670, dtype: int64"
      ]
     },
     "execution_count": 29,
     "metadata": {},
     "output_type": "execute_result"
    }
   ],
   "source": [
    "#performing frequency check\n",
    "prods['product_id'].value_counts(dropna = False)"
   ]
  },
  {
   "cell_type": "code",
   "execution_count": 31,
   "id": "c9dd61fa-39c9-4c4d-b112-0be27953ddff",
   "metadata": {},
   "outputs": [],
   "source": [
    "# product_id from prods file should be unique values"
   ]
  },
  {
   "cell_type": "markdown",
   "id": "fd87ee04-df83-47c7-b269-6e9ed751afb3",
   "metadata": {},
   "source": [
    "### 2.1 Product_ids appearing two times - 26520 and 6800"
   ]
  },
  {
   "cell_type": "code",
   "execution_count": 49,
   "id": "918c74c4-2d15-4e73-98f3-fd8948879b02",
   "metadata": {},
   "outputs": [],
   "source": [
    "dup_prods = pd.concat([prods[prods['product_id'] == 26520], prods[prods['product_id'] == 6800]])"
   ]
  },
  {
   "cell_type": "code",
   "execution_count": 51,
   "id": "31eac39d-578e-4929-9a4a-d5319ab58ff0",
   "metadata": {},
   "outputs": [
    {
     "data": {
      "text/html": [
       "<div>\n",
       "<style scoped>\n",
       "    .dataframe tbody tr th:only-of-type {\n",
       "        vertical-align: middle;\n",
       "    }\n",
       "\n",
       "    .dataframe tbody tr th {\n",
       "        vertical-align: top;\n",
       "    }\n",
       "\n",
       "    .dataframe thead th {\n",
       "        text-align: right;\n",
       "    }\n",
       "</style>\n",
       "<table border=\"1\" class=\"dataframe\">\n",
       "  <thead>\n",
       "    <tr style=\"text-align: right;\">\n",
       "      <th></th>\n",
       "      <th>Unnamed: 0</th>\n",
       "      <th>product_id</th>\n",
       "      <th>product_name</th>\n",
       "      <th>aisle_id</th>\n",
       "      <th>department_id</th>\n",
       "      <th>prices</th>\n",
       "    </tr>\n",
       "  </thead>\n",
       "  <tbody>\n",
       "    <tr>\n",
       "      <th>26504</th>\n",
       "      <td>26520</td>\n",
       "      <td>26520</td>\n",
       "      <td>Clinical Advanced Solid Ultimate Fresh Anti-Pe...</td>\n",
       "      <td>80</td>\n",
       "      <td>11</td>\n",
       "      <td>10.6</td>\n",
       "    </tr>\n",
       "    <tr>\n",
       "      <th>26505</th>\n",
       "      <td>26521</td>\n",
       "      <td>26520</td>\n",
       "      <td>Cheese Shredded Sharp Cheddar Reduced Fat 2%</td>\n",
       "      <td>21</td>\n",
       "      <td>16</td>\n",
       "      <td>2.9</td>\n",
       "    </tr>\n",
       "    <tr>\n",
       "      <th>6784</th>\n",
       "      <td>6799</td>\n",
       "      <td>6800</td>\n",
       "      <td>Revive Zero Vitamin Water</td>\n",
       "      <td>64</td>\n",
       "      <td>7</td>\n",
       "      <td>6.4</td>\n",
       "    </tr>\n",
       "    <tr>\n",
       "      <th>6785</th>\n",
       "      <td>6800</td>\n",
       "      <td>6800</td>\n",
       "      <td>Sprouted Quinoa Flakes Baby Cereal</td>\n",
       "      <td>92</td>\n",
       "      <td>18</td>\n",
       "      <td>14.0</td>\n",
       "    </tr>\n",
       "  </tbody>\n",
       "</table>\n",
       "</div>"
      ],
      "text/plain": [
       "       Unnamed: 0  product_id  \\\n",
       "26504       26520       26520   \n",
       "26505       26521       26520   \n",
       "6784         6799        6800   \n",
       "6785         6800        6800   \n",
       "\n",
       "                                            product_name  aisle_id  \\\n",
       "26504  Clinical Advanced Solid Ultimate Fresh Anti-Pe...        80   \n",
       "26505       Cheese Shredded Sharp Cheddar Reduced Fat 2%        21   \n",
       "6784                           Revive Zero Vitamin Water        64   \n",
       "6785                  Sprouted Quinoa Flakes Baby Cereal        92   \n",
       "\n",
       "       department_id  prices  \n",
       "26504             11    10.6  \n",
       "26505             16     2.9  \n",
       "6784               7     6.4  \n",
       "6785              18    14.0  "
      ]
     },
     "execution_count": 51,
     "metadata": {},
     "output_type": "execute_result"
    }
   ],
   "source": [
    "dup_prods"
   ]
  },
  {
   "cell_type": "code",
   "execution_count": 53,
   "id": "ddd58058-6e21-4b42-aa05-c0a60209b16e",
   "metadata": {},
   "outputs": [],
   "source": [
    "# conclusion: product_id 26520 and  6800 refer each to two different products, which will cause error in analysis"
   ]
  },
  {
   "cell_type": "code",
   "execution_count": 87,
   "id": "fdf4b264-97b5-4b62-b4de-721a6355a114",
   "metadata": {},
   "outputs": [],
   "source": [
    "dup_prods.to_clipboard()"
   ]
  },
  {
   "cell_type": "markdown",
   "id": "d2810ffe-1c74-4271-8d33-4b4d15ef4721",
   "metadata": {},
   "source": [
    "### 2.2 Total occurrence of product_id 26520 and 6800 in orders_products_combined"
   ]
  },
  {
   "cell_type": "code",
   "execution_count": 60,
   "id": "727e348e-e0f0-4e46-a73b-152805e13a48",
   "metadata": {},
   "outputs": [],
   "source": [
    "dup_combined = pd.concat([combined[combined['product_id'] == 26520], combined[combined['product_id'] == 6800]])"
   ]
  },
  {
   "cell_type": "code",
   "execution_count": 62,
   "id": "c73c1436-b40b-4edb-a706-cfd9dd318166",
   "metadata": {},
   "outputs": [
    {
     "data": {
      "text/html": [
       "<div>\n",
       "<style scoped>\n",
       "    .dataframe tbody tr th:only-of-type {\n",
       "        vertical-align: middle;\n",
       "    }\n",
       "\n",
       "    .dataframe tbody tr th {\n",
       "        vertical-align: top;\n",
       "    }\n",
       "\n",
       "    .dataframe thead th {\n",
       "        text-align: right;\n",
       "    }\n",
       "</style>\n",
       "<table border=\"1\" class=\"dataframe\">\n",
       "  <thead>\n",
       "    <tr style=\"text-align: right;\">\n",
       "      <th></th>\n",
       "      <th>order_id</th>\n",
       "      <th>product_id</th>\n",
       "      <th>add_to_cart_order</th>\n",
       "      <th>reordered</th>\n",
       "      <th>user_id</th>\n",
       "      <th>order_number</th>\n",
       "      <th>order_day_of_week</th>\n",
       "      <th>order_time</th>\n",
       "      <th>days_since_prior_order</th>\n",
       "    </tr>\n",
       "  </thead>\n",
       "  <tbody>\n",
       "    <tr>\n",
       "      <th>22145</th>\n",
       "      <td>2334</td>\n",
       "      <td>26520</td>\n",
       "      <td>5</td>\n",
       "      <td>0</td>\n",
       "      <td>111317</td>\n",
       "      <td>8</td>\n",
       "      <td>4</td>\n",
       "      <td>10</td>\n",
       "      <td>3</td>\n",
       "    </tr>\n",
       "    <tr>\n",
       "      <th>63533</th>\n",
       "      <td>6775</td>\n",
       "      <td>26520</td>\n",
       "      <td>3</td>\n",
       "      <td>0</td>\n",
       "      <td>46374</td>\n",
       "      <td>13</td>\n",
       "      <td>1</td>\n",
       "      <td>10</td>\n",
       "      <td>17</td>\n",
       "    </tr>\n",
       "    <tr>\n",
       "      <th>75924</th>\n",
       "      <td>8074</td>\n",
       "      <td>26520</td>\n",
       "      <td>9</td>\n",
       "      <td>0</td>\n",
       "      <td>98750</td>\n",
       "      <td>7</td>\n",
       "      <td>0</td>\n",
       "      <td>18</td>\n",
       "      <td>20</td>\n",
       "    </tr>\n",
       "    <tr>\n",
       "      <th>140100</th>\n",
       "      <td>14757</td>\n",
       "      <td>26520</td>\n",
       "      <td>3</td>\n",
       "      <td>1</td>\n",
       "      <td>161131</td>\n",
       "      <td>14</td>\n",
       "      <td>0</td>\n",
       "      <td>13</td>\n",
       "      <td>6</td>\n",
       "    </tr>\n",
       "    <tr>\n",
       "      <th>181438</th>\n",
       "      <td>19108</td>\n",
       "      <td>26520</td>\n",
       "      <td>4</td>\n",
       "      <td>1</td>\n",
       "      <td>161131</td>\n",
       "      <td>28</td>\n",
       "      <td>6</td>\n",
       "      <td>10</td>\n",
       "      <td>11</td>\n",
       "    </tr>\n",
       "    <tr>\n",
       "      <th>...</th>\n",
       "      <td>...</td>\n",
       "      <td>...</td>\n",
       "      <td>...</td>\n",
       "      <td>...</td>\n",
       "      <td>...</td>\n",
       "      <td>...</td>\n",
       "      <td>...</td>\n",
       "      <td>...</td>\n",
       "      <td>...</td>\n",
       "    </tr>\n",
       "    <tr>\n",
       "      <th>20249285</th>\n",
       "      <td>2135835</td>\n",
       "      <td>6800</td>\n",
       "      <td>18</td>\n",
       "      <td>0</td>\n",
       "      <td>139099</td>\n",
       "      <td>20</td>\n",
       "      <td>2</td>\n",
       "      <td>14</td>\n",
       "      <td>7</td>\n",
       "    </tr>\n",
       "    <tr>\n",
       "      <th>22256152</th>\n",
       "      <td>2347508</td>\n",
       "      <td>6800</td>\n",
       "      <td>12</td>\n",
       "      <td>1</td>\n",
       "      <td>175905</td>\n",
       "      <td>4</td>\n",
       "      <td>5</td>\n",
       "      <td>10</td>\n",
       "      <td>17</td>\n",
       "    </tr>\n",
       "    <tr>\n",
       "      <th>24049891</th>\n",
       "      <td>2536418</td>\n",
       "      <td>6800</td>\n",
       "      <td>16</td>\n",
       "      <td>1</td>\n",
       "      <td>175905</td>\n",
       "      <td>5</td>\n",
       "      <td>6</td>\n",
       "      <td>8</td>\n",
       "      <td>1</td>\n",
       "    </tr>\n",
       "    <tr>\n",
       "      <th>27549987</th>\n",
       "      <td>2905190</td>\n",
       "      <td>6800</td>\n",
       "      <td>34</td>\n",
       "      <td>0</td>\n",
       "      <td>175905</td>\n",
       "      <td>3</td>\n",
       "      <td>2</td>\n",
       "      <td>11</td>\n",
       "      <td>27</td>\n",
       "    </tr>\n",
       "    <tr>\n",
       "      <th>32200997</th>\n",
       "      <td>3396477</td>\n",
       "      <td>6800</td>\n",
       "      <td>22</td>\n",
       "      <td>1</td>\n",
       "      <td>139099</td>\n",
       "      <td>22</td>\n",
       "      <td>2</td>\n",
       "      <td>11</td>\n",
       "      <td>30</td>\n",
       "    </tr>\n",
       "  </tbody>\n",
       "</table>\n",
       "<p>570 rows × 9 columns</p>\n",
       "</div>"
      ],
      "text/plain": [
       "          order_id  product_id  add_to_cart_order  reordered  user_id  \\\n",
       "22145         2334       26520                  5          0   111317   \n",
       "63533         6775       26520                  3          0    46374   \n",
       "75924         8074       26520                  9          0    98750   \n",
       "140100       14757       26520                  3          1   161131   \n",
       "181438       19108       26520                  4          1   161131   \n",
       "...            ...         ...                ...        ...      ...   \n",
       "20249285   2135835        6800                 18          0   139099   \n",
       "22256152   2347508        6800                 12          1   175905   \n",
       "24049891   2536418        6800                 16          1   175905   \n",
       "27549987   2905190        6800                 34          0   175905   \n",
       "32200997   3396477        6800                 22          1   139099   \n",
       "\n",
       "          order_number  order_day_of_week  order_time  days_since_prior_order  \n",
       "22145                8                  4          10                       3  \n",
       "63533               13                  1          10                      17  \n",
       "75924                7                  0          18                      20  \n",
       "140100              14                  0          13                       6  \n",
       "181438              28                  6          10                      11  \n",
       "...                ...                ...         ...                     ...  \n",
       "20249285            20                  2          14                       7  \n",
       "22256152             4                  5          10                      17  \n",
       "24049891             5                  6           8                       1  \n",
       "27549987             3                  2          11                      27  \n",
       "32200997            22                  2          11                      30  \n",
       "\n",
       "[570 rows x 9 columns]"
      ]
     },
     "execution_count": 62,
     "metadata": {},
     "output_type": "execute_result"
    }
   ],
   "source": [
    "dup_combined"
   ]
  },
  {
   "cell_type": "code",
   "execution_count": 64,
   "id": "3a2eb648-e118-46ce-867c-bbb85c1bf142",
   "metadata": {},
   "outputs": [
    {
     "data": {
      "text/plain": [
       "(32434489, 9)"
      ]
     },
     "execution_count": 64,
     "metadata": {},
     "output_type": "execute_result"
    }
   ],
   "source": [
    "combined.shape"
   ]
  },
  {
   "cell_type": "code",
   "execution_count": 93,
   "id": "d93c6dac-ed84-4e15-9649-972e64b3dd84",
   "metadata": {},
   "outputs": [],
   "source": [
    "# 570 rows out of 32434489 contain data with ambiguous product_id == 0.001% of full data\n",
    "# coclusion = it is not a representative number\n",
    "# decision = will delete product_id 26520 and 6800 from 'combined' file before merging. \n",
    "# Since I will do an inner merge, there won't be any observation relating to ambiguous product_id "
   ]
  },
  {
   "cell_type": "markdown",
   "id": "6da379ec-ab7e-4ef5-92a2-b35331866a3a",
   "metadata": {},
   "source": [
    "## 3. Creating a version of dataframe combine without product_id 26520 and 6800"
   ]
  },
  {
   "cell_type": "code",
   "execution_count": 83,
   "id": "231b59c3-8ed9-481a-92f7-f351c5115391",
   "metadata": {},
   "outputs": [],
   "source": [
    "combined_no_dups = combined[~(combined['product_id'] == 26520) & ~(combined['product_id'] == 6800)]"
   ]
  },
  {
   "cell_type": "code",
   "execution_count": 89,
   "id": "06b96837-b0df-4924-9e8d-df857eab1886",
   "metadata": {},
   "outputs": [
    {
     "data": {
      "text/plain": [
       "(32433919, 9)"
      ]
     },
     "execution_count": 89,
     "metadata": {},
     "output_type": "execute_result"
    }
   ],
   "source": [
    "combined_no_dups.shape"
   ]
  },
  {
   "cell_type": "code",
   "execution_count": 91,
   "id": "fa7cab1c-3ff5-439c-a0fb-f51a2a0ef44c",
   "metadata": {},
   "outputs": [],
   "source": [
    "#exactly 570 less rows than 'combined' dataframe"
   ]
  },
  {
   "cell_type": "markdown",
   "id": "c67c16cc-bd2b-452f-8e48-b451f4ee9e62",
   "metadata": {},
   "source": [
    "## 4. Merging files"
   ]
  },
  {
   "cell_type": "code",
   "execution_count": 117,
   "id": "e518f9ea-916f-4e40-9df6-880593efbd32",
   "metadata": {},
   "outputs": [],
   "source": [
    "# key: product_id\n",
    "# first dataframe = combined_no_dups\n",
    "# second dataframe = prods\n",
    "# combined dataframe = ords_prods_merged\n",
    "\n",
    "ords_prods_merged = combined_no_dups.merge(prods, on = 'product_id', how = 'inner', indicator = True)"
   ]
  },
  {
   "cell_type": "code",
   "execution_count": 119,
   "id": "f12dc91f-d955-435a-aada-664f3dcd936d",
   "metadata": {},
   "outputs": [
    {
     "data": {
      "text/plain": [
       "(32403719, 15)"
      ]
     },
     "execution_count": 119,
     "metadata": {},
     "output_type": "execute_result"
    }
   ],
   "source": [
    "#checking new merged file\n",
    "ords_prods_merged.shape"
   ]
  },
  {
   "cell_type": "code",
   "execution_count": 121,
   "id": "cc679fdc-c9c9-479c-9c07-040fc1f90066",
   "metadata": {},
   "outputs": [
    {
     "data": {
      "text/html": [
       "<div>\n",
       "<style scoped>\n",
       "    .dataframe tbody tr th:only-of-type {\n",
       "        vertical-align: middle;\n",
       "    }\n",
       "\n",
       "    .dataframe tbody tr th {\n",
       "        vertical-align: top;\n",
       "    }\n",
       "\n",
       "    .dataframe thead th {\n",
       "        text-align: right;\n",
       "    }\n",
       "</style>\n",
       "<table border=\"1\" class=\"dataframe\">\n",
       "  <thead>\n",
       "    <tr style=\"text-align: right;\">\n",
       "      <th></th>\n",
       "      <th>order_id</th>\n",
       "      <th>product_id</th>\n",
       "      <th>add_to_cart_order</th>\n",
       "      <th>reordered</th>\n",
       "      <th>user_id</th>\n",
       "      <th>order_number</th>\n",
       "      <th>order_day_of_week</th>\n",
       "      <th>order_time</th>\n",
       "      <th>days_since_prior_order</th>\n",
       "      <th>Unnamed: 0</th>\n",
       "      <th>product_name</th>\n",
       "      <th>aisle_id</th>\n",
       "      <th>department_id</th>\n",
       "      <th>prices</th>\n",
       "      <th>_merge</th>\n",
       "    </tr>\n",
       "  </thead>\n",
       "  <tbody>\n",
       "    <tr>\n",
       "      <th>0</th>\n",
       "      <td>2</td>\n",
       "      <td>33120</td>\n",
       "      <td>1</td>\n",
       "      <td>1</td>\n",
       "      <td>202279</td>\n",
       "      <td>3</td>\n",
       "      <td>5</td>\n",
       "      <td>9</td>\n",
       "      <td>8</td>\n",
       "      <td>33122</td>\n",
       "      <td>Organic Egg Whites</td>\n",
       "      <td>86</td>\n",
       "      <td>16</td>\n",
       "      <td>11.3</td>\n",
       "      <td>both</td>\n",
       "    </tr>\n",
       "    <tr>\n",
       "      <th>1</th>\n",
       "      <td>2</td>\n",
       "      <td>28985</td>\n",
       "      <td>2</td>\n",
       "      <td>1</td>\n",
       "      <td>202279</td>\n",
       "      <td>3</td>\n",
       "      <td>5</td>\n",
       "      <td>9</td>\n",
       "      <td>8</td>\n",
       "      <td>28987</td>\n",
       "      <td>Michigan Organic Kale</td>\n",
       "      <td>83</td>\n",
       "      <td>4</td>\n",
       "      <td>13.4</td>\n",
       "      <td>both</td>\n",
       "    </tr>\n",
       "    <tr>\n",
       "      <th>2</th>\n",
       "      <td>2</td>\n",
       "      <td>9327</td>\n",
       "      <td>3</td>\n",
       "      <td>0</td>\n",
       "      <td>202279</td>\n",
       "      <td>3</td>\n",
       "      <td>5</td>\n",
       "      <td>9</td>\n",
       "      <td>8</td>\n",
       "      <td>9327</td>\n",
       "      <td>Garlic Powder</td>\n",
       "      <td>104</td>\n",
       "      <td>13</td>\n",
       "      <td>3.6</td>\n",
       "      <td>both</td>\n",
       "    </tr>\n",
       "    <tr>\n",
       "      <th>3</th>\n",
       "      <td>2</td>\n",
       "      <td>45918</td>\n",
       "      <td>4</td>\n",
       "      <td>1</td>\n",
       "      <td>202279</td>\n",
       "      <td>3</td>\n",
       "      <td>5</td>\n",
       "      <td>9</td>\n",
       "      <td>8</td>\n",
       "      <td>45922</td>\n",
       "      <td>Coconut Butter</td>\n",
       "      <td>19</td>\n",
       "      <td>13</td>\n",
       "      <td>8.4</td>\n",
       "      <td>both</td>\n",
       "    </tr>\n",
       "    <tr>\n",
       "      <th>4</th>\n",
       "      <td>2</td>\n",
       "      <td>30035</td>\n",
       "      <td>5</td>\n",
       "      <td>0</td>\n",
       "      <td>202279</td>\n",
       "      <td>3</td>\n",
       "      <td>5</td>\n",
       "      <td>9</td>\n",
       "      <td>8</td>\n",
       "      <td>30037</td>\n",
       "      <td>Natural Sweetener</td>\n",
       "      <td>17</td>\n",
       "      <td>13</td>\n",
       "      <td>13.7</td>\n",
       "      <td>both</td>\n",
       "    </tr>\n",
       "  </tbody>\n",
       "</table>\n",
       "</div>"
      ],
      "text/plain": [
       "   order_id  product_id  add_to_cart_order  reordered  user_id  order_number  \\\n",
       "0         2       33120                  1          1   202279             3   \n",
       "1         2       28985                  2          1   202279             3   \n",
       "2         2        9327                  3          0   202279             3   \n",
       "3         2       45918                  4          1   202279             3   \n",
       "4         2       30035                  5          0   202279             3   \n",
       "\n",
       "   order_day_of_week  order_time  days_since_prior_order  Unnamed: 0  \\\n",
       "0                  5           9                       8       33122   \n",
       "1                  5           9                       8       28987   \n",
       "2                  5           9                       8        9327   \n",
       "3                  5           9                       8       45922   \n",
       "4                  5           9                       8       30037   \n",
       "\n",
       "            product_name  aisle_id  department_id  prices _merge  \n",
       "0     Organic Egg Whites        86             16    11.3   both  \n",
       "1  Michigan Organic Kale        83              4    13.4   both  \n",
       "2          Garlic Powder       104             13     3.6   both  \n",
       "3         Coconut Butter        19             13     8.4   both  \n",
       "4      Natural Sweetener        17             13    13.7   both  "
      ]
     },
     "execution_count": 121,
     "metadata": {},
     "output_type": "execute_result"
    }
   ],
   "source": [
    "ords_prods_merged.head()"
   ]
  },
  {
   "cell_type": "code",
   "execution_count": 123,
   "id": "860cb4fa-7199-4da8-9ef5-b80d4f1c86eb",
   "metadata": {},
   "outputs": [
    {
     "data": {
      "text/plain": [
       "_merge\n",
       "both          32403719\n",
       "left_only            0\n",
       "right_only           0\n",
       "Name: count, dtype: int64"
      ]
     },
     "execution_count": 123,
     "metadata": {},
     "output_type": "execute_result"
    }
   ],
   "source": [
    "# Checking _merge flag\n",
    "\n",
    "ords_prods_merged['_merge'].value_counts()"
   ]
  },
  {
   "cell_type": "markdown",
   "id": "9c0903eb-4bb3-4c4a-994e-977d253f7917",
   "metadata": {},
   "source": [
    "## 5. Missing values?"
   ]
  },
  {
   "cell_type": "code",
   "execution_count": 125,
   "id": "4e48271b-4c25-4451-84d5-010ac7dba8dd",
   "metadata": {},
   "outputs": [
    {
     "data": {
      "text/plain": [
       "order_id                     0\n",
       "product_id                   0\n",
       "add_to_cart_order            0\n",
       "reordered                    0\n",
       "user_id                      0\n",
       "order_number                 0\n",
       "order_day_of_week            0\n",
       "order_time                   0\n",
       "days_since_prior_order       0\n",
       "Unnamed: 0                   0\n",
       "product_name                 0\n",
       "aisle_id                     0\n",
       "department_id                0\n",
       "prices                    5127\n",
       "_merge                       0\n",
       "dtype: int64"
      ]
     },
     "execution_count": 125,
     "metadata": {},
     "output_type": "execute_result"
    }
   ],
   "source": [
    "ords_prods_merged.isnull().sum()"
   ]
  },
  {
   "cell_type": "code",
   "execution_count": 127,
   "id": "21866655-a0b7-44cf-9a39-dc1dba2a4c73",
   "metadata": {},
   "outputs": [],
   "source": [
    "# Creating a subset with missing values\n",
    "\n",
    "prices_missing = ords_prods_merged[ords_prods_merged['prices'].isnull() == True]"
   ]
  },
  {
   "cell_type": "code",
   "execution_count": 129,
   "id": "0881fb30-d6a4-4a8d-a0fb-6672bc7b77c8",
   "metadata": {},
   "outputs": [
    {
     "data": {
      "text/html": [
       "<div>\n",
       "<style scoped>\n",
       "    .dataframe tbody tr th:only-of-type {\n",
       "        vertical-align: middle;\n",
       "    }\n",
       "\n",
       "    .dataframe tbody tr th {\n",
       "        vertical-align: top;\n",
       "    }\n",
       "\n",
       "    .dataframe thead th {\n",
       "        text-align: right;\n",
       "    }\n",
       "</style>\n",
       "<table border=\"1\" class=\"dataframe\">\n",
       "  <thead>\n",
       "    <tr style=\"text-align: right;\">\n",
       "      <th></th>\n",
       "      <th>order_id</th>\n",
       "      <th>product_id</th>\n",
       "      <th>add_to_cart_order</th>\n",
       "      <th>reordered</th>\n",
       "      <th>user_id</th>\n",
       "      <th>order_number</th>\n",
       "      <th>order_day_of_week</th>\n",
       "      <th>order_time</th>\n",
       "      <th>days_since_prior_order</th>\n",
       "      <th>Unnamed: 0</th>\n",
       "      <th>product_name</th>\n",
       "      <th>aisle_id</th>\n",
       "      <th>department_id</th>\n",
       "      <th>prices</th>\n",
       "      <th>_merge</th>\n",
       "    </tr>\n",
       "  </thead>\n",
       "  <tbody>\n",
       "    <tr>\n",
       "      <th>347</th>\n",
       "      <td>43</td>\n",
       "      <td>21553</td>\n",
       "      <td>6</td>\n",
       "      <td>1</td>\n",
       "      <td>39630</td>\n",
       "      <td>14</td>\n",
       "      <td>5</td>\n",
       "      <td>17</td>\n",
       "      <td>4</td>\n",
       "      <td>21554</td>\n",
       "      <td>Lowfat 2% Milkfat Cottage Cheese</td>\n",
       "      <td>108</td>\n",
       "      <td>16</td>\n",
       "      <td>NaN</td>\n",
       "      <td>both</td>\n",
       "    </tr>\n",
       "    <tr>\n",
       "      <th>9177</th>\n",
       "      <td>950</td>\n",
       "      <td>21553</td>\n",
       "      <td>20</td>\n",
       "      <td>0</td>\n",
       "      <td>187854</td>\n",
       "      <td>16</td>\n",
       "      <td>1</td>\n",
       "      <td>11</td>\n",
       "      <td>16</td>\n",
       "      <td>21554</td>\n",
       "      <td>Lowfat 2% Milkfat Cottage Cheese</td>\n",
       "      <td>108</td>\n",
       "      <td>16</td>\n",
       "      <td>NaN</td>\n",
       "      <td>both</td>\n",
       "    </tr>\n",
       "    <tr>\n",
       "      <th>10798</th>\n",
       "      <td>1115</td>\n",
       "      <td>21553</td>\n",
       "      <td>14</td>\n",
       "      <td>1</td>\n",
       "      <td>168014</td>\n",
       "      <td>15</td>\n",
       "      <td>6</td>\n",
       "      <td>14</td>\n",
       "      <td>30</td>\n",
       "      <td>21554</td>\n",
       "      <td>Lowfat 2% Milkfat Cottage Cheese</td>\n",
       "      <td>108</td>\n",
       "      <td>16</td>\n",
       "      <td>NaN</td>\n",
       "      <td>both</td>\n",
       "    </tr>\n",
       "    <tr>\n",
       "      <th>11147</th>\n",
       "      <td>1155</td>\n",
       "      <td>21553</td>\n",
       "      <td>18</td>\n",
       "      <td>1</td>\n",
       "      <td>103747</td>\n",
       "      <td>22</td>\n",
       "      <td>1</td>\n",
       "      <td>13</td>\n",
       "      <td>12</td>\n",
       "      <td>21554</td>\n",
       "      <td>Lowfat 2% Milkfat Cottage Cheese</td>\n",
       "      <td>108</td>\n",
       "      <td>16</td>\n",
       "      <td>NaN</td>\n",
       "      <td>both</td>\n",
       "    </tr>\n",
       "    <tr>\n",
       "      <th>11769</th>\n",
       "      <td>1220</td>\n",
       "      <td>21553</td>\n",
       "      <td>19</td>\n",
       "      <td>0</td>\n",
       "      <td>23475</td>\n",
       "      <td>3</td>\n",
       "      <td>0</td>\n",
       "      <td>17</td>\n",
       "      <td>26</td>\n",
       "      <td>21554</td>\n",
       "      <td>Lowfat 2% Milkfat Cottage Cheese</td>\n",
       "      <td>108</td>\n",
       "      <td>16</td>\n",
       "      <td>NaN</td>\n",
       "      <td>both</td>\n",
       "    </tr>\n",
       "    <tr>\n",
       "      <th>...</th>\n",
       "      <td>...</td>\n",
       "      <td>...</td>\n",
       "      <td>...</td>\n",
       "      <td>...</td>\n",
       "      <td>...</td>\n",
       "      <td>...</td>\n",
       "      <td>...</td>\n",
       "      <td>...</td>\n",
       "      <td>...</td>\n",
       "      <td>...</td>\n",
       "      <td>...</td>\n",
       "      <td>...</td>\n",
       "      <td>...</td>\n",
       "      <td>...</td>\n",
       "      <td>...</td>\n",
       "    </tr>\n",
       "    <tr>\n",
       "      <th>32398648</th>\n",
       "      <td>3420548</td>\n",
       "      <td>21553</td>\n",
       "      <td>5</td>\n",
       "      <td>1</td>\n",
       "      <td>146887</td>\n",
       "      <td>3</td>\n",
       "      <td>4</td>\n",
       "      <td>11</td>\n",
       "      <td>7</td>\n",
       "      <td>21554</td>\n",
       "      <td>Lowfat 2% Milkfat Cottage Cheese</td>\n",
       "      <td>108</td>\n",
       "      <td>16</td>\n",
       "      <td>NaN</td>\n",
       "      <td>both</td>\n",
       "    </tr>\n",
       "    <tr>\n",
       "      <th>32399191</th>\n",
       "      <td>3420604</td>\n",
       "      <td>21553</td>\n",
       "      <td>8</td>\n",
       "      <td>0</td>\n",
       "      <td>159443</td>\n",
       "      <td>8</td>\n",
       "      <td>2</td>\n",
       "      <td>13</td>\n",
       "      <td>6</td>\n",
       "      <td>21554</td>\n",
       "      <td>Lowfat 2% Milkfat Cottage Cheese</td>\n",
       "      <td>108</td>\n",
       "      <td>16</td>\n",
       "      <td>NaN</td>\n",
       "      <td>both</td>\n",
       "    </tr>\n",
       "    <tr>\n",
       "      <th>32399852</th>\n",
       "      <td>3420676</td>\n",
       "      <td>21553</td>\n",
       "      <td>10</td>\n",
       "      <td>0</td>\n",
       "      <td>202268</td>\n",
       "      <td>50</td>\n",
       "      <td>5</td>\n",
       "      <td>16</td>\n",
       "      <td>6</td>\n",
       "      <td>21554</td>\n",
       "      <td>Lowfat 2% Milkfat Cottage Cheese</td>\n",
       "      <td>108</td>\n",
       "      <td>16</td>\n",
       "      <td>NaN</td>\n",
       "      <td>both</td>\n",
       "    </tr>\n",
       "    <tr>\n",
       "      <th>32401335</th>\n",
       "      <td>3420827</td>\n",
       "      <td>21553</td>\n",
       "      <td>2</td>\n",
       "      <td>0</td>\n",
       "      <td>15643</td>\n",
       "      <td>1</td>\n",
       "      <td>1</td>\n",
       "      <td>10</td>\n",
       "      <td>0</td>\n",
       "      <td>21554</td>\n",
       "      <td>Lowfat 2% Milkfat Cottage Cheese</td>\n",
       "      <td>108</td>\n",
       "      <td>16</td>\n",
       "      <td>NaN</td>\n",
       "      <td>both</td>\n",
       "    </tr>\n",
       "    <tr>\n",
       "      <th>32403450</th>\n",
       "      <td>3421047</td>\n",
       "      <td>33664</td>\n",
       "      <td>6</td>\n",
       "      <td>0</td>\n",
       "      <td>98554</td>\n",
       "      <td>4</td>\n",
       "      <td>1</td>\n",
       "      <td>11</td>\n",
       "      <td>4</td>\n",
       "      <td>33666</td>\n",
       "      <td>2 % Reduced Fat  Milk</td>\n",
       "      <td>84</td>\n",
       "      <td>16</td>\n",
       "      <td>NaN</td>\n",
       "      <td>both</td>\n",
       "    </tr>\n",
       "  </tbody>\n",
       "</table>\n",
       "<p>5127 rows × 15 columns</p>\n",
       "</div>"
      ],
      "text/plain": [
       "          order_id  product_id  add_to_cart_order  reordered  user_id  \\\n",
       "347             43       21553                  6          1    39630   \n",
       "9177           950       21553                 20          0   187854   \n",
       "10798         1115       21553                 14          1   168014   \n",
       "11147         1155       21553                 18          1   103747   \n",
       "11769         1220       21553                 19          0    23475   \n",
       "...            ...         ...                ...        ...      ...   \n",
       "32398648   3420548       21553                  5          1   146887   \n",
       "32399191   3420604       21553                  8          0   159443   \n",
       "32399852   3420676       21553                 10          0   202268   \n",
       "32401335   3420827       21553                  2          0    15643   \n",
       "32403450   3421047       33664                  6          0    98554   \n",
       "\n",
       "          order_number  order_day_of_week  order_time  days_since_prior_order  \\\n",
       "347                 14                  5          17                       4   \n",
       "9177                16                  1          11                      16   \n",
       "10798               15                  6          14                      30   \n",
       "11147               22                  1          13                      12   \n",
       "11769                3                  0          17                      26   \n",
       "...                ...                ...         ...                     ...   \n",
       "32398648             3                  4          11                       7   \n",
       "32399191             8                  2          13                       6   \n",
       "32399852            50                  5          16                       6   \n",
       "32401335             1                  1          10                       0   \n",
       "32403450             4                  1          11                       4   \n",
       "\n",
       "          Unnamed: 0                      product_name  aisle_id  \\\n",
       "347            21554  Lowfat 2% Milkfat Cottage Cheese       108   \n",
       "9177           21554  Lowfat 2% Milkfat Cottage Cheese       108   \n",
       "10798          21554  Lowfat 2% Milkfat Cottage Cheese       108   \n",
       "11147          21554  Lowfat 2% Milkfat Cottage Cheese       108   \n",
       "11769          21554  Lowfat 2% Milkfat Cottage Cheese       108   \n",
       "...              ...                               ...       ...   \n",
       "32398648       21554  Lowfat 2% Milkfat Cottage Cheese       108   \n",
       "32399191       21554  Lowfat 2% Milkfat Cottage Cheese       108   \n",
       "32399852       21554  Lowfat 2% Milkfat Cottage Cheese       108   \n",
       "32401335       21554  Lowfat 2% Milkfat Cottage Cheese       108   \n",
       "32403450       33666             2 % Reduced Fat  Milk        84   \n",
       "\n",
       "          department_id  prices _merge  \n",
       "347                  16     NaN   both  \n",
       "9177                 16     NaN   both  \n",
       "10798                16     NaN   both  \n",
       "11147                16     NaN   both  \n",
       "11769                16     NaN   both  \n",
       "...                 ...     ...    ...  \n",
       "32398648             16     NaN   both  \n",
       "32399191             16     NaN   both  \n",
       "32399852             16     NaN   both  \n",
       "32401335             16     NaN   both  \n",
       "32403450             16     NaN   both  \n",
       "\n",
       "[5127 rows x 15 columns]"
      ]
     },
     "execution_count": 129,
     "metadata": {},
     "output_type": "execute_result"
    }
   ],
   "source": [
    "prices_missing"
   ]
  },
  {
   "cell_type": "code",
   "execution_count": 133,
   "id": "0420b660-30d3-4bdf-9725-5af22f5beda9",
   "metadata": {},
   "outputs": [],
   "source": [
    "# These probably refer to the two products flagged as abnormally high-priced products\n",
    "    #product_id 21553 and product_id 33664"
   ]
  },
  {
   "cell_type": "code",
   "execution_count": 143,
   "id": "eb790016-4055-4fd6-9b4b-c44937fe0d51",
   "metadata": {},
   "outputs": [
    {
     "data": {
      "text/plain": [
       "product_id\n",
       "21553    4429\n",
       "33664     698\n",
       "Name: count, dtype: int64"
      ]
     },
     "execution_count": 143,
     "metadata": {},
     "output_type": "execute_result"
    }
   ],
   "source": [
    "prices_missing['product_id'].value_counts()"
   ]
  },
  {
   "cell_type": "code",
   "execution_count": 145,
   "id": "afa7a8fd-aabf-4624-acca-8f06f3470618",
   "metadata": {},
   "outputs": [],
   "source": [
    "# all missing prices refer to products previously flagged with abnormal price and turned into NaN intencionally"
   ]
  },
  {
   "cell_type": "markdown",
   "id": "1dc28ae8-09b7-4ffb-95ba-b9f635b1b6df",
   "metadata": {},
   "source": [
    "## 6. Dropping unwanted columns"
   ]
  },
  {
   "cell_type": "code",
   "execution_count": 147,
   "id": "41eeec0e-154d-4e06-a1ac-7be7a36105cd",
   "metadata": {},
   "outputs": [],
   "source": [
    "ords_prods_merged = ords_prods_merged.drop(columns = ['Unnamed: 0', '_merge'])"
   ]
  },
  {
   "cell_type": "code",
   "execution_count": 151,
   "id": "87285c94-81c2-44eb-9731-837b891f8ea0",
   "metadata": {},
   "outputs": [
    {
     "data": {
      "text/plain": [
       "Index(['order_id', 'product_id', 'add_to_cart_order', 'reordered', 'user_id',\n",
       "       'order_number', 'order_day_of_week', 'order_time',\n",
       "       'days_since_prior_order', 'product_name', 'aisle_id', 'department_id',\n",
       "       'prices'],\n",
       "      dtype='object')"
      ]
     },
     "execution_count": 151,
     "metadata": {},
     "output_type": "execute_result"
    }
   ],
   "source": [
    "# checking procedure\n",
    "\n",
    "ords_prods_merged.columns"
   ]
  },
  {
   "cell_type": "code",
   "execution_count": 153,
   "id": "799bad5d-2733-477c-991c-648b503197eb",
   "metadata": {},
   "outputs": [
    {
     "data": {
      "text/plain": [
       "(32403719, 13)"
      ]
     },
     "execution_count": 153,
     "metadata": {},
     "output_type": "execute_result"
    }
   ],
   "source": [
    "ords_prods_merged.shape"
   ]
  },
  {
   "cell_type": "code",
   "execution_count": 155,
   "id": "3d652ccf-7743-414a-8d5c-a0d867f7ff23",
   "metadata": {},
   "outputs": [
    {
     "data": {
      "text/plain": [
       "order_id                    int64\n",
       "product_id                  int64\n",
       "add_to_cart_order           int64\n",
       "reordered                   int64\n",
       "user_id                     int64\n",
       "order_number                int64\n",
       "order_day_of_week           int64\n",
       "order_time                  int64\n",
       "days_since_prior_order      int64\n",
       "product_name               object\n",
       "aisle_id                    int64\n",
       "department_id               int64\n",
       "prices                    float64\n",
       "dtype: object"
      ]
     },
     "execution_count": 155,
     "metadata": {},
     "output_type": "execute_result"
    }
   ],
   "source": [
    "ords_prods_merged.dtypes"
   ]
  },
  {
   "cell_type": "code",
   "execution_count": 118,
   "id": "f418dae7-fbba-4dd7-b266-2093e61765c4",
   "metadata": {},
   "outputs": [],
   "source": [
    "# I will switch columns: order_id, product_id and user_id into object after final merge. "
   ]
  },
  {
   "cell_type": "markdown",
   "id": "8c6e0dc0-b24f-4dd5-8457-bee23f9031c7",
   "metadata": {},
   "source": [
    "## 7. Exporting combined file"
   ]
  },
  {
   "cell_type": "code",
   "execution_count": 157,
   "id": "a14bda11-1381-4dba-8efc-e0885ce88799",
   "metadata": {},
   "outputs": [],
   "source": [
    "ords_prods_merged.to_pickle(os.path.join(path, 'Data','Final Prepared Data', 'orders_products_merged.pkl'))"
   ]
  },
  {
   "cell_type": "code",
   "execution_count": null,
   "id": "2ef65745-b360-4972-93e0-7c182c9175e8",
   "metadata": {},
   "outputs": [],
   "source": []
  }
 ],
 "metadata": {
  "kernelspec": {
   "display_name": "Python 3 (ipykernel)",
   "language": "python",
   "name": "python3"
  },
  "language_info": {
   "codemirror_mode": {
    "name": "ipython",
    "version": 3
   },
   "file_extension": ".py",
   "mimetype": "text/x-python",
   "name": "python",
   "nbconvert_exporter": "python",
   "pygments_lexer": "ipython3",
   "version": "3.11.7"
  }
 },
 "nbformat": 4,
 "nbformat_minor": 5
}
