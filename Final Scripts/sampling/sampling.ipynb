{
 "cells": [
  {
   "cell_type": "markdown",
   "id": "42d3e6ee-1903-4b0a-b08d-ae20442285be",
   "metadata": {},
   "source": [
    "# Sampling --- creating big and small samples"
   ]
  },
  {
   "cell_type": "markdown",
   "id": "a9a2c155-90ff-4f54-93c0-775c30a9d8be",
   "metadata": {},
   "source": [
    "## Importing libraries"
   ]
  },
  {
   "cell_type": "code",
   "execution_count": 1,
   "id": "60773bb8-39c2-49e8-98b7-debfc7d820d4",
   "metadata": {},
   "outputs": [],
   "source": [
    "import pandas as pd\n",
    "import numpy as np\n",
    "import os\n",
    "import matplotlib.pyplot as plt\n",
    "import seaborn as sns\n",
    "import scipy"
   ]
  },
  {
   "cell_type": "markdown",
   "id": "99d828de-8526-48df-a0b4-de1c50bab8b6",
   "metadata": {},
   "source": [
    "## Creating path for folder"
   ]
  },
  {
   "cell_type": "code",
   "execution_count": 4,
   "id": "26f85267-8787-408c-8337-01ffd8549541",
   "metadata": {},
   "outputs": [],
   "source": [
    "path = r'/Users/ceciliamoura/Desktop/Career Foundry/Achievement4/Instacart Basket Analysis'"
   ]
  },
  {
   "cell_type": "markdown",
   "id": "3c5ed110-d6bc-4b59-aea7-cd8f8283d74e",
   "metadata": {},
   "source": [
    "## Importing files"
   ]
  },
  {
   "cell_type": "code",
   "execution_count": 9,
   "id": "72e1861f-99c1-4ef6-82cf-d248d834dcfd",
   "metadata": {},
   "outputs": [],
   "source": [
    "# Importing high-activity-only instacart"
   ]
  },
  {
   "cell_type": "code",
   "execution_count": 7,
   "id": "d300656a-f4b6-462b-a913-b92c7f3f88e4",
   "metadata": {},
   "outputs": [],
   "source": [
    "instacart = pd.read_pickle(os.path.join (path, 'Data', 'Final Prepared Data', 'IC_high_activity_2.pkl'))"
   ]
  },
  {
   "cell_type": "code",
   "execution_count": 9,
   "id": "a31a9aa0-0e21-41d7-b238-26dc14201e8e",
   "metadata": {},
   "outputs": [
    {
     "data": {
      "text/html": [
       "<div>\n",
       "<style scoped>\n",
       "    .dataframe tbody tr th:only-of-type {\n",
       "        vertical-align: middle;\n",
       "    }\n",
       "\n",
       "    .dataframe tbody tr th {\n",
       "        vertical-align: top;\n",
       "    }\n",
       "\n",
       "    .dataframe thead th {\n",
       "        text-align: right;\n",
       "    }\n",
       "</style>\n",
       "<table border=\"1\" class=\"dataframe\">\n",
       "  <thead>\n",
       "    <tr style=\"text-align: right;\">\n",
       "      <th></th>\n",
       "      <th>order_id</th>\n",
       "      <th>product_id</th>\n",
       "      <th>add_to_cart_order</th>\n",
       "      <th>reordered</th>\n",
       "      <th>user_id</th>\n",
       "      <th>order_number</th>\n",
       "      <th>order_day_of_week</th>\n",
       "      <th>order_time</th>\n",
       "      <th>days_since_prior_order</th>\n",
       "      <th>product_name</th>\n",
       "      <th>...</th>\n",
       "      <th>Gender</th>\n",
       "      <th>State</th>\n",
       "      <th>Age</th>\n",
       "      <th>date_joined</th>\n",
       "      <th>n_dependants</th>\n",
       "      <th>fam_status</th>\n",
       "      <th>income</th>\n",
       "      <th>max_order_per_user</th>\n",
       "      <th>products_per_order</th>\n",
       "      <th>order_cost</th>\n",
       "    </tr>\n",
       "  </thead>\n",
       "  <tbody>\n",
       "    <tr>\n",
       "      <th>0</th>\n",
       "      <td>2</td>\n",
       "      <td>33120</td>\n",
       "      <td>1</td>\n",
       "      <td>1</td>\n",
       "      <td>202279</td>\n",
       "      <td>3</td>\n",
       "      <td>5</td>\n",
       "      <td>9</td>\n",
       "      <td>8</td>\n",
       "      <td>Organic Egg Whites</td>\n",
       "      <td>...</td>\n",
       "      <td>Male</td>\n",
       "      <td>Idaho</td>\n",
       "      <td>57</td>\n",
       "      <td>2/6/2020</td>\n",
       "      <td>3</td>\n",
       "      <td>married</td>\n",
       "      <td>98119</td>\n",
       "      <td>8</td>\n",
       "      <td>9</td>\n",
       "      <td>91.6</td>\n",
       "    </tr>\n",
       "    <tr>\n",
       "      <th>1</th>\n",
       "      <td>2</td>\n",
       "      <td>28985</td>\n",
       "      <td>2</td>\n",
       "      <td>1</td>\n",
       "      <td>202279</td>\n",
       "      <td>3</td>\n",
       "      <td>5</td>\n",
       "      <td>9</td>\n",
       "      <td>8</td>\n",
       "      <td>Michigan Organic Kale</td>\n",
       "      <td>...</td>\n",
       "      <td>Male</td>\n",
       "      <td>Idaho</td>\n",
       "      <td>57</td>\n",
       "      <td>2/6/2020</td>\n",
       "      <td>3</td>\n",
       "      <td>married</td>\n",
       "      <td>98119</td>\n",
       "      <td>8</td>\n",
       "      <td>9</td>\n",
       "      <td>91.6</td>\n",
       "    </tr>\n",
       "    <tr>\n",
       "      <th>2</th>\n",
       "      <td>2</td>\n",
       "      <td>9327</td>\n",
       "      <td>3</td>\n",
       "      <td>0</td>\n",
       "      <td>202279</td>\n",
       "      <td>3</td>\n",
       "      <td>5</td>\n",
       "      <td>9</td>\n",
       "      <td>8</td>\n",
       "      <td>Garlic Powder</td>\n",
       "      <td>...</td>\n",
       "      <td>Male</td>\n",
       "      <td>Idaho</td>\n",
       "      <td>57</td>\n",
       "      <td>2/6/2020</td>\n",
       "      <td>3</td>\n",
       "      <td>married</td>\n",
       "      <td>98119</td>\n",
       "      <td>8</td>\n",
       "      <td>9</td>\n",
       "      <td>91.6</td>\n",
       "    </tr>\n",
       "    <tr>\n",
       "      <th>3</th>\n",
       "      <td>2</td>\n",
       "      <td>45918</td>\n",
       "      <td>4</td>\n",
       "      <td>1</td>\n",
       "      <td>202279</td>\n",
       "      <td>3</td>\n",
       "      <td>5</td>\n",
       "      <td>9</td>\n",
       "      <td>8</td>\n",
       "      <td>Coconut Butter</td>\n",
       "      <td>...</td>\n",
       "      <td>Male</td>\n",
       "      <td>Idaho</td>\n",
       "      <td>57</td>\n",
       "      <td>2/6/2020</td>\n",
       "      <td>3</td>\n",
       "      <td>married</td>\n",
       "      <td>98119</td>\n",
       "      <td>8</td>\n",
       "      <td>9</td>\n",
       "      <td>91.6</td>\n",
       "    </tr>\n",
       "    <tr>\n",
       "      <th>4</th>\n",
       "      <td>2</td>\n",
       "      <td>30035</td>\n",
       "      <td>5</td>\n",
       "      <td>0</td>\n",
       "      <td>202279</td>\n",
       "      <td>3</td>\n",
       "      <td>5</td>\n",
       "      <td>9</td>\n",
       "      <td>8</td>\n",
       "      <td>Natural Sweetener</td>\n",
       "      <td>...</td>\n",
       "      <td>Male</td>\n",
       "      <td>Idaho</td>\n",
       "      <td>57</td>\n",
       "      <td>2/6/2020</td>\n",
       "      <td>3</td>\n",
       "      <td>married</td>\n",
       "      <td>98119</td>\n",
       "      <td>8</td>\n",
       "      <td>9</td>\n",
       "      <td>91.6</td>\n",
       "    </tr>\n",
       "  </tbody>\n",
       "</table>\n",
       "<p>5 rows × 23 columns</p>\n",
       "</div>"
      ],
      "text/plain": [
       "  order_id product_id  add_to_cart_order  reordered user_id  order_number  \\\n",
       "0        2      33120                  1          1  202279             3   \n",
       "1        2      28985                  2          1  202279             3   \n",
       "2        2       9327                  3          0  202279             3   \n",
       "3        2      45918                  4          1  202279             3   \n",
       "4        2      30035                  5          0  202279             3   \n",
       "\n",
       "   order_day_of_week  order_time  days_since_prior_order  \\\n",
       "0                  5           9                       8   \n",
       "1                  5           9                       8   \n",
       "2                  5           9                       8   \n",
       "3                  5           9                       8   \n",
       "4                  5           9                       8   \n",
       "\n",
       "            product_name  ...  Gender  State  Age date_joined n_dependants  \\\n",
       "0     Organic Egg Whites  ...    Male  Idaho   57    2/6/2020            3   \n",
       "1  Michigan Organic Kale  ...    Male  Idaho   57    2/6/2020            3   \n",
       "2          Garlic Powder  ...    Male  Idaho   57    2/6/2020            3   \n",
       "3         Coconut Butter  ...    Male  Idaho   57    2/6/2020            3   \n",
       "4      Natural Sweetener  ...    Male  Idaho   57    2/6/2020            3   \n",
       "\n",
       "   fam_status income  max_order_per_user products_per_order  order_cost  \n",
       "0     married  98119                   8                  9        91.6  \n",
       "1     married  98119                   8                  9        91.6  \n",
       "2     married  98119                   8                  9        91.6  \n",
       "3     married  98119                   8                  9        91.6  \n",
       "4     married  98119                   8                  9        91.6  \n",
       "\n",
       "[5 rows x 23 columns]"
      ]
     },
     "execution_count": 9,
     "metadata": {},
     "output_type": "execute_result"
    }
   ],
   "source": [
    "instacart.head()"
   ]
  },
  {
   "cell_type": "code",
   "execution_count": 11,
   "id": "7ae7d189-88ad-4a93-9f78-2bd4d4daa0cd",
   "metadata": {},
   "outputs": [
    {
     "data": {
      "text/plain": [
       "(30963518, 23)"
      ]
     },
     "execution_count": 11,
     "metadata": {},
     "output_type": "execute_result"
    }
   ],
   "source": [
    "instacart.shape"
   ]
  },
  {
   "cell_type": "markdown",
   "id": "0a5406f2-64bd-4a72-a2df-9b3910fc51dc",
   "metadata": {},
   "source": [
    "## 1. Sampling data"
   ]
  },
  {
   "cell_type": "code",
   "execution_count": 14,
   "id": "420fb144-fa0e-4f04-b2ca-d661785017d6",
   "metadata": {},
   "outputs": [],
   "source": [
    "# sampling 70/30 \n",
    "# Create a list holding True/False values to the test np.random.rand() ,= 0.7\n",
    "np.random.seed(4)\n",
    "dev = np.random.rand(len(instacart)) <= 0.7"
   ]
  },
  {
   "cell_type": "code",
   "execution_count": 16,
   "id": "02ee67dc-604e-451e-b1b3-c8834766d5c3",
   "metadata": {},
   "outputs": [],
   "source": [
    "#Store 70% of the sample in the dataframe big\n",
    "big = instacart[dev]\n",
    "\n",
    "#Store 30% of the sample in the dataframe small\n",
    "small = instacart[~dev]"
   ]
  },
  {
   "cell_type": "code",
   "execution_count": 18,
   "id": "cadcdd2c-e1ba-4531-a86b-e5b67db6aa90",
   "metadata": {},
   "outputs": [
    {
     "data": {
      "text/plain": [
       "30963518"
      ]
     },
     "execution_count": 18,
     "metadata": {},
     "output_type": "execute_result"
    }
   ],
   "source": [
    "# checking procedure\n",
    "\n",
    "len(instacart)"
   ]
  },
  {
   "cell_type": "code",
   "execution_count": 20,
   "id": "52d7b93c-19a5-4af5-a43f-22f78caee664",
   "metadata": {},
   "outputs": [
    {
     "data": {
      "text/plain": [
       "30963518"
      ]
     },
     "execution_count": 20,
     "metadata": {},
     "output_type": "execute_result"
    }
   ],
   "source": [
    "len(big) + len(small)"
   ]
  },
  {
   "cell_type": "code",
   "execution_count": 22,
   "id": "0a8db0bb-7585-4659-8ee5-bad9006e8d3c",
   "metadata": {},
   "outputs": [
    {
     "data": {
      "text/plain": [
       "(9288143, 23)"
      ]
     },
     "execution_count": 22,
     "metadata": {},
     "output_type": "execute_result"
    }
   ],
   "source": [
    "small.shape"
   ]
  },
  {
   "cell_type": "code",
   "execution_count": 24,
   "id": "cdaeded7-a884-4b22-bd59-9816a9af8ad7",
   "metadata": {},
   "outputs": [
    {
     "data": {
      "text/plain": [
       "(21675375, 23)"
      ]
     },
     "execution_count": 24,
     "metadata": {},
     "output_type": "execute_result"
    }
   ],
   "source": [
    "big.shape"
   ]
  },
  {
   "cell_type": "markdown",
   "id": "8c6e0dc0-b24f-4dd5-8457-bee23f9031c7",
   "metadata": {},
   "source": [
    "## 2. Exporting new subsets big and small"
   ]
  },
  {
   "cell_type": "code",
   "execution_count": 28,
   "id": "a14bda11-1381-4dba-8efc-e0885ce88799",
   "metadata": {},
   "outputs": [],
   "source": [
    "big.to_pickle(os.path.join(path, 'Data', 'Final Prepared Data', 'IC_high_activity_big.pkl'))"
   ]
  },
  {
   "cell_type": "code",
   "execution_count": 30,
   "id": "c76d08a3-b354-460a-b7ee-430cc8918b75",
   "metadata": {},
   "outputs": [],
   "source": [
    "small.to_pickle(os.path.join(path, 'Data', 'Final Prepared Data', 'IC_high_activity_small.pkl'))"
   ]
  },
  {
   "cell_type": "code",
   "execution_count": null,
   "id": "c591572d-66d3-4058-8175-f2294296d68d",
   "metadata": {},
   "outputs": [],
   "source": []
  }
 ],
 "metadata": {
  "kernelspec": {
   "display_name": "Python 3 (ipykernel)",
   "language": "python",
   "name": "python3"
  },
  "language_info": {
   "codemirror_mode": {
    "name": "ipython",
    "version": 3
   },
   "file_extension": ".py",
   "mimetype": "text/x-python",
   "name": "python",
   "nbconvert_exporter": "python",
   "pygments_lexer": "ipython3",
   "version": "3.11.7"
  }
 },
 "nbformat": 4,
 "nbformat_minor": 5
}
