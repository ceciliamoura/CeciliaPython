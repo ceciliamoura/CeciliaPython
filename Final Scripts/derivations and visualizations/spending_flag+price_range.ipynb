{
 "cells": [
  {
   "cell_type": "markdown",
   "id": "50f61140-1556-47c9-8838-5fba045597a7",
   "metadata": {},
   "source": [
    "# Creating a spending flag "
   ]
  },
  {
   "cell_type": "markdown",
   "id": "a9a2c155-90ff-4f54-93c0-775c30a9d8be",
   "metadata": {},
   "source": [
    "## Importing libraries"
   ]
  },
  {
   "cell_type": "code",
   "execution_count": 1,
   "id": "60773bb8-39c2-49e8-98b7-debfc7d820d4",
   "metadata": {},
   "outputs": [],
   "source": [
    "import pandas as pd\n",
    "import numpy as np\n",
    "import os\n",
    "import matplotlib.pyplot as plt\n",
    "import seaborn as sns\n",
    "import scipy"
   ]
  },
  {
   "cell_type": "markdown",
   "id": "99d828de-8526-48df-a0b4-de1c50bab8b6",
   "metadata": {},
   "source": [
    "## Creating path for folder"
   ]
  },
  {
   "cell_type": "code",
   "execution_count": 3,
   "id": "26f85267-8787-408c-8337-01ffd8549541",
   "metadata": {},
   "outputs": [],
   "source": [
    "path = r'/Users/ceciliamoura/Desktop/Career Foundry/Achievement4/Instacart Basket Analysis'"
   ]
  },
  {
   "cell_type": "markdown",
   "id": "3c5ed110-d6bc-4b59-aea7-cd8f8283d74e",
   "metadata": {},
   "source": [
    "## Importing files"
   ]
  },
  {
   "cell_type": "code",
   "execution_count": 7,
   "id": "72e1861f-99c1-4ef6-82cf-d248d834dcfd",
   "metadata": {},
   "outputs": [],
   "source": [
    "# Importing subset with only unique observations"
   ]
  },
  {
   "cell_type": "code",
   "execution_count": 5,
   "id": "d300656a-f4b6-462b-a913-b92c7f3f88e4",
   "metadata": {},
   "outputs": [],
   "source": [
    "instacart = pd.read_pickle(os.path.join (path, 'Data', 'Final Prepared Data','backup', 'IC_high_activity_2.pkl'))"
   ]
  },
  {
   "cell_type": "code",
   "execution_count": 7,
   "id": "7d4ab326-0b5e-442c-8064-9cfa5af63836",
   "metadata": {},
   "outputs": [
    {
     "data": {
      "text/plain": [
       "Index(['order_id', 'product_id', 'add_to_cart_order', 'reordered', 'user_id',\n",
       "       'order_number', 'order_day_of_week', 'order_time',\n",
       "       'days_since_prior_order', 'product_name', 'aisle_id', 'department_id',\n",
       "       'prices', 'Gender', 'State', 'Age', 'date_joined', 'n_dependants',\n",
       "       'fam_status', 'income', 'max_order', 'max_order_per_user',\n",
       "       'products_per_order', 'order_cost', 'Region', 'age_group',\n",
       "       'loyalty_flag', 'mean_order_cost_per_user', 'spending_flag',\n",
       "       'income_group', 'median_days_since_prior_order_per_user', 'freq_buyer'],\n",
       "      dtype='object')"
      ]
     },
     "execution_count": 7,
     "metadata": {},
     "output_type": "execute_result"
    }
   ],
   "source": [
    "instacart.columns"
   ]
  },
  {
   "cell_type": "code",
   "execution_count": 10,
   "id": "b3611ae9-531f-4a25-85d5-3b6f69d3d4b5",
   "metadata": {},
   "outputs": [
    {
     "data": {
      "text/plain": [
       "(30963518, 32)"
      ]
     },
     "execution_count": 10,
     "metadata": {},
     "output_type": "execute_result"
    }
   ],
   "source": [
    "instacart.shape"
   ]
  },
  {
   "cell_type": "markdown",
   "id": "4ca81e4d-4700-4bbc-a17e-61afb8467a04",
   "metadata": {},
   "source": [
    "## 1. Creating new column: mean_order_cost"
   ]
  },
  {
   "cell_type": "code",
   "execution_count": 12,
   "id": "fe6d4232-9f8c-414d-9119-d075851380a6",
   "metadata": {},
   "outputs": [
    {
     "name": "stderr",
     "output_type": "stream",
     "text": [
      "/var/folders/30/j2w0rj9n75x1by3sr86s740h0000gn/T/ipykernel_41096/3620551806.py:1: FutureWarning: The provided callable <function mean at 0x122e40860> is currently using SeriesGroupBy.mean. In a future version of pandas, the provided callable will be used directly. To keep current behavior pass the string \"mean\" instead.\n",
      "  instacart['mean_order_cost_per_user'] = instacart.groupby(['user_id'])['order_cost'].transform(np.mean)\n"
     ]
    }
   ],
   "source": [
    "instacart['mean_order_cost_per_user'] = instacart.groupby(['user_id'])['order_cost'].transform(np.mean)"
   ]
  },
  {
   "cell_type": "code",
   "execution_count": 13,
   "id": "0acea9e0-9b9e-4ffe-a666-088c51ae6227",
   "metadata": {},
   "outputs": [
    {
     "data": {
      "text/html": [
       "<div>\n",
       "<style scoped>\n",
       "    .dataframe tbody tr th:only-of-type {\n",
       "        vertical-align: middle;\n",
       "    }\n",
       "\n",
       "    .dataframe tbody tr th {\n",
       "        vertical-align: top;\n",
       "    }\n",
       "\n",
       "    .dataframe thead th {\n",
       "        text-align: right;\n",
       "    }\n",
       "</style>\n",
       "<table border=\"1\" class=\"dataframe\">\n",
       "  <thead>\n",
       "    <tr style=\"text-align: right;\">\n",
       "      <th></th>\n",
       "      <th>order_id</th>\n",
       "      <th>product_id</th>\n",
       "      <th>add_to_cart_order</th>\n",
       "      <th>reordered</th>\n",
       "      <th>user_id</th>\n",
       "      <th>order_number</th>\n",
       "      <th>order_day_of_week</th>\n",
       "      <th>order_time</th>\n",
       "      <th>days_since_prior_order</th>\n",
       "      <th>product_name</th>\n",
       "      <th>...</th>\n",
       "      <th>products_per_order</th>\n",
       "      <th>order_cost</th>\n",
       "      <th>Region</th>\n",
       "      <th>age_group</th>\n",
       "      <th>loyalty_flag</th>\n",
       "      <th>mean_order_cost_per_user</th>\n",
       "      <th>spending_flag</th>\n",
       "      <th>income_group</th>\n",
       "      <th>median_days_since_prior_order_per_user</th>\n",
       "      <th>freq_buyer</th>\n",
       "    </tr>\n",
       "  </thead>\n",
       "  <tbody>\n",
       "    <tr>\n",
       "      <th>0</th>\n",
       "      <td>2</td>\n",
       "      <td>33120</td>\n",
       "      <td>1</td>\n",
       "      <td>1</td>\n",
       "      <td>202279</td>\n",
       "      <td>3</td>\n",
       "      <td>5</td>\n",
       "      <td>9</td>\n",
       "      <td>8</td>\n",
       "      <td>Organic Egg Whites</td>\n",
       "      <td>...</td>\n",
       "      <td>9</td>\n",
       "      <td>91.6</td>\n",
       "      <td>West</td>\n",
       "      <td>mature</td>\n",
       "      <td>New customer</td>\n",
       "      <td>100.342222</td>\n",
       "      <td>regular spender</td>\n",
       "      <td>High</td>\n",
       "      <td>24.0</td>\n",
       "      <td>non-frequent-buyer</td>\n",
       "    </tr>\n",
       "    <tr>\n",
       "      <th>1</th>\n",
       "      <td>2</td>\n",
       "      <td>28985</td>\n",
       "      <td>2</td>\n",
       "      <td>1</td>\n",
       "      <td>202279</td>\n",
       "      <td>3</td>\n",
       "      <td>5</td>\n",
       "      <td>9</td>\n",
       "      <td>8</td>\n",
       "      <td>Michigan Organic Kale</td>\n",
       "      <td>...</td>\n",
       "      <td>9</td>\n",
       "      <td>91.6</td>\n",
       "      <td>West</td>\n",
       "      <td>mature</td>\n",
       "      <td>New customer</td>\n",
       "      <td>100.342222</td>\n",
       "      <td>regular spender</td>\n",
       "      <td>High</td>\n",
       "      <td>24.0</td>\n",
       "      <td>non-frequent-buyer</td>\n",
       "    </tr>\n",
       "    <tr>\n",
       "      <th>2</th>\n",
       "      <td>2</td>\n",
       "      <td>9327</td>\n",
       "      <td>3</td>\n",
       "      <td>0</td>\n",
       "      <td>202279</td>\n",
       "      <td>3</td>\n",
       "      <td>5</td>\n",
       "      <td>9</td>\n",
       "      <td>8</td>\n",
       "      <td>Garlic Powder</td>\n",
       "      <td>...</td>\n",
       "      <td>9</td>\n",
       "      <td>91.6</td>\n",
       "      <td>West</td>\n",
       "      <td>mature</td>\n",
       "      <td>New customer</td>\n",
       "      <td>100.342222</td>\n",
       "      <td>regular spender</td>\n",
       "      <td>High</td>\n",
       "      <td>24.0</td>\n",
       "      <td>non-frequent-buyer</td>\n",
       "    </tr>\n",
       "    <tr>\n",
       "      <th>3</th>\n",
       "      <td>2</td>\n",
       "      <td>45918</td>\n",
       "      <td>4</td>\n",
       "      <td>1</td>\n",
       "      <td>202279</td>\n",
       "      <td>3</td>\n",
       "      <td>5</td>\n",
       "      <td>9</td>\n",
       "      <td>8</td>\n",
       "      <td>Coconut Butter</td>\n",
       "      <td>...</td>\n",
       "      <td>9</td>\n",
       "      <td>91.6</td>\n",
       "      <td>West</td>\n",
       "      <td>mature</td>\n",
       "      <td>New customer</td>\n",
       "      <td>100.342222</td>\n",
       "      <td>regular spender</td>\n",
       "      <td>High</td>\n",
       "      <td>24.0</td>\n",
       "      <td>non-frequent-buyer</td>\n",
       "    </tr>\n",
       "    <tr>\n",
       "      <th>4</th>\n",
       "      <td>2</td>\n",
       "      <td>30035</td>\n",
       "      <td>5</td>\n",
       "      <td>0</td>\n",
       "      <td>202279</td>\n",
       "      <td>3</td>\n",
       "      <td>5</td>\n",
       "      <td>9</td>\n",
       "      <td>8</td>\n",
       "      <td>Natural Sweetener</td>\n",
       "      <td>...</td>\n",
       "      <td>9</td>\n",
       "      <td>91.6</td>\n",
       "      <td>West</td>\n",
       "      <td>mature</td>\n",
       "      <td>New customer</td>\n",
       "      <td>100.342222</td>\n",
       "      <td>regular spender</td>\n",
       "      <td>High</td>\n",
       "      <td>24.0</td>\n",
       "      <td>non-frequent-buyer</td>\n",
       "    </tr>\n",
       "    <tr>\n",
       "      <th>5</th>\n",
       "      <td>2</td>\n",
       "      <td>17794</td>\n",
       "      <td>6</td>\n",
       "      <td>1</td>\n",
       "      <td>202279</td>\n",
       "      <td>3</td>\n",
       "      <td>5</td>\n",
       "      <td>9</td>\n",
       "      <td>8</td>\n",
       "      <td>Carrots</td>\n",
       "      <td>...</td>\n",
       "      <td>9</td>\n",
       "      <td>91.6</td>\n",
       "      <td>West</td>\n",
       "      <td>mature</td>\n",
       "      <td>New customer</td>\n",
       "      <td>100.342222</td>\n",
       "      <td>regular spender</td>\n",
       "      <td>High</td>\n",
       "      <td>24.0</td>\n",
       "      <td>non-frequent-buyer</td>\n",
       "    </tr>\n",
       "    <tr>\n",
       "      <th>6</th>\n",
       "      <td>2</td>\n",
       "      <td>40141</td>\n",
       "      <td>7</td>\n",
       "      <td>1</td>\n",
       "      <td>202279</td>\n",
       "      <td>3</td>\n",
       "      <td>5</td>\n",
       "      <td>9</td>\n",
       "      <td>8</td>\n",
       "      <td>Original Unflavored Gelatine Mix</td>\n",
       "      <td>...</td>\n",
       "      <td>9</td>\n",
       "      <td>91.6</td>\n",
       "      <td>West</td>\n",
       "      <td>mature</td>\n",
       "      <td>New customer</td>\n",
       "      <td>100.342222</td>\n",
       "      <td>regular spender</td>\n",
       "      <td>High</td>\n",
       "      <td>24.0</td>\n",
       "      <td>non-frequent-buyer</td>\n",
       "    </tr>\n",
       "    <tr>\n",
       "      <th>7</th>\n",
       "      <td>2</td>\n",
       "      <td>1819</td>\n",
       "      <td>8</td>\n",
       "      <td>1</td>\n",
       "      <td>202279</td>\n",
       "      <td>3</td>\n",
       "      <td>5</td>\n",
       "      <td>9</td>\n",
       "      <td>8</td>\n",
       "      <td>All Natural No Stir Creamy Almond Butter</td>\n",
       "      <td>...</td>\n",
       "      <td>9</td>\n",
       "      <td>91.6</td>\n",
       "      <td>West</td>\n",
       "      <td>mature</td>\n",
       "      <td>New customer</td>\n",
       "      <td>100.342222</td>\n",
       "      <td>regular spender</td>\n",
       "      <td>High</td>\n",
       "      <td>24.0</td>\n",
       "      <td>non-frequent-buyer</td>\n",
       "    </tr>\n",
       "    <tr>\n",
       "      <th>8</th>\n",
       "      <td>2</td>\n",
       "      <td>43668</td>\n",
       "      <td>9</td>\n",
       "      <td>0</td>\n",
       "      <td>202279</td>\n",
       "      <td>3</td>\n",
       "      <td>5</td>\n",
       "      <td>9</td>\n",
       "      <td>8</td>\n",
       "      <td>Classic Blend Cole Slaw</td>\n",
       "      <td>...</td>\n",
       "      <td>9</td>\n",
       "      <td>91.6</td>\n",
       "      <td>West</td>\n",
       "      <td>mature</td>\n",
       "      <td>New customer</td>\n",
       "      <td>100.342222</td>\n",
       "      <td>regular spender</td>\n",
       "      <td>High</td>\n",
       "      <td>24.0</td>\n",
       "      <td>non-frequent-buyer</td>\n",
       "    </tr>\n",
       "    <tr>\n",
       "      <th>9</th>\n",
       "      <td>3</td>\n",
       "      <td>33754</td>\n",
       "      <td>1</td>\n",
       "      <td>1</td>\n",
       "      <td>205970</td>\n",
       "      <td>16</td>\n",
       "      <td>5</td>\n",
       "      <td>17</td>\n",
       "      <td>12</td>\n",
       "      <td>Total 2% with Strawberry Lowfat Greek Strained...</td>\n",
       "      <td>...</td>\n",
       "      <td>8</td>\n",
       "      <td>70.3</td>\n",
       "      <td>West</td>\n",
       "      <td>mature</td>\n",
       "      <td>Regular customer</td>\n",
       "      <td>126.854489</td>\n",
       "      <td>high spender</td>\n",
       "      <td>Very High</td>\n",
       "      <td>8.0</td>\n",
       "      <td>non-frequent-buyer</td>\n",
       "    </tr>\n",
       "    <tr>\n",
       "      <th>10</th>\n",
       "      <td>3</td>\n",
       "      <td>24838</td>\n",
       "      <td>2</td>\n",
       "      <td>1</td>\n",
       "      <td>205970</td>\n",
       "      <td>16</td>\n",
       "      <td>5</td>\n",
       "      <td>17</td>\n",
       "      <td>12</td>\n",
       "      <td>Unsweetened Almondmilk</td>\n",
       "      <td>...</td>\n",
       "      <td>8</td>\n",
       "      <td>70.3</td>\n",
       "      <td>West</td>\n",
       "      <td>mature</td>\n",
       "      <td>Regular customer</td>\n",
       "      <td>126.854489</td>\n",
       "      <td>high spender</td>\n",
       "      <td>Very High</td>\n",
       "      <td>8.0</td>\n",
       "      <td>non-frequent-buyer</td>\n",
       "    </tr>\n",
       "    <tr>\n",
       "      <th>11</th>\n",
       "      <td>3</td>\n",
       "      <td>17704</td>\n",
       "      <td>3</td>\n",
       "      <td>1</td>\n",
       "      <td>205970</td>\n",
       "      <td>16</td>\n",
       "      <td>5</td>\n",
       "      <td>17</td>\n",
       "      <td>12</td>\n",
       "      <td>Lemons</td>\n",
       "      <td>...</td>\n",
       "      <td>8</td>\n",
       "      <td>70.3</td>\n",
       "      <td>West</td>\n",
       "      <td>mature</td>\n",
       "      <td>Regular customer</td>\n",
       "      <td>126.854489</td>\n",
       "      <td>high spender</td>\n",
       "      <td>Very High</td>\n",
       "      <td>8.0</td>\n",
       "      <td>non-frequent-buyer</td>\n",
       "    </tr>\n",
       "    <tr>\n",
       "      <th>12</th>\n",
       "      <td>3</td>\n",
       "      <td>21903</td>\n",
       "      <td>4</td>\n",
       "      <td>1</td>\n",
       "      <td>205970</td>\n",
       "      <td>16</td>\n",
       "      <td>5</td>\n",
       "      <td>17</td>\n",
       "      <td>12</td>\n",
       "      <td>Organic Baby Spinach</td>\n",
       "      <td>...</td>\n",
       "      <td>8</td>\n",
       "      <td>70.3</td>\n",
       "      <td>West</td>\n",
       "      <td>mature</td>\n",
       "      <td>Regular customer</td>\n",
       "      <td>126.854489</td>\n",
       "      <td>high spender</td>\n",
       "      <td>Very High</td>\n",
       "      <td>8.0</td>\n",
       "      <td>non-frequent-buyer</td>\n",
       "    </tr>\n",
       "    <tr>\n",
       "      <th>13</th>\n",
       "      <td>3</td>\n",
       "      <td>17668</td>\n",
       "      <td>5</td>\n",
       "      <td>1</td>\n",
       "      <td>205970</td>\n",
       "      <td>16</td>\n",
       "      <td>5</td>\n",
       "      <td>17</td>\n",
       "      <td>12</td>\n",
       "      <td>Unsweetened Chocolate Almond Breeze Almond Milk</td>\n",
       "      <td>...</td>\n",
       "      <td>8</td>\n",
       "      <td>70.3</td>\n",
       "      <td>West</td>\n",
       "      <td>mature</td>\n",
       "      <td>Regular customer</td>\n",
       "      <td>126.854489</td>\n",
       "      <td>high spender</td>\n",
       "      <td>Very High</td>\n",
       "      <td>8.0</td>\n",
       "      <td>non-frequent-buyer</td>\n",
       "    </tr>\n",
       "    <tr>\n",
       "      <th>14</th>\n",
       "      <td>3</td>\n",
       "      <td>46667</td>\n",
       "      <td>6</td>\n",
       "      <td>1</td>\n",
       "      <td>205970</td>\n",
       "      <td>16</td>\n",
       "      <td>5</td>\n",
       "      <td>17</td>\n",
       "      <td>12</td>\n",
       "      <td>Organic Ginger Root</td>\n",
       "      <td>...</td>\n",
       "      <td>8</td>\n",
       "      <td>70.3</td>\n",
       "      <td>West</td>\n",
       "      <td>mature</td>\n",
       "      <td>Regular customer</td>\n",
       "      <td>126.854489</td>\n",
       "      <td>high spender</td>\n",
       "      <td>Very High</td>\n",
       "      <td>8.0</td>\n",
       "      <td>non-frequent-buyer</td>\n",
       "    </tr>\n",
       "    <tr>\n",
       "      <th>15</th>\n",
       "      <td>3</td>\n",
       "      <td>17461</td>\n",
       "      <td>7</td>\n",
       "      <td>1</td>\n",
       "      <td>205970</td>\n",
       "      <td>16</td>\n",
       "      <td>5</td>\n",
       "      <td>17</td>\n",
       "      <td>12</td>\n",
       "      <td>Air Chilled Organic Boneless Skinless Chicken ...</td>\n",
       "      <td>...</td>\n",
       "      <td>8</td>\n",
       "      <td>70.3</td>\n",
       "      <td>West</td>\n",
       "      <td>mature</td>\n",
       "      <td>Regular customer</td>\n",
       "      <td>126.854489</td>\n",
       "      <td>high spender</td>\n",
       "      <td>Very High</td>\n",
       "      <td>8.0</td>\n",
       "      <td>non-frequent-buyer</td>\n",
       "    </tr>\n",
       "    <tr>\n",
       "      <th>16</th>\n",
       "      <td>3</td>\n",
       "      <td>32665</td>\n",
       "      <td>8</td>\n",
       "      <td>1</td>\n",
       "      <td>205970</td>\n",
       "      <td>16</td>\n",
       "      <td>5</td>\n",
       "      <td>17</td>\n",
       "      <td>12</td>\n",
       "      <td>Organic Ezekiel 49 Bread Cinnamon Raisin</td>\n",
       "      <td>...</td>\n",
       "      <td>8</td>\n",
       "      <td>70.3</td>\n",
       "      <td>West</td>\n",
       "      <td>mature</td>\n",
       "      <td>Regular customer</td>\n",
       "      <td>126.854489</td>\n",
       "      <td>high spender</td>\n",
       "      <td>Very High</td>\n",
       "      <td>8.0</td>\n",
       "      <td>non-frequent-buyer</td>\n",
       "    </tr>\n",
       "    <tr>\n",
       "      <th>17</th>\n",
       "      <td>4</td>\n",
       "      <td>46842</td>\n",
       "      <td>1</td>\n",
       "      <td>0</td>\n",
       "      <td>178520</td>\n",
       "      <td>36</td>\n",
       "      <td>1</td>\n",
       "      <td>9</td>\n",
       "      <td>7</td>\n",
       "      <td>Plain Pre-Sliced Bagels</td>\n",
       "      <td>...</td>\n",
       "      <td>13</td>\n",
       "      <td>92.8</td>\n",
       "      <td>Northeast</td>\n",
       "      <td>senior</td>\n",
       "      <td>Loyal customer</td>\n",
       "      <td>151.551896</td>\n",
       "      <td>high spender</td>\n",
       "      <td>Medium</td>\n",
       "      <td>7.0</td>\n",
       "      <td>frequent-buyer</td>\n",
       "    </tr>\n",
       "    <tr>\n",
       "      <th>18</th>\n",
       "      <td>4</td>\n",
       "      <td>26434</td>\n",
       "      <td>2</td>\n",
       "      <td>1</td>\n",
       "      <td>178520</td>\n",
       "      <td>36</td>\n",
       "      <td>1</td>\n",
       "      <td>9</td>\n",
       "      <td>7</td>\n",
       "      <td>Honey/Lemon Cough Drops</td>\n",
       "      <td>...</td>\n",
       "      <td>13</td>\n",
       "      <td>92.8</td>\n",
       "      <td>Northeast</td>\n",
       "      <td>senior</td>\n",
       "      <td>Loyal customer</td>\n",
       "      <td>151.551896</td>\n",
       "      <td>high spender</td>\n",
       "      <td>Medium</td>\n",
       "      <td>7.0</td>\n",
       "      <td>frequent-buyer</td>\n",
       "    </tr>\n",
       "    <tr>\n",
       "      <th>19</th>\n",
       "      <td>4</td>\n",
       "      <td>39758</td>\n",
       "      <td>3</td>\n",
       "      <td>1</td>\n",
       "      <td>178520</td>\n",
       "      <td>36</td>\n",
       "      <td>1</td>\n",
       "      <td>9</td>\n",
       "      <td>7</td>\n",
       "      <td>Chewy 25% Low Sugar Chocolate Chip Granola</td>\n",
       "      <td>...</td>\n",
       "      <td>13</td>\n",
       "      <td>92.8</td>\n",
       "      <td>Northeast</td>\n",
       "      <td>senior</td>\n",
       "      <td>Loyal customer</td>\n",
       "      <td>151.551896</td>\n",
       "      <td>high spender</td>\n",
       "      <td>Medium</td>\n",
       "      <td>7.0</td>\n",
       "      <td>frequent-buyer</td>\n",
       "    </tr>\n",
       "  </tbody>\n",
       "</table>\n",
       "<p>20 rows × 32 columns</p>\n",
       "</div>"
      ],
      "text/plain": [
       "   order_id product_id  add_to_cart_order  reordered user_id  order_number  \\\n",
       "0         2      33120                  1          1  202279             3   \n",
       "1         2      28985                  2          1  202279             3   \n",
       "2         2       9327                  3          0  202279             3   \n",
       "3         2      45918                  4          1  202279             3   \n",
       "4         2      30035                  5          0  202279             3   \n",
       "5         2      17794                  6          1  202279             3   \n",
       "6         2      40141                  7          1  202279             3   \n",
       "7         2       1819                  8          1  202279             3   \n",
       "8         2      43668                  9          0  202279             3   \n",
       "9         3      33754                  1          1  205970            16   \n",
       "10        3      24838                  2          1  205970            16   \n",
       "11        3      17704                  3          1  205970            16   \n",
       "12        3      21903                  4          1  205970            16   \n",
       "13        3      17668                  5          1  205970            16   \n",
       "14        3      46667                  6          1  205970            16   \n",
       "15        3      17461                  7          1  205970            16   \n",
       "16        3      32665                  8          1  205970            16   \n",
       "17        4      46842                  1          0  178520            36   \n",
       "18        4      26434                  2          1  178520            36   \n",
       "19        4      39758                  3          1  178520            36   \n",
       "\n",
       "    order_day_of_week  order_time  days_since_prior_order  \\\n",
       "0                   5           9                       8   \n",
       "1                   5           9                       8   \n",
       "2                   5           9                       8   \n",
       "3                   5           9                       8   \n",
       "4                   5           9                       8   \n",
       "5                   5           9                       8   \n",
       "6                   5           9                       8   \n",
       "7                   5           9                       8   \n",
       "8                   5           9                       8   \n",
       "9                   5          17                      12   \n",
       "10                  5          17                      12   \n",
       "11                  5          17                      12   \n",
       "12                  5          17                      12   \n",
       "13                  5          17                      12   \n",
       "14                  5          17                      12   \n",
       "15                  5          17                      12   \n",
       "16                  5          17                      12   \n",
       "17                  1           9                       7   \n",
       "18                  1           9                       7   \n",
       "19                  1           9                       7   \n",
       "\n",
       "                                         product_name  ...  \\\n",
       "0                                  Organic Egg Whites  ...   \n",
       "1                               Michigan Organic Kale  ...   \n",
       "2                                       Garlic Powder  ...   \n",
       "3                                      Coconut Butter  ...   \n",
       "4                                   Natural Sweetener  ...   \n",
       "5                                             Carrots  ...   \n",
       "6                    Original Unflavored Gelatine Mix  ...   \n",
       "7            All Natural No Stir Creamy Almond Butter  ...   \n",
       "8                             Classic Blend Cole Slaw  ...   \n",
       "9   Total 2% with Strawberry Lowfat Greek Strained...  ...   \n",
       "10                             Unsweetened Almondmilk  ...   \n",
       "11                                             Lemons  ...   \n",
       "12                               Organic Baby Spinach  ...   \n",
       "13    Unsweetened Chocolate Almond Breeze Almond Milk  ...   \n",
       "14                                Organic Ginger Root  ...   \n",
       "15  Air Chilled Organic Boneless Skinless Chicken ...  ...   \n",
       "16           Organic Ezekiel 49 Bread Cinnamon Raisin  ...   \n",
       "17                            Plain Pre-Sliced Bagels  ...   \n",
       "18                            Honey/Lemon Cough Drops  ...   \n",
       "19         Chewy 25% Low Sugar Chocolate Chip Granola  ...   \n",
       "\n",
       "    products_per_order  order_cost     Region age_group      loyalty_flag  \\\n",
       "0                    9        91.6       West    mature      New customer   \n",
       "1                    9        91.6       West    mature      New customer   \n",
       "2                    9        91.6       West    mature      New customer   \n",
       "3                    9        91.6       West    mature      New customer   \n",
       "4                    9        91.6       West    mature      New customer   \n",
       "5                    9        91.6       West    mature      New customer   \n",
       "6                    9        91.6       West    mature      New customer   \n",
       "7                    9        91.6       West    mature      New customer   \n",
       "8                    9        91.6       West    mature      New customer   \n",
       "9                    8        70.3       West    mature  Regular customer   \n",
       "10                   8        70.3       West    mature  Regular customer   \n",
       "11                   8        70.3       West    mature  Regular customer   \n",
       "12                   8        70.3       West    mature  Regular customer   \n",
       "13                   8        70.3       West    mature  Regular customer   \n",
       "14                   8        70.3       West    mature  Regular customer   \n",
       "15                   8        70.3       West    mature  Regular customer   \n",
       "16                   8        70.3       West    mature  Regular customer   \n",
       "17                  13        92.8  Northeast    senior    Loyal customer   \n",
       "18                  13        92.8  Northeast    senior    Loyal customer   \n",
       "19                  13        92.8  Northeast    senior    Loyal customer   \n",
       "\n",
       "    mean_order_cost_per_user    spending_flag  income_group  \\\n",
       "0                 100.342222  regular spender          High   \n",
       "1                 100.342222  regular spender          High   \n",
       "2                 100.342222  regular spender          High   \n",
       "3                 100.342222  regular spender          High   \n",
       "4                 100.342222  regular spender          High   \n",
       "5                 100.342222  regular spender          High   \n",
       "6                 100.342222  regular spender          High   \n",
       "7                 100.342222  regular spender          High   \n",
       "8                 100.342222  regular spender          High   \n",
       "9                 126.854489     high spender     Very High   \n",
       "10                126.854489     high spender     Very High   \n",
       "11                126.854489     high spender     Very High   \n",
       "12                126.854489     high spender     Very High   \n",
       "13                126.854489     high spender     Very High   \n",
       "14                126.854489     high spender     Very High   \n",
       "15                126.854489     high spender     Very High   \n",
       "16                126.854489     high spender     Very High   \n",
       "17                151.551896     high spender        Medium   \n",
       "18                151.551896     high spender        Medium   \n",
       "19                151.551896     high spender        Medium   \n",
       "\n",
       "   median_days_since_prior_order_per_user          freq_buyer  \n",
       "0                                    24.0  non-frequent-buyer  \n",
       "1                                    24.0  non-frequent-buyer  \n",
       "2                                    24.0  non-frequent-buyer  \n",
       "3                                    24.0  non-frequent-buyer  \n",
       "4                                    24.0  non-frequent-buyer  \n",
       "5                                    24.0  non-frequent-buyer  \n",
       "6                                    24.0  non-frequent-buyer  \n",
       "7                                    24.0  non-frequent-buyer  \n",
       "8                                    24.0  non-frequent-buyer  \n",
       "9                                     8.0  non-frequent-buyer  \n",
       "10                                    8.0  non-frequent-buyer  \n",
       "11                                    8.0  non-frequent-buyer  \n",
       "12                                    8.0  non-frequent-buyer  \n",
       "13                                    8.0  non-frequent-buyer  \n",
       "14                                    8.0  non-frequent-buyer  \n",
       "15                                    8.0  non-frequent-buyer  \n",
       "16                                    8.0  non-frequent-buyer  \n",
       "17                                    7.0      frequent-buyer  \n",
       "18                                    7.0      frequent-buyer  \n",
       "19                                    7.0      frequent-buyer  \n",
       "\n",
       "[20 rows x 32 columns]"
      ]
     },
     "execution_count": 13,
     "metadata": {},
     "output_type": "execute_result"
    }
   ],
   "source": [
    "instacart.head(20)"
   ]
  },
  {
   "cell_type": "markdown",
   "id": "71f44127-132c-4c5b-86b5-e6178bea97fc",
   "metadata": {},
   "source": [
    "## 2. Defining parameters for new flag"
   ]
  },
  {
   "cell_type": "code",
   "execution_count": 15,
   "id": "e4977416-4e8b-497d-941f-9ed3fc77e90b",
   "metadata": {},
   "outputs": [
    {
     "data": {
      "text/plain": [
       "count    3.096352e+07\n",
       "mean     1.222252e+02\n",
       "std      7.534785e+01\n",
       "min      0.000000e+00\n",
       "25%      6.690000e+01\n",
       "50%      1.077000e+02\n",
       "75%      1.619000e+02\n",
       "max      1.092200e+03\n",
       "Name: order_cost, dtype: float64"
      ]
     },
     "execution_count": 15,
     "metadata": {},
     "output_type": "execute_result"
    }
   ],
   "source": [
    "instacart['order_cost'].describe()"
   ]
  },
  {
   "cell_type": "code",
   "execution_count": 16,
   "id": "6a4716a7-5e60-4ae2-ab2d-b10c90a76e08",
   "metadata": {},
   "outputs": [],
   "source": [
    "# 25% of orders cost < 66.9\n",
    "# 50% of orders cost < 107.7\n",
    "# 75% of orders cost < 161.9\n",
    "# max order cost was 1092.2"
   ]
  },
  {
   "cell_type": "code",
   "execution_count": 17,
   "id": "b4f09ad3-2a3e-4727-8dee-66f80337aeb5",
   "metadata": {},
   "outputs": [],
   "source": [
    "# 'low spender' for 'mean_ order_cost' <= 67\n",
    "# 'regular spender' for 'mean_ order_cost' <=108 and >67\n",
    "# 'high spender' for 'mean_ order_cost' <= 162 and >108 else\n",
    "# 'very_high_spender' "
   ]
  },
  {
   "cell_type": "code",
   "execution_count": 18,
   "id": "90646f44-85a3-48c3-af03-9814eaafd55e",
   "metadata": {},
   "outputs": [],
   "source": [
    "# flagging\n",
    "\n",
    "spending_flag = [\n",
    "    'low spender' if value <= 67 else\n",
    "    'regular spender' if 67 < value <= 108 else\n",
    "    'high spender' if 108 < value <= 162 else\n",
    "    'very_high_spender'\n",
    "    for value in instacart['mean_order_cost_per_user']\n",
    "]"
   ]
  },
  {
   "cell_type": "code",
   "execution_count": 19,
   "id": "bbfd7618-e2f9-49f9-8396-e88b34497c73",
   "metadata": {},
   "outputs": [],
   "source": [
    "# Creating new column with the result\n",
    "\n",
    "instacart['spending_flag'] = spending_flag"
   ]
  },
  {
   "cell_type": "code",
   "execution_count": 20,
   "id": "6d149552-0ef8-40d1-b7ab-52a88483e620",
   "metadata": {},
   "outputs": [
    {
     "data": {
      "text/plain": [
       "spending_flag\n",
       "high spender         10329953\n",
       "regular spender       9544666\n",
       "very_high_spender     6519996\n",
       "low spender           4568903\n",
       "Name: count, dtype: int64"
      ]
     },
     "execution_count": 20,
     "metadata": {},
     "output_type": "execute_result"
    }
   ],
   "source": [
    "#checking procedure\n",
    "\n",
    "instacart['spending_flag'].value_counts()"
   ]
  },
  {
   "cell_type": "markdown",
   "id": "fe3f94e2-4f0e-4580-8998-2bcb9c384658",
   "metadata": {},
   "source": [
    "## 2. Creating a bar chart of customer distribution by \"spending\""
   ]
  },
  {
   "cell_type": "code",
   "execution_count": 14,
   "id": "1099e8bf-995b-44ea-8176-859096b465f8",
   "metadata": {},
   "outputs": [],
   "source": [
    "# Creating a subset withou duplicates\n",
    "\n",
    "bar_spending = instacart[['spending_flag', 'user_id', 'Region']]"
   ]
  },
  {
   "cell_type": "code",
   "execution_count": 16,
   "id": "bbb33dad-c7f8-4944-9314-d7c6edce43d5",
   "metadata": {},
   "outputs": [
    {
     "data": {
      "text/plain": [
       "(30963518, 3)"
      ]
     },
     "execution_count": 16,
     "metadata": {},
     "output_type": "execute_result"
    }
   ],
   "source": [
    "bar_spending.shape"
   ]
  },
  {
   "cell_type": "code",
   "execution_count": 18,
   "id": "5b88ee69-e43e-4e54-a092-49f3f88897a4",
   "metadata": {},
   "outputs": [],
   "source": [
    "# Creating a subset withou duplicates\n",
    "\n",
    "bar_spending_nodups = bar_spending.drop_duplicates()"
   ]
  },
  {
   "cell_type": "code",
   "execution_count": 20,
   "id": "58f7a187-5417-433f-a39d-2b7d80671755",
   "metadata": {},
   "outputs": [
    {
     "data": {
      "text/plain": [
       "(162631, 3)"
      ]
     },
     "execution_count": 20,
     "metadata": {},
     "output_type": "execute_result"
    }
   ],
   "source": [
    "bar_spending_nodups.shape"
   ]
  },
  {
   "cell_type": "code",
   "execution_count": 26,
   "id": "ceded7be-583d-4bb0-beb7-e51eeda03eef",
   "metadata": {},
   "outputs": [
    {
     "data": {
      "text/html": [
       "<div>\n",
       "<style scoped>\n",
       "    .dataframe tbody tr th:only-of-type {\n",
       "        vertical-align: middle;\n",
       "    }\n",
       "\n",
       "    .dataframe tbody tr th {\n",
       "        vertical-align: top;\n",
       "    }\n",
       "\n",
       "    .dataframe thead th {\n",
       "        text-align: right;\n",
       "    }\n",
       "</style>\n",
       "<table border=\"1\" class=\"dataframe\">\n",
       "  <thead>\n",
       "    <tr style=\"text-align: right;\">\n",
       "      <th></th>\n",
       "      <th>spending_flag</th>\n",
       "      <th>user_id</th>\n",
       "    </tr>\n",
       "  </thead>\n",
       "  <tbody>\n",
       "    <tr>\n",
       "      <th>0</th>\n",
       "      <td>regular spender</td>\n",
       "      <td>202279</td>\n",
       "    </tr>\n",
       "    <tr>\n",
       "      <th>9</th>\n",
       "      <td>high spender</td>\n",
       "      <td>205970</td>\n",
       "    </tr>\n",
       "    <tr>\n",
       "      <th>17</th>\n",
       "      <td>high spender</td>\n",
       "      <td>178520</td>\n",
       "    </tr>\n",
       "    <tr>\n",
       "      <th>30</th>\n",
       "      <td>high spender</td>\n",
       "      <td>156122</td>\n",
       "    </tr>\n",
       "    <tr>\n",
       "      <th>56</th>\n",
       "      <td>high spender</td>\n",
       "      <td>22352</td>\n",
       "    </tr>\n",
       "  </tbody>\n",
       "</table>\n",
       "</div>"
      ],
      "text/plain": [
       "      spending_flag user_id\n",
       "0   regular spender  202279\n",
       "9      high spender  205970\n",
       "17     high spender  178520\n",
       "30     high spender  156122\n",
       "56     high spender   22352"
      ]
     },
     "execution_count": 26,
     "metadata": {},
     "output_type": "execute_result"
    }
   ],
   "source": [
    "bar_spending_nodups.head()"
   ]
  },
  {
   "cell_type": "code",
   "execution_count": 27,
   "id": "cc9d8165-6304-423a-9132-da3dd10fd219",
   "metadata": {},
   "outputs": [
    {
     "data": {
      "image/png": "[encoded data removed]",
      "text/plain": [
       "<Figure size 640x480 with 1 Axes>"
      ]
     },
     "metadata": {},
     "output_type": "display_data"
    }
   ],
   "source": [
    "#Creating a bar chart\n",
    "\n",
    "bar_spending = bar_spending_nodups['spending_flag'].value_counts().plot.bar()"
   ]
  },
  {
   "cell_type": "code",
   "execution_count": 28,
   "id": "878c808a-0e36-4b1e-b75f-66759fa9391c",
   "metadata": {},
   "outputs": [],
   "source": [
    "# exporting plot\n",
    "\n",
    "bar_spending.figure.savefig(os.path.join(path, 'Analysis','Final Visualization', 'bar_spending.png'))"
   ]
  },
  {
   "cell_type": "markdown",
   "id": "60583248-7749-4dd7-a4ee-b75dbed825f2",
   "metadata": {},
   "source": [
    "## 3. Creating variable 'price_range'"
   ]
  },
  {
   "cell_type": "markdown",
   "id": "9e9eb4c7-1d23-4be9-b896-db359ceaa696",
   "metadata": {},
   "source": [
    "### 3.1 Defining price_range"
   ]
  },
  {
   "cell_type": "code",
   "execution_count": null,
   "id": "19e97cef-d0f2-4f50-9a11-7c8ecbe748a8",
   "metadata": {},
   "outputs": [],
   "source": [
    "#price_range\n",
    "\n",
    "#'high-range product' for ‘prices’ >15\n",
    "#‘mid-range product' for ‘prices’ >5 & <=15\n",
    "#‘low-range product' for ‘prices’ <=5"
   ]
  },
  {
   "cell_type": "code",
   "execution_count": 68,
   "id": "0a98e4b6-daef-4968-8756-4b67a276e5da",
   "metadata": {},
   "outputs": [],
   "source": [
    "# flagging\n",
    "\n",
    "price_range = [\n",
    "    'low-range product' if value <= 5 else\n",
    "    'mid-range product' if 5 < value <= 15 else\n",
    "    'high-range product'\n",
    "    for value in instacart['prices']\n",
    "]"
   ]
  },
  {
   "cell_type": "markdown",
   "id": "777a7a6c-a6af-424b-814b-69934475a338",
   "metadata": {},
   "source": [
    "### 3.2 Adding new column to instacart as 'price_range'"
   ]
  },
  {
   "cell_type": "code",
   "execution_count": 71,
   "id": "2ef54426-dc19-4d9e-b7e5-867e4ba70138",
   "metadata": {},
   "outputs": [],
   "source": [
    "instacart['price_range'] = price_range"
   ]
  },
  {
   "cell_type": "code",
   "execution_count": 75,
   "id": "b9085f32-784b-466c-bc8b-14a1723467cc",
   "metadata": {},
   "outputs": [
    {
     "data": {
      "text/plain": [
       "price_range\n",
       "mid-range product     20891240\n",
       "low-range product      9674325\n",
       "high-range product      397953\n",
       "Name: count, dtype: int64"
      ]
     },
     "execution_count": 75,
     "metadata": {},
     "output_type": "execute_result"
    }
   ],
   "source": [
    "instacart['price_range'].value_counts()"
   ]
  },
  {
   "cell_type": "code",
   "execution_count": 77,
   "id": "d0556420-de20-498c-9523-37138204b93f",
   "metadata": {},
   "outputs": [
    {
     "data": {
      "text/html": [
       "<div>\n",
       "<style scoped>\n",
       "    .dataframe tbody tr th:only-of-type {\n",
       "        vertical-align: middle;\n",
       "    }\n",
       "\n",
       "    .dataframe tbody tr th {\n",
       "        vertical-align: top;\n",
       "    }\n",
       "\n",
       "    .dataframe thead th {\n",
       "        text-align: right;\n",
       "    }\n",
       "</style>\n",
       "<table border=\"1\" class=\"dataframe\">\n",
       "  <thead>\n",
       "    <tr style=\"text-align: right;\">\n",
       "      <th></th>\n",
       "      <th>order_id</th>\n",
       "      <th>product_id</th>\n",
       "      <th>add_to_cart_order</th>\n",
       "      <th>reordered</th>\n",
       "      <th>user_id</th>\n",
       "      <th>order_number</th>\n",
       "      <th>order_day_of_week</th>\n",
       "      <th>order_time</th>\n",
       "      <th>days_since_prior_order</th>\n",
       "      <th>product_name</th>\n",
       "      <th>...</th>\n",
       "      <th>order_cost</th>\n",
       "      <th>Region</th>\n",
       "      <th>age_group</th>\n",
       "      <th>loyalty_flag</th>\n",
       "      <th>mean_order_cost_per_user</th>\n",
       "      <th>spending_flag</th>\n",
       "      <th>income_group</th>\n",
       "      <th>median_days_since_prior_order_per_user</th>\n",
       "      <th>freq_buyer</th>\n",
       "      <th>price_range</th>\n",
       "    </tr>\n",
       "  </thead>\n",
       "  <tbody>\n",
       "    <tr>\n",
       "      <th>0</th>\n",
       "      <td>2</td>\n",
       "      <td>33120</td>\n",
       "      <td>1</td>\n",
       "      <td>1</td>\n",
       "      <td>202279</td>\n",
       "      <td>3</td>\n",
       "      <td>5</td>\n",
       "      <td>9</td>\n",
       "      <td>8</td>\n",
       "      <td>Organic Egg Whites</td>\n",
       "      <td>...</td>\n",
       "      <td>91.6</td>\n",
       "      <td>West</td>\n",
       "      <td>mature</td>\n",
       "      <td>New customer</td>\n",
       "      <td>100.342222</td>\n",
       "      <td>regular spender</td>\n",
       "      <td>High</td>\n",
       "      <td>24.0</td>\n",
       "      <td>non-frequent-buyer</td>\n",
       "      <td>mid-range product</td>\n",
       "    </tr>\n",
       "    <tr>\n",
       "      <th>1</th>\n",
       "      <td>2</td>\n",
       "      <td>28985</td>\n",
       "      <td>2</td>\n",
       "      <td>1</td>\n",
       "      <td>202279</td>\n",
       "      <td>3</td>\n",
       "      <td>5</td>\n",
       "      <td>9</td>\n",
       "      <td>8</td>\n",
       "      <td>Michigan Organic Kale</td>\n",
       "      <td>...</td>\n",
       "      <td>91.6</td>\n",
       "      <td>West</td>\n",
       "      <td>mature</td>\n",
       "      <td>New customer</td>\n",
       "      <td>100.342222</td>\n",
       "      <td>regular spender</td>\n",
       "      <td>High</td>\n",
       "      <td>24.0</td>\n",
       "      <td>non-frequent-buyer</td>\n",
       "      <td>mid-range product</td>\n",
       "    </tr>\n",
       "    <tr>\n",
       "      <th>2</th>\n",
       "      <td>2</td>\n",
       "      <td>9327</td>\n",
       "      <td>3</td>\n",
       "      <td>0</td>\n",
       "      <td>202279</td>\n",
       "      <td>3</td>\n",
       "      <td>5</td>\n",
       "      <td>9</td>\n",
       "      <td>8</td>\n",
       "      <td>Garlic Powder</td>\n",
       "      <td>...</td>\n",
       "      <td>91.6</td>\n",
       "      <td>West</td>\n",
       "      <td>mature</td>\n",
       "      <td>New customer</td>\n",
       "      <td>100.342222</td>\n",
       "      <td>regular spender</td>\n",
       "      <td>High</td>\n",
       "      <td>24.0</td>\n",
       "      <td>non-frequent-buyer</td>\n",
       "      <td>low-range product</td>\n",
       "    </tr>\n",
       "    <tr>\n",
       "      <th>3</th>\n",
       "      <td>2</td>\n",
       "      <td>45918</td>\n",
       "      <td>4</td>\n",
       "      <td>1</td>\n",
       "      <td>202279</td>\n",
       "      <td>3</td>\n",
       "      <td>5</td>\n",
       "      <td>9</td>\n",
       "      <td>8</td>\n",
       "      <td>Coconut Butter</td>\n",
       "      <td>...</td>\n",
       "      <td>91.6</td>\n",
       "      <td>West</td>\n",
       "      <td>mature</td>\n",
       "      <td>New customer</td>\n",
       "      <td>100.342222</td>\n",
       "      <td>regular spender</td>\n",
       "      <td>High</td>\n",
       "      <td>24.0</td>\n",
       "      <td>non-frequent-buyer</td>\n",
       "      <td>mid-range product</td>\n",
       "    </tr>\n",
       "    <tr>\n",
       "      <th>4</th>\n",
       "      <td>2</td>\n",
       "      <td>30035</td>\n",
       "      <td>5</td>\n",
       "      <td>0</td>\n",
       "      <td>202279</td>\n",
       "      <td>3</td>\n",
       "      <td>5</td>\n",
       "      <td>9</td>\n",
       "      <td>8</td>\n",
       "      <td>Natural Sweetener</td>\n",
       "      <td>...</td>\n",
       "      <td>91.6</td>\n",
       "      <td>West</td>\n",
       "      <td>mature</td>\n",
       "      <td>New customer</td>\n",
       "      <td>100.342222</td>\n",
       "      <td>regular spender</td>\n",
       "      <td>High</td>\n",
       "      <td>24.0</td>\n",
       "      <td>non-frequent-buyer</td>\n",
       "      <td>mid-range product</td>\n",
       "    </tr>\n",
       "  </tbody>\n",
       "</table>\n",
       "<p>5 rows × 33 columns</p>\n",
       "</div>"
      ],
      "text/plain": [
       "  order_id product_id  add_to_cart_order  reordered user_id  order_number  \\\n",
       "0        2      33120                  1          1  202279             3   \n",
       "1        2      28985                  2          1  202279             3   \n",
       "2        2       9327                  3          0  202279             3   \n",
       "3        2      45918                  4          1  202279             3   \n",
       "4        2      30035                  5          0  202279             3   \n",
       "\n",
       "   order_day_of_week  order_time  days_since_prior_order  \\\n",
       "0                  5           9                       8   \n",
       "1                  5           9                       8   \n",
       "2                  5           9                       8   \n",
       "3                  5           9                       8   \n",
       "4                  5           9                       8   \n",
       "\n",
       "            product_name  ...  order_cost  Region  age_group  loyalty_flag  \\\n",
       "0     Organic Egg Whites  ...        91.6    West     mature  New customer   \n",
       "1  Michigan Organic Kale  ...        91.6    West     mature  New customer   \n",
       "2          Garlic Powder  ...        91.6    West     mature  New customer   \n",
       "3         Coconut Butter  ...        91.6    West     mature  New customer   \n",
       "4      Natural Sweetener  ...        91.6    West     mature  New customer   \n",
       "\n",
       "  mean_order_cost_per_user    spending_flag income_group  \\\n",
       "0               100.342222  regular spender         High   \n",
       "1               100.342222  regular spender         High   \n",
       "2               100.342222  regular spender         High   \n",
       "3               100.342222  regular spender         High   \n",
       "4               100.342222  regular spender         High   \n",
       "\n",
       "   median_days_since_prior_order_per_user          freq_buyer  \\\n",
       "0                                    24.0  non-frequent-buyer   \n",
       "1                                    24.0  non-frequent-buyer   \n",
       "2                                    24.0  non-frequent-buyer   \n",
       "3                                    24.0  non-frequent-buyer   \n",
       "4                                    24.0  non-frequent-buyer   \n",
       "\n",
       "         price_range  \n",
       "0  mid-range product  \n",
       "1  mid-range product  \n",
       "2  low-range product  \n",
       "3  mid-range product  \n",
       "4  mid-range product  \n",
       "\n",
       "[5 rows x 33 columns]"
      ]
     },
     "execution_count": 77,
     "metadata": {},
     "output_type": "execute_result"
    }
   ],
   "source": [
    "instacart.head()"
   ]
  },
  {
   "cell_type": "markdown",
   "id": "1c1764cf-c3ae-4844-860e-7982fa2b5ad4",
   "metadata": {},
   "source": [
    "## 4. Creating a bar chart for price_range"
   ]
  },
  {
   "cell_type": "code",
   "execution_count": 89,
   "id": "8470e33d-7007-4f5b-81cc-e60294ed76fe",
   "metadata": {},
   "outputs": [
    {
     "data": {
      "image/png": "[encoded data removed]",
      "text/plain": [
       "<Figure size 640x480 with 1 Axes>"
      ]
     },
     "metadata": {},
     "output_type": "display_data"
    }
   ],
   "source": [
    "bar_price_range = instacart['price_range'].value_counts().plot.bar(title=\"Distribution of Price Ranges in Instacart Orders\")"
   ]
  },
  {
   "cell_type": "markdown",
   "id": "f03fbbf9-e8a5-483a-bbd6-d6eda54612d8",
   "metadata": {},
   "source": [
    "## 5. Creating a stacked bar chart showing price range per spending flag"
   ]
  },
  {
   "cell_type": "code",
   "execution_count": 96,
   "id": "a441a334-cc60-4081-bd1a-32e32ef130d0",
   "metadata": {},
   "outputs": [
    {
     "data": {
      "text/plain": [
       "Text(0.5, 1.0, 'Distribution of Price Ranges by Spending Flag')"
      ]
     },
     "execution_count": 96,
     "metadata": {},
     "output_type": "execute_result"
    },
    {
     "data": {
      "image/png": "[encoded data removed]",
      "text/plain": [
       "<Figure size 640x480 with 1 Axes>"
      ]
     },
     "metadata": {},
     "output_type": "display_data"
    }
   ],
   "source": [
    "# Stacked bar chart\n",
    "\n",
    "sns.barplot(x='spending_flag', y='count', hue='price_range', data=instacart.groupby(['price_range', 'spending_flag']).size().reset_index(name='count'))\n",
    "plt.title(\"Distribution of Price Ranges by Spending Flag\")"
   ]
  },
  {
   "cell_type": "markdown",
   "id": "8d13a938-f442-48fb-97c4-7eed8fb72a07",
   "metadata": {},
   "source": [
    "## 6. Creating a stacked bar chart showing spending flag by Region"
   ]
  },
  {
   "cell_type": "code",
   "execution_count": 22,
   "id": "7c0d6c85-179e-426d-a8bc-9f522b99d3cd",
   "metadata": {},
   "outputs": [
    {
     "data": {
      "text/plain": [
       "Text(0.5, 1.0, 'Customer Spending Status by Region')"
      ]
     },
     "execution_count": 22,
     "metadata": {},
     "output_type": "execute_result"
    },
    {
     "data": {
      "image/png": "[encoded data removed]",
      "text/plain": [
       "<Figure size 640x480 with 1 Axes>"
      ]
     },
     "metadata": {},
     "output_type": "display_data"
    }
   ],
   "source": [
    "# Stacked bar chart\n",
    "\n",
    "sns.barplot(x='Region', y='count', hue='spending_flag', data=bar_spending_nodups.groupby(['Region', 'spending_flag']).size().reset_index(name='count'))\n",
    "plt.title(\"Customer Spending Status by Region\")"
   ]
  },
  {
   "cell_type": "markdown",
   "id": "8c6e0dc0-b24f-4dd5-8457-bee23f9031c7",
   "metadata": {},
   "source": [
    "## 7. Exporting "
   ]
  },
  {
   "cell_type": "code",
   "execution_count": 30,
   "id": "a14bda11-1381-4dba-8efc-e0885ce88799",
   "metadata": {},
   "outputs": [],
   "source": [
    "instacart.to_pickle(os.path.join(path, 'Data', 'Final Prepared Data', 'IC_high_activity_2.pkl'))"
   ]
  },
  {
   "cell_type": "code",
   "execution_count": 31,
   "id": "1ba52b25-e115-4afb-ba8e-1f93c2177b44",
   "metadata": {},
   "outputs": [
    {
     "data": {
      "text/plain": [
       "Index(['order_id', 'product_id', 'add_to_cart_order', 'reordered', 'user_id',\n",
       "       'order_number', 'order_day_of_week', 'order_time',\n",
       "       'days_since_prior_order', 'product_name', 'aisle_id', 'department_id',\n",
       "       'prices', 'Gender', 'State', 'Age', 'date_joined', 'n_dependants',\n",
       "       'fam_status', 'income', 'max_order', 'max_order_per_user',\n",
       "       'products_per_order', 'order_cost', 'Region', 'age_group',\n",
       "       'loyalty_flag', 'mean_order_cost_per_user', 'spending_flag',\n",
       "       'income_group', 'median_days_since_prior_order_per_user', 'freq_buyer'],\n",
       "      dtype='object')"
      ]
     },
     "execution_count": 31,
     "metadata": {},
     "output_type": "execute_result"
    }
   ],
   "source": [
    "instacart.columns"
   ]
  },
  {
   "cell_type": "code",
   "execution_count": null,
   "id": "a970f086-d603-49c9-ad84-ef59f7121210",
   "metadata": {},
   "outputs": [],
   "source": []
  }
 ],
 "metadata": {
  "kernelspec": {
   "display_name": "Python 3 (ipykernel)",
   "language": "python",
   "name": "python3"
  },
  "language_info": {
   "codemirror_mode": {
    "name": "ipython",
    "version": 3
   },
   "file_extension": ".py",
   "mimetype": "text/x-python",
   "name": "python",
   "nbconvert_exporter": "python",
   "pygments_lexer": "ipython3",
   "version": "3.11.7"
  }
 },
 "nbformat": 4,
 "nbformat_minor": 5
}
