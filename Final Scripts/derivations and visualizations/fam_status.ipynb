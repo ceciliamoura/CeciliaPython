{
 "cells": [
  {
   "cell_type": "markdown",
   "id": "50f61140-1556-47c9-8838-5fba045597a7",
   "metadata": {},
   "source": [
    "# Creating family profiles"
   ]
  },
  {
   "cell_type": "markdown",
   "id": "a9a2c155-90ff-4f54-93c0-775c30a9d8be",
   "metadata": {},
   "source": [
    "## Importing libraries"
   ]
  },
  {
   "cell_type": "code",
   "execution_count": 3,
   "id": "60773bb8-39c2-49e8-98b7-debfc7d820d4",
   "metadata": {},
   "outputs": [],
   "source": [
    "import pandas as pd\n",
    "import numpy as np\n",
    "import os"
   ]
  },
  {
   "cell_type": "markdown",
   "id": "99d828de-8526-48df-a0b4-de1c50bab8b6",
   "metadata": {},
   "source": [
    "## Creating path for folder"
   ]
  },
  {
   "cell_type": "code",
   "execution_count": 5,
   "id": "26f85267-8787-408c-8337-01ffd8549541",
   "metadata": {},
   "outputs": [],
   "source": [
    "path = r'/Users/ceciliamoura/Desktop/Career Foundry/Achievement4/Instacart Basket Analysis'"
   ]
  },
  {
   "cell_type": "markdown",
   "id": "3c5ed110-d6bc-4b59-aea7-cd8f8283d74e",
   "metadata": {},
   "source": [
    "## Importing files"
   ]
  },
  {
   "cell_type": "code",
   "execution_count": 7,
   "id": "72e1861f-99c1-4ef6-82cf-d248d834dcfd",
   "metadata": {},
   "outputs": [],
   "source": [
    "# Importing subset with only high activity customers"
   ]
  },
  {
   "cell_type": "code",
   "execution_count": 8,
   "id": "d300656a-f4b6-462b-a913-b92c7f3f88e4",
   "metadata": {},
   "outputs": [],
   "source": [
    "instacart = pd.read_pickle(os.path.join (path, 'Data', 'Final Prepared Data', 'IC_high_activity_2.pkl'))"
   ]
  },
  {
   "cell_type": "code",
   "execution_count": 9,
   "id": "ad21a974-2bf0-4e63-bf82-74e179a65948",
   "metadata": {},
   "outputs": [
    {
     "data": {
      "text/plain": [
       "Index(['order_id', 'product_id', 'add_to_cart_order', 'reordered', 'user_id',\n",
       "       'order_number', 'order_day_of_week', 'order_time',\n",
       "       'days_since_prior_order', 'product_name', 'aisle_id', 'department_id',\n",
       "       'prices', 'Gender', 'State', 'Age', 'date_joined', 'n_dependants',\n",
       "       'fam_status', 'income', 'max_order', 'max_order_per_user',\n",
       "       'products_per_order', 'order_cost', 'Region', 'age_group',\n",
       "       'loyalty_flag', 'mean_order_cost_per_user', 'spending_flag',\n",
       "       'income_group', 'median_days_since_prior_order_per_user', 'freq_buyer'],\n",
       "      dtype='object')"
      ]
     },
     "execution_count": 9,
     "metadata": {},
     "output_type": "execute_result"
    }
   ],
   "source": [
    "instacart.columns"
   ]
  },
  {
   "cell_type": "code",
   "execution_count": 10,
   "id": "7ae7d189-88ad-4a93-9f78-2bd4d4daa0cd",
   "metadata": {},
   "outputs": [
    {
     "data": {
      "text/plain": [
       "(30963518, 32)"
      ]
     },
     "execution_count": 10,
     "metadata": {},
     "output_type": "execute_result"
    }
   ],
   "source": [
    "instacart.shape"
   ]
  },
  {
   "cell_type": "code",
   "execution_count": 11,
   "id": "81d65756-8a44-4c4f-89ed-d63ec404727f",
   "metadata": {
    "scrolled": true
   },
   "outputs": [
    {
     "data": {
      "text/plain": [
       "n_dependants\n",
       "3    7772160\n",
       "0    7739497\n",
       "2    7733029\n",
       "1    7718832\n",
       "Name: count, dtype: int64"
      ]
     },
     "execution_count": 11,
     "metadata": {},
     "output_type": "execute_result"
    }
   ],
   "source": [
    "instacart['n_dependants'].value_counts()"
   ]
  },
  {
   "cell_type": "code",
   "execution_count": 12,
   "id": "25bbb49c-f40b-4808-9f9d-8fac927024d3",
   "metadata": {},
   "outputs": [
    {
     "data": {
      "text/plain": [
       "fam_status\n",
       "married                             21742899\n",
       "single                               5094326\n",
       "divorced/widowed                     2645171\n",
       "living with parents and siblings     1481122\n",
       "Name: count, dtype: int64"
      ]
     },
     "execution_count": 12,
     "metadata": {},
     "output_type": "execute_result"
    }
   ],
   "source": [
    "instacart['fam_status'].value_counts()"
   ]
  },
  {
   "cell_type": "raw",
   "id": "bb0be35c-e2a3-4802-95f5-998615383299",
   "metadata": {},
   "source": []
  },
  {
   "cell_type": "markdown",
   "id": "4ca81e4d-4700-4bbc-a17e-61afb8467a04",
   "metadata": {},
   "source": [
    "## 1. Creating a profile: Single, with dependants "
   ]
  },
  {
   "cell_type": "code",
   "execution_count": 14,
   "id": "59a0781f-7dd8-407e-8c5a-fb524d1e5080",
   "metadata": {},
   "outputs": [],
   "source": [
    "single_w_dependants = instacart.loc[(instacart['fam_status'] == 'single') & (instacart['n_dependants'] > 0)]"
   ]
  },
  {
   "cell_type": "code",
   "execution_count": 15,
   "id": "c87a3847-bb48-49d7-948a-fe67ecc841e8",
   "metadata": {},
   "outputs": [
    {
     "data": {
      "text/html": [
       "<div>\n",
       "<style scoped>\n",
       "    .dataframe tbody tr th:only-of-type {\n",
       "        vertical-align: middle;\n",
       "    }\n",
       "\n",
       "    .dataframe tbody tr th {\n",
       "        vertical-align: top;\n",
       "    }\n",
       "\n",
       "    .dataframe thead th {\n",
       "        text-align: right;\n",
       "    }\n",
       "</style>\n",
       "<table border=\"1\" class=\"dataframe\">\n",
       "  <thead>\n",
       "    <tr style=\"text-align: right;\">\n",
       "      <th></th>\n",
       "      <th>order_id</th>\n",
       "      <th>product_id</th>\n",
       "      <th>add_to_cart_order</th>\n",
       "      <th>reordered</th>\n",
       "      <th>user_id</th>\n",
       "      <th>order_number</th>\n",
       "      <th>order_day_of_week</th>\n",
       "      <th>order_time</th>\n",
       "      <th>days_since_prior_order</th>\n",
       "      <th>product_name</th>\n",
       "      <th>...</th>\n",
       "      <th>products_per_order</th>\n",
       "      <th>order_cost</th>\n",
       "      <th>Region</th>\n",
       "      <th>age_group</th>\n",
       "      <th>loyalty_flag</th>\n",
       "      <th>mean_order_cost_per_user</th>\n",
       "      <th>spending_flag</th>\n",
       "      <th>income_group</th>\n",
       "      <th>median_days_since_prior_order_per_user</th>\n",
       "      <th>freq_buyer</th>\n",
       "    </tr>\n",
       "  </thead>\n",
       "  <tbody>\n",
       "  </tbody>\n",
       "</table>\n",
       "<p>0 rows × 32 columns</p>\n",
       "</div>"
      ],
      "text/plain": [
       "Empty DataFrame\n",
       "Columns: [order_id, product_id, add_to_cart_order, reordered, user_id, order_number, order_day_of_week, order_time, days_since_prior_order, product_name, aisle_id, department_id, prices, Gender, State, Age, date_joined, n_dependants, fam_status, income, max_order, max_order_per_user, products_per_order, order_cost, Region, age_group, loyalty_flag, mean_order_cost_per_user, spending_flag, income_group, median_days_since_prior_order_per_user, freq_buyer]\n",
       "Index: []\n",
       "\n",
       "[0 rows x 32 columns]"
      ]
     },
     "execution_count": 15,
     "metadata": {},
     "output_type": "execute_result"
    }
   ],
   "source": [
    "single_w_dependants.head()"
   ]
  },
  {
   "cell_type": "code",
   "execution_count": 16,
   "id": "8543f151-9414-4da7-aee1-68d1ce87771a",
   "metadata": {},
   "outputs": [],
   "source": [
    "# There are no singles with dependants"
   ]
  },
  {
   "cell_type": "markdown",
   "id": "5744e943-a1e1-4124-8b3e-9481cf88224f",
   "metadata": {},
   "source": [
    "## 2. Creating a profile: Single, without dependants "
   ]
  },
  {
   "cell_type": "code",
   "execution_count": 18,
   "id": "327a7326-d1f1-4913-9d25-8fcdf650d5f2",
   "metadata": {},
   "outputs": [],
   "source": [
    "single_wo_dependants = instacart.loc[(instacart['fam_status'] == 'single') & (instacart['n_dependants'] == 0)]"
   ]
  },
  {
   "cell_type": "code",
   "execution_count": 19,
   "id": "fe02d12c-a68d-4473-92ad-1fccb36c7965",
   "metadata": {},
   "outputs": [
    {
     "data": {
      "text/html": [
       "<div>\n",
       "<style scoped>\n",
       "    .dataframe tbody tr th:only-of-type {\n",
       "        vertical-align: middle;\n",
       "    }\n",
       "\n",
       "    .dataframe tbody tr th {\n",
       "        vertical-align: top;\n",
       "    }\n",
       "\n",
       "    .dataframe thead th {\n",
       "        text-align: right;\n",
       "    }\n",
       "</style>\n",
       "<table border=\"1\" class=\"dataframe\">\n",
       "  <thead>\n",
       "    <tr style=\"text-align: right;\">\n",
       "      <th></th>\n",
       "      <th>order_id</th>\n",
       "      <th>product_id</th>\n",
       "      <th>add_to_cart_order</th>\n",
       "      <th>reordered</th>\n",
       "      <th>user_id</th>\n",
       "      <th>order_number</th>\n",
       "      <th>order_day_of_week</th>\n",
       "      <th>order_time</th>\n",
       "      <th>days_since_prior_order</th>\n",
       "      <th>product_name</th>\n",
       "      <th>...</th>\n",
       "      <th>products_per_order</th>\n",
       "      <th>order_cost</th>\n",
       "      <th>Region</th>\n",
       "      <th>age_group</th>\n",
       "      <th>loyalty_flag</th>\n",
       "      <th>mean_order_cost_per_user</th>\n",
       "      <th>spending_flag</th>\n",
       "      <th>income_group</th>\n",
       "      <th>median_days_since_prior_order_per_user</th>\n",
       "      <th>freq_buyer</th>\n",
       "    </tr>\n",
       "  </thead>\n",
       "  <tbody>\n",
       "    <tr>\n",
       "      <th>61</th>\n",
       "      <td>8</td>\n",
       "      <td>23423</td>\n",
       "      <td>1</td>\n",
       "      <td>1</td>\n",
       "      <td>3107</td>\n",
       "      <td>5</td>\n",
       "      <td>4</td>\n",
       "      <td>6</td>\n",
       "      <td>17</td>\n",
       "      <td>Original Hawaiian Sweet Rolls</td>\n",
       "      <td>...</td>\n",
       "      <td>1</td>\n",
       "      <td>2.4</td>\n",
       "      <td>South</td>\n",
       "      <td>young</td>\n",
       "      <td>Regular customer</td>\n",
       "      <td>46.408257</td>\n",
       "      <td>low spender</td>\n",
       "      <td>Medium</td>\n",
       "      <td>7.0</td>\n",
       "      <td>frequent-buyer</td>\n",
       "    </tr>\n",
       "    <tr>\n",
       "      <th>62</th>\n",
       "      <td>9</td>\n",
       "      <td>21405</td>\n",
       "      <td>1</td>\n",
       "      <td>0</td>\n",
       "      <td>139016</td>\n",
       "      <td>14</td>\n",
       "      <td>0</td>\n",
       "      <td>19</td>\n",
       "      <td>5</td>\n",
       "      <td>Organic Red Radish, Bunch</td>\n",
       "      <td>...</td>\n",
       "      <td>15</td>\n",
       "      <td>110.0</td>\n",
       "      <td>South</td>\n",
       "      <td>young</td>\n",
       "      <td>Regular customer</td>\n",
       "      <td>138.357307</td>\n",
       "      <td>high spender</td>\n",
       "      <td>Low</td>\n",
       "      <td>6.0</td>\n",
       "      <td>frequent-buyer</td>\n",
       "    </tr>\n",
       "    <tr>\n",
       "      <th>63</th>\n",
       "      <td>9</td>\n",
       "      <td>47890</td>\n",
       "      <td>2</td>\n",
       "      <td>1</td>\n",
       "      <td>139016</td>\n",
       "      <td>14</td>\n",
       "      <td>0</td>\n",
       "      <td>19</td>\n",
       "      <td>5</td>\n",
       "      <td>Whole White Mushrooms</td>\n",
       "      <td>...</td>\n",
       "      <td>15</td>\n",
       "      <td>110.0</td>\n",
       "      <td>South</td>\n",
       "      <td>young</td>\n",
       "      <td>Regular customer</td>\n",
       "      <td>138.357307</td>\n",
       "      <td>high spender</td>\n",
       "      <td>Low</td>\n",
       "      <td>6.0</td>\n",
       "      <td>frequent-buyer</td>\n",
       "    </tr>\n",
       "    <tr>\n",
       "      <th>64</th>\n",
       "      <td>9</td>\n",
       "      <td>11182</td>\n",
       "      <td>3</td>\n",
       "      <td>0</td>\n",
       "      <td>139016</td>\n",
       "      <td>14</td>\n",
       "      <td>0</td>\n",
       "      <td>19</td>\n",
       "      <td>5</td>\n",
       "      <td>Baby Spinach</td>\n",
       "      <td>...</td>\n",
       "      <td>15</td>\n",
       "      <td>110.0</td>\n",
       "      <td>South</td>\n",
       "      <td>young</td>\n",
       "      <td>Regular customer</td>\n",
       "      <td>138.357307</td>\n",
       "      <td>high spender</td>\n",
       "      <td>Low</td>\n",
       "      <td>6.0</td>\n",
       "      <td>frequent-buyer</td>\n",
       "    </tr>\n",
       "    <tr>\n",
       "      <th>65</th>\n",
       "      <td>9</td>\n",
       "      <td>2014</td>\n",
       "      <td>4</td>\n",
       "      <td>1</td>\n",
       "      <td>139016</td>\n",
       "      <td>14</td>\n",
       "      <td>0</td>\n",
       "      <td>19</td>\n",
       "      <td>5</td>\n",
       "      <td>Low Fat Kefir Cultured Milk Smoothie Lowfat Pr...</td>\n",
       "      <td>...</td>\n",
       "      <td>15</td>\n",
       "      <td>110.0</td>\n",
       "      <td>South</td>\n",
       "      <td>young</td>\n",
       "      <td>Regular customer</td>\n",
       "      <td>138.357307</td>\n",
       "      <td>high spender</td>\n",
       "      <td>Low</td>\n",
       "      <td>6.0</td>\n",
       "      <td>frequent-buyer</td>\n",
       "    </tr>\n",
       "  </tbody>\n",
       "</table>\n",
       "<p>5 rows × 32 columns</p>\n",
       "</div>"
      ],
      "text/plain": [
       "   order_id product_id  add_to_cart_order  reordered user_id  order_number  \\\n",
       "61        8      23423                  1          1    3107             5   \n",
       "62        9      21405                  1          0  139016            14   \n",
       "63        9      47890                  2          1  139016            14   \n",
       "64        9      11182                  3          0  139016            14   \n",
       "65        9       2014                  4          1  139016            14   \n",
       "\n",
       "    order_day_of_week  order_time  days_since_prior_order  \\\n",
       "61                  4           6                      17   \n",
       "62                  0          19                       5   \n",
       "63                  0          19                       5   \n",
       "64                  0          19                       5   \n",
       "65                  0          19                       5   \n",
       "\n",
       "                                         product_name  ...  \\\n",
       "61                      Original Hawaiian Sweet Rolls  ...   \n",
       "62                          Organic Red Radish, Bunch  ...   \n",
       "63                              Whole White Mushrooms  ...   \n",
       "64                                       Baby Spinach  ...   \n",
       "65  Low Fat Kefir Cultured Milk Smoothie Lowfat Pr...  ...   \n",
       "\n",
       "    products_per_order  order_cost  Region age_group      loyalty_flag  \\\n",
       "61                   1         2.4   South     young  Regular customer   \n",
       "62                  15       110.0   South     young  Regular customer   \n",
       "63                  15       110.0   South     young  Regular customer   \n",
       "64                  15       110.0   South     young  Regular customer   \n",
       "65                  15       110.0   South     young  Regular customer   \n",
       "\n",
       "    mean_order_cost_per_user spending_flag  income_group  \\\n",
       "61                 46.408257   low spender        Medium   \n",
       "62                138.357307  high spender           Low   \n",
       "63                138.357307  high spender           Low   \n",
       "64                138.357307  high spender           Low   \n",
       "65                138.357307  high spender           Low   \n",
       "\n",
       "   median_days_since_prior_order_per_user      freq_buyer  \n",
       "61                                    7.0  frequent-buyer  \n",
       "62                                    6.0  frequent-buyer  \n",
       "63                                    6.0  frequent-buyer  \n",
       "64                                    6.0  frequent-buyer  \n",
       "65                                    6.0  frequent-buyer  \n",
       "\n",
       "[5 rows x 32 columns]"
      ]
     },
     "execution_count": 19,
     "metadata": {},
     "output_type": "execute_result"
    }
   ],
   "source": [
    "single_wo_dependants.head()"
   ]
  },
  {
   "cell_type": "code",
   "execution_count": 20,
   "id": "5d3c18ae-11a2-46a1-98e8-7ada4ef40dd9",
   "metadata": {},
   "outputs": [
    {
     "data": {
      "text/plain": [
       "product_name\n",
       "Banana                                   75054\n",
       "Bag of Organic Bananas                   60233\n",
       "Organic Strawberries                     42036\n",
       "Organic Baby Spinach                     38600\n",
       "Organic Hass Avocado                     34177\n",
       "                                         ...  \n",
       "Original Smoked Snack Sticks                 1\n",
       "Bread Crumbs 100 Whole Wheat Seasoned        1\n",
       "SPF 30 Unscented Sunstick                    1\n",
       "Classic Iceberg                              1\n",
       "Multigrain                                   1\n",
       "Name: count, Length: 44101, dtype: int64"
      ]
     },
     "execution_count": 20,
     "metadata": {},
     "output_type": "execute_result"
    }
   ],
   "source": [
    "single_wo_dependants['product_name'].value_counts()"
   ]
  },
  {
   "cell_type": "markdown",
   "id": "d52b7eeb-7b6e-4a74-bf44-fde78848f07c",
   "metadata": {},
   "source": [
    "## 3. Creating a profile: Married, with dependants "
   ]
  },
  {
   "cell_type": "code",
   "execution_count": 22,
   "id": "e3f0c7fd-f52d-4b90-8009-25876d1f8d15",
   "metadata": {},
   "outputs": [],
   "source": [
    "married_w_dependants = instacart.loc[(instacart['fam_status'] == 'married') & (instacart['n_dependants'] > 0)]"
   ]
  },
  {
   "cell_type": "code",
   "execution_count": 23,
   "id": "eb130f92-576f-407a-b9a3-0d361c8f48e7",
   "metadata": {},
   "outputs": [
    {
     "data": {
      "text/html": [
       "<div>\n",
       "<style scoped>\n",
       "    .dataframe tbody tr th:only-of-type {\n",
       "        vertical-align: middle;\n",
       "    }\n",
       "\n",
       "    .dataframe tbody tr th {\n",
       "        vertical-align: top;\n",
       "    }\n",
       "\n",
       "    .dataframe thead th {\n",
       "        text-align: right;\n",
       "    }\n",
       "</style>\n",
       "<table border=\"1\" class=\"dataframe\">\n",
       "  <thead>\n",
       "    <tr style=\"text-align: right;\">\n",
       "      <th></th>\n",
       "      <th>order_id</th>\n",
       "      <th>product_id</th>\n",
       "      <th>add_to_cart_order</th>\n",
       "      <th>reordered</th>\n",
       "      <th>user_id</th>\n",
       "      <th>order_number</th>\n",
       "      <th>order_day_of_week</th>\n",
       "      <th>order_time</th>\n",
       "      <th>days_since_prior_order</th>\n",
       "      <th>product_name</th>\n",
       "      <th>...</th>\n",
       "      <th>products_per_order</th>\n",
       "      <th>order_cost</th>\n",
       "      <th>Region</th>\n",
       "      <th>age_group</th>\n",
       "      <th>loyalty_flag</th>\n",
       "      <th>mean_order_cost_per_user</th>\n",
       "      <th>spending_flag</th>\n",
       "      <th>income_group</th>\n",
       "      <th>median_days_since_prior_order_per_user</th>\n",
       "      <th>freq_buyer</th>\n",
       "    </tr>\n",
       "  </thead>\n",
       "  <tbody>\n",
       "    <tr>\n",
       "      <th>0</th>\n",
       "      <td>2</td>\n",
       "      <td>33120</td>\n",
       "      <td>1</td>\n",
       "      <td>1</td>\n",
       "      <td>202279</td>\n",
       "      <td>3</td>\n",
       "      <td>5</td>\n",
       "      <td>9</td>\n",
       "      <td>8</td>\n",
       "      <td>Organic Egg Whites</td>\n",
       "      <td>...</td>\n",
       "      <td>9</td>\n",
       "      <td>91.6</td>\n",
       "      <td>West</td>\n",
       "      <td>mature</td>\n",
       "      <td>New customer</td>\n",
       "      <td>100.342222</td>\n",
       "      <td>regular spender</td>\n",
       "      <td>High</td>\n",
       "      <td>24.0</td>\n",
       "      <td>non-frequent-buyer</td>\n",
       "    </tr>\n",
       "    <tr>\n",
       "      <th>1</th>\n",
       "      <td>2</td>\n",
       "      <td>28985</td>\n",
       "      <td>2</td>\n",
       "      <td>1</td>\n",
       "      <td>202279</td>\n",
       "      <td>3</td>\n",
       "      <td>5</td>\n",
       "      <td>9</td>\n",
       "      <td>8</td>\n",
       "      <td>Michigan Organic Kale</td>\n",
       "      <td>...</td>\n",
       "      <td>9</td>\n",
       "      <td>91.6</td>\n",
       "      <td>West</td>\n",
       "      <td>mature</td>\n",
       "      <td>New customer</td>\n",
       "      <td>100.342222</td>\n",
       "      <td>regular spender</td>\n",
       "      <td>High</td>\n",
       "      <td>24.0</td>\n",
       "      <td>non-frequent-buyer</td>\n",
       "    </tr>\n",
       "    <tr>\n",
       "      <th>2</th>\n",
       "      <td>2</td>\n",
       "      <td>9327</td>\n",
       "      <td>3</td>\n",
       "      <td>0</td>\n",
       "      <td>202279</td>\n",
       "      <td>3</td>\n",
       "      <td>5</td>\n",
       "      <td>9</td>\n",
       "      <td>8</td>\n",
       "      <td>Garlic Powder</td>\n",
       "      <td>...</td>\n",
       "      <td>9</td>\n",
       "      <td>91.6</td>\n",
       "      <td>West</td>\n",
       "      <td>mature</td>\n",
       "      <td>New customer</td>\n",
       "      <td>100.342222</td>\n",
       "      <td>regular spender</td>\n",
       "      <td>High</td>\n",
       "      <td>24.0</td>\n",
       "      <td>non-frequent-buyer</td>\n",
       "    </tr>\n",
       "    <tr>\n",
       "      <th>3</th>\n",
       "      <td>2</td>\n",
       "      <td>45918</td>\n",
       "      <td>4</td>\n",
       "      <td>1</td>\n",
       "      <td>202279</td>\n",
       "      <td>3</td>\n",
       "      <td>5</td>\n",
       "      <td>9</td>\n",
       "      <td>8</td>\n",
       "      <td>Coconut Butter</td>\n",
       "      <td>...</td>\n",
       "      <td>9</td>\n",
       "      <td>91.6</td>\n",
       "      <td>West</td>\n",
       "      <td>mature</td>\n",
       "      <td>New customer</td>\n",
       "      <td>100.342222</td>\n",
       "      <td>regular spender</td>\n",
       "      <td>High</td>\n",
       "      <td>24.0</td>\n",
       "      <td>non-frequent-buyer</td>\n",
       "    </tr>\n",
       "    <tr>\n",
       "      <th>4</th>\n",
       "      <td>2</td>\n",
       "      <td>30035</td>\n",
       "      <td>5</td>\n",
       "      <td>0</td>\n",
       "      <td>202279</td>\n",
       "      <td>3</td>\n",
       "      <td>5</td>\n",
       "      <td>9</td>\n",
       "      <td>8</td>\n",
       "      <td>Natural Sweetener</td>\n",
       "      <td>...</td>\n",
       "      <td>9</td>\n",
       "      <td>91.6</td>\n",
       "      <td>West</td>\n",
       "      <td>mature</td>\n",
       "      <td>New customer</td>\n",
       "      <td>100.342222</td>\n",
       "      <td>regular spender</td>\n",
       "      <td>High</td>\n",
       "      <td>24.0</td>\n",
       "      <td>non-frequent-buyer</td>\n",
       "    </tr>\n",
       "  </tbody>\n",
       "</table>\n",
       "<p>5 rows × 32 columns</p>\n",
       "</div>"
      ],
      "text/plain": [
       "  order_id product_id  add_to_cart_order  reordered user_id  order_number  \\\n",
       "0        2      33120                  1          1  202279             3   \n",
       "1        2      28985                  2          1  202279             3   \n",
       "2        2       9327                  3          0  202279             3   \n",
       "3        2      45918                  4          1  202279             3   \n",
       "4        2      30035                  5          0  202279             3   \n",
       "\n",
       "   order_day_of_week  order_time  days_since_prior_order  \\\n",
       "0                  5           9                       8   \n",
       "1                  5           9                       8   \n",
       "2                  5           9                       8   \n",
       "3                  5           9                       8   \n",
       "4                  5           9                       8   \n",
       "\n",
       "            product_name  ...  products_per_order  order_cost  Region  \\\n",
       "0     Organic Egg Whites  ...                   9        91.6    West   \n",
       "1  Michigan Organic Kale  ...                   9        91.6    West   \n",
       "2          Garlic Powder  ...                   9        91.6    West   \n",
       "3         Coconut Butter  ...                   9        91.6    West   \n",
       "4      Natural Sweetener  ...                   9        91.6    West   \n",
       "\n",
       "  age_group  loyalty_flag  mean_order_cost_per_user    spending_flag  \\\n",
       "0    mature  New customer                100.342222  regular spender   \n",
       "1    mature  New customer                100.342222  regular spender   \n",
       "2    mature  New customer                100.342222  regular spender   \n",
       "3    mature  New customer                100.342222  regular spender   \n",
       "4    mature  New customer                100.342222  regular spender   \n",
       "\n",
       "   income_group median_days_since_prior_order_per_user          freq_buyer  \n",
       "0          High                                   24.0  non-frequent-buyer  \n",
       "1          High                                   24.0  non-frequent-buyer  \n",
       "2          High                                   24.0  non-frequent-buyer  \n",
       "3          High                                   24.0  non-frequent-buyer  \n",
       "4          High                                   24.0  non-frequent-buyer  \n",
       "\n",
       "[5 rows x 32 columns]"
      ]
     },
     "execution_count": 23,
     "metadata": {},
     "output_type": "execute_result"
    }
   ],
   "source": [
    "married_w_dependants.head()"
   ]
  },
  {
   "cell_type": "code",
   "execution_count": 24,
   "id": "48717bb5-adf8-4b7a-8b2c-7c6375686c01",
   "metadata": {},
   "outputs": [
    {
     "data": {
      "text/plain": [
       "product_name\n",
       "Banana                                                   317498\n",
       "Bag of Organic Bananas                                   257309\n",
       "Organic Strawberries                                     179661\n",
       "Organic Baby Spinach                                     162724\n",
       "Organic Hass Avocado                                     145250\n",
       "                                                          ...  \n",
       "8 X 6 Cutting Board                                           1\n",
       "Special K Strawberry Pastry Crisps                            1\n",
       "Brand Sardines in Water                                       1\n",
       "Healthy Skin & Hair Plus Nails Softgels                       1\n",
       "Nutrish Naturally Delish Chicken Paw Pie Wet Dog Food         1\n",
       "Name: count, Length: 49436, dtype: int64"
      ]
     },
     "execution_count": 24,
     "metadata": {},
     "output_type": "execute_result"
    }
   ],
   "source": [
    "married_w_dependants['product_name'].value_counts()"
   ]
  },
  {
   "cell_type": "markdown",
   "id": "5a6574ae-d485-4e20-bd92-09057f8c30bd",
   "metadata": {},
   "source": [
    "## 4. Creating a profile: Married, without dependants "
   ]
  },
  {
   "cell_type": "code",
   "execution_count": 26,
   "id": "8148e292-50df-4f39-9bc4-2d9b028e3285",
   "metadata": {},
   "outputs": [],
   "source": [
    "married_wo_dependants = instacart.loc[(instacart['fam_status'] == 'married') & (instacart['n_dependants'] == 0)]"
   ]
  },
  {
   "cell_type": "code",
   "execution_count": 27,
   "id": "ebd48cbc-5f99-44b4-ab19-be3d11e873df",
   "metadata": {},
   "outputs": [
    {
     "data": {
      "text/html": [
       "<div>\n",
       "<style scoped>\n",
       "    .dataframe tbody tr th:only-of-type {\n",
       "        vertical-align: middle;\n",
       "    }\n",
       "\n",
       "    .dataframe tbody tr th {\n",
       "        vertical-align: top;\n",
       "    }\n",
       "\n",
       "    .dataframe thead th {\n",
       "        text-align: right;\n",
       "    }\n",
       "</style>\n",
       "<table border=\"1\" class=\"dataframe\">\n",
       "  <thead>\n",
       "    <tr style=\"text-align: right;\">\n",
       "      <th></th>\n",
       "      <th>order_id</th>\n",
       "      <th>product_id</th>\n",
       "      <th>add_to_cart_order</th>\n",
       "      <th>reordered</th>\n",
       "      <th>user_id</th>\n",
       "      <th>order_number</th>\n",
       "      <th>order_day_of_week</th>\n",
       "      <th>order_time</th>\n",
       "      <th>days_since_prior_order</th>\n",
       "      <th>product_name</th>\n",
       "      <th>...</th>\n",
       "      <th>products_per_order</th>\n",
       "      <th>order_cost</th>\n",
       "      <th>Region</th>\n",
       "      <th>age_group</th>\n",
       "      <th>loyalty_flag</th>\n",
       "      <th>mean_order_cost_per_user</th>\n",
       "      <th>spending_flag</th>\n",
       "      <th>income_group</th>\n",
       "      <th>median_days_since_prior_order_per_user</th>\n",
       "      <th>freq_buyer</th>\n",
       "    </tr>\n",
       "  </thead>\n",
       "  <tbody>\n",
       "  </tbody>\n",
       "</table>\n",
       "<p>0 rows × 32 columns</p>\n",
       "</div>"
      ],
      "text/plain": [
       "Empty DataFrame\n",
       "Columns: [order_id, product_id, add_to_cart_order, reordered, user_id, order_number, order_day_of_week, order_time, days_since_prior_order, product_name, aisle_id, department_id, prices, Gender, State, Age, date_joined, n_dependants, fam_status, income, max_order, max_order_per_user, products_per_order, order_cost, Region, age_group, loyalty_flag, mean_order_cost_per_user, spending_flag, income_group, median_days_since_prior_order_per_user, freq_buyer]\n",
       "Index: []\n",
       "\n",
       "[0 rows x 32 columns]"
      ]
     },
     "execution_count": 27,
     "metadata": {},
     "output_type": "execute_result"
    }
   ],
   "source": [
    "married_wo_dependants.head()"
   ]
  },
  {
   "cell_type": "code",
   "execution_count": 28,
   "id": "0096e76a-7b3b-4332-a6a3-05a645f64af0",
   "metadata": {},
   "outputs": [],
   "source": [
    "# There are no married without dependants"
   ]
  },
  {
   "cell_type": "markdown",
   "id": "e3810bb8-3ef6-4ff0-a9f3-280032144159",
   "metadata": {},
   "source": [
    "## There are no singles with dependants nor married without dependants"
   ]
  },
  {
   "cell_type": "raw",
   "id": "f3aaf8e1-456c-4f18-b131-d090ad5ac3dd",
   "metadata": {},
   "source": []
  },
  {
   "cell_type": "markdown",
   "id": "74f9b162-6605-47ce-a900-faa101c6274b",
   "metadata": {},
   "source": [
    "## 5. Creating charts based on fam_status"
   ]
  },
  {
   "cell_type": "code",
   "execution_count": 62,
   "id": "a3068248-b9da-456f-9396-01924cd8f896",
   "metadata": {},
   "outputs": [],
   "source": [
    "# Creating a subset with unique entries for each user_id\n",
    "\n",
    "bar_fam_status = instacart[['income_group', 'user_id', 'Region', 'mean_order_cost_per_user', 'fam_status', 'spending_flag', 'age_group', 'loyalty_flag', 'freq_buyer']]"
   ]
  },
  {
   "cell_type": "code",
   "execution_count": 64,
   "id": "f43ae9d5-e3cb-429b-a97e-8fd383d13daa",
   "metadata": {},
   "outputs": [
    {
     "data": {
      "text/plain": [
       "(30963518, 9)"
      ]
     },
     "execution_count": 64,
     "metadata": {},
     "output_type": "execute_result"
    }
   ],
   "source": [
    "bar_fam_status.shape"
   ]
  },
  {
   "cell_type": "code",
   "execution_count": 66,
   "id": "78328ded-0d82-4993-95f5-9ca4ab79c38e",
   "metadata": {},
   "outputs": [],
   "source": [
    "# Creating a subset withou duplicates\n",
    "\n",
    "bar_fam_status_nodups = bar_fam_status.drop_duplicates()"
   ]
  },
  {
   "cell_type": "code",
   "execution_count": 67,
   "id": "0ba79f7d-c3fd-4bfc-83c9-1457df275bf1",
   "metadata": {},
   "outputs": [
    {
     "data": {
      "text/plain": [
       "(162631, 9)"
      ]
     },
     "execution_count": 67,
     "metadata": {},
     "output_type": "execute_result"
    }
   ],
   "source": [
    "bar_fam_status_nodups.shape"
   ]
  },
  {
   "cell_type": "code",
   "execution_count": 50,
   "id": "a72152f0-4491-4f9f-80a4-91c383e2896b",
   "metadata": {},
   "outputs": [
    {
     "data": {
      "text/plain": [
       "fam_status\n",
       "married                             114296\n",
       "single                               26896\n",
       "divorced/widowed                     13831\n",
       "living with parents and siblings      7608\n",
       "Name: count, dtype: int64"
      ]
     },
     "execution_count": 50,
     "metadata": {},
     "output_type": "execute_result"
    }
   ],
   "source": [
    "bar_fam_status_nodups['fam_status'].value_counts(dropna = False)"
   ]
  },
  {
   "cell_type": "code",
   "execution_count": 60,
   "id": "e98c3fec-6742-48d5-acd8-18ef961966f6",
   "metadata": {},
   "outputs": [
    {
     "data": {
      "image/png": "[encoded data removed]",
      "text/plain": [
       "<Figure size 640x480 with 1 Axes>"
      ]
     },
     "metadata": {},
     "output_type": "display_data"
    }
   ],
   "source": [
    "famyli_status_bar = bar_fam_status_nodups['fam_status'].value_counts().plot.barh()"
   ]
  },
  {
   "cell_type": "code",
   "execution_count": 52,
   "id": "b68b0305-ce37-4651-9f32-af9c7ad0a990",
   "metadata": {},
   "outputs": [],
   "source": [
    "import matplotlib.pyplot as plt\n",
    "import seaborn as sns\n",
    "import scipy"
   ]
  },
  {
   "cell_type": "code",
   "execution_count": 56,
   "id": "2983efeb-6637-4f8c-b63c-2b9867cb47ab",
   "metadata": {},
   "outputs": [
    {
     "data": {
      "text/plain": [
       "<Axes: xlabel='spending_flag', ylabel='count'>"
      ]
     },
     "execution_count": 56,
     "metadata": {},
     "output_type": "execute_result"
    },
    {
     "data": {
      "image/png": "[encoded data removed]",
      "text/plain": [
       "<Figure size 640x480 with 1 Axes>"
      ]
     },
     "metadata": {},
     "output_type": "display_data"
    }
   ],
   "source": [
    "# Stacked bar chart\n",
    "\n",
    "sns.barplot(x='spending_flag', y='count', hue='fam_status', data=bar_fam_status_nodups.groupby(['fam_status', 'spending_flag']).size().reset_index(name='count'))"
   ]
  },
  {
   "cell_type": "code",
   "execution_count": 38,
   "id": "cd2d5d40-69f4-45f6-af5f-b52f59bff0b0",
   "metadata": {},
   "outputs": [
    {
     "name": "stderr",
     "output_type": "stream",
     "text": [
      "/var/folders/30/j2w0rj9n75x1by3sr86s740h0000gn/T/ipykernel_50530/3664312535.py:3: FutureWarning: The default of observed=False is deprecated and will be changed to True in a future version of pandas. Pass observed=False to retain current behavior or observed=True to adopt the future default and silence this warning.\n",
      "  sns.barplot(x='income_group', y='count', hue='fam_status', data=bar_fam_status_nodups.groupby(['fam_status', 'income_group']).size().reset_index(name='count'))\n"
     ]
    },
    {
     "data": {
      "text/plain": [
       "<Axes: xlabel='income_group', ylabel='count'>"
      ]
     },
     "execution_count": 38,
     "metadata": {},
     "output_type": "execute_result"
    },
    {
     "data": {
      "image/png": "[encoded data removed]",
      "text/plain": [
       "<Figure size 640x480 with 1 Axes>"
      ]
     },
     "metadata": {},
     "output_type": "display_data"
    }
   ],
   "source": [
    "# Stacked bar chart\n",
    "\n",
    "sns.barplot(x='income_group', y='count', hue='fam_status', data=bar_fam_status_nodups.groupby(['fam_status', 'income_group']).size().reset_index(name='count'))"
   ]
  },
  {
   "cell_type": "code",
   "execution_count": 54,
   "id": "0f198671-362c-46ec-ac52-503f6825e96f",
   "metadata": {},
   "outputs": [
    {
     "data": {
      "text/plain": [
       "<Axes: xlabel='age_group', ylabel='count'>"
      ]
     },
     "execution_count": 54,
     "metadata": {},
     "output_type": "execute_result"
    },
    {
     "data": {
      "image/png": "[encoded data removed]",
      "text/plain": [
       "<Figure size 640x480 with 1 Axes>"
      ]
     },
     "metadata": {},
     "output_type": "display_data"
    }
   ],
   "source": [
    "# Stacked bar chart\n",
    "\n",
    "sns.barplot(x='age_group', y='count', hue='fam_status', data=bar_fam_status_nodups.groupby(['fam_status', 'age_group']).size().reset_index(name='count'))"
   ]
  },
  {
   "cell_type": "code",
   "execution_count": 76,
   "id": "9eb50b71-a284-49ca-bf8a-e41ddc20c4e3",
   "metadata": {},
   "outputs": [
    {
     "data": {
      "text/plain": [
       "Text(0.5, 1.0, 'Frequency of buying by Family Status ')"
      ]
     },
     "execution_count": 76,
     "metadata": {},
     "output_type": "execute_result"
    },
    {
     "data": {
      "image/png": "[encoded data removed]",
      "text/plain": [
       "<Figure size 640x480 with 1 Axes>"
      ]
     },
     "metadata": {},
     "output_type": "display_data"
    }
   ],
   "source": [
    "# Stacked bar chart\n",
    "\n",
    "sns.barplot(x='freq_buyer', y='count', hue='fam_status', data=bar_fam_status_nodups.groupby(['fam_status', 'freq_buyer']).size().reset_index(name='count'))\n",
    "plt.title(\"Frequency of buying by Family Status \")"
   ]
  },
  {
   "cell_type": "code",
   "execution_count": 78,
   "id": "d8edfa21-d045-4d9e-92dd-e46b76bd3c78",
   "metadata": {},
   "outputs": [],
   "source": [
    "non_frequent_buyers = bar_fam_status_nodups.loc[bar_fam_status_nodups['freq_buyer'] == 'non-frequent-buyer']"
   ]
  },
  {
   "cell_type": "code",
   "execution_count": 88,
   "id": "e39055a7-6640-4f51-8cfd-addb5fa261d5",
   "metadata": {},
   "outputs": [
    {
     "data": {
      "text/plain": [
       "fam_status\n",
       "married                             74530\n",
       "single                              17686\n",
       "divorced/widowed                     9024\n",
       "living with parents and siblings     4966\n",
       "Name: count, dtype: int64"
      ]
     },
     "execution_count": 88,
     "metadata": {},
     "output_type": "execute_result"
    }
   ],
   "source": [
    "non_frequent_buyers['fam_status'].value_counts()"
   ]
  },
  {
   "cell_type": "code",
   "execution_count": 86,
   "id": "aa9fce23-0e4e-4b85-b8dd-4d1b6e99f164",
   "metadata": {},
   "outputs": [
    {
     "data": {
      "text/plain": [
       "freq_buyer\n",
       "non-frequent-buyer    106206\n",
       "Name: count, dtype: int64"
      ]
     },
     "execution_count": 86,
     "metadata": {},
     "output_type": "execute_result"
    }
   ],
   "source": [
    "non_frequent_buyers['freq_buyer'].value_counts()"
   ]
  },
  {
   "cell_type": "code",
   "execution_count": 82,
   "id": "03c90748-571f-4f32-9424-3239eb03ef76",
   "metadata": {},
   "outputs": [],
   "source": [
    "frequent_buyers = bar_fam_status_nodups.loc[bar_fam_status_nodups['freq_buyer'] == 'frequent-buyer']"
   ]
  },
  {
   "cell_type": "code",
   "execution_count": 90,
   "id": "378139a5-3a8f-4060-b035-5a8197053be9",
   "metadata": {},
   "outputs": [
    {
     "data": {
      "text/plain": [
       "freq_buyer\n",
       "frequent-buyer    56425\n",
       "Name: count, dtype: int64"
      ]
     },
     "execution_count": 90,
     "metadata": {},
     "output_type": "execute_result"
    }
   ],
   "source": [
    "frequent_buyers['freq_buyer'].value_counts()"
   ]
  },
  {
   "cell_type": "code",
   "execution_count": 92,
   "id": "d9356c30-e105-4b6b-87fb-484ce7afd6c9",
   "metadata": {},
   "outputs": [
    {
     "data": {
      "text/plain": [
       "fam_status\n",
       "married                             39766\n",
       "single                               9210\n",
       "divorced/widowed                     4807\n",
       "living with parents and siblings     2642\n",
       "Name: count, dtype: int64"
      ]
     },
     "execution_count": 92,
     "metadata": {},
     "output_type": "execute_result"
    }
   ],
   "source": [
    "frequent_buyers['fam_status'].value_counts()"
   ]
  },
  {
   "cell_type": "code",
   "execution_count": null,
   "id": "daf67911-1374-4d10-8c3f-12ff52688d9b",
   "metadata": {},
   "outputs": [],
   "source": [
    "# Married customers exhibit a significant tendency towards less frequent purchasing compared to their non-married counterparts. The number of married individuals who are non-frequent buyers is approximately 1.8 times higher than those who are frequent buyers.\n"
   ]
  },
  {
   "cell_type": "code",
   "execution_count": 72,
   "id": "ebb81e7b-2f6d-489a-b308-9eb5a517bf05",
   "metadata": {},
   "outputs": [
    {
     "data": {
      "text/plain": [
       "Text(0.5, 1.0, 'Spending habits by Age Group ')"
      ]
     },
     "execution_count": 72,
     "metadata": {},
     "output_type": "execute_result"
    },
    {
     "data": {
      "image/png": "[encoded data removed]",
      "text/plain": [
       "<Figure size 640x480 with 1 Axes>"
      ]
     },
     "metadata": {},
     "output_type": "display_data"
    }
   ],
   "source": [
    "# Stacked bar chart\n",
    "\n",
    "sns.barplot(x='spending_flag', y='count', hue='age_group', data=bar_fam_status_nodups.groupby(['age_group', 'spending_flag']).size().reset_index(name='count'))\n",
    "plt.title(\"Spending habits by Age Group \")"
   ]
  },
  {
   "cell_type": "code",
   "execution_count": 74,
   "id": "88c87fcb-5973-49ff-9da5-0bdab1a2428b",
   "metadata": {},
   "outputs": [
    {
     "data": {
      "text/plain": [
       "Text(0.5, 1.0, 'Spending habits by Family Status ')"
      ]
     },
     "execution_count": 74,
     "metadata": {},
     "output_type": "execute_result"
    },
    {
     "data": {
      "image/png": "[encoded data removed]",
      "text/plain": [
       "<Figure size 640x480 with 1 Axes>"
      ]
     },
     "metadata": {},
     "output_type": "display_data"
    }
   ],
   "source": [
    "# Stacked bar chart\n",
    "\n",
    "sns.barplot(x='spending_flag', y='count', hue='fam_status', data=bar_fam_status_nodups.groupby(['fam_status', 'spending_flag']).size().reset_index(name='count'))\n",
    "plt.title(\"Spending habits by Family Status \")"
   ]
  },
  {
   "cell_type": "code",
   "execution_count": 40,
   "id": "1dd8c848-8401-423c-8095-c855f7c3ede7",
   "metadata": {},
   "outputs": [
    {
     "data": {
      "text/plain": [
       "<Figure size 640x480 with 0 Axes>"
      ]
     },
     "metadata": {},
     "output_type": "display_data"
    }
   ],
   "source": [
    "# exporting plot\n",
    "\n",
    "plt.savefig(os.path.join(path, 'Analysis', 'Final Visualization', 'age_groups_counts.png'))"
   ]
  },
  {
   "cell_type": "code",
   "execution_count": 41,
   "id": "579a04c7-abad-4d0e-8939-be430cb20b30",
   "metadata": {},
   "outputs": [
    {
     "ename": "NameError",
     "evalue": "name 'age_groups_bar' is not defined",
     "output_type": "error",
     "traceback": [
      "\u001b[0;31m---------------------------------------------------------------------------\u001b[0m",
      "\u001b[0;31mNameError\u001b[0m                                 Traceback (most recent call last)",
      "Cell \u001b[0;32mIn[41], line 3\u001b[0m\n\u001b[1;32m      1\u001b[0m \u001b[38;5;66;03m# exporting plot\u001b[39;00m\n\u001b[0;32m----> 3\u001b[0m age_groups_bar\u001b[38;5;241m.\u001b[39mfigure\u001b[38;5;241m.\u001b[39msavefig(os\u001b[38;5;241m.\u001b[39mpath\u001b[38;5;241m.\u001b[39mjoin(path, \u001b[38;5;124m'\u001b[39m\u001b[38;5;124mAnalysis\u001b[39m\u001b[38;5;124m'\u001b[39m,\u001b[38;5;124m'\u001b[39m\u001b[38;5;124mFinal Visualization\u001b[39m\u001b[38;5;124m'\u001b[39m, \u001b[38;5;124m'\u001b[39m\u001b[38;5;124mage_groups_bar.jpeg\u001b[39m\u001b[38;5;124m'\u001b[39m))\n",
      "\u001b[0;31mNameError\u001b[0m: name 'age_groups_bar' is not defined"
     ]
    }
   ],
   "source": [
    "# exporting plot\n",
    "\n",
    "age_groups_bar.figure.savefig(os.path.join(path, 'Analysis','Final Visualization', 'age_groups_bar.jpeg'))"
   ]
  },
  {
   "cell_type": "code",
   "execution_count": null,
   "id": "95efe5d8-1470-4ca9-ad3f-6791765417fd",
   "metadata": {},
   "outputs": [],
   "source": []
  },
  {
   "cell_type": "markdown",
   "id": "8c6e0dc0-b24f-4dd5-8457-bee23f9031c7",
   "metadata": {},
   "source": [
    "## 3. Exporting "
   ]
  },
  {
   "cell_type": "code",
   "execution_count": null,
   "id": "a14bda11-1381-4dba-8efc-e0885ce88799",
   "metadata": {},
   "outputs": [],
   "source": [
    "instacart.to_pickle(os.path.join(path, 'Data', 'Final Prepared Data', 'IC_high_activity_2.pkl'))"
   ]
  },
  {
   "cell_type": "code",
   "execution_count": null,
   "id": "c76d08a3-b354-460a-b7ee-430cc8918b75",
   "metadata": {},
   "outputs": [],
   "source": [
    "instacart.to_pickle(os.path.join(path, 'Data', 'Final Prepared Data', 'backup', 'IC_high_activity_2.pkl'))"
   ]
  },
  {
   "cell_type": "code",
   "execution_count": null,
   "id": "79b29525-8c22-410d-88c2-e7a05856a877",
   "metadata": {},
   "outputs": [],
   "source": []
  }
 ],
 "metadata": {
  "kernelspec": {
   "display_name": "Python 3 (ipykernel)",
   "language": "python",
   "name": "python3"
  },
  "language_info": {
   "codemirror_mode": {
    "name": "ipython",
    "version": 3
   },
   "file_extension": ".py",
   "mimetype": "text/x-python",
   "name": "python",
   "nbconvert_exporter": "python",
   "pygments_lexer": "ipython3",
   "version": "3.11.7"
  }
 },
 "nbformat": 4,
 "nbformat_minor": 5
}
