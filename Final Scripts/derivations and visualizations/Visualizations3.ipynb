{
 "cells": [
  {
   "cell_type": "markdown",
   "id": "42d3e6ee-1903-4b0a-b08d-ae20442285be",
   "metadata": {},
   "source": [
    "# Visualizations 3"
   ]
  },
  {
   "cell_type": "markdown",
   "id": "47c9722e-2bff-4f14-a3a8-74dd237b5516",
   "metadata": {
    "jp-MarkdownHeadingCollapsed": true
   },
   "source": [
    "## bar chart of region distribution"
   ]
  },
  {
   "cell_type": "markdown",
   "id": "a9a2c155-90ff-4f54-93c0-775c30a9d8be",
   "metadata": {},
   "source": [
    "## Importing libraries"
   ]
  },
  {
   "cell_type": "code",
   "execution_count": 4,
   "id": "60773bb8-39c2-49e8-98b7-debfc7d820d4",
   "metadata": {},
   "outputs": [],
   "source": [
    "import pandas as pd\n",
    "import numpy as np\n",
    "import os\n",
    "import matplotlib.pyplot as plt\n",
    "import seaborn as sns\n",
    "import scipy"
   ]
  },
  {
   "cell_type": "markdown",
   "id": "99d828de-8526-48df-a0b4-de1c50bab8b6",
   "metadata": {},
   "source": [
    "## Creating path for folder"
   ]
  },
  {
   "cell_type": "code",
   "execution_count": 6,
   "id": "26f85267-8787-408c-8337-01ffd8549541",
   "metadata": {},
   "outputs": [],
   "source": [
    "path = r'/Users/ceciliamoura/Desktop/Career Foundry/Achievement4/Instacart Basket Analysis'"
   ]
  },
  {
   "cell_type": "markdown",
   "id": "3c5ed110-d6bc-4b59-aea7-cd8f8283d74e",
   "metadata": {},
   "source": [
    "## Importing files"
   ]
  },
  {
   "cell_type": "code",
   "execution_count": 8,
   "id": "3150456f-ca8b-4b03-9743-a60f1f3e5633",
   "metadata": {},
   "outputs": [],
   "source": [
    "instacart = pd.read_pickle(os.path.join (path, 'Data', 'Final Prepared Data', 'IC_unique_no_products.pkl'))"
   ]
  },
  {
   "cell_type": "code",
   "execution_count": 9,
   "id": "714c78d1-34c4-45db-8d23-8e4face8ec9e",
   "metadata": {},
   "outputs": [
    {
     "data": {
      "text/plain": [
       "(3064375, 18)"
      ]
     },
     "execution_count": 9,
     "metadata": {},
     "output_type": "execute_result"
    }
   ],
   "source": [
    "instacart.shape"
   ]
  },
  {
   "cell_type": "code",
   "execution_count": 56,
   "id": "b152a62d-2c7a-4e85-891f-6a4a638a1732",
   "metadata": {},
   "outputs": [
    {
     "data": {
      "text/plain": [
       "Index(['order_id', 'user_id', 'order_number', 'order_day_of_week',\n",
       "       'order_time', 'days_since_prior_order', 'Gender', 'State', 'Age',\n",
       "       'n_dependants', 'fam_status', 'income', 'max_order_per_user',\n",
       "       'products_per_order', 'order_cost', 'Region', 'age_group',\n",
       "       'loyalty_flag'],\n",
       "      dtype='object')"
      ]
     },
     "execution_count": 56,
     "metadata": {},
     "output_type": "execute_result"
    }
   ],
   "source": [
    "instacart.columns"
   ]
  },
  {
   "cell_type": "markdown",
   "id": "97ca24e2-c0d4-458a-ba18-8a8de77796d8",
   "metadata": {},
   "source": [
    "### Creating a subset with only columns of interest"
   ]
  },
  {
   "cell_type": "code",
   "execution_count": 12,
   "id": "3a12d1c2-c5eb-474b-8fa8-adf91cb5a94d",
   "metadata": {},
   "outputs": [],
   "source": [
    "region = instacart[['order_id', 'user_id', 'Region']]"
   ]
  },
  {
   "cell_type": "code",
   "execution_count": 13,
   "id": "8dd055bc-5231-46da-b89e-4887c19d9853",
   "metadata": {},
   "outputs": [
    {
     "data": {
      "text/plain": [
       "(3064375, 3)"
      ]
     },
     "execution_count": 13,
     "metadata": {},
     "output_type": "execute_result"
    }
   ],
   "source": [
    "region.shape"
   ]
  },
  {
   "cell_type": "code",
   "execution_count": 14,
   "id": "07e999fc-d199-43f1-9eba-e440a87379d2",
   "metadata": {},
   "outputs": [
    {
     "data": {
      "text/html": [
       "<div>\n",
       "<style scoped>\n",
       "    .dataframe tbody tr th:only-of-type {\n",
       "        vertical-align: middle;\n",
       "    }\n",
       "\n",
       "    .dataframe tbody tr th {\n",
       "        vertical-align: top;\n",
       "    }\n",
       "\n",
       "    .dataframe thead th {\n",
       "        text-align: right;\n",
       "    }\n",
       "</style>\n",
       "<table border=\"1\" class=\"dataframe\">\n",
       "  <thead>\n",
       "    <tr style=\"text-align: right;\">\n",
       "      <th></th>\n",
       "      <th>order_id</th>\n",
       "      <th>user_id</th>\n",
       "      <th>Region</th>\n",
       "    </tr>\n",
       "  </thead>\n",
       "  <tbody>\n",
       "    <tr>\n",
       "      <th>0</th>\n",
       "      <td>2</td>\n",
       "      <td>202279</td>\n",
       "      <td>West</td>\n",
       "    </tr>\n",
       "    <tr>\n",
       "      <th>9</th>\n",
       "      <td>3</td>\n",
       "      <td>205970</td>\n",
       "      <td>West</td>\n",
       "    </tr>\n",
       "    <tr>\n",
       "      <th>17</th>\n",
       "      <td>4</td>\n",
       "      <td>178520</td>\n",
       "      <td>Northeast</td>\n",
       "    </tr>\n",
       "    <tr>\n",
       "      <th>30</th>\n",
       "      <td>5</td>\n",
       "      <td>156122</td>\n",
       "      <td>South</td>\n",
       "    </tr>\n",
       "    <tr>\n",
       "      <th>56</th>\n",
       "      <td>6</td>\n",
       "      <td>22352</td>\n",
       "      <td>Midwest</td>\n",
       "    </tr>\n",
       "  </tbody>\n",
       "</table>\n",
       "</div>"
      ],
      "text/plain": [
       "   order_id user_id     Region\n",
       "0         2  202279       West\n",
       "9         3  205970       West\n",
       "17        4  178520  Northeast\n",
       "30        5  156122      South\n",
       "56        6   22352    Midwest"
      ]
     },
     "execution_count": 14,
     "metadata": {},
     "output_type": "execute_result"
    }
   ],
   "source": [
    "region.head()"
   ]
  },
  {
   "cell_type": "code",
   "execution_count": 15,
   "id": "f12e14fe-c18c-4ef0-a6e9-08d7047ba34b",
   "metadata": {},
   "outputs": [
    {
     "data": {
      "text/plain": [
       "Region\n",
       "South        1021379\n",
       "West          783505\n",
       "Midwest       719292\n",
       "Northeast     540199\n",
       "Name: count, dtype: int64"
      ]
     },
     "execution_count": 15,
     "metadata": {},
     "output_type": "execute_result"
    }
   ],
   "source": [
    "region['Region'].value_counts()"
   ]
  },
  {
   "cell_type": "code",
   "execution_count": 16,
   "id": "8e4ed0bb-959c-499b-947e-544c6816f47c",
   "metadata": {},
   "outputs": [
    {
     "data": {
      "image/png": "[encoded data removed]",
      "text/plain": [
       "<Figure size 640x480 with 1 Axes>"
      ]
     },
     "metadata": {},
     "output_type": "display_data"
    }
   ],
   "source": [
    "# Creating a bar chart with region distribution\n",
    "\n",
    "bar = region['Region'].value_counts().plot.barh(title=\"Distribution of orders by region\")"
   ]
  },
  {
   "cell_type": "code",
   "execution_count": 17,
   "id": "dcb9d7e9-465a-4dcf-b89f-e1ab5db9a558",
   "metadata": {},
   "outputs": [],
   "source": [
    "# exporting plot\n",
    "\n",
    "bar.figure.savefig(os.path.join(path, 'Analysis','Final Visualization', 'distribution_order_region.png'))"
   ]
  },
  {
   "cell_type": "markdown",
   "id": "f1faad94-3c57-4f83-83c7-cbb5155545f2",
   "metadata": {},
   "source": [
    "### Creating a chart with distribution of customers by region"
   ]
  },
  {
   "cell_type": "code",
   "execution_count": 58,
   "id": "b79ac989-ff7f-46fd-a65c-8d8c9f787ced",
   "metadata": {},
   "outputs": [],
   "source": [
    "cust_region = instacart[['user_id', 'Region', 'order_cost', 'products_per_order', 'loyalty_flag' ]]"
   ]
  },
  {
   "cell_type": "code",
   "execution_count": 60,
   "id": "e8ecc033-fcfe-4ccf-96a7-3c6fe16585b8",
   "metadata": {},
   "outputs": [
    {
     "data": {
      "text/plain": [
       "(3064375, 5)"
      ]
     },
     "execution_count": 60,
     "metadata": {},
     "output_type": "execute_result"
    }
   ],
   "source": [
    "cust_region.shape"
   ]
  },
  {
   "cell_type": "code",
   "execution_count": 62,
   "id": "6be7a35b-0a65-4e6f-8696-f5ef297f56ed",
   "metadata": {},
   "outputs": [],
   "source": [
    "# Creating a subset withou duplicates --- only unique user_ids\n",
    "\n",
    "cust_region_nodups = cust_region.drop_duplicates()"
   ]
  },
  {
   "cell_type": "code",
   "execution_count": 64,
   "id": "5b5298b1-66a9-4465-aa5c-f646adaae97c",
   "metadata": {},
   "outputs": [
    {
     "data": {
      "text/plain": [
       "(2958921, 5)"
      ]
     },
     "execution_count": 64,
     "metadata": {},
     "output_type": "execute_result"
    }
   ],
   "source": [
    "cust_region_nodups.shape"
   ]
  },
  {
   "cell_type": "code",
   "execution_count": 66,
   "id": "ea1fafdd-98ac-4b62-8ce9-507df32647fa",
   "metadata": {},
   "outputs": [
    {
     "data": {
      "text/plain": [
       "Region\n",
       "South        986639\n",
       "West         756154\n",
       "Midwest      694828\n",
       "Northeast    521300\n",
       "Name: count, dtype: int64"
      ]
     },
     "execution_count": 66,
     "metadata": {},
     "output_type": "execute_result"
    }
   ],
   "source": [
    "cust_region_nodups['Region'].value_counts()"
   ]
  },
  {
   "cell_type": "code",
   "execution_count": 24,
   "id": "8ec655fb-8a95-44a9-a7d8-85727e2e4455",
   "metadata": {},
   "outputs": [
    {
     "data": {
      "image/png": "[encoded data removed]",
      "text/plain": [
       "<Figure size 640x480 with 1 Axes>"
      ]
     },
     "metadata": {},
     "output_type": "display_data"
    }
   ],
   "source": [
    "# Creating a bar chart with region distribution of customers\n",
    "\n",
    "bar2 = cust_region_nodups['Region'].value_counts().plot.barh(title=\"Distribution of customers by region\")"
   ]
  },
  {
   "cell_type": "code",
   "execution_count": 25,
   "id": "69a832d4-d9be-4579-9aec-4f910772c24e",
   "metadata": {},
   "outputs": [],
   "source": [
    "# exporting plot\n",
    "\n",
    "bar2.figure.savefig(os.path.join(path, 'Analysis','Final Visualization', 'distribution_cust_region.png'))"
   ]
  },
  {
   "cell_type": "markdown",
   "id": "594dd0e2-d87e-4064-a87a-487a90a4d7d5",
   "metadata": {},
   "source": [
    "### Creating a chart with age groups and regions"
   ]
  },
  {
   "cell_type": "code",
   "execution_count": 27,
   "id": "e0cc6f51-aac5-46d8-8ab9-159d61a6e383",
   "metadata": {},
   "outputs": [],
   "source": [
    "age_x_region = instacart[['user_id', 'Region', 'age_group']]"
   ]
  },
  {
   "cell_type": "code",
   "execution_count": 28,
   "id": "1a0c33e1-6e7a-4a92-9418-6866515346a1",
   "metadata": {},
   "outputs": [],
   "source": [
    "# Creating a subset withou duplicates --- only unique user_ids\n",
    "\n",
    "age_x_region_nodups = age_x_region.drop_duplicates()"
   ]
  },
  {
   "cell_type": "code",
   "execution_count": 29,
   "id": "e7dcd964-d07d-48ba-b1b6-b8abd7560185",
   "metadata": {},
   "outputs": [
    {
     "data": {
      "text/plain": [
       "(162631, 3)"
      ]
     },
     "execution_count": 29,
     "metadata": {},
     "output_type": "execute_result"
    }
   ],
   "source": [
    "age_x_region_nodups.shape"
   ]
  },
  {
   "cell_type": "code",
   "execution_count": 72,
   "id": "fae5dc43-333f-41d2-bfd5-36174c9bd18b",
   "metadata": {},
   "outputs": [
    {
     "data": {
      "text/plain": [
       "<Axes: xlabel='Region', ylabel='count'>"
      ]
     },
     "execution_count": 72,
     "metadata": {},
     "output_type": "execute_result"
    },
    {
     "data": {
      "image/png": "[encoded data removed]",
      "text/plain": [
       "<Figure size 640x480 with 1 Axes>"
      ]
     },
     "metadata": {},
     "output_type": "display_data"
    }
   ],
   "source": [
    "# Stacked bar chart\n",
    "sns.barplot(x='Region', y='count', hue='age_group', data=age_x_region_nodups.groupby(['Region', 'age_group']).size().reset_index(name='count'))"
   ]
  },
  {
   "cell_type": "code",
   "execution_count": 76,
   "id": "b0e510a3-bbb4-4538-9b59-22729707a141",
   "metadata": {},
   "outputs": [
    {
     "data": {
      "text/plain": [
       "<Axes: xlabel='Region', ylabel='count'>"
      ]
     },
     "execution_count": 76,
     "metadata": {},
     "output_type": "execute_result"
    },
    {
     "data": {
      "image/png": "[encoded data removed]",
      "text/plain": [
       "<Figure size 640x480 with 1 Axes>"
      ]
     },
     "metadata": {},
     "output_type": "display_data"
    }
   ],
   "source": [
    "# Stacked bar chart\n",
    "sns.barplot(x='Region', y='count', hue='loyalty_flag', data=cust_region.groupby(['Region', 'loyalty_flag']).size().reset_index(name='count'))"
   ]
  },
  {
   "cell_type": "code",
   "execution_count": 80,
   "id": "aa47f642-1a02-4a57-99a3-1638754bdd66",
   "metadata": {},
   "outputs": [
    {
     "data": {
      "text/html": [
       "<div>\n",
       "<style scoped>\n",
       "    .dataframe tbody tr th:only-of-type {\n",
       "        vertical-align: middle;\n",
       "    }\n",
       "\n",
       "    .dataframe tbody tr th {\n",
       "        vertical-align: top;\n",
       "    }\n",
       "\n",
       "    .dataframe thead tr th {\n",
       "        text-align: left;\n",
       "    }\n",
       "\n",
       "    .dataframe thead tr:last-of-type th {\n",
       "        text-align: right;\n",
       "    }\n",
       "</style>\n",
       "<table border=\"1\" class=\"dataframe\">\n",
       "  <thead>\n",
       "    <tr>\n",
       "      <th></th>\n",
       "      <th colspan=\"3\" halign=\"left\">products_per_order</th>\n",
       "    </tr>\n",
       "    <tr>\n",
       "      <th></th>\n",
       "      <th>median</th>\n",
       "      <th>min</th>\n",
       "      <th>max</th>\n",
       "    </tr>\n",
       "    <tr>\n",
       "      <th>Region</th>\n",
       "      <th></th>\n",
       "      <th></th>\n",
       "      <th></th>\n",
       "    </tr>\n",
       "  </thead>\n",
       "  <tbody>\n",
       "    <tr>\n",
       "      <th>Midwest</th>\n",
       "      <td>8.0</td>\n",
       "      <td>1</td>\n",
       "      <td>109</td>\n",
       "    </tr>\n",
       "    <tr>\n",
       "      <th>Northeast</th>\n",
       "      <td>8.0</td>\n",
       "      <td>1</td>\n",
       "      <td>145</td>\n",
       "    </tr>\n",
       "    <tr>\n",
       "      <th>South</th>\n",
       "      <td>8.0</td>\n",
       "      <td>1</td>\n",
       "      <td>137</td>\n",
       "    </tr>\n",
       "    <tr>\n",
       "      <th>West</th>\n",
       "      <td>8.0</td>\n",
       "      <td>1</td>\n",
       "      <td>113</td>\n",
       "    </tr>\n",
       "  </tbody>\n",
       "</table>\n",
       "</div>"
      ],
      "text/plain": [
       "          products_per_order         \n",
       "                      median min  max\n",
       "Region                               \n",
       "Midwest                  8.0   1  109\n",
       "Northeast                8.0   1  145\n",
       "South                    8.0   1  137\n",
       "West                     8.0   1  113"
      ]
     },
     "execution_count": 80,
     "metadata": {},
     "output_type": "execute_result"
    }
   ],
   "source": [
    "cust_region.groupby('Region').agg({'products_per_order':['median', 'min', 'max']})"
   ]
  },
  {
   "cell_type": "code",
   "execution_count": 82,
   "id": "42a39bb0-37ba-4acc-ac42-84d05fa65001",
   "metadata": {},
   "outputs": [
    {
     "data": {
      "text/html": [
       "<div>\n",
       "<style scoped>\n",
       "    .dataframe tbody tr th:only-of-type {\n",
       "        vertical-align: middle;\n",
       "    }\n",
       "\n",
       "    .dataframe tbody tr th {\n",
       "        vertical-align: top;\n",
       "    }\n",
       "\n",
       "    .dataframe thead tr th {\n",
       "        text-align: left;\n",
       "    }\n",
       "\n",
       "    .dataframe thead tr:last-of-type th {\n",
       "        text-align: right;\n",
       "    }\n",
       "</style>\n",
       "<table border=\"1\" class=\"dataframe\">\n",
       "  <thead>\n",
       "    <tr>\n",
       "      <th></th>\n",
       "      <th colspan=\"3\" halign=\"left\">order_cost</th>\n",
       "    </tr>\n",
       "    <tr>\n",
       "      <th></th>\n",
       "      <th>median</th>\n",
       "      <th>min</th>\n",
       "      <th>max</th>\n",
       "    </tr>\n",
       "    <tr>\n",
       "      <th>Region</th>\n",
       "      <th></th>\n",
       "      <th></th>\n",
       "      <th></th>\n",
       "    </tr>\n",
       "  </thead>\n",
       "  <tbody>\n",
       "    <tr>\n",
       "      <th>Midwest</th>\n",
       "      <td>64.4</td>\n",
       "      <td>0.0</td>\n",
       "      <td>751.1</td>\n",
       "    </tr>\n",
       "    <tr>\n",
       "      <th>Northeast</th>\n",
       "      <td>64.5</td>\n",
       "      <td>0.0</td>\n",
       "      <td>1092.2</td>\n",
       "    </tr>\n",
       "    <tr>\n",
       "      <th>South</th>\n",
       "      <td>64.3</td>\n",
       "      <td>0.0</td>\n",
       "      <td>875.0</td>\n",
       "    </tr>\n",
       "    <tr>\n",
       "      <th>West</th>\n",
       "      <td>64.6</td>\n",
       "      <td>0.0</td>\n",
       "      <td>852.5</td>\n",
       "    </tr>\n",
       "  </tbody>\n",
       "</table>\n",
       "</div>"
      ],
      "text/plain": [
       "          order_cost             \n",
       "              median  min     max\n",
       "Region                           \n",
       "Midwest         64.4  0.0   751.1\n",
       "Northeast       64.5  0.0  1092.2\n",
       "South           64.3  0.0   875.0\n",
       "West            64.6  0.0   852.5"
      ]
     },
     "execution_count": 82,
     "metadata": {},
     "output_type": "execute_result"
    }
   ],
   "source": [
    "cust_region.groupby('Region').agg({'order_cost':['median', 'min', 'max']})"
   ]
  },
  {
   "cell_type": "code",
   "execution_count": 31,
   "id": "8556b6ab-c1c1-4a65-b291-6c68708a3d6f",
   "metadata": {},
   "outputs": [
    {
     "data": {
      "text/plain": [
       "<Figure size 640x480 with 0 Axes>"
      ]
     },
     "metadata": {},
     "output_type": "display_data"
    }
   ],
   "source": [
    "plt.savefig('/Users/ceciliamoura/Desktop/Career Foundry/Achievement4/Instacart Basket Analysis/Analysis/Final Visualization/age_region.png')"
   ]
  },
  {
   "cell_type": "code",
   "execution_count": null,
   "id": "76f13c4c-1c2a-4ecb-ae52-6b3b7c594659",
   "metadata": {},
   "outputs": [],
   "source": [
    "order_cost_loyalty.groupby('loyalty_flag').agg({'products_per_order':['median', 'min', 'max']})"
   ]
  }
 ],
 "metadata": {
  "kernelspec": {
   "display_name": "Python 3 (ipykernel)",
   "language": "python",
   "name": "python3"
  },
  "language_info": {
   "codemirror_mode": {
    "name": "ipython",
    "version": 3
   },
   "file_extension": ".py",
   "mimetype": "text/x-python",
   "name": "python",
   "nbconvert_exporter": "python",
   "pygments_lexer": "ipython3",
   "version": "3.11.7"
  }
 },
 "nbformat": 4,
 "nbformat_minor": 5
}
