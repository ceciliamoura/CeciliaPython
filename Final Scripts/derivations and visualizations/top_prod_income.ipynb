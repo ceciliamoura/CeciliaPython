{
 "cells": [
  {
   "cell_type": "markdown",
   "id": "50f61140-1556-47c9-8838-5fba045597a7",
   "metadata": {},
   "source": [
    "# Top 10 selling products by income groups"
   ]
  },
  {
   "cell_type": "markdown",
   "id": "a9a2c155-90ff-4f54-93c0-775c30a9d8be",
   "metadata": {},
   "source": [
    "## Importing libraries"
   ]
  },
  {
   "cell_type": "code",
   "execution_count": 2,
   "id": "60773bb8-39c2-49e8-98b7-debfc7d820d4",
   "metadata": {},
   "outputs": [],
   "source": [
    "import pandas as pd\n",
    "import numpy as np\n",
    "import os\n",
    "import matplotlib.pyplot as plt\n",
    "import seaborn as sns\n",
    "import scipy"
   ]
  },
  {
   "cell_type": "markdown",
   "id": "99d828de-8526-48df-a0b4-de1c50bab8b6",
   "metadata": {},
   "source": [
    "## Creating path for folder"
   ]
  },
  {
   "cell_type": "code",
   "execution_count": 4,
   "id": "26f85267-8787-408c-8337-01ffd8549541",
   "metadata": {},
   "outputs": [],
   "source": [
    "path = r'/Users/ceciliamoura/Desktop/Career Foundry/Achievement4/Instacart Basket Analysis'"
   ]
  },
  {
   "cell_type": "markdown",
   "id": "3c5ed110-d6bc-4b59-aea7-cd8f8283d74e",
   "metadata": {},
   "source": [
    "## Importing files"
   ]
  },
  {
   "cell_type": "code",
   "execution_count": 10,
   "id": "72e1861f-99c1-4ef6-82cf-d248d834dcfd",
   "metadata": {},
   "outputs": [],
   "source": [
    "# Importing subset with only high activity customers"
   ]
  },
  {
   "cell_type": "code",
   "execution_count": 6,
   "id": "d300656a-f4b6-462b-a913-b92c7f3f88e4",
   "metadata": {},
   "outputs": [],
   "source": [
    "instacart = pd.read_pickle(os.path.join (path, 'Data', 'Final Prepared Data', 'IC_high_activity_2.pkl'))"
   ]
  },
  {
   "cell_type": "code",
   "execution_count": 8,
   "id": "ad21a974-2bf0-4e63-bf82-74e179a65948",
   "metadata": {},
   "outputs": [
    {
     "data": {
      "text/plain": [
       "Index(['order_id', 'product_id', 'add_to_cart_order', 'reordered', 'user_id',\n",
       "       'order_number', 'order_day_of_week', 'order_time',\n",
       "       'days_since_prior_order', 'product_name', 'aisle_id', 'department_id',\n",
       "       'prices', 'Gender', 'State', 'Age', 'date_joined', 'n_dependants',\n",
       "       'fam_status', 'income', 'max_order', 'max_order_per_user',\n",
       "       'products_per_order', 'order_cost', 'Region', 'age_group',\n",
       "       'loyalty_flag', 'mean_order_cost_per_user', 'spending_flag',\n",
       "       'income_group', 'median_days_since_prior_order_per_user', 'freq_buyer'],\n",
       "      dtype='object')"
      ]
     },
     "execution_count": 8,
     "metadata": {},
     "output_type": "execute_result"
    }
   ],
   "source": [
    "instacart.columns"
   ]
  },
  {
   "cell_type": "code",
   "execution_count": 13,
   "id": "7ae7d189-88ad-4a93-9f78-2bd4d4daa0cd",
   "metadata": {},
   "outputs": [
    {
     "data": {
      "text/plain": [
       "(30963518, 32)"
      ]
     },
     "execution_count": 13,
     "metadata": {},
     "output_type": "execute_result"
    }
   ],
   "source": [
    "instacart.shape"
   ]
  },
  {
   "cell_type": "markdown",
   "id": "c7e2459f-bb7a-4558-bd66-17c168bf2c94",
   "metadata": {},
   "source": [
    "## Subsetting for analysis"
   ]
  },
  {
   "cell_type": "code",
   "execution_count": 12,
   "id": "36db654d-e168-442e-98f2-f89bb9b331e4",
   "metadata": {},
   "outputs": [],
   "source": [
    "subset = instacart[['product_name', 'prices', 'income_group', 'department_id']]"
   ]
  },
  {
   "cell_type": "code",
   "execution_count": 16,
   "id": "e3dfa34d-90a1-4e7d-9de9-16f51548e1ba",
   "metadata": {},
   "outputs": [
    {
     "data": {
      "text/plain": [
       "income_group\n",
       "Low          7741104\n",
       "Medium       7740979\n",
       "Very High    7740813\n",
       "High         7740622\n",
       "Name: count, dtype: int64"
      ]
     },
     "execution_count": 16,
     "metadata": {},
     "output_type": "execute_result"
    }
   ],
   "source": [
    "subset['income_group'].value_counts()"
   ]
  },
  {
   "cell_type": "code",
   "execution_count": 17,
   "id": "29fe0dca-5128-414e-9f95-a4fcb9b5e234",
   "metadata": {},
   "outputs": [
    {
     "data": {
      "text/plain": [
       "(30963518, 3)"
      ]
     },
     "execution_count": 17,
     "metadata": {},
     "output_type": "execute_result"
    }
   ],
   "source": [
    "subset.shape"
   ]
  },
  {
   "cell_type": "code",
   "execution_count": 18,
   "id": "41fbe6e9-8834-4a8d-94cc-61f1c9144530",
   "metadata": {},
   "outputs": [],
   "source": [
    "subset_low = subset.loc[subset['income_group'] == 'Low']"
   ]
  },
  {
   "cell_type": "code",
   "execution_count": 19,
   "id": "ecaba107-b581-4810-8a91-903204ab84b4",
   "metadata": {},
   "outputs": [],
   "source": [
    "subset_medium = subset.loc[subset['income_group'] == 'Medium']"
   ]
  },
  {
   "cell_type": "code",
   "execution_count": 20,
   "id": "40044130-df73-45e6-8cb7-5d4c4ad80634",
   "metadata": {},
   "outputs": [],
   "source": [
    "subset_high = subset.loc[subset['income_group'] == 'High']"
   ]
  },
  {
   "cell_type": "code",
   "execution_count": 21,
   "id": "e7a527f1-c8e8-4c75-a765-75e8d745502c",
   "metadata": {},
   "outputs": [],
   "source": [
    "subset_very_high = subset.loc[subset['income_group'] == 'Very High']"
   ]
  },
  {
   "cell_type": "markdown",
   "id": "10298456-48ef-402a-8c94-46206819779c",
   "metadata": {},
   "source": [
    "## Top 10 in low-income group"
   ]
  },
  {
   "cell_type": "code",
   "execution_count": 23,
   "id": "6849fa73-6d44-4b32-b52b-c916b3ae7987",
   "metadata": {},
   "outputs": [
    {
     "data": {
      "text/plain": [
       "Index(['product_name', 'prices', 'income_group'], dtype='object')"
      ]
     },
     "execution_count": 23,
     "metadata": {},
     "output_type": "execute_result"
    }
   ],
   "source": [
    "subset.columns"
   ]
  },
  {
   "cell_type": "code",
   "execution_count": 24,
   "id": "44fc0d37-ed3e-4ada-b006-8379a0686573",
   "metadata": {},
   "outputs": [],
   "source": [
    "products_low = subset_low['product_name'].value_counts()"
   ]
  },
  {
   "cell_type": "code",
   "execution_count": 25,
   "id": "11e7d1ad-6356-4cc8-bdc9-51367f728efe",
   "metadata": {},
   "outputs": [
    {
     "data": {
      "text/plain": [
       "product_name\n",
       "Banana                    99324\n",
       "Bag of Organic Bananas    93142\n",
       "Organic Strawberries      59893\n",
       "Organic Baby Spinach      52664\n",
       "Organic Hass Avocado      49788\n",
       "Strawberries              43033\n",
       "Organic Avocado           35771\n",
       "Organic Raspberries       32675\n",
       "Large Lemon               29166\n",
       "Organic Half & Half       27256\n",
       "Name: count, dtype: int64"
      ]
     },
     "execution_count": 25,
     "metadata": {},
     "output_type": "execute_result"
    }
   ],
   "source": [
    "products_low.head(10)"
   ]
  },
  {
   "cell_type": "markdown",
   "id": "e4b59375-2ba0-49c7-85d9-2665b66ba91c",
   "metadata": {},
   "source": [
    "## Top 10 in medium-income group"
   ]
  },
  {
   "cell_type": "code",
   "execution_count": 27,
   "id": "135b1fd9-80d5-4fb5-aedb-50d5e55eb5ce",
   "metadata": {},
   "outputs": [],
   "source": [
    "products_medium = subset_medium['product_name'].value_counts()"
   ]
  },
  {
   "cell_type": "code",
   "execution_count": 28,
   "id": "21ca65c9-4500-413b-872f-34dc87df7bda",
   "metadata": {},
   "outputs": [
    {
     "data": {
      "text/plain": [
       "product_name\n",
       "Banana                    119289\n",
       "Bag of Organic Bananas     91199\n",
       "Organic Strawberries       66385\n",
       "Organic Baby Spinach       60462\n",
       "Organic Hass Avocado       52413\n",
       "Organic Avocado            45038\n",
       "Large Lemon                38415\n",
       "Limes                      37326\n",
       "Organic Whole Milk         36011\n",
       "Organic Raspberries        33326\n",
       "Name: count, dtype: int64"
      ]
     },
     "execution_count": 28,
     "metadata": {},
     "output_type": "execute_result"
    }
   ],
   "source": [
    "products_medium.head(10)"
   ]
  },
  {
   "cell_type": "markdown",
   "id": "3f9cafb8-229c-499a-99f6-66cd54685cb7",
   "metadata": {},
   "source": [
    "## Top 10 in high-income group"
   ]
  },
  {
   "cell_type": "code",
   "execution_count": 30,
   "id": "2271d4b9-0f5f-4c00-b748-9f693ca261c2",
   "metadata": {},
   "outputs": [],
   "source": [
    "products_high = subset_high['product_name'].value_counts()"
   ]
  },
  {
   "cell_type": "code",
   "execution_count": 31,
   "id": "1d583491-6f86-4c5f-bec8-a3dac4d9f3f0",
   "metadata": {},
   "outputs": [
    {
     "data": {
      "text/plain": [
       "product_name\n",
       "Banana                    116183\n",
       "Bag of Organic Bananas     93005\n",
       "Organic Strawberries       66087\n",
       "Organic Baby Spinach       59487\n",
       "Organic Hass Avocado       53743\n",
       "Organic Avocado            43923\n",
       "Large Lemon                39455\n",
       "Organic Whole Milk         36625\n",
       "Limes                      35663\n",
       "Organic Raspberries        33941\n",
       "Name: count, dtype: int64"
      ]
     },
     "execution_count": 31,
     "metadata": {},
     "output_type": "execute_result"
    }
   ],
   "source": [
    "products_high.head(10)"
   ]
  },
  {
   "cell_type": "markdown",
   "id": "b5c241b1-ed52-4659-9f85-8fc196c9cc77",
   "metadata": {},
   "source": [
    "## Top 10 in very-high-income group"
   ]
  },
  {
   "cell_type": "code",
   "execution_count": 33,
   "id": "0bd7be7e-9b04-4a28-aaf7-c3ea71b0b97d",
   "metadata": {},
   "outputs": [],
   "source": [
    "products_very_high = subset_very_high['product_name'].value_counts()"
   ]
  },
  {
   "cell_type": "code",
   "execution_count": 34,
   "id": "b04ad02c-075c-4772-bda7-da5d1825c8f7",
   "metadata": {},
   "outputs": [
    {
     "data": {
      "text/plain": [
       "product_name\n",
       "Banana                    118368\n",
       "Bag of Organic Bananas     89057\n",
       "Organic Strawberries       63623\n",
       "Organic Baby Spinach       59159\n",
       "Organic Hass Avocado       50855\n",
       "Organic Avocado            43535\n",
       "Large Lemon                38361\n",
       "Limes                      35841\n",
       "Organic Whole Milk         35146\n",
       "Organic Raspberries        33003\n",
       "Name: count, dtype: int64"
      ]
     },
     "execution_count": 34,
     "metadata": {},
     "output_type": "execute_result"
    }
   ],
   "source": [
    "products_very_high.head(10)"
   ]
  },
  {
   "cell_type": "markdown",
   "id": "f2ff0c20-b37d-4edf-b62a-a036d01ba31a",
   "metadata": {},
   "source": [
    "## Best selling departments"
   ]
  },
  {
   "cell_type": "code",
   "execution_count": 36,
   "id": "b79534a5-bdf0-46a3-9d88-4b68e5e96cdc",
   "metadata": {},
   "outputs": [
    {
     "data": {
      "text/plain": [
       "department_id\n",
       "4     9079273\n",
       "16    5176667\n",
       "19    2766406\n",
       "7     2571893\n",
       "1     2121731\n",
       "13    1782705\n",
       "3     1120828\n",
       "15    1012074\n",
       "20    1003834\n",
       "9      822136\n",
       "17     699857\n",
       "12     674781\n",
       "14     670850\n",
       "11     423791\n",
       "18     410384\n",
       "6      255991\n",
       "5      144627\n",
       "8       93060\n",
       "21      64768\n",
       "2       34411\n",
       "10      33451\n",
       "Name: count, dtype: int64"
      ]
     },
     "execution_count": 36,
     "metadata": {},
     "output_type": "execute_result"
    }
   ],
   "source": [
    "instacart['department_id'].value_counts()"
   ]
  },
  {
   "cell_type": "markdown",
   "id": "0f032904-4571-4af4-a1fd-8a05dc6a4b5f",
   "metadata": {},
   "source": [
    "## Revenue by department"
   ]
  },
  {
   "cell_type": "code",
   "execution_count": 71,
   "id": "bfdbb798-c11a-424d-9297-a5c5602db1e9",
   "metadata": {},
   "outputs": [],
   "source": [
    "#Revenue by department\n",
    "\n",
    "revenue_department = instacart.groupby(['department_id'])['prices'].transform('sum')"
   ]
  },
  {
   "cell_type": "code",
   "execution_count": 73,
   "id": "dc8554b5-bb40-47bd-957c-5d82e3da4377",
   "metadata": {},
   "outputs": [],
   "source": [
    "instacart['department_rev'] = revenue_department"
   ]
  },
  {
   "cell_type": "code",
   "execution_count": 75,
   "id": "284c5f7a-04e8-4880-9c01-95e97489024e",
   "metadata": {},
   "outputs": [],
   "source": [
    "# Subsetting just 'department_id' and 'department_rev'\n",
    "dep_subset = instacart[['department_id', 'department_rev']]"
   ]
  },
  {
   "cell_type": "code",
   "execution_count": 79,
   "id": "ae2d6f30-4059-47fe-9b7e-b1e23d9479e2",
   "metadata": {},
   "outputs": [
    {
     "data": {
      "text/plain": [
       "<bound method DataFrame.info of           department_id  department_rev\n",
       "0                    16      43116767.2\n",
       "1                     4      72455761.7\n",
       "2                    13      14287456.5\n",
       "3                    13      14287456.5\n",
       "4                    13      14287456.5\n",
       "...                 ...             ...\n",
       "32403714             17       5164910.3\n",
       "32403715             19      11827920.3\n",
       "32403716              1      16408884.0\n",
       "32403717              4      72455761.7\n",
       "32403718             19      11827920.3\n",
       "\n",
       "[30963518 rows x 2 columns]>"
      ]
     },
     "execution_count": 79,
     "metadata": {},
     "output_type": "execute_result"
    }
   ],
   "source": [
    "dep_subset.info"
   ]
  },
  {
   "cell_type": "code",
   "execution_count": 77,
   "id": "e8a1bd12-64f1-4e65-a597-93c8623987f5",
   "metadata": {},
   "outputs": [
    {
     "data": {
      "text/html": [
       "<div>\n",
       "<style scoped>\n",
       "    .dataframe tbody tr th:only-of-type {\n",
       "        vertical-align: middle;\n",
       "    }\n",
       "\n",
       "    .dataframe tbody tr th {\n",
       "        vertical-align: top;\n",
       "    }\n",
       "\n",
       "    .dataframe thead th {\n",
       "        text-align: right;\n",
       "    }\n",
       "</style>\n",
       "<table border=\"1\" class=\"dataframe\">\n",
       "  <thead>\n",
       "    <tr style=\"text-align: right;\">\n",
       "      <th></th>\n",
       "      <th>department_id</th>\n",
       "      <th>department_rev</th>\n",
       "    </tr>\n",
       "  </thead>\n",
       "  <tbody>\n",
       "    <tr>\n",
       "      <th>0</th>\n",
       "      <td>16</td>\n",
       "      <td>43116767.2</td>\n",
       "    </tr>\n",
       "    <tr>\n",
       "      <th>1</th>\n",
       "      <td>4</td>\n",
       "      <td>72455761.7</td>\n",
       "    </tr>\n",
       "    <tr>\n",
       "      <th>2</th>\n",
       "      <td>13</td>\n",
       "      <td>14287456.5</td>\n",
       "    </tr>\n",
       "    <tr>\n",
       "      <th>3</th>\n",
       "      <td>13</td>\n",
       "      <td>14287456.5</td>\n",
       "    </tr>\n",
       "    <tr>\n",
       "      <th>4</th>\n",
       "      <td>13</td>\n",
       "      <td>14287456.5</td>\n",
       "    </tr>\n",
       "  </tbody>\n",
       "</table>\n",
       "</div>"
      ],
      "text/plain": [
       "   department_id  department_rev\n",
       "0             16      43116767.2\n",
       "1              4      72455761.7\n",
       "2             13      14287456.5\n",
       "3             13      14287456.5\n",
       "4             13      14287456.5"
      ]
     },
     "execution_count": 77,
     "metadata": {},
     "output_type": "execute_result"
    }
   ],
   "source": [
    "dep_subset.head()"
   ]
  },
  {
   "cell_type": "code",
   "execution_count": 81,
   "id": "5c739244-0e57-4cb1-a0e6-53297dec30ad",
   "metadata": {},
   "outputs": [],
   "source": [
    "# Creating a subset withou duplicates\n",
    "dep_subset_nodups = dep_subset.drop_duplicates()"
   ]
  },
  {
   "cell_type": "code",
   "execution_count": 83,
   "id": "f8dfcbe3-6f78-47c0-949e-011464725ca1",
   "metadata": {},
   "outputs": [
    {
     "data": {
      "text/html": [
       "<div>\n",
       "<style scoped>\n",
       "    .dataframe tbody tr th:only-of-type {\n",
       "        vertical-align: middle;\n",
       "    }\n",
       "\n",
       "    .dataframe tbody tr th {\n",
       "        vertical-align: top;\n",
       "    }\n",
       "\n",
       "    .dataframe thead th {\n",
       "        text-align: right;\n",
       "    }\n",
       "</style>\n",
       "<table border=\"1\" class=\"dataframe\">\n",
       "  <thead>\n",
       "    <tr style=\"text-align: right;\">\n",
       "      <th></th>\n",
       "      <th>department_id</th>\n",
       "      <th>department_rev</th>\n",
       "    </tr>\n",
       "  </thead>\n",
       "  <tbody>\n",
       "    <tr>\n",
       "      <th>0</th>\n",
       "      <td>16</td>\n",
       "      <td>43116767.2</td>\n",
       "    </tr>\n",
       "    <tr>\n",
       "      <th>1</th>\n",
       "      <td>4</td>\n",
       "      <td>72455761.7</td>\n",
       "    </tr>\n",
       "    <tr>\n",
       "      <th>2</th>\n",
       "      <td>13</td>\n",
       "      <td>14287456.5</td>\n",
       "    </tr>\n",
       "    <tr>\n",
       "      <th>15</th>\n",
       "      <td>12</td>\n",
       "      <td>10998953.4</td>\n",
       "    </tr>\n",
       "    <tr>\n",
       "      <th>16</th>\n",
       "      <td>3</td>\n",
       "      <td>8806886.2</td>\n",
       "    </tr>\n",
       "    <tr>\n",
       "      <th>18</th>\n",
       "      <td>11</td>\n",
       "      <td>3388456.0</td>\n",
       "    </tr>\n",
       "    <tr>\n",
       "      <th>19</th>\n",
       "      <td>19</td>\n",
       "      <td>11827920.3</td>\n",
       "    </tr>\n",
       "    <tr>\n",
       "      <th>20</th>\n",
       "      <td>14</td>\n",
       "      <td>5388030.2</td>\n",
       "    </tr>\n",
       "    <tr>\n",
       "      <th>27</th>\n",
       "      <td>7</td>\n",
       "      <td>19758722.7</td>\n",
       "    </tr>\n",
       "    <tr>\n",
       "      <th>32</th>\n",
       "      <td>20</td>\n",
       "      <td>7813188.1</td>\n",
       "    </tr>\n",
       "    <tr>\n",
       "      <th>35</th>\n",
       "      <td>17</td>\n",
       "      <td>5164910.3</td>\n",
       "    </tr>\n",
       "    <tr>\n",
       "      <th>37</th>\n",
       "      <td>6</td>\n",
       "      <td>1965702.9</td>\n",
       "    </tr>\n",
       "    <tr>\n",
       "      <th>40</th>\n",
       "      <td>9</td>\n",
       "      <td>6042181.4</td>\n",
       "    </tr>\n",
       "    <tr>\n",
       "      <th>60</th>\n",
       "      <td>1</td>\n",
       "      <td>16408884.0</td>\n",
       "    </tr>\n",
       "    <tr>\n",
       "      <th>67</th>\n",
       "      <td>15</td>\n",
       "      <td>7637778.5</td>\n",
       "    </tr>\n",
       "    <tr>\n",
       "      <th>84</th>\n",
       "      <td>18</td>\n",
       "      <td>3132984.4</td>\n",
       "    </tr>\n",
       "    <tr>\n",
       "      <th>111</th>\n",
       "      <td>8</td>\n",
       "      <td>734009.7</td>\n",
       "    </tr>\n",
       "    <tr>\n",
       "      <th>112</th>\n",
       "      <td>5</td>\n",
       "      <td>1178811.1</td>\n",
       "    </tr>\n",
       "    <tr>\n",
       "      <th>146</th>\n",
       "      <td>10</td>\n",
       "      <td>279212.8</td>\n",
       "    </tr>\n",
       "    <tr>\n",
       "      <th>665</th>\n",
       "      <td>2</td>\n",
       "      <td>239569.2</td>\n",
       "    </tr>\n",
       "    <tr>\n",
       "      <th>1418</th>\n",
       "      <td>21</td>\n",
       "      <td>560933.3</td>\n",
       "    </tr>\n",
       "  </tbody>\n",
       "</table>\n",
       "</div>"
      ],
      "text/plain": [
       "      department_id  department_rev\n",
       "0                16      43116767.2\n",
       "1                 4      72455761.7\n",
       "2                13      14287456.5\n",
       "15               12      10998953.4\n",
       "16                3       8806886.2\n",
       "18               11       3388456.0\n",
       "19               19      11827920.3\n",
       "20               14       5388030.2\n",
       "27                7      19758722.7\n",
       "32               20       7813188.1\n",
       "35               17       5164910.3\n",
       "37                6       1965702.9\n",
       "40                9       6042181.4\n",
       "60                1      16408884.0\n",
       "67               15       7637778.5\n",
       "84               18       3132984.4\n",
       "111               8        734009.7\n",
       "112               5       1178811.1\n",
       "146              10        279212.8\n",
       "665               2        239569.2\n",
       "1418             21        560933.3"
      ]
     },
     "execution_count": 83,
     "metadata": {},
     "output_type": "execute_result"
    }
   ],
   "source": [
    "dep_subset_nodups"
   ]
  },
  {
   "cell_type": "code",
   "execution_count": 87,
   "id": "0d0416f0-6c8c-4336-be0d-d2797d8a55ea",
   "metadata": {},
   "outputs": [],
   "source": [
    "dep_subset_nodups = dep_subset_nodups.sort_values(by='department_rev', ascending=False)\n",
    "\n"
   ]
  },
  {
   "cell_type": "code",
   "execution_count": 89,
   "id": "6a8b6c21-f740-44c8-9b08-e9fabedb0109",
   "metadata": {},
   "outputs": [
    {
     "data": {
      "text/html": [
       "<div>\n",
       "<style scoped>\n",
       "    .dataframe tbody tr th:only-of-type {\n",
       "        vertical-align: middle;\n",
       "    }\n",
       "\n",
       "    .dataframe tbody tr th {\n",
       "        vertical-align: top;\n",
       "    }\n",
       "\n",
       "    .dataframe thead th {\n",
       "        text-align: right;\n",
       "    }\n",
       "</style>\n",
       "<table border=\"1\" class=\"dataframe\">\n",
       "  <thead>\n",
       "    <tr style=\"text-align: right;\">\n",
       "      <th></th>\n",
       "      <th>department_id</th>\n",
       "      <th>department_rev</th>\n",
       "    </tr>\n",
       "  </thead>\n",
       "  <tbody>\n",
       "    <tr>\n",
       "      <th>1</th>\n",
       "      <td>4</td>\n",
       "      <td>72455761.7</td>\n",
       "    </tr>\n",
       "    <tr>\n",
       "      <th>0</th>\n",
       "      <td>16</td>\n",
       "      <td>43116767.2</td>\n",
       "    </tr>\n",
       "    <tr>\n",
       "      <th>27</th>\n",
       "      <td>7</td>\n",
       "      <td>19758722.7</td>\n",
       "    </tr>\n",
       "    <tr>\n",
       "      <th>60</th>\n",
       "      <td>1</td>\n",
       "      <td>16408884.0</td>\n",
       "    </tr>\n",
       "    <tr>\n",
       "      <th>2</th>\n",
       "      <td>13</td>\n",
       "      <td>14287456.5</td>\n",
       "    </tr>\n",
       "    <tr>\n",
       "      <th>19</th>\n",
       "      <td>19</td>\n",
       "      <td>11827920.3</td>\n",
       "    </tr>\n",
       "    <tr>\n",
       "      <th>15</th>\n",
       "      <td>12</td>\n",
       "      <td>10998953.4</td>\n",
       "    </tr>\n",
       "    <tr>\n",
       "      <th>16</th>\n",
       "      <td>3</td>\n",
       "      <td>8806886.2</td>\n",
       "    </tr>\n",
       "    <tr>\n",
       "      <th>32</th>\n",
       "      <td>20</td>\n",
       "      <td>7813188.1</td>\n",
       "    </tr>\n",
       "    <tr>\n",
       "      <th>67</th>\n",
       "      <td>15</td>\n",
       "      <td>7637778.5</td>\n",
       "    </tr>\n",
       "    <tr>\n",
       "      <th>40</th>\n",
       "      <td>9</td>\n",
       "      <td>6042181.4</td>\n",
       "    </tr>\n",
       "    <tr>\n",
       "      <th>20</th>\n",
       "      <td>14</td>\n",
       "      <td>5388030.2</td>\n",
       "    </tr>\n",
       "    <tr>\n",
       "      <th>35</th>\n",
       "      <td>17</td>\n",
       "      <td>5164910.3</td>\n",
       "    </tr>\n",
       "    <tr>\n",
       "      <th>18</th>\n",
       "      <td>11</td>\n",
       "      <td>3388456.0</td>\n",
       "    </tr>\n",
       "    <tr>\n",
       "      <th>84</th>\n",
       "      <td>18</td>\n",
       "      <td>3132984.4</td>\n",
       "    </tr>\n",
       "    <tr>\n",
       "      <th>37</th>\n",
       "      <td>6</td>\n",
       "      <td>1965702.9</td>\n",
       "    </tr>\n",
       "    <tr>\n",
       "      <th>112</th>\n",
       "      <td>5</td>\n",
       "      <td>1178811.1</td>\n",
       "    </tr>\n",
       "    <tr>\n",
       "      <th>111</th>\n",
       "      <td>8</td>\n",
       "      <td>734009.7</td>\n",
       "    </tr>\n",
       "    <tr>\n",
       "      <th>1418</th>\n",
       "      <td>21</td>\n",
       "      <td>560933.3</td>\n",
       "    </tr>\n",
       "    <tr>\n",
       "      <th>146</th>\n",
       "      <td>10</td>\n",
       "      <td>279212.8</td>\n",
       "    </tr>\n",
       "    <tr>\n",
       "      <th>665</th>\n",
       "      <td>2</td>\n",
       "      <td>239569.2</td>\n",
       "    </tr>\n",
       "  </tbody>\n",
       "</table>\n",
       "</div>"
      ],
      "text/plain": [
       "      department_id  department_rev\n",
       "1                 4      72455761.7\n",
       "0                16      43116767.2\n",
       "27                7      19758722.7\n",
       "60                1      16408884.0\n",
       "2                13      14287456.5\n",
       "19               19      11827920.3\n",
       "15               12      10998953.4\n",
       "16                3       8806886.2\n",
       "32               20       7813188.1\n",
       "67               15       7637778.5\n",
       "40                9       6042181.4\n",
       "20               14       5388030.2\n",
       "35               17       5164910.3\n",
       "18               11       3388456.0\n",
       "84               18       3132984.4\n",
       "37                6       1965702.9\n",
       "112               5       1178811.1\n",
       "111               8        734009.7\n",
       "1418             21        560933.3\n",
       "146              10        279212.8\n",
       "665               2        239569.2"
      ]
     },
     "execution_count": 89,
     "metadata": {},
     "output_type": "execute_result"
    }
   ],
   "source": [
    "dep_subset_nodups"
   ]
  },
  {
   "cell_type": "markdown",
   "id": "8c6e0dc0-b24f-4dd5-8457-bee23f9031c7",
   "metadata": {},
   "source": [
    "## 3. Exporting "
   ]
  },
  {
   "cell_type": "code",
   "execution_count": 57,
   "id": "9fdd56a8-4b73-4941-a1b8-cfb94572c42e",
   "metadata": {},
   "outputs": [
    {
     "name": "stdout",
     "output_type": "stream",
     "text": [
      "None\n"
     ]
    }
   ],
   "source": [
    "print(data_dict.get('32403714'))"
   ]
  },
  {
   "cell_type": "code",
   "execution_count": 38,
   "id": "a14bda11-1381-4dba-8efc-e0885ce88799",
   "metadata": {},
   "outputs": [],
   "source": [
    "instacart.to_pickle(os.path.join(path, 'Data', 'Final Prepared Data', 'IC_high_activity_2.pkl'))"
   ]
  },
  {
   "cell_type": "code",
   "execution_count": 39,
   "id": "c76d08a3-b354-460a-b7ee-430cc8918b75",
   "metadata": {},
   "outputs": [],
   "source": [
    "instacart.to_pickle(os.path.join(path, 'Data', 'Final Prepared Data', 'backup', 'IC_high_activity_2.pkl'))"
   ]
  },
  {
   "cell_type": "markdown",
   "id": "c667eb79-ddd8-408b-8866-419a077ef9ea",
   "metadata": {},
   "source": [
    "## Importing data dictionary for dapartment_id"
   ]
  },
  {
   "cell_type": "code",
   "execution_count": 20,
   "id": "79b29525-8c22-410d-88c2-e7a05856a877",
   "metadata": {},
   "outputs": [],
   "source": [
    "data_dict = pd.read_csv(os.path.join (path, 'Data', 'Final Prepared Data', 'depart_data_dict.csv'))"
   ]
  },
  {
   "cell_type": "code",
   "execution_count": 70,
   "id": "f6dcdd96-3346-4489-a332-911bffd351bf",
   "metadata": {},
   "outputs": [
    {
     "name": "stdout",
     "output_type": "stream",
     "text": [
      "0    snacks\n",
      "Name: 19, dtype: object\n"
     ]
    }
   ],
   "source": [
    "print(data_dict.get('19'))"
   ]
  },
  {
   "cell_type": "code",
   "execution_count": 73,
   "id": "65124cd2-39bd-434e-b559-449fd9e33887",
   "metadata": {},
   "outputs": [
    {
     "name": "stdout",
     "output_type": "stream",
     "text": [
      "0    produce\n",
      "Name: 4, dtype: object\n"
     ]
    }
   ],
   "source": [
    "print(data_dict.get('4'))"
   ]
  },
  {
   "cell_type": "code",
   "execution_count": 75,
   "id": "1a0b9f52-78c1-430f-98cd-242fdb814a15",
   "metadata": {},
   "outputs": [
    {
     "name": "stdout",
     "output_type": "stream",
     "text": [
      "0    dairy eggs\n",
      "Name: 16, dtype: object\n"
     ]
    }
   ],
   "source": [
    "print(data_dict.get('16'))"
   ]
  },
  {
   "cell_type": "code",
   "execution_count": 77,
   "id": "c79de269-e585-4b17-8a44-827af078e51b",
   "metadata": {},
   "outputs": [
    {
     "name": "stdout",
     "output_type": "stream",
     "text": [
      "0    snacks\n",
      "Name: 19, dtype: object\n"
     ]
    }
   ],
   "source": [
    "print(data_dict.get('19'))"
   ]
  },
  {
   "cell_type": "code",
   "execution_count": 79,
   "id": "4036b652-144f-4565-a95b-849712ed1029",
   "metadata": {},
   "outputs": [
    {
     "name": "stdout",
     "output_type": "stream",
     "text": [
      "0    beverages\n",
      "Name: 7, dtype: object\n"
     ]
    }
   ],
   "source": [
    "print(data_dict.get('7'))"
   ]
  },
  {
   "cell_type": "code",
   "execution_count": 83,
   "id": "5b558bd8-51a6-48cb-9a2e-bdc69e936ac7",
   "metadata": {},
   "outputs": [
    {
     "name": "stdout",
     "output_type": "stream",
     "text": [
      "0    frozen\n",
      "Name: 1, dtype: object\n"
     ]
    }
   ],
   "source": [
    "print(data_dict.get('1'))"
   ]
  },
  {
   "cell_type": "code",
   "execution_count": 91,
   "id": "4793a230-01a8-4537-9dae-bc9df79dc112",
   "metadata": {},
   "outputs": [
    {
     "name": "stdout",
     "output_type": "stream",
     "text": [
      "0    pantry\n",
      "Name: 13, dtype: object\n"
     ]
    }
   ],
   "source": [
    "print(data_dict.get('13'))"
   ]
  },
  {
   "cell_type": "code",
   "execution_count": null,
   "id": "bcc0fe92-8981-4835-a272-df0410653d61",
   "metadata": {},
   "outputs": [],
   "source": []
  }
 ],
 "metadata": {
  "kernelspec": {
   "display_name": "Python 3 (ipykernel)",
   "language": "python",
   "name": "python3"
  },
  "language_info": {
   "codemirror_mode": {
    "name": "ipython",
    "version": 3
   },
   "file_extension": ".py",
   "mimetype": "text/x-python",
   "name": "python",
   "nbconvert_exporter": "python",
   "pygments_lexer": "ipython3",
   "version": "3.11.7"
  }
 },
 "nbformat": 4,
 "nbformat_minor": 5
}
