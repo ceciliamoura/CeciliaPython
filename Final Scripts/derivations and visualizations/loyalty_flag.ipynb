{
 "cells": [
  {
   "cell_type": "markdown",
   "id": "50f61140-1556-47c9-8838-5fba045597a7",
   "metadata": {},
   "source": [
    "# Creating loyalty_flag"
   ]
  },
  {
   "cell_type": "markdown",
   "id": "a9a2c155-90ff-4f54-93c0-775c30a9d8be",
   "metadata": {},
   "source": [
    "## Importing libraries"
   ]
  },
  {
   "cell_type": "code",
   "execution_count": 1,
   "id": "60773bb8-39c2-49e8-98b7-debfc7d820d4",
   "metadata": {},
   "outputs": [],
   "source": [
    "import pandas as pd\n",
    "import numpy as np\n",
    "import os"
   ]
  },
  {
   "cell_type": "markdown",
   "id": "99d828de-8526-48df-a0b4-de1c50bab8b6",
   "metadata": {},
   "source": [
    "## Creating path for folder"
   ]
  },
  {
   "cell_type": "code",
   "execution_count": 3,
   "id": "26f85267-8787-408c-8337-01ffd8549541",
   "metadata": {},
   "outputs": [],
   "source": [
    "path = r'/Users/ceciliamoura/Desktop/Career Foundry/Achievement4/Instacart Basket Analysis'"
   ]
  },
  {
   "cell_type": "markdown",
   "id": "3c5ed110-d6bc-4b59-aea7-cd8f8283d74e",
   "metadata": {},
   "source": [
    "## Importing files"
   ]
  },
  {
   "cell_type": "code",
   "execution_count": 9,
   "id": "72e1861f-99c1-4ef6-82cf-d248d834dcfd",
   "metadata": {},
   "outputs": [],
   "source": [
    "# Importing subset with only high activity customers"
   ]
  },
  {
   "cell_type": "code",
   "execution_count": 5,
   "id": "d300656a-f4b6-462b-a913-b92c7f3f88e4",
   "metadata": {},
   "outputs": [],
   "source": [
    "instacart = pd.read_pickle(os.path.join (path, 'Data', 'Final Prepared Data', 'IC_high_activity_2.pkl'))"
   ]
  },
  {
   "cell_type": "code",
   "execution_count": 15,
   "id": "ad21a974-2bf0-4e63-bf82-74e179a65948",
   "metadata": {},
   "outputs": [
    {
     "data": {
      "text/plain": [
       "Index(['order_id', 'product_id', 'add_to_cart_order', 'reordered', 'user_id',\n",
       "       'order_number', 'order_day_of_week', 'order_time',\n",
       "       'days_since_prior_order', 'product_name', 'aisle_id', 'department_id',\n",
       "       'prices', 'Gender', 'State', 'Age', 'date_joined', 'n_dependants',\n",
       "       'fam_status', 'income', 'max_order', 'max_order_per_user',\n",
       "       'products_per_order', 'order_cost', 'Region', 'age_group',\n",
       "       'loyalty_flag', 'mean_order_cost_per_user', 'spending_flag',\n",
       "       'income_group', 'median_days_since_prior_order_per_user', 'freq_buyer'],\n",
       "      dtype='object')"
      ]
     },
     "execution_count": 15,
     "metadata": {},
     "output_type": "execute_result"
    }
   ],
   "source": [
    "instacart.columns"
   ]
  },
  {
   "cell_type": "code",
   "execution_count": 17,
   "id": "7ae7d189-88ad-4a93-9f78-2bd4d4daa0cd",
   "metadata": {},
   "outputs": [
    {
     "data": {
      "text/plain": [
       "(30963518, 32)"
      ]
     },
     "execution_count": 17,
     "metadata": {},
     "output_type": "execute_result"
    }
   ],
   "source": [
    "instacart.shape"
   ]
  },
  {
   "cell_type": "markdown",
   "id": "4ca81e4d-4700-4bbc-a17e-61afb8467a04",
   "metadata": {},
   "source": [
    "## 1. Creating loyalty flag"
   ]
  },
  {
   "cell_type": "code",
   "execution_count": 20,
   "id": "2648df6b-ef58-4e8e-9b96-fa3b182ee899",
   "metadata": {},
   "outputs": [],
   "source": [
    "# loyalty will vary from \n",
    "# Loyal customer for max_order_per_user >40\n",
    "# Regular customer for max_order_per_user <=40 and >10\n",
    "# New customer for max_order_per_user <=10"
   ]
  },
  {
   "cell_type": "code",
   "execution_count": 22,
   "id": "8703d1e3-c5e7-4c16-9b41-02b54c313b11",
   "metadata": {},
   "outputs": [],
   "source": [
    "# Creating new column with the result\n",
    "\n",
    "loyalty_flag = [\n",
    "    'Loyal customer' if value > 40 else\n",
    "    'Regular customer' if 10 < value <= 40 else\n",
    "    'New customer' \n",
    "    for value in instacart['max_order_per_user']\n",
    "]"
   ]
  },
  {
   "cell_type": "code",
   "execution_count": 23,
   "id": "d70423c4-fef5-422a-918f-1ce547bf641a",
   "metadata": {},
   "outputs": [],
   "source": [
    "# adding new column to instacart dataframe\n",
    "\n",
    "instacart['loyalty_flag'] = loyalty_flag"
   ]
  },
  {
   "cell_type": "code",
   "execution_count": 24,
   "id": "56bc6f3c-8e67-4a7b-89c6-522a73d2da12",
   "metadata": {},
   "outputs": [
    {
     "data": {
      "text/plain": [
       "loyalty_flag\n",
       "Regular customer    15876106\n",
       "Loyal customer      10283957\n",
       "New customer         4803455\n",
       "Name: count, dtype: int64"
      ]
     },
     "execution_count": 24,
     "metadata": {},
     "output_type": "execute_result"
    }
   ],
   "source": [
    "instacart['loyalty_flag'].value_counts(dropna = False)"
   ]
  },
  {
   "cell_type": "markdown",
   "id": "74f9b162-6605-47ce-a900-faa101c6274b",
   "metadata": {},
   "source": [
    "## 2. Creating a bar chart of customer distribution by \"loyalty\""
   ]
  },
  {
   "cell_type": "code",
   "execution_count": 28,
   "id": "a3068248-b9da-456f-9396-01924cd8f896",
   "metadata": {},
   "outputs": [],
   "source": [
    "# Creating a subset with unique entries for each user_id\n",
    "\n",
    "bar_loyalty = instacart[['loyalty_flag', 'user_id']]"
   ]
  },
  {
   "cell_type": "code",
   "execution_count": 30,
   "id": "f43ae9d5-e3cb-429b-a97e-8fd383d13daa",
   "metadata": {},
   "outputs": [
    {
     "data": {
      "text/plain": [
       "(30963518, 2)"
      ]
     },
     "execution_count": 30,
     "metadata": {},
     "output_type": "execute_result"
    }
   ],
   "source": [
    "bar_loyalty.shape"
   ]
  },
  {
   "cell_type": "code",
   "execution_count": 33,
   "id": "78328ded-0d82-4993-95f5-9ca4ab79c38e",
   "metadata": {},
   "outputs": [],
   "source": [
    "# Creating a subset withou duplicates\n",
    "\n",
    "bar_loyalty_nodups = bar_loyalty.drop_duplicates()"
   ]
  },
  {
   "cell_type": "code",
   "execution_count": 34,
   "id": "0ba79f7d-c3fd-4bfc-83c9-1457df275bf1",
   "metadata": {},
   "outputs": [
    {
     "data": {
      "text/plain": [
       "(162631, 2)"
      ]
     },
     "execution_count": 34,
     "metadata": {},
     "output_type": "execute_result"
    }
   ],
   "source": [
    "bar_loyalty_nodups.shape"
   ]
  },
  {
   "cell_type": "code",
   "execution_count": 37,
   "id": "a72152f0-4491-4f9f-80a4-91c383e2896b",
   "metadata": {},
   "outputs": [
    {
     "data": {
      "text/plain": [
       "loyalty_flag\n",
       "Regular customer    76864\n",
       "New customer        68750\n",
       "Loyal customer      17017\n",
       "Name: count, dtype: int64"
      ]
     },
     "execution_count": 37,
     "metadata": {},
     "output_type": "execute_result"
    }
   ],
   "source": [
    "bar_loyalty_nodups['loyalty_flag'].value_counts(dropna = False)"
   ]
  },
  {
   "cell_type": "code",
   "execution_count": 39,
   "id": "eebfbcfa-a4ea-4da5-9711-8156a9d3c019",
   "metadata": {},
   "outputs": [
    {
     "data": {
      "image/png": "[encoded data removed]",
      "text/plain": [
       "<Figure size 640x480 with 1 Axes>"
      ]
     },
     "metadata": {},
     "output_type": "display_data"
    }
   ],
   "source": [
    "#Creating a bar chart\n",
    "\n",
    "bar_loyalty = bar_loyalty_nodups['loyalty_flag'].value_counts().plot.bar()\n"
   ]
  },
  {
   "cell_type": "code",
   "execution_count": 41,
   "id": "12e33bc9-7e70-4648-8c33-48f2a0755657",
   "metadata": {},
   "outputs": [],
   "source": [
    "# exporting plot\n",
    "\n",
    "bar_loyalty.figure.savefig(os.path.join(path, 'Analysis','Final Visualization', 'bar_loyalty.png'))"
   ]
  },
  {
   "cell_type": "markdown",
   "id": "b50827b9-fd06-4a5b-98a3-538c1c1d0ffc",
   "metadata": {},
   "source": [
    "## 3. Creating basis stats for each \"loyalty\" category"
   ]
  },
  {
   "cell_type": "code",
   "execution_count": 23,
   "id": "428309d2-92ce-481d-b1a3-b934725ce326",
   "metadata": {},
   "outputs": [],
   "source": [
    "# Creating a subset with unique entries for each user_id\n",
    "\n",
    "order_cost_loyalty = instacart[['loyalty_flag', 'user_id','order_id', 'order_cost', 'products_per_order', 'Region', 'age_group', 'fam_status']]"
   ]
  },
  {
   "cell_type": "code",
   "execution_count": 25,
   "id": "1a983312-1120-4c06-b999-b4059a107712",
   "metadata": {},
   "outputs": [
    {
     "data": {
      "text/plain": [
       "(30963518, 8)"
      ]
     },
     "execution_count": 25,
     "metadata": {},
     "output_type": "execute_result"
    }
   ],
   "source": [
    "order_cost_loyalty.shape"
   ]
  },
  {
   "cell_type": "code",
   "execution_count": 27,
   "id": "56f1c347-0564-4349-b132-24766b19c931",
   "metadata": {},
   "outputs": [
    {
     "data": {
      "text/html": [
       "<div>\n",
       "<style scoped>\n",
       "    .dataframe tbody tr th:only-of-type {\n",
       "        vertical-align: middle;\n",
       "    }\n",
       "\n",
       "    .dataframe tbody tr th {\n",
       "        vertical-align: top;\n",
       "    }\n",
       "\n",
       "    .dataframe thead th {\n",
       "        text-align: right;\n",
       "    }\n",
       "</style>\n",
       "<table border=\"1\" class=\"dataframe\">\n",
       "  <thead>\n",
       "    <tr style=\"text-align: right;\">\n",
       "      <th></th>\n",
       "      <th>loyalty_flag</th>\n",
       "      <th>user_id</th>\n",
       "      <th>order_id</th>\n",
       "      <th>order_cost</th>\n",
       "    </tr>\n",
       "  </thead>\n",
       "  <tbody>\n",
       "    <tr>\n",
       "      <th>0</th>\n",
       "      <td>New customer</td>\n",
       "      <td>202279</td>\n",
       "      <td>2</td>\n",
       "      <td>91.6</td>\n",
       "    </tr>\n",
       "    <tr>\n",
       "      <th>1</th>\n",
       "      <td>New customer</td>\n",
       "      <td>202279</td>\n",
       "      <td>2</td>\n",
       "      <td>91.6</td>\n",
       "    </tr>\n",
       "    <tr>\n",
       "      <th>2</th>\n",
       "      <td>New customer</td>\n",
       "      <td>202279</td>\n",
       "      <td>2</td>\n",
       "      <td>91.6</td>\n",
       "    </tr>\n",
       "    <tr>\n",
       "      <th>3</th>\n",
       "      <td>New customer</td>\n",
       "      <td>202279</td>\n",
       "      <td>2</td>\n",
       "      <td>91.6</td>\n",
       "    </tr>\n",
       "    <tr>\n",
       "      <th>4</th>\n",
       "      <td>New customer</td>\n",
       "      <td>202279</td>\n",
       "      <td>2</td>\n",
       "      <td>91.6</td>\n",
       "    </tr>\n",
       "    <tr>\n",
       "      <th>5</th>\n",
       "      <td>New customer</td>\n",
       "      <td>202279</td>\n",
       "      <td>2</td>\n",
       "      <td>91.6</td>\n",
       "    </tr>\n",
       "    <tr>\n",
       "      <th>6</th>\n",
       "      <td>New customer</td>\n",
       "      <td>202279</td>\n",
       "      <td>2</td>\n",
       "      <td>91.6</td>\n",
       "    </tr>\n",
       "    <tr>\n",
       "      <th>7</th>\n",
       "      <td>New customer</td>\n",
       "      <td>202279</td>\n",
       "      <td>2</td>\n",
       "      <td>91.6</td>\n",
       "    </tr>\n",
       "    <tr>\n",
       "      <th>8</th>\n",
       "      <td>New customer</td>\n",
       "      <td>202279</td>\n",
       "      <td>2</td>\n",
       "      <td>91.6</td>\n",
       "    </tr>\n",
       "    <tr>\n",
       "      <th>9</th>\n",
       "      <td>Regular customer</td>\n",
       "      <td>205970</td>\n",
       "      <td>3</td>\n",
       "      <td>70.3</td>\n",
       "    </tr>\n",
       "  </tbody>\n",
       "</table>\n",
       "</div>"
      ],
      "text/plain": [
       "       loyalty_flag user_id order_id  order_cost\n",
       "0      New customer  202279        2        91.6\n",
       "1      New customer  202279        2        91.6\n",
       "2      New customer  202279        2        91.6\n",
       "3      New customer  202279        2        91.6\n",
       "4      New customer  202279        2        91.6\n",
       "5      New customer  202279        2        91.6\n",
       "6      New customer  202279        2        91.6\n",
       "7      New customer  202279        2        91.6\n",
       "8      New customer  202279        2        91.6\n",
       "9  Regular customer  205970        3        70.3"
      ]
     },
     "execution_count": 27,
     "metadata": {},
     "output_type": "execute_result"
    }
   ],
   "source": [
    "order_cost_loyalty.head(10)"
   ]
  },
  {
   "cell_type": "code",
   "execution_count": 27,
   "id": "1099e8bf-995b-44ea-8176-859096b465f8",
   "metadata": {},
   "outputs": [],
   "source": [
    "# Creating a subset withou duplicates\n",
    "\n",
    "order_cost_loyalty = order_cost_loyalty.drop_duplicates()"
   ]
  },
  {
   "cell_type": "code",
   "execution_count": 29,
   "id": "cfc19540-4a6f-4c2a-b543-6f5c1db6f56b",
   "metadata": {},
   "outputs": [
    {
     "data": {
      "text/plain": [
       "(3064375, 8)"
      ]
     },
     "execution_count": 29,
     "metadata": {},
     "output_type": "execute_result"
    }
   ],
   "source": [
    "order_cost_loyalty.shape"
   ]
  },
  {
   "cell_type": "code",
   "execution_count": 30,
   "id": "48e6e513-f463-4ab0-95ff-985accc50f13",
   "metadata": {},
   "outputs": [
    {
     "data": {
      "text/html": [
       "<div>\n",
       "<style scoped>\n",
       "    .dataframe tbody tr th:only-of-type {\n",
       "        vertical-align: middle;\n",
       "    }\n",
       "\n",
       "    .dataframe tbody tr th {\n",
       "        vertical-align: top;\n",
       "    }\n",
       "\n",
       "    .dataframe thead th {\n",
       "        text-align: right;\n",
       "    }\n",
       "</style>\n",
       "<table border=\"1\" class=\"dataframe\">\n",
       "  <thead>\n",
       "    <tr style=\"text-align: right;\">\n",
       "      <th></th>\n",
       "      <th>loyalty_flag</th>\n",
       "      <th>user_id</th>\n",
       "      <th>order_id</th>\n",
       "      <th>order_cost</th>\n",
       "    </tr>\n",
       "  </thead>\n",
       "  <tbody>\n",
       "    <tr>\n",
       "      <th>0</th>\n",
       "      <td>New customer</td>\n",
       "      <td>202279</td>\n",
       "      <td>2</td>\n",
       "      <td>91.6</td>\n",
       "    </tr>\n",
       "    <tr>\n",
       "      <th>9</th>\n",
       "      <td>Regular customer</td>\n",
       "      <td>205970</td>\n",
       "      <td>3</td>\n",
       "      <td>70.3</td>\n",
       "    </tr>\n",
       "    <tr>\n",
       "      <th>17</th>\n",
       "      <td>Loyal customer</td>\n",
       "      <td>178520</td>\n",
       "      <td>4</td>\n",
       "      <td>92.8</td>\n",
       "    </tr>\n",
       "    <tr>\n",
       "      <th>30</th>\n",
       "      <td>Loyal customer</td>\n",
       "      <td>156122</td>\n",
       "      <td>5</td>\n",
       "      <td>210.7</td>\n",
       "    </tr>\n",
       "    <tr>\n",
       "      <th>56</th>\n",
       "      <td>New customer</td>\n",
       "      <td>22352</td>\n",
       "      <td>6</td>\n",
       "      <td>27.5</td>\n",
       "    </tr>\n",
       "  </tbody>\n",
       "</table>\n",
       "</div>"
      ],
      "text/plain": [
       "        loyalty_flag user_id order_id  order_cost\n",
       "0       New customer  202279        2        91.6\n",
       "9   Regular customer  205970        3        70.3\n",
       "17    Loyal customer  178520        4        92.8\n",
       "30    Loyal customer  156122        5       210.7\n",
       "56      New customer   22352        6        27.5"
      ]
     },
     "execution_count": 30,
     "metadata": {},
     "output_type": "execute_result"
    }
   ],
   "source": [
    "order_cost_loyalty.head()"
   ]
  },
  {
   "cell_type": "code",
   "execution_count": 31,
   "id": "635d136d-16f8-497b-999d-422b9b8f1fe4",
   "metadata": {},
   "outputs": [
    {
     "data": {
      "text/html": [
       "<div>\n",
       "<style scoped>\n",
       "    .dataframe tbody tr th:only-of-type {\n",
       "        vertical-align: middle;\n",
       "    }\n",
       "\n",
       "    .dataframe tbody tr th {\n",
       "        vertical-align: top;\n",
       "    }\n",
       "\n",
       "    .dataframe thead tr th {\n",
       "        text-align: left;\n",
       "    }\n",
       "\n",
       "    .dataframe thead tr:last-of-type th {\n",
       "        text-align: right;\n",
       "    }\n",
       "</style>\n",
       "<table border=\"1\" class=\"dataframe\">\n",
       "  <thead>\n",
       "    <tr>\n",
       "      <th></th>\n",
       "      <th>order_cost</th>\n",
       "    </tr>\n",
       "    <tr>\n",
       "      <th></th>\n",
       "      <th>mean</th>\n",
       "    </tr>\n",
       "    <tr>\n",
       "      <th>loyalty_flag</th>\n",
       "      <th></th>\n",
       "    </tr>\n",
       "  </thead>\n",
       "  <tbody>\n",
       "    <tr>\n",
       "      <th>Loyal customer</th>\n",
       "      <td>78.020082</td>\n",
       "    </tr>\n",
       "    <tr>\n",
       "      <th>New customer</th>\n",
       "      <td>76.978094</td>\n",
       "    </tr>\n",
       "    <tr>\n",
       "      <th>Regular customer</th>\n",
       "      <td>79.701540</td>\n",
       "    </tr>\n",
       "  </tbody>\n",
       "</table>\n",
       "</div>"
      ],
      "text/plain": [
       "                 order_cost\n",
       "                       mean\n",
       "loyalty_flag               \n",
       "Loyal customer    78.020082\n",
       "New customer      76.978094\n",
       "Regular customer  79.701540"
      ]
     },
     "execution_count": 31,
     "metadata": {},
     "output_type": "execute_result"
    }
   ],
   "source": [
    "order_cost_loyalty.groupby('loyalty_flag').agg({'order_cost':['mean']})"
   ]
  },
  {
   "cell_type": "code",
   "execution_count": 32,
   "id": "b85de228-752c-4062-8975-a363ec6d8639",
   "metadata": {},
   "outputs": [
    {
     "data": {
      "text/html": [
       "<div>\n",
       "<style scoped>\n",
       "    .dataframe tbody tr th:only-of-type {\n",
       "        vertical-align: middle;\n",
       "    }\n",
       "\n",
       "    .dataframe tbody tr th {\n",
       "        vertical-align: top;\n",
       "    }\n",
       "\n",
       "    .dataframe thead tr th {\n",
       "        text-align: left;\n",
       "    }\n",
       "\n",
       "    .dataframe thead tr:last-of-type th {\n",
       "        text-align: right;\n",
       "    }\n",
       "</style>\n",
       "<table border=\"1\" class=\"dataframe\">\n",
       "  <thead>\n",
       "    <tr>\n",
       "      <th></th>\n",
       "      <th>order_cost</th>\n",
       "    </tr>\n",
       "    <tr>\n",
       "      <th></th>\n",
       "      <th>median</th>\n",
       "    </tr>\n",
       "    <tr>\n",
       "      <th>loyalty_flag</th>\n",
       "      <th></th>\n",
       "    </tr>\n",
       "  </thead>\n",
       "  <tbody>\n",
       "    <tr>\n",
       "      <th>Loyal customer</th>\n",
       "      <td>63.6</td>\n",
       "    </tr>\n",
       "    <tr>\n",
       "      <th>New customer</th>\n",
       "      <td>63.0</td>\n",
       "    </tr>\n",
       "    <tr>\n",
       "      <th>Regular customer</th>\n",
       "      <td>65.5</td>\n",
       "    </tr>\n",
       "  </tbody>\n",
       "</table>\n",
       "</div>"
      ],
      "text/plain": [
       "                 order_cost\n",
       "                     median\n",
       "loyalty_flag               \n",
       "Loyal customer         63.6\n",
       "New customer           63.0\n",
       "Regular customer       65.5"
      ]
     },
     "execution_count": 32,
     "metadata": {},
     "output_type": "execute_result"
    }
   ],
   "source": [
    "#use this plot, since data is right skewed\n",
    "\n",
    "order_cost_loyalty.groupby('loyalty_flag').agg({'order_cost':['median']})"
   ]
  },
  {
   "cell_type": "code",
   "execution_count": 33,
   "id": "0ac4ebe2-1439-4a41-9682-7e0cf706809b",
   "metadata": {},
   "outputs": [],
   "source": [
    "#---- HOW TO PRESENT THIS IS GRAPH?"
   ]
  },
  {
   "cell_type": "code",
   "execution_count": 48,
   "id": "96fe9848-647c-49b4-8757-459465cbc3e4",
   "metadata": {},
   "outputs": [
    {
     "data": {
      "text/html": [
       "<div>\n",
       "<style scoped>\n",
       "    .dataframe tbody tr th:only-of-type {\n",
       "        vertical-align: middle;\n",
       "    }\n",
       "\n",
       "    .dataframe tbody tr th {\n",
       "        vertical-align: top;\n",
       "    }\n",
       "\n",
       "    .dataframe thead tr th {\n",
       "        text-align: left;\n",
       "    }\n",
       "\n",
       "    .dataframe thead tr:last-of-type th {\n",
       "        text-align: right;\n",
       "    }\n",
       "</style>\n",
       "<table border=\"1\" class=\"dataframe\">\n",
       "  <thead>\n",
       "    <tr>\n",
       "      <th></th>\n",
       "      <th colspan=\"3\" halign=\"left\">products_per_order</th>\n",
       "    </tr>\n",
       "    <tr>\n",
       "      <th></th>\n",
       "      <th>median</th>\n",
       "      <th>min</th>\n",
       "      <th>max</th>\n",
       "    </tr>\n",
       "    <tr>\n",
       "      <th>loyalty_flag</th>\n",
       "      <th></th>\n",
       "      <th></th>\n",
       "      <th></th>\n",
       "    </tr>\n",
       "  </thead>\n",
       "  <tbody>\n",
       "    <tr>\n",
       "      <th>Loyal customer</th>\n",
       "      <td>14.0</td>\n",
       "      <td>1</td>\n",
       "      <td>137</td>\n",
       "    </tr>\n",
       "    <tr>\n",
       "      <th>New customer</th>\n",
       "      <td>14.0</td>\n",
       "      <td>1</td>\n",
       "      <td>102</td>\n",
       "    </tr>\n",
       "    <tr>\n",
       "      <th>Regular customer</th>\n",
       "      <td>14.0</td>\n",
       "      <td>1</td>\n",
       "      <td>145</td>\n",
       "    </tr>\n",
       "  </tbody>\n",
       "</table>\n",
       "</div>"
      ],
      "text/plain": [
       "                 products_per_order         \n",
       "                             median min  max\n",
       "loyalty_flag                                \n",
       "Loyal customer                 14.0   1  137\n",
       "New customer                   14.0   1  102\n",
       "Regular customer               14.0   1  145"
      ]
     },
     "execution_count": 48,
     "metadata": {},
     "output_type": "execute_result"
    }
   ],
   "source": [
    "order_cost_loyalty.groupby('loyalty_flag').agg({'products_per_order':['median', 'min', 'max']})"
   ]
  },
  {
   "cell_type": "markdown",
   "id": "45bccba4-9e7d-4e14-b85a-a2edc649fa33",
   "metadata": {},
   "source": [
    "### Median of order_cost is higher than mean, indicating that the data is right skewed"
   ]
  },
  {
   "cell_type": "code",
   "execution_count": 35,
   "id": "d474d55e-a299-4396-9a14-7581875c09d3",
   "metadata": {},
   "outputs": [
    {
     "data": {
      "text/html": [
       "<div>\n",
       "<style scoped>\n",
       "    .dataframe tbody tr th:only-of-type {\n",
       "        vertical-align: middle;\n",
       "    }\n",
       "\n",
       "    .dataframe tbody tr th {\n",
       "        vertical-align: top;\n",
       "    }\n",
       "\n",
       "    .dataframe thead tr th {\n",
       "        text-align: left;\n",
       "    }\n",
       "\n",
       "    .dataframe thead tr:last-of-type th {\n",
       "        text-align: right;\n",
       "    }\n",
       "</style>\n",
       "<table border=\"1\" class=\"dataframe\">\n",
       "  <thead>\n",
       "    <tr>\n",
       "      <th></th>\n",
       "      <th colspan=\"3\" halign=\"left\">order_cost</th>\n",
       "    </tr>\n",
       "    <tr>\n",
       "      <th></th>\n",
       "      <th>median</th>\n",
       "      <th>min</th>\n",
       "      <th>max</th>\n",
       "    </tr>\n",
       "    <tr>\n",
       "      <th>loyalty_flag</th>\n",
       "      <th></th>\n",
       "      <th></th>\n",
       "      <th></th>\n",
       "    </tr>\n",
       "  </thead>\n",
       "  <tbody>\n",
       "    <tr>\n",
       "      <th>Loyal customer</th>\n",
       "      <td>63.6</td>\n",
       "      <td>0.0</td>\n",
       "      <td>875.0</td>\n",
       "    </tr>\n",
       "    <tr>\n",
       "      <th>New customer</th>\n",
       "      <td>63.0</td>\n",
       "      <td>0.0</td>\n",
       "      <td>829.2</td>\n",
       "    </tr>\n",
       "    <tr>\n",
       "      <th>Regular customer</th>\n",
       "      <td>65.5</td>\n",
       "      <td>0.0</td>\n",
       "      <td>1092.2</td>\n",
       "    </tr>\n",
       "  </tbody>\n",
       "</table>\n",
       "</div>"
      ],
      "text/plain": [
       "                 order_cost             \n",
       "                     median  min     max\n",
       "loyalty_flag                            \n",
       "Loyal customer         63.6  0.0   875.0\n",
       "New customer           63.0  0.0   829.2\n",
       "Regular customer       65.5  0.0  1092.2"
      ]
     },
     "execution_count": 35,
     "metadata": {},
     "output_type": "execute_result"
    }
   ],
   "source": [
    "order_cost_loyalty.groupby('loyalty_flag').agg({'order_cost':['median', 'min', 'max']})"
   ]
  },
  {
   "cell_type": "markdown",
   "id": "7ed1db4e-7f2b-40e7-bb33-3468eea7e17c",
   "metadata": {},
   "source": [
    "## 4. Creating a stacked bar chart showing spending flag by Region"
   ]
  },
  {
   "cell_type": "code",
   "execution_count": 17,
   "id": "de19d6d3-ea3e-40e8-8419-0a87d9d75f42",
   "metadata": {},
   "outputs": [],
   "source": [
    "import matplotlib.pyplot as plt\n",
    "import seaborn as sns\n",
    "import scipy"
   ]
  },
  {
   "cell_type": "code",
   "execution_count": 33,
   "id": "ef994e37-28d9-43da-8966-b353377fb1e4",
   "metadata": {},
   "outputs": [
    {
     "data": {
      "text/plain": [
       "Text(0.5, 1.0, 'Customer Loyalty Status by Age')"
      ]
     },
     "execution_count": 33,
     "metadata": {},
     "output_type": "execute_result"
    },
    {
     "data": {
      "image/png": "[encoded data removed]",
      "text/plain": [
       "<Figure size 640x480 with 1 Axes>"
      ]
     },
     "metadata": {},
     "output_type": "display_data"
    }
   ],
   "source": [
    "# Stacked bar chart\n",
    "\n",
    "sns.barplot(x='loyalty_flag', y='count', hue='age_group', data=order_cost_loyalty.groupby(['age_group', 'loyalty_flag']).size().reset_index(name='count'))\n",
    "plt.title(\"Customer Loyalty Status by Age\")"
   ]
  },
  {
   "cell_type": "code",
   "execution_count": 35,
   "id": "5f89deb4-cec2-413a-8c5a-ad4e959ad983",
   "metadata": {},
   "outputs": [
    {
     "data": {
      "text/plain": [
       "Text(0.5, 1.0, 'Customer Loyalty Status by Age')"
      ]
     },
     "execution_count": 35,
     "metadata": {},
     "output_type": "execute_result"
    },
    {
     "data": {
      "image/png": "[encoded data removed]",
      "text/plain": [
       "<Figure size 640x480 with 1 Axes>"
      ]
     },
     "metadata": {},
     "output_type": "display_data"
    }
   ],
   "source": [
    "# Stacked bar chart\n",
    "\n",
    "sns.barplot(x='age_group', y='count', hue='loyalty_flag', data=order_cost_loyalty.groupby(['age_group', 'loyalty_flag']).size().reset_index(name='count'))\n",
    "plt.title(\"Customer Loyalty Status by Age\")"
   ]
  },
  {
   "cell_type": "code",
   "execution_count": 39,
   "id": "3883db6c-0e2e-4c76-825f-978488d7b537",
   "metadata": {},
   "outputs": [
    {
     "data": {
      "text/plain": [
       "Text(0.5, 1.0, 'Customer Loyalty Flag by Family Status ')"
      ]
     },
     "execution_count": 39,
     "metadata": {},
     "output_type": "execute_result"
    },
    {
     "data": {
      "image/png": "[encoded data removed]",
      "text/plain": [
       "<Figure size 640x480 with 1 Axes>"
      ]
     },
     "metadata": {},
     "output_type": "display_data"
    }
   ],
   "source": [
    "# Stacked bar chart\n",
    "\n",
    "sns.barplot(x='loyalty_flag', y='count', hue='fam_status', data=order_cost_loyalty.groupby(['fam_status', 'loyalty_flag']).size().reset_index(name='count'))\n",
    "plt.title(\"Customer Loyalty Flag by Family Status \")"
   ]
  },
  {
   "cell_type": "markdown",
   "id": "8c6e0dc0-b24f-4dd5-8457-bee23f9031c7",
   "metadata": {},
   "source": [
    "## 5. Exporting "
   ]
  },
  {
   "cell_type": "code",
   "execution_count": null,
   "id": "a14bda11-1381-4dba-8efc-e0885ce88799",
   "metadata": {},
   "outputs": [],
   "source": [
    "instacart.to_pickle(os.path.join(path, 'Data', 'Final Prepared Data', 'IC_high_activity_2.pkl'))"
   ]
  },
  {
   "cell_type": "code",
   "execution_count": null,
   "id": "1ba52b25-e115-4afb-ba8e-1f93c2177b44",
   "metadata": {},
   "outputs": [],
   "source": []
  }
 ],
 "metadata": {
  "kernelspec": {
   "display_name": "Python 3 (ipykernel)",
   "language": "python",
   "name": "python3"
  },
  "language_info": {
   "codemirror_mode": {
    "name": "ipython",
    "version": 3
   },
   "file_extension": ".py",
   "mimetype": "text/x-python",
   "name": "python",
   "nbconvert_exporter": "python",
   "pygments_lexer": "ipython3",
   "version": "3.11.7"
  }
 },
 "nbformat": 4,
 "nbformat_minor": 5
}
