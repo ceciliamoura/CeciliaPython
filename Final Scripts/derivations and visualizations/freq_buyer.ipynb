{
 "cells": [
  {
   "cell_type": "code",
   "execution_count": null,
   "id": "1f349f0c-e313-4317-a0aa-5090cdc3e84a",
   "metadata": {},
   "outputs": [],
   "source": []
  },
  {
   "cell_type": "markdown",
   "id": "50f61140-1556-47c9-8838-5fba045597a7",
   "metadata": {},
   "source": [
    "# Creating flag: frequent buyer"
   ]
  },
  {
   "cell_type": "markdown",
   "id": "a9a2c155-90ff-4f54-93c0-775c30a9d8be",
   "metadata": {},
   "source": [
    "## Importing libraries"
   ]
  },
  {
   "cell_type": "code",
   "execution_count": 3,
   "id": "60773bb8-39c2-49e8-98b7-debfc7d820d4",
   "metadata": {},
   "outputs": [],
   "source": [
    "import pandas as pd\n",
    "import numpy as np\n",
    "import os"
   ]
  },
  {
   "cell_type": "markdown",
   "id": "99d828de-8526-48df-a0b4-de1c50bab8b6",
   "metadata": {},
   "source": [
    "## Creating path for folder"
   ]
  },
  {
   "cell_type": "code",
   "execution_count": 6,
   "id": "26f85267-8787-408c-8337-01ffd8549541",
   "metadata": {},
   "outputs": [],
   "source": [
    "path = r'/Users/ceciliamoura/Desktop/Career Foundry/Achievement4/Instacart Basket Analysis'"
   ]
  },
  {
   "cell_type": "markdown",
   "id": "3c5ed110-d6bc-4b59-aea7-cd8f8283d74e",
   "metadata": {},
   "source": [
    "## Importing files"
   ]
  },
  {
   "cell_type": "code",
   "execution_count": 9,
   "id": "72e1861f-99c1-4ef6-82cf-d248d834dcfd",
   "metadata": {},
   "outputs": [],
   "source": [
    "# Importing subset with only high activity customers"
   ]
  },
  {
   "cell_type": "code",
   "execution_count": 11,
   "id": "d300656a-f4b6-462b-a913-b92c7f3f88e4",
   "metadata": {},
   "outputs": [],
   "source": [
    "instacart = pd.read_pickle(os.path.join (path, 'Data', 'Final Prepared Data', 'IC_high_activity_2.pkl'))"
   ]
  },
  {
   "cell_type": "code",
   "execution_count": 129,
   "id": "ad21a974-2bf0-4e63-bf82-74e179a65948",
   "metadata": {},
   "outputs": [
    {
     "data": {
      "text/plain": [
       "Index(['order_id', 'product_id', 'add_to_cart_order', 'reordered', 'user_id',\n",
       "       'order_number', 'order_day_of_week', 'order_time',\n",
       "       'days_since_prior_order', 'product_name', 'aisle_id', 'department_id',\n",
       "       'prices', 'Gender', 'State', 'Age', 'date_joined', 'n_dependants',\n",
       "       'fam_status', 'income', 'max_order', 'max_order_per_user',\n",
       "       'products_per_order', 'order_cost', 'Region', 'age_group',\n",
       "       'loyalty_flag', 'mean_order_cost_per_user', 'spending_flag',\n",
       "       'income_group', 'median_days_since_prior_order_per_user', 'freq_buyer'],\n",
       "      dtype='object')"
      ]
     },
     "execution_count": 129,
     "metadata": {},
     "output_type": "execute_result"
    }
   ],
   "source": [
    "instacart.columns"
   ]
  },
  {
   "cell_type": "code",
   "execution_count": 13,
   "id": "7ae7d189-88ad-4a93-9f78-2bd4d4daa0cd",
   "metadata": {},
   "outputs": [
    {
     "data": {
      "text/plain": [
       "(30963518, 30)"
      ]
     },
     "execution_count": 13,
     "metadata": {},
     "output_type": "execute_result"
    }
   ],
   "source": [
    "instacart.shape"
   ]
  },
  {
   "cell_type": "code",
   "execution_count": 75,
   "id": "1e1f30b8-f5d8-4edb-a428-f7ccdaf6eb73",
   "metadata": {},
   "outputs": [],
   "source": [
    "freq_buyer_set = instacart[['user_id', 'order_id', 'days_since_prior_order', 'median_days_since_prior_order_per_user' ]]"
   ]
  },
  {
   "cell_type": "code",
   "execution_count": 77,
   "id": "ad24440e-83e1-40fe-b8ec-2b4fafb295c0",
   "metadata": {},
   "outputs": [
    {
     "data": {
      "text/plain": [
       "(30963518, 4)"
      ]
     },
     "execution_count": 77,
     "metadata": {},
     "output_type": "execute_result"
    }
   ],
   "source": [
    "freq_buyer_set.shape"
   ]
  },
  {
   "cell_type": "markdown",
   "id": "4ca81e4d-4700-4bbc-a17e-61afb8467a04",
   "metadata": {},
   "source": [
    "## 1. Subsetting"
   ]
  },
  {
   "cell_type": "code",
   "execution_count": 80,
   "id": "7e720e5d-95f8-4588-a67b-5443a6412679",
   "metadata": {},
   "outputs": [],
   "source": [
    "# Creating a subset withou duplicates\n",
    "\n",
    "freq_buyer_set_nodups = freq_buyer_set.drop_duplicates()"
   ]
  },
  {
   "cell_type": "code",
   "execution_count": 82,
   "id": "9f48257b-02bc-451d-83e2-a7a48fa5c27a",
   "metadata": {},
   "outputs": [
    {
     "data": {
      "text/plain": [
       "(3064375, 4)"
      ]
     },
     "execution_count": 82,
     "metadata": {},
     "output_type": "execute_result"
    }
   ],
   "source": [
    "freq_buyer_set_nodups.shape"
   ]
  },
  {
   "cell_type": "markdown",
   "id": "94cc68c7-4a29-44dc-abf9-0ecd150f6535",
   "metadata": {},
   "source": [
    "## 2. Definition of freq_buyer"
   ]
  },
  {
   "cell_type": "code",
   "execution_count": 31,
   "id": "5807e98b-cc82-45e8-881f-3323859a8751",
   "metadata": {},
   "outputs": [
    {
     "data": {
      "text/plain": [
       "count    3.064375e+06\n",
       "mean     9.834551e+00\n",
       "std      8.809020e+00\n",
       "min      0.000000e+00\n",
       "25%      4.000000e+00\n",
       "50%      7.000000e+00\n",
       "75%      1.400000e+01\n",
       "max      3.000000e+01\n",
       "Name: days_since_prior_order, dtype: float64"
      ]
     },
     "execution_count": 31,
     "metadata": {},
     "output_type": "execute_result"
    }
   ],
   "source": [
    "freq_buyer_set_nodups['days_since_prior_order'].describe()"
   ]
  },
  {
   "cell_type": "code",
   "execution_count": 33,
   "id": "6c48e1ea-03e1-401c-8ab6-466c37320489",
   "metadata": {},
   "outputs": [
    {
     "data": {
      "text/plain": [
       "7.0"
      ]
     },
     "execution_count": 33,
     "metadata": {},
     "output_type": "execute_result"
    }
   ],
   "source": [
    "freq_buyer_set_nodups['days_since_prior_order'].median()"
   ]
  },
  {
   "cell_type": "code",
   "execution_count": 37,
   "id": "6036baaf-ed89-4afe-8583-29a4a2f87ae7",
   "metadata": {},
   "outputs": [],
   "source": [
    "# mean > median, data is rught skewed. Will use median for definition"
   ]
  },
  {
   "cell_type": "markdown",
   "id": "c7b77c04-1b78-4e68-81c0-d24a73d8f3e5",
   "metadata": {},
   "source": [
    "## 3. Creating new column: median_days_since_prior_order_per_user"
   ]
  },
  {
   "cell_type": "code",
   "execution_count": 71,
   "id": "b5e75c97-56f2-40e6-bd00-8e72df8a05e3",
   "metadata": {},
   "outputs": [
    {
     "name": "stderr",
     "output_type": "stream",
     "text": [
      "/var/folders/30/j2w0rj9n75x1by3sr86s740h0000gn/T/ipykernel_12591/2974157429.py:3: FutureWarning: The provided callable <function median at 0x104aa0860> is currently using SeriesGroupBy.median. In a future version of pandas, the provided callable will be used directly. To keep current behavior pass the string \"median\" instead.\n",
      "  instacart['median_days_since_prior_order_per_user'] = instacart.groupby(['user_id'])['days_since_prior_order'].transform(np.median)\n"
     ]
    }
   ],
   "source": [
    "#new column \n",
    "\n",
    "instacart['median_days_since_prior_order_per_user'] = instacart.groupby(['user_id'])['days_since_prior_order'].transform(np.median)"
   ]
  },
  {
   "cell_type": "code",
   "execution_count": 61,
   "id": "bcef4e0c-6f09-4370-9d3d-707d6a859f1a",
   "metadata": {},
   "outputs": [
    {
     "data": {
      "text/html": [
       "<div>\n",
       "<style scoped>\n",
       "    .dataframe tbody tr th:only-of-type {\n",
       "        vertical-align: middle;\n",
       "    }\n",
       "\n",
       "    .dataframe tbody tr th {\n",
       "        vertical-align: top;\n",
       "    }\n",
       "\n",
       "    .dataframe thead th {\n",
       "        text-align: right;\n",
       "    }\n",
       "</style>\n",
       "<table border=\"1\" class=\"dataframe\">\n",
       "  <thead>\n",
       "    <tr style=\"text-align: right;\">\n",
       "      <th></th>\n",
       "      <th>order_id</th>\n",
       "      <th>product_id</th>\n",
       "      <th>add_to_cart_order</th>\n",
       "      <th>reordered</th>\n",
       "      <th>user_id</th>\n",
       "      <th>order_number</th>\n",
       "      <th>order_day_of_week</th>\n",
       "      <th>order_time</th>\n",
       "      <th>days_since_prior_order</th>\n",
       "      <th>product_name</th>\n",
       "      <th>...</th>\n",
       "      <th>max_order_per_user</th>\n",
       "      <th>products_per_order</th>\n",
       "      <th>order_cost</th>\n",
       "      <th>Region</th>\n",
       "      <th>age_group</th>\n",
       "      <th>loyalty_flag</th>\n",
       "      <th>mean_order_cost_per_user</th>\n",
       "      <th>spending_flag</th>\n",
       "      <th>income_group</th>\n",
       "      <th>median_days_since_prior_order_per_user</th>\n",
       "    </tr>\n",
       "  </thead>\n",
       "  <tbody>\n",
       "    <tr>\n",
       "      <th>0</th>\n",
       "      <td>2</td>\n",
       "      <td>33120</td>\n",
       "      <td>1</td>\n",
       "      <td>1</td>\n",
       "      <td>202279</td>\n",
       "      <td>3</td>\n",
       "      <td>5</td>\n",
       "      <td>9</td>\n",
       "      <td>8</td>\n",
       "      <td>Organic Egg Whites</td>\n",
       "      <td>...</td>\n",
       "      <td>8</td>\n",
       "      <td>9</td>\n",
       "      <td>91.6</td>\n",
       "      <td>West</td>\n",
       "      <td>mature</td>\n",
       "      <td>New customer</td>\n",
       "      <td>100.342222</td>\n",
       "      <td>regular spender</td>\n",
       "      <td>High</td>\n",
       "      <td>24.0</td>\n",
       "    </tr>\n",
       "    <tr>\n",
       "      <th>1</th>\n",
       "      <td>2</td>\n",
       "      <td>28985</td>\n",
       "      <td>2</td>\n",
       "      <td>1</td>\n",
       "      <td>202279</td>\n",
       "      <td>3</td>\n",
       "      <td>5</td>\n",
       "      <td>9</td>\n",
       "      <td>8</td>\n",
       "      <td>Michigan Organic Kale</td>\n",
       "      <td>...</td>\n",
       "      <td>8</td>\n",
       "      <td>9</td>\n",
       "      <td>91.6</td>\n",
       "      <td>West</td>\n",
       "      <td>mature</td>\n",
       "      <td>New customer</td>\n",
       "      <td>100.342222</td>\n",
       "      <td>regular spender</td>\n",
       "      <td>High</td>\n",
       "      <td>24.0</td>\n",
       "    </tr>\n",
       "    <tr>\n",
       "      <th>2</th>\n",
       "      <td>2</td>\n",
       "      <td>9327</td>\n",
       "      <td>3</td>\n",
       "      <td>0</td>\n",
       "      <td>202279</td>\n",
       "      <td>3</td>\n",
       "      <td>5</td>\n",
       "      <td>9</td>\n",
       "      <td>8</td>\n",
       "      <td>Garlic Powder</td>\n",
       "      <td>...</td>\n",
       "      <td>8</td>\n",
       "      <td>9</td>\n",
       "      <td>91.6</td>\n",
       "      <td>West</td>\n",
       "      <td>mature</td>\n",
       "      <td>New customer</td>\n",
       "      <td>100.342222</td>\n",
       "      <td>regular spender</td>\n",
       "      <td>High</td>\n",
       "      <td>24.0</td>\n",
       "    </tr>\n",
       "    <tr>\n",
       "      <th>3</th>\n",
       "      <td>2</td>\n",
       "      <td>45918</td>\n",
       "      <td>4</td>\n",
       "      <td>1</td>\n",
       "      <td>202279</td>\n",
       "      <td>3</td>\n",
       "      <td>5</td>\n",
       "      <td>9</td>\n",
       "      <td>8</td>\n",
       "      <td>Coconut Butter</td>\n",
       "      <td>...</td>\n",
       "      <td>8</td>\n",
       "      <td>9</td>\n",
       "      <td>91.6</td>\n",
       "      <td>West</td>\n",
       "      <td>mature</td>\n",
       "      <td>New customer</td>\n",
       "      <td>100.342222</td>\n",
       "      <td>regular spender</td>\n",
       "      <td>High</td>\n",
       "      <td>24.0</td>\n",
       "    </tr>\n",
       "    <tr>\n",
       "      <th>4</th>\n",
       "      <td>2</td>\n",
       "      <td>30035</td>\n",
       "      <td>5</td>\n",
       "      <td>0</td>\n",
       "      <td>202279</td>\n",
       "      <td>3</td>\n",
       "      <td>5</td>\n",
       "      <td>9</td>\n",
       "      <td>8</td>\n",
       "      <td>Natural Sweetener</td>\n",
       "      <td>...</td>\n",
       "      <td>8</td>\n",
       "      <td>9</td>\n",
       "      <td>91.6</td>\n",
       "      <td>West</td>\n",
       "      <td>mature</td>\n",
       "      <td>New customer</td>\n",
       "      <td>100.342222</td>\n",
       "      <td>regular spender</td>\n",
       "      <td>High</td>\n",
       "      <td>24.0</td>\n",
       "    </tr>\n",
       "  </tbody>\n",
       "</table>\n",
       "<p>5 rows × 31 columns</p>\n",
       "</div>"
      ],
      "text/plain": [
       "  order_id product_id  add_to_cart_order  reordered user_id  order_number  \\\n",
       "0        2      33120                  1          1  202279             3   \n",
       "1        2      28985                  2          1  202279             3   \n",
       "2        2       9327                  3          0  202279             3   \n",
       "3        2      45918                  4          1  202279             3   \n",
       "4        2      30035                  5          0  202279             3   \n",
       "\n",
       "   order_day_of_week  order_time  days_since_prior_order  \\\n",
       "0                  5           9                       8   \n",
       "1                  5           9                       8   \n",
       "2                  5           9                       8   \n",
       "3                  5           9                       8   \n",
       "4                  5           9                       8   \n",
       "\n",
       "            product_name  ...  max_order_per_user  products_per_order  \\\n",
       "0     Organic Egg Whites  ...                   8                   9   \n",
       "1  Michigan Organic Kale  ...                   8                   9   \n",
       "2          Garlic Powder  ...                   8                   9   \n",
       "3         Coconut Butter  ...                   8                   9   \n",
       "4      Natural Sweetener  ...                   8                   9   \n",
       "\n",
       "   order_cost Region age_group  loyalty_flag mean_order_cost_per_user  \\\n",
       "0        91.6   West    mature  New customer               100.342222   \n",
       "1        91.6   West    mature  New customer               100.342222   \n",
       "2        91.6   West    mature  New customer               100.342222   \n",
       "3        91.6   West    mature  New customer               100.342222   \n",
       "4        91.6   West    mature  New customer               100.342222   \n",
       "\n",
       "     spending_flag income_group  median_days_since_prior_order_per_user  \n",
       "0  regular spender         High                                    24.0  \n",
       "1  regular spender         High                                    24.0  \n",
       "2  regular spender         High                                    24.0  \n",
       "3  regular spender         High                                    24.0  \n",
       "4  regular spender         High                                    24.0  \n",
       "\n",
       "[5 rows x 31 columns]"
      ]
     },
     "execution_count": 61,
     "metadata": {},
     "output_type": "execute_result"
    }
   ],
   "source": [
    "instacart.head()"
   ]
  },
  {
   "cell_type": "markdown",
   "id": "6da5f830-9b65-4dc8-a26c-06aba55d28c0",
   "metadata": {},
   "source": [
    "## 4. Creating new column: freq_buyer"
   ]
  },
  {
   "cell_type": "code",
   "execution_count": 86,
   "id": "4fd71cc7-2791-46fa-9d46-9c84c50c9581",
   "metadata": {},
   "outputs": [],
   "source": [
    "# freq_buyer\n",
    "\n",
    "# If median of 'days_since_prior_order' <= 7 = 'frequent-customer'\n",
    "# If median of 'days_since_prior_order' > 7 = 'non-frequent-customer'\n"
   ]
  },
  {
   "cell_type": "code",
   "execution_count": 90,
   "id": "627b4629-abe4-4b4b-9dee-1a25ceaeef33",
   "metadata": {},
   "outputs": [],
   "source": [
    "freq_buyer = [\n",
    "    'frequent-buyer' if value <= 7 else\n",
    "    'non-frequent-buyer'\n",
    "    for value in instacart['median_days_since_prior_order_per_user']\n",
    "]"
   ]
  },
  {
   "cell_type": "code",
   "execution_count": 92,
   "id": "1c9e2c86-9a22-4d80-81ae-dc67b277bf7e",
   "metadata": {},
   "outputs": [],
   "source": [
    "# Creating new column with the result\n",
    "\n",
    "instacart['freq_buyer'] = freq_buyer"
   ]
  },
  {
   "cell_type": "code",
   "execution_count": 94,
   "id": "432c4f09-0730-46a3-b3d1-25a872f82be8",
   "metadata": {},
   "outputs": [
    {
     "data": {
      "text/plain": [
       "freq_buyer\n",
       "frequent-buyer        16537776\n",
       "non-frequent-buyer    14425742\n",
       "Name: count, dtype: int64"
      ]
     },
     "execution_count": 94,
     "metadata": {},
     "output_type": "execute_result"
    }
   ],
   "source": [
    "#checking procedure\n",
    "\n",
    "instacart['freq_buyer'].value_counts()"
   ]
  },
  {
   "cell_type": "markdown",
   "id": "74f9b162-6605-47ce-a900-faa101c6274b",
   "metadata": {},
   "source": [
    "## 5. Creating a distribution chart of distribution frequent-buyers"
   ]
  },
  {
   "cell_type": "code",
   "execution_count": 131,
   "id": "cdd85787-2137-4f70-8565-127559f4c3ea",
   "metadata": {},
   "outputs": [],
   "source": [
    "IC_freq = instacart[['freq_buyer', 'user_id', 'Region', 'spending_flag', 'income_group', 'age_group']]"
   ]
  },
  {
   "cell_type": "code",
   "execution_count": 132,
   "id": "f43ae9d5-e3cb-429b-a97e-8fd383d13daa",
   "metadata": {},
   "outputs": [
    {
     "data": {
      "text/plain": [
       "(30963518, 6)"
      ]
     },
     "execution_count": 132,
     "metadata": {},
     "output_type": "execute_result"
    }
   ],
   "source": [
    "IC_freq.shape"
   ]
  },
  {
   "cell_type": "code",
   "execution_count": 135,
   "id": "78328ded-0d82-4993-95f5-9ca4ab79c38e",
   "metadata": {},
   "outputs": [],
   "source": [
    "# Creating a subset withou duplicates\n",
    "\n",
    "IC_freq_nodups = IC_freq.drop_duplicates()"
   ]
  },
  {
   "cell_type": "code",
   "execution_count": 137,
   "id": "0ba79f7d-c3fd-4bfc-83c9-1457df275bf1",
   "metadata": {},
   "outputs": [
    {
     "data": {
      "text/plain": [
       "(162631, 6)"
      ]
     },
     "execution_count": 137,
     "metadata": {},
     "output_type": "execute_result"
    }
   ],
   "source": [
    "IC_freq_nodups.shape"
   ]
  },
  {
   "cell_type": "code",
   "execution_count": 115,
   "id": "a72152f0-4491-4f9f-80a4-91c383e2896b",
   "metadata": {},
   "outputs": [
    {
     "data": {
      "text/plain": [
       "freq_buyer\n",
       "frequent-buyer        16537776\n",
       "non-frequent-buyer    14425742\n",
       "Name: count, dtype: int64"
      ]
     },
     "execution_count": 115,
     "metadata": {},
     "output_type": "execute_result"
    }
   ],
   "source": [
    "IC_freq['freq_buyer'].value_counts(dropna = False)"
   ]
  },
  {
   "cell_type": "code",
   "execution_count": 117,
   "id": "b68b0305-ce37-4651-9f32-af9c7ad0a990",
   "metadata": {},
   "outputs": [],
   "source": [
    "import matplotlib.pyplot as plt\n",
    "import seaborn as sns\n",
    "import scipy"
   ]
  },
  {
   "cell_type": "code",
   "execution_count": 121,
   "id": "d5b7edbb-59fd-4359-a54e-fecfa82cc262",
   "metadata": {},
   "outputs": [
    {
     "data": {
      "image/png": "[encoded data removed]",
      "text/plain": [
       "<Figure size 640x480 with 1 Axes>"
      ]
     },
     "metadata": {},
     "output_type": "display_data"
    }
   ],
   "source": [
    "# Creating a bar chart with freq-buyers distribution\n",
    "\n",
    "bar = IC_freq['freq_buyer'].value_counts().plot.barh(title=\"Distribution of frequent buyers\")"
   ]
  },
  {
   "cell_type": "code",
   "execution_count": 123,
   "id": "2983efeb-6637-4f8c-b63c-2b9867cb47ab",
   "metadata": {},
   "outputs": [
    {
     "data": {
      "text/plain": [
       "<Axes: xlabel='Region', ylabel='count'>"
      ]
     },
     "execution_count": 123,
     "metadata": {},
     "output_type": "execute_result"
    },
    {
     "data": {
      "image/png": "[encoded data removed]",
      "text/plain": [
       "<Figure size 640x480 with 1 Axes>"
      ]
     },
     "metadata": {},
     "output_type": "display_data"
    }
   ],
   "source": [
    "# Stacked bar chart\n",
    "\n",
    "sns.barplot(x='Region', y='count', hue='freq_buyer', data=IC_freq.groupby(['Region', 'freq_buyer']).size().reset_index(name='count'))"
   ]
  },
  {
   "cell_type": "code",
   "execution_count": 127,
   "id": "1d8b4efc-57c4-48a4-a608-289fe5983b7f",
   "metadata": {},
   "outputs": [
    {
     "name": "stderr",
     "output_type": "stream",
     "text": [
      "/var/folders/30/j2w0rj9n75x1by3sr86s740h0000gn/T/ipykernel_12591/68161425.py:3: FutureWarning: The default of observed=False is deprecated and will be changed to True in a future version of pandas. Pass observed=False to retain current behavior or observed=True to adopt the future default and silence this warning.\n",
      "  sns.barplot(x='income_group', y='count', hue='freq_buyer', data=IC_freq.groupby(['income_group', 'freq_buyer']).size().reset_index(name='count'))\n"
     ]
    },
    {
     "data": {
      "text/plain": [
       "<Axes: xlabel='income_group', ylabel='count'>"
      ]
     },
     "execution_count": 127,
     "metadata": {},
     "output_type": "execute_result"
    },
    {
     "data": {
      "image/png": "[encoded data removed]",
      "text/plain": [
       "<Figure size 640x480 with 1 Axes>"
      ]
     },
     "metadata": {},
     "output_type": "display_data"
    }
   ],
   "source": [
    "# Stacked bar chart\n",
    "\n",
    "sns.barplot(x='income_group', y='count', hue='freq_buyer', data=IC_freq.groupby(['income_group', 'freq_buyer']).size().reset_index(name='count'))"
   ]
  },
  {
   "cell_type": "code",
   "execution_count": 139,
   "id": "ea1c5f60-515d-46ce-a76c-0195c197fc38",
   "metadata": {},
   "outputs": [
    {
     "data": {
      "text/plain": [
       "<Axes: xlabel='age_group', ylabel='count'>"
      ]
     },
     "execution_count": 139,
     "metadata": {},
     "output_type": "execute_result"
    },
    {
     "data": {
      "image/png": "[encoded data removed]",
      "text/plain": [
       "<Figure size 640x480 with 1 Axes>"
      ]
     },
     "metadata": {},
     "output_type": "display_data"
    }
   ],
   "source": [
    "# Stacked bar chart\n",
    "\n",
    "sns.barplot(x='age_group', y='count', hue='freq_buyer', data=IC_freq.groupby(['age_group', 'freq_buyer']).size().reset_index(name='count'))"
   ]
  },
  {
   "cell_type": "code",
   "execution_count": 141,
   "id": "69538190-1a84-4360-91f7-b17f56bf50a0",
   "metadata": {},
   "outputs": [
    {
     "data": {
      "text/plain": [
       "<Axes: xlabel='freq_buyer', ylabel='count'>"
      ]
     },
     "execution_count": 141,
     "metadata": {},
     "output_type": "execute_result"
    },
    {
     "data": {
      "image/png": "[encoded data removed]",
      "text/plain": [
       "<Figure size 640x480 with 1 Axes>"
      ]
     },
     "metadata": {},
     "output_type": "display_data"
    }
   ],
   "source": [
    "# Stacked bar chart\n",
    "\n",
    "sns.barplot(x='freq_buyer', y='count', hue='age_group', data=IC_freq.groupby(['age_group', 'freq_buyer']).size().reset_index(name='count'))"
   ]
  },
  {
   "cell_type": "code",
   "execution_count": 71,
   "id": "1dd8c848-8401-423c-8095-c855f7c3ede7",
   "metadata": {},
   "outputs": [
    {
     "data": {
      "text/plain": [
       "<Figure size 640x480 with 0 Axes>"
      ]
     },
     "metadata": {},
     "output_type": "display_data"
    }
   ],
   "source": [
    "# exporting plot\n",
    "\n",
    "plt.savefig(os.path.join(path, 'Analysis', 'Final Visualization', 'age_groups_counts.png'))"
   ]
  },
  {
   "cell_type": "code",
   "execution_count": 125,
   "id": "579a04c7-abad-4d0e-8939-be430cb20b30",
   "metadata": {},
   "outputs": [],
   "source": [
    "# exporting plot\n",
    "\n",
    "bar.figure.savefig(os.path.join(path, 'Analysis','Final Visualization', 'freq_buyer_bar.jpeg'))"
   ]
  },
  {
   "cell_type": "code",
   "execution_count": null,
   "id": "95efe5d8-1470-4ca9-ad3f-6791765417fd",
   "metadata": {},
   "outputs": [],
   "source": []
  },
  {
   "cell_type": "markdown",
   "id": "8c6e0dc0-b24f-4dd5-8457-bee23f9031c7",
   "metadata": {},
   "source": [
    "## 3. Exporting "
   ]
  },
  {
   "cell_type": "code",
   "execution_count": 99,
   "id": "a14bda11-1381-4dba-8efc-e0885ce88799",
   "metadata": {},
   "outputs": [],
   "source": [
    "instacart.to_pickle(os.path.join(path, 'Data', 'Final Prepared Data', 'IC_high_activity_2.pkl'))"
   ]
  },
  {
   "cell_type": "code",
   "execution_count": 101,
   "id": "c76d08a3-b354-460a-b7ee-430cc8918b75",
   "metadata": {},
   "outputs": [],
   "source": [
    "instacart.to_pickle(os.path.join(path, 'Data', 'Final Prepared Data', 'backup', 'IC_high_activity_2.pkl'))"
   ]
  },
  {
   "cell_type": "code",
   "execution_count": null,
   "id": "79b29525-8c22-410d-88c2-e7a05856a877",
   "metadata": {},
   "outputs": [],
   "source": []
  }
 ],
 "metadata": {
  "kernelspec": {
   "display_name": "Python 3 (ipykernel)",
   "language": "python",
   "name": "python3"
  },
  "language_info": {
   "codemirror_mode": {
    "name": "ipython",
    "version": 3
   },
   "file_extension": ".py",
   "mimetype": "text/x-python",
   "name": "python",
   "nbconvert_exporter": "python",
   "pygments_lexer": "ipython3",
   "version": "3.11.7"
  }
 },
 "nbformat": 4,
 "nbformat_minor": 5
}
