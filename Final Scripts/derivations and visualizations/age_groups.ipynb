{
 "cells": [
  {
   "cell_type": "markdown",
   "id": "50f61140-1556-47c9-8838-5fba045597a7",
   "metadata": {},
   "source": [
    "# Creating age groups"
   ]
  },
  {
   "cell_type": "markdown",
   "id": "a9a2c155-90ff-4f54-93c0-775c30a9d8be",
   "metadata": {},
   "source": [
    "## Importing libraries"
   ]
  },
  {
   "cell_type": "code",
   "execution_count": 3,
   "id": "60773bb8-39c2-49e8-98b7-debfc7d820d4",
   "metadata": {},
   "outputs": [],
   "source": [
    "import pandas as pd\n",
    "import numpy as np\n",
    "import os"
   ]
  },
  {
   "cell_type": "markdown",
   "id": "99d828de-8526-48df-a0b4-de1c50bab8b6",
   "metadata": {},
   "source": [
    "## Creating path for folder"
   ]
  },
  {
   "cell_type": "code",
   "execution_count": 6,
   "id": "26f85267-8787-408c-8337-01ffd8549541",
   "metadata": {},
   "outputs": [],
   "source": [
    "path = r'/Users/ceciliamoura/Desktop/Career Foundry/Achievement4/Instacart Basket Analysis'"
   ]
  },
  {
   "cell_type": "markdown",
   "id": "3c5ed110-d6bc-4b59-aea7-cd8f8283d74e",
   "metadata": {},
   "source": [
    "## Importing files"
   ]
  },
  {
   "cell_type": "code",
   "execution_count": 9,
   "id": "72e1861f-99c1-4ef6-82cf-d248d834dcfd",
   "metadata": {},
   "outputs": [],
   "source": [
    "# Importing subset with only high activity customers"
   ]
  },
  {
   "cell_type": "code",
   "execution_count": 11,
   "id": "d300656a-f4b6-462b-a913-b92c7f3f88e4",
   "metadata": {},
   "outputs": [],
   "source": [
    "instacart = pd.read_pickle(os.path.join (path, 'Data', 'Final Prepared Data', 'IC_high_activity_2.pkl'))"
   ]
  },
  {
   "cell_type": "code",
   "execution_count": 9,
   "id": "ad21a974-2bf0-4e63-bf82-74e179a65948",
   "metadata": {},
   "outputs": [
    {
     "data": {
      "text/plain": [
       "Index(['order_id', 'product_id', 'add_to_cart_order', 'reordered', 'user_id',\n",
       "       'order_number', 'order_day_of_week', 'order_time',\n",
       "       'days_since_prior_order', 'product_name', 'aisle_id', 'department_id',\n",
       "       'prices', 'Gender', 'State', 'Age', 'date_joined', 'n_dependants',\n",
       "       'fam_status', 'income', 'max_order', 'max_order_per_user',\n",
       "       'products_per_order', 'order_cost', 'Region'],\n",
       "      dtype='object')"
      ]
     },
     "execution_count": 9,
     "metadata": {},
     "output_type": "execute_result"
    }
   ],
   "source": [
    "instacart.columns"
   ]
  },
  {
   "cell_type": "code",
   "execution_count": 10,
   "id": "7ae7d189-88ad-4a93-9f78-2bd4d4daa0cd",
   "metadata": {},
   "outputs": [
    {
     "data": {
      "text/plain": [
       "(30963518, 25)"
      ]
     },
     "execution_count": 10,
     "metadata": {},
     "output_type": "execute_result"
    }
   ],
   "source": [
    "instacart.shape"
   ]
  },
  {
   "cell_type": "markdown",
   "id": "4ca81e4d-4700-4bbc-a17e-61afb8467a04",
   "metadata": {},
   "source": [
    "## 1. Creating 4 age groups"
   ]
  },
  {
   "cell_type": "code",
   "execution_count": 12,
   "id": "2648df6b-ef58-4e8e-9b96-fa3b182ee899",
   "metadata": {},
   "outputs": [],
   "source": [
    "# Stratifying Age in 4 groups:\n",
    "\n",
    "# age <= 21 =  very young \n",
    "# 21 > age <=40 = young \n",
    "# 40 > age <= 65 = mature \n",
    "# age >65 = senior"
   ]
  },
  {
   "cell_type": "code",
   "execution_count": 13,
   "id": "8703d1e3-c5e7-4c16-9b41-02b54c313b11",
   "metadata": {},
   "outputs": [],
   "source": [
    "age_group = [\n",
    "    'very young' if value <= 21 else \n",
    "    'young' if 21 < value <= 40 else \n",
    "    'mature' if 40 < value <= 65 else \n",
    "    'senior'\n",
    "    for value in instacart['Age']\n",
    "]"
   ]
  },
  {
   "cell_type": "code",
   "execution_count": 14,
   "id": "d70423c4-fef5-422a-918f-1ce547bf641a",
   "metadata": {},
   "outputs": [],
   "source": [
    "# adding new column to instacart dataframe\n",
    "\n",
    "instacart['age_group'] = age_group"
   ]
  },
  {
   "cell_type": "code",
   "execution_count": 15,
   "id": "56bc6f3c-8e67-4a7b-89c6-522a73d2da12",
   "metadata": {},
   "outputs": [
    {
     "data": {
      "text/plain": [
       "age_group\n",
       "mature        12084951\n",
       "young          9204241\n",
       "senior         7730544\n",
       "very young     1943782\n",
       "Name: count, dtype: int64"
      ]
     },
     "execution_count": 15,
     "metadata": {},
     "output_type": "execute_result"
    }
   ],
   "source": [
    "instacart['age_group'].value_counts(dropna = False)"
   ]
  },
  {
   "cell_type": "markdown",
   "id": "74f9b162-6605-47ce-a900-faa101c6274b",
   "metadata": {},
   "source": [
    "## 2. Creating a bar chart of age distribution"
   ]
  },
  {
   "cell_type": "code",
   "execution_count": 13,
   "id": "a3068248-b9da-456f-9396-01924cd8f896",
   "metadata": {},
   "outputs": [],
   "source": [
    "# Creating a subset with unique entries for each user_id\n",
    "\n",
    "bar_age_groups = instacart[['age_group', 'user_id']]"
   ]
  },
  {
   "cell_type": "code",
   "execution_count": 15,
   "id": "f43ae9d5-e3cb-429b-a97e-8fd383d13daa",
   "metadata": {},
   "outputs": [
    {
     "data": {
      "text/plain": [
       "(30963518, 2)"
      ]
     },
     "execution_count": 15,
     "metadata": {},
     "output_type": "execute_result"
    }
   ],
   "source": [
    "bar_age_groups.shape"
   ]
  },
  {
   "cell_type": "code",
   "execution_count": 17,
   "id": "78328ded-0d82-4993-95f5-9ca4ab79c38e",
   "metadata": {},
   "outputs": [],
   "source": [
    "# Creating a subset withou duplicates\n",
    "\n",
    "bar_age_groups_nodups = bar_age_groups.drop_duplicates()"
   ]
  },
  {
   "cell_type": "code",
   "execution_count": 18,
   "id": "0ba79f7d-c3fd-4bfc-83c9-1457df275bf1",
   "metadata": {},
   "outputs": [
    {
     "data": {
      "text/plain": [
       "(162631, 2)"
      ]
     },
     "execution_count": 18,
     "metadata": {},
     "output_type": "execute_result"
    }
   ],
   "source": [
    "bar_age_groups_nodups.shape"
   ]
  },
  {
   "cell_type": "code",
   "execution_count": 21,
   "id": "a72152f0-4491-4f9f-80a4-91c383e2896b",
   "metadata": {},
   "outputs": [
    {
     "data": {
      "text/plain": [
       "age_group\n",
       "mature        63674\n",
       "young         48052\n",
       "senior        40769\n",
       "very young    10136\n",
       "Name: count, dtype: int64"
      ]
     },
     "execution_count": 21,
     "metadata": {},
     "output_type": "execute_result"
    }
   ],
   "source": [
    "bar_age_groups_nodups['age_group'].value_counts(dropna = False)"
   ]
  },
  {
   "cell_type": "code",
   "execution_count": 47,
   "id": "b68b0305-ce37-4651-9f32-af9c7ad0a990",
   "metadata": {},
   "outputs": [],
   "source": [
    "import matplotlib.pyplot as plt\n",
    "import seaborn as sns\n",
    "import scipy"
   ]
  },
  {
   "cell_type": "code",
   "execution_count": 73,
   "id": "eebfbcfa-a4ea-4da5-9711-8156a9d3c019",
   "metadata": {},
   "outputs": [
    {
     "data": {
      "image/png": "[encoded data removed]",
      "text/plain": [
       "<Figure size 640x480 with 1 Axes>"
      ]
     },
     "metadata": {},
     "output_type": "display_data"
    }
   ],
   "source": [
    "#Creating a bar chart\n",
    "\n",
    "age_groups_bar = bar_age_groups_nodups['age_group'].value_counts().plot.barh()"
   ]
  },
  {
   "cell_type": "code",
   "execution_count": 57,
   "id": "1d0d70bc-83f1-42da-a9b4-da214b270ac5",
   "metadata": {},
   "outputs": [
    {
     "data": {
      "image/png": "[encoded data removed]",
      "text/plain": [
       "<Figure size 640x480 with 1 Axes>"
      ]
     },
     "metadata": {},
     "output_type": "display_data"
    }
   ],
   "source": [
    "age_group_counts = bar_age_groups_nodups['age_group'].value_counts()\n",
    "plt.barh(age_group_counts.index, age_group_counts.values)  # Horizontal bars\n",
    "plt.xlabel(\"Count\")  # Label x-axis\n",
    "plt.ylabel(\"Age Group\")  # Label y-axis\n",
    "plt.title(\"Age Group Distribution\")  # Chart title\n",
    "plt.show()"
   ]
  },
  {
   "cell_type": "code",
   "execution_count": 71,
   "id": "1dd8c848-8401-423c-8095-c855f7c3ede7",
   "metadata": {},
   "outputs": [
    {
     "data": {
      "text/plain": [
       "<Figure size 640x480 with 0 Axes>"
      ]
     },
     "metadata": {},
     "output_type": "display_data"
    }
   ],
   "source": [
    "# exporting plot\n",
    "\n",
    "plt.savefig(os.path.join(path, 'Analysis', 'Final Visualization', 'age_groups_counts.png'))"
   ]
  },
  {
   "cell_type": "code",
   "execution_count": 77,
   "id": "579a04c7-abad-4d0e-8939-be430cb20b30",
   "metadata": {},
   "outputs": [],
   "source": [
    "# exporting plot\n",
    "\n",
    "age_groups_bar.figure.savefig(os.path.join(path, 'Analysis','Final Visualization', 'age_groups_bar.jpeg'))"
   ]
  },
  {
   "cell_type": "markdown",
   "id": "8c6e0dc0-b24f-4dd5-8457-bee23f9031c7",
   "metadata": {},
   "source": [
    "## 3. Exporting "
   ]
  },
  {
   "cell_type": "code",
   "execution_count": 25,
   "id": "a14bda11-1381-4dba-8efc-e0885ce88799",
   "metadata": {},
   "outputs": [],
   "source": [
    "instacart.to_pickle(os.path.join(path, 'Data', 'Final Prepared Data', 'IC_high_activity_2.pkl'))"
   ]
  },
  {
   "cell_type": "code",
   "execution_count": 46,
   "id": "c76d08a3-b354-460a-b7ee-430cc8918b75",
   "metadata": {},
   "outputs": [],
   "source": [
    "instacart.to_pickle(os.path.join(path, 'Data', 'Final Prepared Data', 'backup', 'IC_high_activity_2.pkl'))"
   ]
  },
  {
   "cell_type": "code",
   "execution_count": null,
   "id": "79b29525-8c22-410d-88c2-e7a05856a877",
   "metadata": {},
   "outputs": [],
   "source": []
  }
 ],
 "metadata": {
  "kernelspec": {
   "display_name": "Python 3 (ipykernel)",
   "language": "python",
   "name": "python3"
  },
  "language_info": {
   "codemirror_mode": {
    "name": "ipython",
    "version": 3
   },
   "file_extension": ".py",
   "mimetype": "text/x-python",
   "name": "python",
   "nbconvert_exporter": "python",
   "pygments_lexer": "ipython3",
   "version": "3.11.7"
  }
 },
 "nbformat": 4,
 "nbformat_minor": 5
}
