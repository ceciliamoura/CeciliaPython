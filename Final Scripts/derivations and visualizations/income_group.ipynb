{
 "cells": [
  {
   "cell_type": "markdown",
   "id": "50f61140-1556-47c9-8838-5fba045597a7",
   "metadata": {},
   "source": [
    "# Creating income groups"
   ]
  },
  {
   "cell_type": "markdown",
   "id": "a9a2c155-90ff-4f54-93c0-775c30a9d8be",
   "metadata": {},
   "source": [
    "## Importing libraries"
   ]
  },
  {
   "cell_type": "code",
   "execution_count": 1,
   "id": "60773bb8-39c2-49e8-98b7-debfc7d820d4",
   "metadata": {},
   "outputs": [],
   "source": [
    "import pandas as pd\n",
    "import numpy as np\n",
    "import os"
   ]
  },
  {
   "cell_type": "markdown",
   "id": "99d828de-8526-48df-a0b4-de1c50bab8b6",
   "metadata": {},
   "source": [
    "## Creating path for folder"
   ]
  },
  {
   "cell_type": "code",
   "execution_count": 5,
   "id": "26f85267-8787-408c-8337-01ffd8549541",
   "metadata": {},
   "outputs": [],
   "source": [
    "path = r'/Users/ceciliamoura/Desktop/Career Foundry/Achievement4/Instacart Basket Analysis'"
   ]
  },
  {
   "cell_type": "markdown",
   "id": "3c5ed110-d6bc-4b59-aea7-cd8f8283d74e",
   "metadata": {},
   "source": [
    "## Importing files"
   ]
  },
  {
   "cell_type": "code",
   "execution_count": 9,
   "id": "72e1861f-99c1-4ef6-82cf-d248d834dcfd",
   "metadata": {},
   "outputs": [],
   "source": [
    "# Importing subset with only high activity customers"
   ]
  },
  {
   "cell_type": "code",
   "execution_count": 7,
   "id": "d300656a-f4b6-462b-a913-b92c7f3f88e4",
   "metadata": {},
   "outputs": [],
   "source": [
    "instacart = pd.read_pickle(os.path.join (path, 'Data', 'Final Prepared Data', 'IC_high_activity_2.pkl'))"
   ]
  },
  {
   "cell_type": "code",
   "execution_count": 11,
   "id": "ad21a974-2bf0-4e63-bf82-74e179a65948",
   "metadata": {},
   "outputs": [
    {
     "data": {
      "text/plain": [
       "Index(['order_id', 'product_id', 'add_to_cart_order', 'reordered', 'user_id',\n",
       "       'order_number', 'order_day_of_week', 'order_time',\n",
       "       'days_since_prior_order', 'product_name', 'aisle_id', 'department_id',\n",
       "       'prices', 'Gender', 'State', 'Age', 'date_joined', 'n_dependants',\n",
       "       'fam_status', 'income', 'max_order', 'max_order_per_user',\n",
       "       'products_per_order', 'order_cost', 'Region', 'age_group',\n",
       "       'loyalty_flag', 'mean_order_cost_per_user', 'spending_flag',\n",
       "       'income_group', 'median_days_since_prior_order_per_user', 'freq_buyer'],\n",
       "      dtype='object')"
      ]
     },
     "execution_count": 11,
     "metadata": {},
     "output_type": "execute_result"
    }
   ],
   "source": [
    "instacart.columns"
   ]
  },
  {
   "cell_type": "code",
   "execution_count": 12,
   "id": "7ae7d189-88ad-4a93-9f78-2bd4d4daa0cd",
   "metadata": {},
   "outputs": [
    {
     "data": {
      "text/plain": [
       "(30963518, 32)"
      ]
     },
     "execution_count": 12,
     "metadata": {},
     "output_type": "execute_result"
    }
   ],
   "source": [
    "instacart.shape"
   ]
  },
  {
   "cell_type": "raw",
   "id": "816e6983-280e-4356-bb49-09de0cede4b7",
   "metadata": {},
   "source": []
  },
  {
   "cell_type": "markdown",
   "id": "4ca81e4d-4700-4bbc-a17e-61afb8467a04",
   "metadata": {},
   "source": [
    "## 1. Creating quartiles "
   ]
  },
  {
   "cell_type": "code",
   "execution_count": 14,
   "id": "4fd71cc7-2791-46fa-9d46-9c84c50c9581",
   "metadata": {},
   "outputs": [],
   "source": [
    "# Group income into quartiles\n",
    "\n",
    "#Q1 = low = <25th (67.292)\n",
    "#Q2 = medium = between 25th and 50th percentiles (67.292 and 96.765)\n",
    "#Q3 = high = between 50th and 75th percentiles (96.765 and 128.102)\n",
    "#Q4 = very high = >75th percentile\n",
    "\n",
    "instacart['income_group'] = pd.qcut(instacart['income'], 4, labels=['Low', 'Medium', 'High', 'Very High'])"
   ]
  },
  {
   "cell_type": "code",
   "execution_count": 15,
   "id": "5011c889-f1e9-4f1d-8fec-af1a84b6eac4",
   "metadata": {},
   "outputs": [
    {
     "data": {
      "text/plain": [
       "income_group\n",
       "Low          7741104\n",
       "Medium       7740979\n",
       "Very High    7740813\n",
       "High         7740622\n",
       "Name: count, dtype: int64"
      ]
     },
     "execution_count": 15,
     "metadata": {},
     "output_type": "execute_result"
    }
   ],
   "source": [
    "instacart['income_group'].value_counts()"
   ]
  },
  {
   "cell_type": "code",
   "execution_count": 16,
   "id": "658c8bba-407d-4529-91b5-6a7cda3ab76f",
   "metadata": {},
   "outputs": [
    {
     "data": {
      "text/plain": [
       "count    3.096352e+07\n",
       "mean     9.967570e+04\n",
       "std      4.314141e+04\n",
       "min      2.590300e+04\n",
       "25%      6.729200e+04\n",
       "50%      9.676500e+04\n",
       "75%      1.281020e+05\n",
       "max      5.939010e+05\n",
       "Name: income, dtype: float64"
      ]
     },
     "execution_count": 16,
     "metadata": {},
     "output_type": "execute_result"
    }
   ],
   "source": [
    "instacart['income'].describe()"
   ]
  },
  {
   "cell_type": "markdown",
   "id": "74f9b162-6605-47ce-a900-faa101c6274b",
   "metadata": {},
   "source": [
    "## 2. Creating a chart of income group distribution by region"
   ]
  },
  {
   "cell_type": "code",
   "execution_count": 9,
   "id": "a3068248-b9da-456f-9396-01924cd8f896",
   "metadata": {},
   "outputs": [],
   "source": [
    "# Creating a subset with unique entries for each user_id\n",
    "\n",
    "bar_income_groups = instacart[['income_group', 'user_id', 'Region', 'mean_order_cost_per_user']]"
   ]
  },
  {
   "cell_type": "code",
   "execution_count": 19,
   "id": "f43ae9d5-e3cb-429b-a97e-8fd383d13daa",
   "metadata": {},
   "outputs": [
    {
     "data": {
      "text/plain": [
       "(30963518, 4)"
      ]
     },
     "execution_count": 19,
     "metadata": {},
     "output_type": "execute_result"
    }
   ],
   "source": [
    "bar_income_groups.shape"
   ]
  },
  {
   "cell_type": "code",
   "execution_count": 11,
   "id": "78328ded-0d82-4993-95f5-9ca4ab79c38e",
   "metadata": {},
   "outputs": [],
   "source": [
    "# Creating a subset withou duplicates\n",
    "\n",
    "bar_income_groups_nodups = bar_income_groups.drop_duplicates()"
   ]
  },
  {
   "cell_type": "code",
   "execution_count": 21,
   "id": "0ba79f7d-c3fd-4bfc-83c9-1457df275bf1",
   "metadata": {},
   "outputs": [
    {
     "data": {
      "text/plain": [
       "(162631, 4)"
      ]
     },
     "execution_count": 21,
     "metadata": {},
     "output_type": "execute_result"
    }
   ],
   "source": [
    "bar_income_groups_nodups.shape"
   ]
  },
  {
   "cell_type": "code",
   "execution_count": 22,
   "id": "a72152f0-4491-4f9f-80a4-91c383e2896b",
   "metadata": {},
   "outputs": [
    {
     "data": {
      "text/plain": [
       "income_group\n",
       "Low          48271\n",
       "High         38403\n",
       "Very High    38109\n",
       "Medium       37848\n",
       "Name: count, dtype: int64"
      ]
     },
     "execution_count": 22,
     "metadata": {},
     "output_type": "execute_result"
    }
   ],
   "source": [
    "bar_income_groups_nodups['income_group'].value_counts(dropna = False)"
   ]
  },
  {
   "cell_type": "code",
   "execution_count": 31,
   "id": "2983efeb-6637-4f8c-b63c-2b9867cb47ab",
   "metadata": {},
   "outputs": [
    {
     "name": "stderr",
     "output_type": "stream",
     "text": [
      "/var/folders/30/j2w0rj9n75x1by3sr86s740h0000gn/T/ipykernel_19129/1899137358.py:3: FutureWarning: The default of observed=False is deprecated and will be changed to True in a future version of pandas. Pass observed=False to retain current behavior or observed=True to adopt the future default and silence this warning.\n",
      "  sns.barplot(x='Region', y='count', hue='income_group', data=bar_income_groups_nodups.groupby(['Region', 'income_group']).size().reset_index(name='count'))\n"
     ]
    },
    {
     "data": {
      "text/plain": [
       "<Axes: xlabel='Region', ylabel='count'>"
      ]
     },
     "execution_count": 31,
     "metadata": {},
     "output_type": "execute_result"
    },
    {
     "data": {
      "image/png": "[encoded data removed]",
      "text/plain": [
       "<Figure size 640x480 with 1 Axes>"
      ]
     },
     "metadata": {},
     "output_type": "display_data"
    }
   ],
   "source": [
    "# Stacked bar chart\n",
    "\n",
    "sns.barplot(x='Region', y='count', hue='income_group', data=bar_income_groups_nodups.groupby(['Region', 'income_group']).size().reset_index(name='count'))"
   ]
  },
  {
   "cell_type": "code",
   "execution_count": 23,
   "id": "b68b0305-ce37-4651-9f32-af9c7ad0a990",
   "metadata": {},
   "outputs": [],
   "source": [
    "import matplotlib.pyplot as plt\n",
    "import seaborn as sns\n",
    "import scipy"
   ]
  },
  {
   "cell_type": "code",
   "execution_count": 21,
   "id": "fc309f01-08ef-4ac8-91f5-06cf5edfad3f",
   "metadata": {},
   "outputs": [
    {
     "data": {
      "image/png": "[encoded data removed]",
      "text/plain": [
       "<Figure size 640x480 with 1 Axes>"
      ]
     },
     "metadata": {},
     "output_type": "display_data"
    }
   ],
   "source": [
    "#Creating a bar chart\n",
    "\n",
    "bar_income = bar_income_groups_nodups['income_group'].value_counts().plot.bar(title = 'Customer Breakdown of Income')"
   ]
  },
  {
   "cell_type": "code",
   "execution_count": 41,
   "id": "1dd8c848-8401-423c-8095-c855f7c3ede7",
   "metadata": {},
   "outputs": [],
   "source": [
    "# exporting plot\n",
    "\n",
    "\n",
    "plt.savefig(os.path.join(path, 'Analysis', 'Final Visualization', 'age_groups_counts.png'),dpi=100)"
   ]
  },
  {
   "cell_type": "code",
   "execution_count": 26,
   "id": "579a04c7-abad-4d0e-8939-be430cb20b30",
   "metadata": {},
   "outputs": [
    {
     "ename": "NameError",
     "evalue": "name 'age_groups_bar' is not defined",
     "output_type": "error",
     "traceback": [
      "\u001b[0;31m---------------------------------------------------------------------------\u001b[0m",
      "\u001b[0;31mNameError\u001b[0m                                 Traceback (most recent call last)",
      "Cell \u001b[0;32mIn[26], line 3\u001b[0m\n\u001b[1;32m      1\u001b[0m \u001b[38;5;66;03m# exporting plot\u001b[39;00m\n\u001b[0;32m----> 3\u001b[0m age_groups_bar\u001b[38;5;241m.\u001b[39mfigure\u001b[38;5;241m.\u001b[39msavefig(os\u001b[38;5;241m.\u001b[39mpath\u001b[38;5;241m.\u001b[39mjoin(path, \u001b[38;5;124m'\u001b[39m\u001b[38;5;124mAnalysis\u001b[39m\u001b[38;5;124m'\u001b[39m,\u001b[38;5;124m'\u001b[39m\u001b[38;5;124mFinal Visualization\u001b[39m\u001b[38;5;124m'\u001b[39m, \u001b[38;5;124m'\u001b[39m\u001b[38;5;124mage_groups_bar.jpeg\u001b[39m\u001b[38;5;124m'\u001b[39m))\n",
      "\u001b[0;31mNameError\u001b[0m: name 'age_groups_bar' is not defined"
     ]
    }
   ],
   "source": [
    "# exporting plot\n",
    "\n",
    "age_groups_bar.figure.savefig(os.path.join(path, 'Analysis','Final Visualization', 'age_groups_bar.jpeg'))"
   ]
  },
  {
   "cell_type": "code",
   "execution_count": null,
   "id": "95efe5d8-1470-4ca9-ad3f-6791765417fd",
   "metadata": {},
   "outputs": [],
   "source": []
  },
  {
   "cell_type": "markdown",
   "id": "8c6e0dc0-b24f-4dd5-8457-bee23f9031c7",
   "metadata": {},
   "source": [
    "## 3. Exporting "
   ]
  },
  {
   "cell_type": "code",
   "execution_count": null,
   "id": "a14bda11-1381-4dba-8efc-e0885ce88799",
   "metadata": {},
   "outputs": [],
   "source": [
    "instacart.to_pickle(os.path.join(path, 'Data', 'Final Prepared Data', 'IC_high_activity_2.pkl'))"
   ]
  },
  {
   "cell_type": "code",
   "execution_count": null,
   "id": "c76d08a3-b354-460a-b7ee-430cc8918b75",
   "metadata": {},
   "outputs": [],
   "source": [
    "instacart.to_pickle(os.path.join(path, 'Data', 'Final Prepared Data', 'backup', 'IC_high_activity_2.pkl'))"
   ]
  },
  {
   "cell_type": "code",
   "execution_count": null,
   "id": "79b29525-8c22-410d-88c2-e7a05856a877",
   "metadata": {},
   "outputs": [],
   "source": []
  }
 ],
 "metadata": {
  "kernelspec": {
   "display_name": "Python 3 (ipykernel)",
   "language": "python",
   "name": "python3"
  },
  "language_info": {
   "codemirror_mode": {
    "name": "ipython",
    "version": 3
   },
   "file_extension": ".py",
   "mimetype": "text/x-python",
   "name": "python",
   "nbconvert_exporter": "python",
   "pygments_lexer": "ipython3",
   "version": "3.11.7"
  }
 },
 "nbformat": 4,
 "nbformat_minor": 5
}
